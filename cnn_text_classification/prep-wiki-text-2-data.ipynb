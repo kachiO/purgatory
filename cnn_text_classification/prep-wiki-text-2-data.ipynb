{
 "cells": [
  {
   "cell_type": "markdown",
   "metadata": {},
   "source": [
    "### Load data"
   ]
  },
  {
   "cell_type": "markdown",
   "metadata": {},
   "source": [
    "wiki-103 in id form [here](http://files.fast.ai/data/wt103_ids.tgz)"
   ]
  },
  {
   "cell_type": "code",
   "execution_count": 7,
   "metadata": {
    "ExecuteTime": {
     "end_time": "2018-05-28T03:42:10.232522Z",
     "start_time": "2018-05-28T03:42:10.229208Z"
    },
    "collapsed": true
   },
   "outputs": [],
   "source": [
    "EOS = '<eos>'\n",
    "PATH = Path('/home/odenigborig/Data/wikitext-2')"
   ]
  },
  {
   "cell_type": "code",
   "execution_count": 11,
   "metadata": {
    "ExecuteTime": {
     "end_time": "2018-05-28T03:16:58.672541Z",
     "start_time": "2018-05-28T03:16:58.668387Z"
    },
    "collapsed": true
   },
   "outputs": [],
   "source": [
    "def load_file(fname):\n",
    "    tokens = []\n",
    "    with open(PATH/fname,encoding='utf8') as f:\n",
    "        for line in f:\n",
    "            tokens.append(line.split() + [EOS])\n",
    "    return np.array(tokens)\n",
    "            "
   ]
  },
  {
   "cell_type": "code",
   "execution_count": 56,
   "metadata": {
    "ExecuteTime": {
     "end_time": "2018-05-28T02:18:30.473512Z",
     "start_time": "2018-05-28T02:18:30.390809Z"
    },
    "collapsed": true
   },
   "outputs": [],
   "source": [
    "train_tokens = load_file('wiki.train.tokens')\n",
    "valid_tokens = load_file('wiki.valid.tokens')\n",
    "test_tokens = load_file('wiki.test.tokens')"
   ]
  },
  {
   "cell_type": "code",
   "execution_count": 31,
   "metadata": {
    "ExecuteTime": {
     "end_time": "2018-05-28T02:07:45.335529Z",
     "start_time": "2018-05-28T02:07:45.329805Z"
    }
   },
   "outputs": [
    {
     "data": {
      "text/plain": [
       "(36718, 3760, 4358)"
      ]
     },
     "execution_count": 31,
     "metadata": {},
     "output_type": "execute_result"
    }
   ],
   "source": [
    "len(train_tokens),len(valid_tokens),len(test_token)"
   ]
  },
  {
   "cell_type": "code",
   "execution_count": 34,
   "metadata": {
    "ExecuteTime": {
     "end_time": "2018-05-28T02:08:31.184153Z",
     "start_time": "2018-05-28T02:08:31.177385Z"
    }
   },
   "outputs": [
    {
     "data": {
      "text/plain": [
       "['It',\n",
       " 'was',\n",
       " 'used',\n",
       " 'in',\n",
       " 'relation',\n",
       " 'to',\n",
       " 'the',\n",
       " 'Government',\n",
       " 'of',\n",
       " 'Ireland',\n",
       " 'Act',\n",
       " '1914',\n",
       " ',',\n",
       " 'which',\n",
       " 'had',\n",
       " 'been',\n",
       " 'under',\n",
       " 'the',\n",
       " 'threat',\n",
       " 'of',\n",
       " 'a',\n",
       " 'Lords',\n",
       " 'veto',\n",
       " ',',\n",
       " 'now',\n",
       " 'removed',\n",
       " '.',\n",
       " 'Ulster',\n",
       " 'Protestants',\n",
       " 'had',\n",
       " 'been',\n",
       " 'firmly',\n",
       " 'against',\n",
       " 'the',\n",
       " 'passing',\n",
       " 'of',\n",
       " 'the',\n",
       " 'bill',\n",
       " '.',\n",
       " 'However',\n",
       " ',',\n",
       " 'it',\n",
       " 'never',\n",
       " 'came',\n",
       " 'into',\n",
       " 'force',\n",
       " 'because',\n",
       " 'of',\n",
       " 'the',\n",
       " 'outbreak',\n",
       " 'of',\n",
       " 'the',\n",
       " 'First',\n",
       " 'World',\n",
       " 'War',\n",
       " '.',\n",
       " 'Amendments',\n",
       " 'to',\n",
       " 'the',\n",
       " 'Parliament',\n",
       " 'Act',\n",
       " '1911',\n",
       " 'were',\n",
       " 'made',\n",
       " 'to',\n",
       " 'prolong',\n",
       " 'the',\n",
       " 'life',\n",
       " 'of',\n",
       " 'the',\n",
       " '1910',\n",
       " 'parliament',\n",
       " 'following',\n",
       " 'the',\n",
       " 'outbreak',\n",
       " 'of',\n",
       " 'the',\n",
       " 'First',\n",
       " 'World',\n",
       " 'War',\n",
       " 'and',\n",
       " '1935',\n",
       " 'parliament',\n",
       " 'because',\n",
       " 'of',\n",
       " 'the',\n",
       " 'Second',\n",
       " 'World',\n",
       " 'War',\n",
       " '.',\n",
       " 'These',\n",
       " 'made',\n",
       " 'special',\n",
       " 'exemptions',\n",
       " 'to',\n",
       " 'the',\n",
       " 'requirement',\n",
       " 'to',\n",
       " 'hold',\n",
       " 'an',\n",
       " 'election',\n",
       " 'every',\n",
       " 'five',\n",
       " 'years',\n",
       " '.',\n",
       " '<eos>']"
      ]
     },
     "execution_count": 34,
     "metadata": {},
     "output_type": "execute_result"
    }
   ],
   "source": [
    "train_tokens[8201]"
   ]
  },
  {
   "cell_type": "markdown",
   "metadata": {},
   "source": [
    "numericalize tokens"
   ]
  },
  {
   "cell_type": "code",
   "execution_count": 35,
   "metadata": {
    "ExecuteTime": {
     "end_time": "2018-05-28T02:10:07.166082Z",
     "start_time": "2018-05-28T02:10:06.611009Z"
    }
   },
   "outputs": [
    {
     "data": {
      "text/plain": [
       "[('the', 113161),\n",
       " (',', 99913),\n",
       " ('.', 73388),\n",
       " ('of', 56889),\n",
       " ('<unk>', 54625),\n",
       " ('and', 50603),\n",
       " ('in', 39453),\n",
       " ('to', 39190),\n",
       " ('<eos>', 36718),\n",
       " ('a', 34237),\n",
       " ('=', 29570),\n",
       " ('\"', 28309),\n",
       " ('was', 20985),\n",
       " ('The', 17602),\n",
       " ('@-@', 16906),\n",
       " ('that', 14135),\n",
       " ('as', 14021),\n",
       " (\"'s\", 14002),\n",
       " ('on', 13678),\n",
       " ('for', 13307)]"
      ]
     },
     "execution_count": 35,
     "metadata": {},
     "output_type": "execute_result"
    }
   ],
   "source": [
    "count = Counter(word for sentence in train_tokens for word in sentence)\n",
    "count.most_common(20)"
   ]
  },
  {
   "cell_type": "code",
   "execution_count": 36,
   "metadata": {
    "ExecuteTime": {
     "end_time": "2018-05-28T02:11:43.833717Z",
     "start_time": "2018-05-28T02:11:43.805164Z"
    },
    "collapsed": true
   },
   "outputs": [],
   "source": [
    "int_2_str = [o for o,c in count.most_common()]\n",
    "int_2_str.insert(0,'<pad>')"
   ]
  },
  {
   "cell_type": "code",
   "execution_count": 39,
   "metadata": {
    "ExecuteTime": {
     "end_time": "2018-05-28T02:12:27.404631Z",
     "start_time": "2018-05-28T02:12:27.399747Z"
    }
   },
   "outputs": [
    {
     "data": {
      "text/plain": [
       "'what'"
      ]
     },
     "execution_count": 39,
     "metadata": {},
     "output_type": "execute_result"
    }
   ],
   "source": [
    "int_2_str[200]"
   ]
  },
  {
   "cell_type": "code",
   "execution_count": 37,
   "metadata": {
    "ExecuteTime": {
     "end_time": "2018-05-28T02:12:00.531102Z",
     "start_time": "2018-05-28T02:12:00.525899Z"
    }
   },
   "outputs": [
    {
     "data": {
      "text/plain": [
       "33279"
      ]
     },
     "execution_count": 37,
     "metadata": {},
     "output_type": "execute_result"
    }
   ],
   "source": [
    "vocab_size = len(int_2_str);vocab_size"
   ]
  },
  {
   "cell_type": "code",
   "execution_count": 42,
   "metadata": {
    "ExecuteTime": {
     "end_time": "2018-05-28T02:14:18.341614Z",
     "start_time": "2018-05-28T02:14:18.325045Z"
    },
    "collapsed": true
   },
   "outputs": [],
   "source": [
    "str_2_int = collections.defaultdict(lambda: 5, {word:ind for ind,word in enumerate(int_2_str)})"
   ]
  },
  {
   "cell_type": "code",
   "execution_count": 57,
   "metadata": {
    "ExecuteTime": {
     "end_time": "2018-05-28T02:18:47.336177Z",
     "start_time": "2018-05-28T02:18:47.261767Z"
    },
    "collapsed": true
   },
   "outputs": [],
   "source": [
    "train_ids = np.array([([str_2_int[word] for word in sentence]) for sentence in train_tokens])\n",
    "valid_ids = np.array([([str_2_int[word] for word in sentence]) for sentence in valid_tokens])\n",
    "test_ids = np.array([([str_2_int[word] for word in sentence]) for sentence in test_tokens])"
   ]
  },
  {
   "cell_type": "code",
   "execution_count": 54,
   "metadata": {
    "ExecuteTime": {
     "end_time": "2018-05-28T02:17:48.156119Z",
     "start_time": "2018-05-28T02:17:48.149292Z"
    }
   },
   "outputs": [
    {
     "data": {
      "text/plain": [
       "[62,\n",
       " 13,\n",
       " 94,\n",
       " 7,\n",
       " 4024,\n",
       " 8,\n",
       " 1,\n",
       " 1502,\n",
       " 4,\n",
       " 425,\n",
       " 1550,\n",
       " 2400,\n",
       " 2,\n",
       " 34,\n",
       " 33,\n",
       " 52,\n",
       " 135,\n",
       " 1,\n",
       " 2139,\n",
       " 4,\n",
       " 10,\n",
       " 3085,\n",
       " 13297,\n",
       " 2,\n",
       " 214,\n",
       " 1301,\n",
       " 3,\n",
       " 5707,\n",
       " 14175,\n",
       " 33,\n",
       " 52,\n",
       " 8466,\n",
       " 119,\n",
       " 1,\n",
       " 2000,\n",
       " 4,\n",
       " 1,\n",
       " 2030,\n",
       " 3,\n",
       " 170,\n",
       " 2,\n",
       " 30,\n",
       " 424,\n",
       " 317,\n",
       " 64,\n",
       " 496,\n",
       " 159,\n",
       " 4,\n",
       " 1,\n",
       " 4237,\n",
       " 4,\n",
       " 1,\n",
       " 735,\n",
       " 182,\n",
       " 196,\n",
       " 3,\n",
       " 21002,\n",
       " 8,\n",
       " 1,\n",
       " 1041,\n",
       " 1550,\n",
       " 3272,\n",
       " 29,\n",
       " 90,\n",
       " 8,\n",
       " 21082,\n",
       " 1,\n",
       " 181,\n",
       " 4,\n",
       " 1,\n",
       " 3147,\n",
       " 3087,\n",
       " 178,\n",
       " 1,\n",
       " 4237,\n",
       " 4,\n",
       " 1,\n",
       " 735,\n",
       " 182,\n",
       " 196,\n",
       " 6,\n",
       " 3215,\n",
       " 3087,\n",
       " 159,\n",
       " 4,\n",
       " 1,\n",
       " 1275,\n",
       " 182,\n",
       " 196,\n",
       " 3,\n",
       " 414,\n",
       " 90,\n",
       " 895,\n",
       " 25277,\n",
       " 8,\n",
       " 1,\n",
       " 8039,\n",
       " 8,\n",
       " 1315,\n",
       " 32,\n",
       " 1134,\n",
       " 570,\n",
       " 183,\n",
       " 105,\n",
       " 3,\n",
       " 9]"
      ]
     },
     "execution_count": 54,
     "metadata": {},
     "output_type": "execute_result"
    }
   ],
   "source": [
    "train_ids[8201]"
   ]
  },
  {
   "cell_type": "code",
   "execution_count": 58,
   "metadata": {
    "ExecuteTime": {
     "end_time": "2018-05-28T02:21:47.528762Z",
     "start_time": "2018-05-28T02:21:47.386361Z"
    },
    "collapsed": true
   },
   "outputs": [],
   "source": [
    "(PATH/'tmp').mkdir(exist_ok=True)\n",
    "np.save(PATH/'tmp'/'train_ids.npy',train_ids)\n",
    "np.save(PATH/'tmp'/'valid_ids.npy',valid_ids)\n",
    "np.save(PATH/'tmp'/'test_ids.npy',test_ids)\n",
    "pickle.dump(int_2_str,open(PATH/'tmp'/'int2str.pkl','wb'))"
   ]
  }
 ],
 "metadata": {
  "hide_input": false,
  "kernelspec": {
   "display_name": "Python [conda env:fastai]",
   "language": "python",
   "name": "conda-env-fastai-py"
  },
  "language_info": {
   "codemirror_mode": {
    "name": "ipython",
    "version": 3
   },
   "file_extension": ".py",
   "mimetype": "text/x-python",
   "name": "python",
   "nbconvert_exporter": "python",
   "pygments_lexer": "ipython3",
   "version": "3.6.5"
  },
  "varInspector": {
   "cols": {
    "lenName": 16,
    "lenType": 16,
    "lenVar": 40
   },
   "kernels_config": {
    "python": {
     "delete_cmd_postfix": "",
     "delete_cmd_prefix": "del ",
     "library": "var_list.py",
     "varRefreshCmd": "print(var_dic_list())"
    },
    "r": {
     "delete_cmd_postfix": ") ",
     "delete_cmd_prefix": "rm(",
     "library": "var_list.r",
     "varRefreshCmd": "cat(var_dic_list()) "
    }
   },
   "types_to_exclude": [
    "module",
    "function",
    "builtin_function_or_method",
    "instance",
    "_Feature"
   ],
   "window_display": false
  }
 },
 "nbformat": 4,
 "nbformat_minor": 2
}
