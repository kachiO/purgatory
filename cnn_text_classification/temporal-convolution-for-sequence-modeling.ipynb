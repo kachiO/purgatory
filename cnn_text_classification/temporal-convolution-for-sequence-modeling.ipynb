{
 "cells": [
  {
   "cell_type": "markdown",
   "metadata": {},
   "source": [
    "### Temporal Convolutional Network (TCN) for sequence modeling\n",
    "[An empirical evaluation of generic convolutional and recurrent networks for sequence modeling](https://arxiv.org/abs/1803.01271)\n",
    "\n",
    "Copied code from [Github](https://github.com/locuslab/TCN/blob/master/TCN/tcn.py)"
   ]
  },
  {
   "cell_type": "code",
   "execution_count": 1,
   "metadata": {
    "ExecuteTime": {
     "end_time": "2018-06-02T23:40:47.917718Z",
     "start_time": "2018-06-02T23:40:27.085308Z"
    },
    "collapsed": true
   },
   "outputs": [],
   "source": [
    "from fastai.text import *\n",
    "sys.path.append(f'./auxillary')\n",
    "from auxillary.lm_tcn import *"
   ]
  },
  {
   "cell_type": "markdown",
   "metadata": {},
   "source": [
    "### Load data"
   ]
  },
  {
   "cell_type": "code",
   "execution_count": 2,
   "metadata": {
    "ExecuteTime": {
     "end_time": "2018-06-02T23:40:48.450596Z",
     "start_time": "2018-06-02T23:40:47.978875Z"
    }
   },
   "outputs": [
    {
     "data": {
      "text/plain": [
       "33279"
      ]
     },
     "execution_count": 2,
     "metadata": {},
     "output_type": "execute_result"
    }
   ],
   "source": [
    "PATH = Path('/home/odenigborig/Data/wikitext-2')\n",
    "int2str = pickle.load(open(PATH/'tmp'/'int2str.pkl','rb'))\n",
    "train_ids = np.load(PATH/'tmp'/'train_ids.npy')\n",
    "valid_ids = np.load(PATH/'tmp'/'valid_ids.npy')\n",
    "test_ids = np.load(PATH/'tmp'/'test_ids.npy')\n",
    "vocab_size = len(int2str);vocab_size"
   ]
  },
  {
   "cell_type": "markdown",
   "metadata": {},
   "source": [
    "temporal convolution (residual) block consists of two layers of:\n",
    "- Dilated causal convolution (kernel size = 3)\n",
    "- WeightNorm\n",
    "- ReLU\n",
    "- Dropout\n",
    "\n",
    "Followed by conditional 1x1 convolution to ensure element-wise addition of block output and input are the same shape.\n",
    "\n",
    "Weights are randomly initialized from Guassian distribution N(0,1)\n",
    "\n",
    "According to the paper, for word level language modeling, the authors used the following parameters (wiki-103):\n",
    "- embedding size: 400 \n",
    "- kernel size: 3\n",
    "- hidden units: 1000\n",
    "- residual blocks: 5\n",
    "- dropout: 0.4\n",
    "- gradient clipping: 0.4"
   ]
  },
  {
   "cell_type": "code",
   "execution_count": 3,
   "metadata": {
    "ExecuteTime": {
     "end_time": "2018-06-02T23:40:48.481434Z",
     "start_time": "2018-06-02T23:40:48.476355Z"
    },
    "collapsed": true
   },
   "outputs": [],
   "source": [
    "bs = 64\n",
    "seq_len = 100 #samples to process simultaneously\n",
    "vocab_size = 33279\n",
    "\n",
    "emb_size = 400\n",
    "nhidden_units = 1000\n",
    "nlevels = 4\n",
    "kernel_size=3\n",
    "dropoute=0.1 #embedding layer dropout\n",
    "dropoutc=0.2 #residual layer dropout\n",
    "dropoutd=0.1 #decoder layer dropout\n",
    "\n",
    "eff_history = np.sum([(2*(kernel_size-1)*d) for d in range(1,nlevels+1)])"
   ]
  },
  {
   "cell_type": "code",
   "execution_count": 12,
   "metadata": {
    "ExecuteTime": {
     "end_time": "2018-06-01T12:33:16.425028Z",
     "start_time": "2018-06-01T12:33:16.420219Z"
    },
    "collapsed": true
   },
   "outputs": [],
   "source": [
    "def tcn_cross_entropy(output,target):\n",
    "    '''\n",
    "    output: model output,shape: (batch)\n",
    "    '''\n",
    "    seq_len = output.size(1)\n",
    "    #reshape: (batch_size,seq_len,vocab_size)\n",
    "    output = output.view(-1,seq_len,vocab_size)  \n",
    "    #exclude effective history &  reshape: (samples,vocab_size) where samples = batch_size*seq_len\n",
    "    final_output = output[:,eff_history:].contiguous().view(-1,vocab_size)  \n",
    "    \n",
    "    #reshape: (batch_size,seq_len)\n",
    "    target = target.contiguous().view(-1,seq_len)\n",
    "    #exclude effective history &  flatten: (samples,) where samples = batch_size*seq_len\n",
    "    final_target = target[:,eff_history:].contiguous().view(-1)   \n",
    "    return  F.cross_entropy(V(final_output),V(final_target))\n",
    "    "
   ]
  },
  {
   "cell_type": "markdown",
   "metadata": {},
   "source": [
    "## Run LR_find"
   ]
  },
  {
   "cell_type": "markdown",
   "metadata": {},
   "source": [
    "Run `LR_find` under the same conditions that you would run \n",
    "Parameter search:\n",
    "- ~~batch size~~\n",
    "- ~~weight decay~~\n",
    "- sequence length\n",
    "- dropout\n",
    "    - try spatial dropout..."
   ]
  },
  {
   "cell_type": "code",
   "execution_count": 4,
   "metadata": {
    "ExecuteTime": {
     "end_time": "2018-06-02T23:40:48.618619Z",
     "start_time": "2018-06-02T23:40:48.507054Z"
    },
    "collapsed": true
   },
   "outputs": [],
   "source": [
    "def run_LR_find(bs=64,seq_len=100,clip=0.4,nlevels=4,weight_decay=1e-5,tie_weight=True,\\\n",
    "                end_lr=1000,start_lr=1e-2,plot=True):\n",
    "    \n",
    "    train_dl = TCNLanguageModelDataLoader(np.concatenate(train_ids),bs,seq_len)\n",
    "    valid_dl = TCNLanguageModelDataLoader(np.concatenate(valid_ids),bs,seq_len)\n",
    "\n",
    "    nhid_list = [nhidden_units]*(nlevels-1) + [emb_size]\n",
    "    ksize = 3 #kernel size\n",
    "    \n",
    "    print('Loading model...')\n",
    "    model = TCNLanguageModelData(PATH,vocab_size,train_dl,valid_dl)\n",
    "    opt_fn = partial(optim.SGD,momentum=0.95)\n",
    "    learner = model.get_model(opt_fn,emb_size,nhid_list,tie_weights=tie_weight)\n",
    "    learner.clip = clip\n",
    "    learner.metrics = [accuracy]\n",
    "    #learner.crit = tcn_cross_entropy\n",
    "    \n",
    "    print('Running LR_find...')\n",
    "    learner.unfreeze()\n",
    "    learner.lr_find(wds=weight_decay,end_lr=end_lr,start_lr=start_lr)\n",
    "    \n",
    "    if plot: learner.sched.plot()\n",
    "    \n",
    "    return learner"
   ]
  },
  {
   "cell_type": "code",
   "execution_count": 17,
   "metadata": {
    "ExecuteTime": {
     "end_time": "2018-06-01T08:39:16.598039Z",
     "start_time": "2018-06-01T08:39:16.594630Z"
    },
    "collapsed": true
   },
   "outputs": [],
   "source": [
    "torch.cuda.empty_cache()"
   ]
  },
  {
   "cell_type": "markdown",
   "metadata": {
    "heading_collapsed": true
   },
   "source": [
    "### Weight decay"
   ]
  },
  {
   "cell_type": "code",
   "execution_count": 10,
   "metadata": {
    "ExecuteTime": {
     "end_time": "2018-06-01T13:23:06.225887Z",
     "start_time": "2018-06-01T13:19:01.922095Z"
    },
    "hidden": true
   },
   "outputs": [
    {
     "name": "stdout",
     "output_type": "stream",
     "text": [
      "Weight decay: 0\n",
      "Loading model...\n",
      "Tied weights\n",
      "Running LR_find...\n"
     ]
    },
    {
     "data": {
      "application/vnd.jupyter.widget-view+json": {
       "model_id": "38faeba866bb4eb189ea8cbdffce0248",
       "version_major": 2,
       "version_minor": 0
      },
      "text/plain": [
       "HBox(children=(IntProgress(value=0, description='Epoch', max=1), HTML(value='')))"
      ]
     },
     "metadata": {},
     "output_type": "display_data"
    },
    {
     "name": "stdout",
     "output_type": "stream",
     "text": [
      " 67%|██████▋   | 219/326 [00:52<00:25,  4.16it/s, loss=85.4]\n",
      "Weight decay: 1e-05\n",
      "Loading model...\n",
      "Tied weights\n",
      "Running LR_find...\n"
     ]
    },
    {
     "data": {
      "application/vnd.jupyter.widget-view+json": {
       "model_id": "6cedc09813f149b59fa7fd8a7d5045f1",
       "version_major": 2,
       "version_minor": 0
      },
      "text/plain": [
       "HBox(children=(IntProgress(value=0, description='Epoch', max=1), HTML(value='')))"
      ]
     },
     "metadata": {},
     "output_type": "display_data"
    },
    {
     "name": "stdout",
     "output_type": "stream",
     "text": [
      " 68%|██████▊   | 221/326 [00:53<00:25,  4.11it/s, loss=1.07e+03]\n",
      "Weight decay: 1e-06\n",
      "Loading model...\n",
      "Tied weights\n",
      "Running LR_find...\n"
     ]
    },
    {
     "data": {
      "application/vnd.jupyter.widget-view+json": {
       "model_id": "c4af4e366f9c4de3bc0672938e58dbf4",
       "version_major": 2,
       "version_minor": 0
      },
      "text/plain": [
       "HBox(children=(IntProgress(value=0, description='Epoch', max=1), HTML(value='')))"
      ]
     },
     "metadata": {},
     "output_type": "display_data"
    },
    {
     "name": "stdout",
     "output_type": "stream",
     "text": [
      " 67%|██████▋   | 217/326 [00:53<00:26,  4.08it/s, loss=1.4e+03]\n",
      "Weight decay: 1e-07\n",
      "Loading model...\n",
      "Tied weights\n",
      "Running LR_find...\n"
     ]
    },
    {
     "data": {
      "application/vnd.jupyter.widget-view+json": {
       "model_id": "0f378a907aa24ab6bc77248fea8371a6",
       "version_major": 2,
       "version_minor": 0
      },
      "text/plain": [
       "HBox(children=(IntProgress(value=0, description='Epoch', max=1), HTML(value='')))"
      ]
     },
     "metadata": {},
     "output_type": "display_data"
    },
    {
     "name": "stdout",
     "output_type": "stream",
     "text": [
      " 68%|██████▊   | 223/326 [00:54<00:25,  4.10it/s, loss=46.2]\n",
      "[7.996060038726746, 7.99005801109892, 7.975877248644269, 7.902625983779986]\n"
     ]
    },
    {
     "data": {
      "text/plain": [
       "(6, 14)"
      ]
     },
     "execution_count": 10,
     "metadata": {},
     "output_type": "execute_result"
    },
    {
     "data": {
      "image/png": "[encoded data removed]",
      "text/plain": [
       "<Figure size 432x288 with 1 Axes>"
      ]
     },
     "metadata": {},
     "output_type": "display_data"
    }
   ],
   "source": [
    "wds = [0,1e-5,1e-6,1e-7]\n",
    "lrs = []\n",
    "trn_losses = []\n",
    "val_losses = []\n",
    "best_lrs = []\n",
    "\n",
    "for wd in wds:\n",
    "    print('Weight decay: {}'.format(wd))\n",
    "    learner = run_LR_find(bs=64,weight_decay=wd,end_lr=1000,start_lr=1e-2,plot=False)\n",
    "    \n",
    "    lrs.append(learner.sched.lrs)\n",
    "    trn_losses.append(learner.sched.losses)\n",
    "    val_losses.append(learner.sched.val_losses)\n",
    "    best_lrs.append(learner.sched.best)\n",
    "    \n",
    "    torch.cuda.empty_cache()    \n",
    "    print('')\n",
    "\n",
    "print(best_lrs)\n"
   ]
  },
  {
   "cell_type": "code",
   "execution_count": 14,
   "metadata": {
    "ExecuteTime": {
     "end_time": "2018-06-01T13:24:07.773805Z",
     "start_time": "2018-06-01T13:24:07.134407Z"
    },
    "hidden": true
   },
   "outputs": [
    {
     "data": {
      "text/plain": [
       "(7.8, 12)"
      ]
     },
     "execution_count": 14,
     "metadata": {},
     "output_type": "execute_result"
    },
    {
     "data": {
      "image/png": "[encoded data removed]",
      "text/plain": [
       "<Figure size 432x288 with 1 Axes>"
      ]
     },
     "metadata": {},
     "output_type": "display_data"
    }
   ],
   "source": [
    "fig,ax = plt.subplots(1,1)\n",
    "for p in range(len(wds)):\n",
    "    ax.plot(lrs[p],trn_losses[p],label='wd='+str(wds[p]))\n",
    "\n",
    "ax.set_xscale('log')\n",
    "ax.legend()\n",
    "ax.set_ylim(7.8, 12)"
   ]
  },
  {
   "cell_type": "markdown",
   "metadata": {
    "hidden": true
   },
   "source": [
    "Not much difference between these. Let's decrease weight decay values. "
   ]
  },
  {
   "cell_type": "code",
   "execution_count": 15,
   "metadata": {
    "ExecuteTime": {
     "end_time": "2018-06-01T13:29:00.040021Z",
     "start_time": "2018-06-01T13:25:21.570047Z"
    },
    "hidden": true
   },
   "outputs": [
    {
     "name": "stdout",
     "output_type": "stream",
     "text": [
      "Weight decay: 0.01\n",
      "Loading model...\n",
      "Tied weights\n",
      "Running LR_find...\n"
     ]
    },
    {
     "data": {
      "application/vnd.jupyter.widget-view+json": {
       "model_id": "f48d0b38aa384065b9c98b01faa82acb",
       "version_major": 2,
       "version_minor": 0
      },
      "text/plain": [
       "HBox(children=(IntProgress(value=0, description='Epoch', max=1), HTML(value='')))"
      ]
     },
     "metadata": {},
     "output_type": "display_data"
    },
    {
     "name": "stdout",
     "output_type": "stream",
     "text": [
      " 91%|█████████▏| 298/326 [01:10<00:06,  4.21it/s, loss=40.8]\n",
      "Weight decay: 0.001\n",
      "Loading model...\n",
      "Tied weights\n",
      "Running LR_find...\n"
     ]
    },
    {
     "data": {
      "application/vnd.jupyter.widget-view+json": {
       "model_id": "5b969ec4f3c549ed9d22cde7a39ceaa0",
       "version_major": 2,
       "version_minor": 0
      },
      "text/plain": [
       "HBox(children=(IntProgress(value=0, description='Epoch', max=1), HTML(value='')))"
      ]
     },
     "metadata": {},
     "output_type": "display_data"
    },
    {
     "name": "stdout",
     "output_type": "stream",
     "text": [
      " 90%|█████████ | 295/326 [01:11<00:07,  4.13it/s, loss=32.8]\n",
      "Weight decay: 0.0001\n",
      "Loading model...\n",
      "Tied weights\n",
      "Running LR_find...\n"
     ]
    },
    {
     "data": {
      "application/vnd.jupyter.widget-view+json": {
       "model_id": "5ed859ad18b9434bb267fde57f207e83",
       "version_major": 2,
       "version_minor": 0
      },
      "text/plain": [
       "HBox(children=(IntProgress(value=0, description='Epoch', max=1), HTML(value='')))"
      ]
     },
     "metadata": {},
     "output_type": "display_data"
    },
    {
     "name": "stdout",
     "output_type": "stream",
     "text": [
      " 69%|██████▉   | 225/326 [00:54<00:24,  4.14it/s, loss=5.85e+03]\n",
      "[9.386599412189335, 8.036175599652521, 7.972882588212533]\n"
     ]
    }
   ],
   "source": [
    "wds = [1e-2,1e-3,1e-4]\n",
    "lrs = []\n",
    "trn_losses = []\n",
    "val_losses = []\n",
    "best_lrs = []\n",
    "\n",
    "for wd in wds:\n",
    "    print('Weight decay: {}'.format(wd))\n",
    "    learner = run_LR_find(bs=64,weight_decay=wd,plot=False)\n",
    "    \n",
    "    lrs.append(learner.sched.lrs)\n",
    "    trn_losses.append(learner.sched.losses)\n",
    "    val_losses.append(learner.sched.losses)\n",
    "    best_lrs.append(learner.sched.best)\n",
    "    \n",
    "    torch.cuda.empty_cache()    \n",
    "    print('')\n",
    "\n",
    "print(best_lrs)"
   ]
  },
  {
   "cell_type": "code",
   "execution_count": 17,
   "metadata": {
    "ExecuteTime": {
     "end_time": "2018-06-01T13:29:44.503286Z",
     "start_time": "2018-06-01T13:29:43.793369Z"
    },
    "hidden": true
   },
   "outputs": [
    {
     "data": {
      "text/plain": [
       "(7.8, 12)"
      ]
     },
     "execution_count": 17,
     "metadata": {},
     "output_type": "execute_result"
    },
    {
     "data": {
      "image/png": "[encoded data removed]",
      "text/plain": [
       "<Figure size 432x288 with 1 Axes>"
      ]
     },
     "metadata": {},
     "output_type": "display_data"
    }
   ],
   "source": [
    "fig,ax = plt.subplots(1,1)\n",
    "for p in range(len(wds)):\n",
    "    ax.plot(lrs[p],trn_losses[p],label='wd='+str(wds[p]))\n",
    "\n",
    "ax.set_xscale('log')\n",
    "ax.legend()\n",
    "ax.set_ylim(7.8, 12)"
   ]
  },
  {
   "cell_type": "markdown",
   "metadata": {
    "hidden": true
   },
   "source": [
    "Seems like wd=1e-2 tolerates larger learning rates. Let's see what happens when I increase batch size. Although the shape of the curve for wd=1e-2 is a bit weird because the loss doesn't seem to decrease as much as the other to. \n"
   ]
  },
  {
   "cell_type": "markdown",
   "metadata": {
    "heading_collapsed": true
   },
   "source": [
    "### Batch Size"
   ]
  },
  {
   "cell_type": "code",
   "execution_count": 18,
   "metadata": {
    "ExecuteTime": {
     "end_time": "2018-06-01T13:31:44.106558Z",
     "start_time": "2018-06-01T13:31:44.103368Z"
    },
    "collapsed": true,
    "hidden": true
   },
   "outputs": [],
   "source": [
    "torch.cuda.empty_cache()"
   ]
  },
  {
   "cell_type": "code",
   "execution_count": 19,
   "metadata": {
    "ExecuteTime": {
     "end_time": "2018-06-01T13:36:59.173159Z",
     "start_time": "2018-06-01T13:31:45.849608Z"
    },
    "hidden": true
   },
   "outputs": [
    {
     "name": "stdout",
     "output_type": "stream",
     "text": [
      "Batch size: 32\n",
      "Loading model...\n",
      "Tied weights\n",
      "Running LR_find...\n"
     ]
    },
    {
     "data": {
      "application/vnd.jupyter.widget-view+json": {
       "model_id": "a31ee93c1f5e4f23af911b671606e211",
       "version_major": 2,
       "version_minor": 0
      },
      "text/plain": [
       "HBox(children=(IntProgress(value=0, description='Epoch', max=1), HTML(value='')))"
      ]
     },
     "metadata": {},
     "output_type": "display_data"
    },
    {
     "name": "stdout",
     "output_type": "stream",
     "text": [
      " 85%|████████▌ | 555/652 [01:10<00:12,  7.82it/s, loss=32.4]\n",
      "Batch size: 64\n",
      "Loading model...\n",
      "Tied weights\n",
      "Running LR_find...\n"
     ]
    },
    {
     "data": {
      "application/vnd.jupyter.widget-view+json": {
       "model_id": "3ed5a21bfded432395d960be34e743b1",
       "version_major": 2,
       "version_minor": 0
      },
      "text/plain": [
       "HBox(children=(IntProgress(value=0, description='Epoch', max=1), HTML(value='')))"
      ]
     },
     "metadata": {},
     "output_type": "display_data"
    },
    {
     "name": "stdout",
     "output_type": "stream",
     "text": [
      " 91%|█████████ | 296/326 [01:11<00:07,  4.15it/s, loss=34]  \n",
      "Batch size: 100\n",
      "Loading model...\n",
      "Tied weights\n",
      "Running LR_find...\n"
     ]
    },
    {
     "data": {
      "application/vnd.jupyter.widget-view+json": {
       "model_id": "6ed6c26b5a914a3794c788ff16386f67",
       "version_major": 2,
       "version_minor": 0
      },
      "text/plain": [
       "HBox(children=(IntProgress(value=0, description='Epoch', max=1), HTML(value='')))"
      ]
     },
     "metadata": {},
     "output_type": "display_data"
    },
    {
     "name": "stdout",
     "output_type": "stream",
     "text": [
      " 93%|█████████▎| 194/208 [01:12<00:05,  2.69it/s, loss=34.7]\n",
      "Batch size: 128\n",
      "Loading model...\n",
      "Tied weights\n",
      "Running LR_find...\n"
     ]
    },
    {
     "data": {
      "application/vnd.jupyter.widget-view+json": {
       "model_id": "b4d7eb6a1ce5486088b7a6f205f43db7",
       "version_major": 2,
       "version_minor": 0
      },
      "text/plain": [
       "HBox(children=(IntProgress(value=0, description='Epoch', max=1), HTML(value='')))"
      ]
     },
     "metadata": {},
     "output_type": "display_data"
    },
    {
     "name": "stdout",
     "output_type": "stream",
     "text": [
      " 90%|█████████ | 147/163 [01:09<00:07,  2.11it/s, loss=6.03e+05]\n"
     ]
    }
   ],
   "source": [
    "bses = [32,64,100,128]\n",
    "lrs = []\n",
    "trn_losses = []\n",
    "best_lrs = []\n",
    "\n",
    "for b in bses:\n",
    "    print('Batch size: {}'.format(b))\n",
    "    learner = run_LR_find(bs=b,weight_decay=1e-3,end_lr=1000,start_lr=1e-2,plot=False)\n",
    "    \n",
    "    lrs.append(learner.sched.lrs)\n",
    "    trn_losses.append(learner.sched.losses)\n",
    "    best_lrs.append(learner.sched.best)\n",
    "    \n",
    "    torch.cuda.empty_cache()\n",
    "    del learner\n",
    "    \n",
    "    print('')"
   ]
  },
  {
   "cell_type": "code",
   "execution_count": 20,
   "metadata": {
    "ExecuteTime": {
     "end_time": "2018-06-01T13:38:04.619613Z",
     "start_time": "2018-06-01T13:38:03.886775Z"
    },
    "hidden": true
   },
   "outputs": [
    {
     "data": {
      "text/plain": [
       "(7.8, 12)"
      ]
     },
     "execution_count": 20,
     "metadata": {},
     "output_type": "execute_result"
    },
    {
     "data": {
      "image/png": "[encoded data removed]",
      "text/plain": [
       "<Figure size 432x288 with 1 Axes>"
      ]
     },
     "metadata": {},
     "output_type": "display_data"
    }
   ],
   "source": [
    "fig,ax = plt.subplots(1,1)\n",
    "for p in range(len(bses)):\n",
    "    ax.plot(lrs[p],trn_losses[p],label='bs='+str(bses[p]))\n",
    "\n",
    "ax.set_xscale('log')\n",
    "ax.legend()\n",
    "ax.set_ylim(7.8, 12)"
   ]
  },
  {
   "cell_type": "markdown",
   "metadata": {
    "ExecuteTime": {
     "end_time": "2018-06-01T09:44:41.914357Z",
     "start_time": "2018-06-01T09:44:41.909254Z"
    },
    "hidden": true
   },
   "source": [
    "From the curve, it appears that a bs=64 gives the lowest loss and high learning rate tolerance at wd=1e-3. This setting is clearning the winner. The minimum loss value of the curve is at a learning rate 90. I will pick a max learning rate of 75. "
   ]
  },
  {
   "cell_type": "markdown",
   "metadata": {
    "hidden": true
   },
   "source": [
    "Other tests to run: \n",
    "- dropouts\n",
    "- increased levels"
   ]
  },
  {
   "cell_type": "code",
   "execution_count": null,
   "metadata": {
    "ExecuteTime": {
     "start_time": "2018-05-30T16:26:55.270Z"
    },
    "collapsed": true,
    "hidden": true
   },
   "outputs": [],
   "source": [
    "%debug"
   ]
  },
  {
   "cell_type": "markdown",
   "metadata": {},
   "source": [
    "## Evaluation"
   ]
  },
  {
   "cell_type": "markdown",
   "metadata": {},
   "source": [
    "Have to calculate loss on \"effective history\". The effective history is calculated per layer as:\n",
    "\n",
    "\\begin{equation}\n",
    "(k-1)*d\n",
    "\\end{equation}\n",
    "\n",
    "where `k` is the kernel size and `d` is the dilation factor. \n",
    "\n",
    "For evaluation discard the effective history and compute loss on "
   ]
  },
  {
   "cell_type": "code",
   "execution_count": 5,
   "metadata": {
    "ExecuteTime": {
     "end_time": "2018-06-02T23:40:48.704992Z",
     "start_time": "2018-06-02T23:40:48.644598Z"
    },
    "collapsed": true
   },
   "outputs": [],
   "source": [
    "loss = nn.CrossEntropyLoss()\n",
    "def evaluate(learner,source=None):\n",
    "    model = learner.model\n",
    "    model.eval()\n",
    "    \n",
    "    if source is None: source = learner.data.val_dl\n",
    "    \n",
    "    total_loss = 0.\n",
    "    eval_data_len = 0\n",
    "    #pdb.set_trace()\n",
    "\n",
    "    for data, targets in tqdm(source):\n",
    "        seq_len = data.size(1)\n",
    "        output = model(V(data))  #run inference on data.\n",
    "        output = output.view(-1,seq_len,vocab_size)  #delete this later, reshape into batch_size x seq_len x vocab_size\n",
    "        final_output = output[:,eff_history:].contiguous().view(-1,vocab_size) #resize to  samples x vocab_size\n",
    "        target = targets.contiguous().view(-1,seq_len) #delete this later\n",
    "        final_target = target[:,eff_history:].contiguous().view(-1) #flatten - each sample represents the class (or vocab word)\n",
    "        \n",
    "        batch_loss = loss(final_output,V(final_target))\n",
    "        \n",
    "        batch_len = data.size(1) - eff_history\n",
    "        total_loss += batch_len * batch_loss.data\n",
    "        eval_data_len += batch_len\n",
    "        \n",
    "    mean = total_loss[0] / eval_data_len\n",
    "    return mean,np.exp(mean) #loss, perplexity\n",
    "        "
   ]
  },
  {
   "cell_type": "code",
   "execution_count": 6,
   "metadata": {
    "ExecuteTime": {
     "end_time": "2018-06-02T23:40:48.842992Z",
     "start_time": "2018-06-02T23:40:48.730019Z"
    },
    "collapsed": true
   },
   "outputs": [],
   "source": [
    "def run_Learner(bs=64,seq_len=100,clip=0.4,nlevels=4,tie_weight=True):\n",
    "    \n",
    "    train_dl = TCNLanguageModelDataLoader(np.concatenate(train_ids),bs,seq_len)\n",
    "    valid_dl = TCNLanguageModelDataLoader(np.concatenate(valid_ids),bs,seq_len)\n",
    "\n",
    "    nhid_list = [nhidden_units]*(nlevels-1) + [emb_size]\n",
    "    ksize = 3 #kernel size\n",
    "    #eff_history = np.sum([(2*(ksize-1)*d) for d in range(1,nlevels+1)])\n",
    "    \n",
    "    print('Loading model...')\n",
    "    model = TCNLanguageModelData(PATH,vocab_size,train_dl,valid_dl)\n",
    "    opt_fn = partial(optim.SGD,momentum=0.95)\n",
    "    learner = model.get_model(opt_fn,emb_size,nhid_list,tie_weights=tie_weight)\n",
    "    learner.unfreeze()\n",
    "    \n",
    "    learner.clip = clip\n",
    "    learner.metrics = [accuracy]\n",
    "    #learner.crit = tcn_cross_entropy\n",
    "    print('Done loading.')\n",
    "    return learner"
   ]
  },
  {
   "cell_type": "markdown",
   "metadata": {
    "heading_collapsed": true
   },
   "source": [
    "## One cycle training"
   ]
  },
  {
   "cell_type": "markdown",
   "metadata": {
    "hidden": true
   },
   "source": [
    "Using the TrainingPhase API"
   ]
  },
  {
   "cell_type": "code",
   "execution_count": 7,
   "metadata": {
    "ExecuteTime": {
     "end_time": "2018-06-02T23:40:51.423840Z",
     "start_time": "2018-06-02T23:40:51.414667Z"
    },
    "collapsed": true,
    "hidden": true
   },
   "outputs": [],
   "source": [
    "def one_cycle(steps,lr,div,mom_max,mom_min,wd):\n",
    "    return [TrainingPhase(epochs=steps[0],opt_fn=optim.SGD,lr=(lr/div,lr),lr_decay=DecayType.LINEAR,\n",
    "                          momentum=(mom_max,mom_min),momentum_decay=DecayType.LINEAR,wds=wd),\n",
    "            TrainingPhase(epochs=steps[1],opt_fn=optim.SGD,lr=(lr,lr/div),lr_decay=DecayType.LINEAR,\n",
    "                          momentum=(mom_min,mom_max),momentum_decay=DecayType.LINEAR,wds=wd),\n",
    "            TrainingPhase(epochs=steps[2],opt_fn=optim.SGD,lr=(lr/div,lr/(div*100)),lr_decay=DecayType.LINEAR,\n",
    "                          momentum=mom_max,wds=wd)]"
   ]
  },
  {
   "cell_type": "code",
   "execution_count": 23,
   "metadata": {
    "ExecuteTime": {
     "end_time": "2018-06-01T13:40:24.044428Z",
     "start_time": "2018-06-01T13:40:24.041109Z"
    },
    "collapsed": true,
    "hidden": true
   },
   "outputs": [],
   "source": [
    "LR = 75\n",
    "div = 100\n",
    "weight_decay = 1e-3"
   ]
  },
  {
   "cell_type": "code",
   "execution_count": 24,
   "metadata": {
    "ExecuteTime": {
     "end_time": "2018-06-01T13:40:24.908320Z",
     "start_time": "2018-06-01T13:40:24.895063Z"
    },
    "collapsed": true,
    "hidden": true
   },
   "outputs": [],
   "source": [
    "torch.cuda.empty_cache()"
   ]
  },
  {
   "cell_type": "code",
   "execution_count": 25,
   "metadata": {
    "ExecuteTime": {
     "end_time": "2018-06-01T14:19:42.321286Z",
     "start_time": "2018-06-01T13:40:28.505969Z"
    },
    "hidden": true
   },
   "outputs": [
    {
     "name": "stdout",
     "output_type": "stream",
     "text": [
      "Loading model...\n",
      "Tied weights\n",
      "Done loading.\n"
     ]
    },
    {
     "data": {
      "application/vnd.jupyter.widget-view+json": {
       "model_id": "f0220b89c75742fcac4587d16c11415b",
       "version_major": 2,
       "version_minor": 0
      },
      "text/plain": [
       "HBox(children=(IntProgress(value=0, description='Epoch', max=30), HTML(value='')))"
      ]
     },
     "metadata": {},
     "output_type": "display_data"
    },
    {
     "name": "stdout",
     "output_type": "stream",
     "text": [
      "epoch      trn_loss   val_loss   accuracy                   \n",
      "    0      7.905938   7.736914   0.058078  \n",
      "    1      7.90516    7.728051   0.058078                   \n",
      "    2      7.906375   7.74283    0.0463                     \n",
      "    3      nan        nan        0.0                        \n",
      "    4      nan        nan        0.0                       \n",
      "    5      nan        nan        0.0                       \n",
      "    6      nan        nan        0.0                       \n",
      "    7      nan        nan        0.0                       \n",
      "    8      nan        nan        0.0                       \n",
      "    9      nan        nan        0.0                       \n",
      "    10     nan        nan        0.0                       \n",
      "    11     nan        nan        0.0                       \n",
      "    12     nan        nan        0.0                       \n",
      "    13     nan        nan        0.0                       \n",
      "    14     nan        nan        0.0                       \n",
      "    15     nan        nan        0.0                       \n",
      "    16     nan        nan        0.0                       \n",
      "    17     nan        nan        0.0                       \n",
      "    18     nan        nan        0.0                       \n",
      "    19     nan        nan        0.0                       \n",
      "    20     nan        nan        0.0                       \n",
      "    21     nan        nan        0.0                       \n",
      "    22     nan        nan        0.0                       \n",
      "    23     nan        nan        0.0                       \n",
      "    24     nan        nan        0.0                       \n",
      "    25     nan        nan        0.0                       \n",
      "    26     nan        nan        0.0                       \n",
      "    27     nan        nan        0.0                       \n",
      "    28     nan        nan        0.0                       \n",
      "    29     nan        nan        0.0                       \n"
     ]
    },
    {
     "data": {
      "text/plain": [
       "[array([nan]), 0.0]"
      ]
     },
     "execution_count": 25,
     "metadata": {},
     "output_type": "execute_result"
    }
   ],
   "source": [
    "learner = run_Learner()\n",
    "learner.fit_opt_sched(one_cycle([10,10,10], LR, div, 0.95, 0.85, weight_decay))"
   ]
  },
  {
   "cell_type": "markdown",
   "metadata": {
    "hidden": true
   },
   "source": [
    "nan loss values:\n",
    "- learning rate might be too high\n",
    "- might need to clip gradients"
   ]
  },
  {
   "cell_type": "code",
   "execution_count": 16,
   "metadata": {
    "ExecuteTime": {
     "end_time": "2018-06-01T12:47:54.834815Z",
     "start_time": "2018-06-01T12:36:40.206833Z"
    },
    "hidden": true
   },
   "outputs": [
    {
     "name": "stdout",
     "output_type": "stream",
     "text": [
      "> \u001b[0;32m<ipython-input-12-0735148e4757>\u001b[0m(3)\u001b[0;36mtcn_cross_entropy\u001b[0;34m()\u001b[0m\n",
      "\u001b[0;32m      1 \u001b[0;31m\u001b[0;32mdef\u001b[0m \u001b[0mtcn_cross_entropy\u001b[0m\u001b[0;34m(\u001b[0m\u001b[0moutput\u001b[0m\u001b[0;34m,\u001b[0m\u001b[0mtarget\u001b[0m\u001b[0;34m)\u001b[0m\u001b[0;34m:\u001b[0m\u001b[0;34m\u001b[0m\u001b[0m\n",
      "\u001b[0m\u001b[0;32m      2 \u001b[0;31m    \u001b[0;31m#reshape: (batch_size,seq_len,vocab_size)\u001b[0m\u001b[0;34m\u001b[0m\u001b[0;34m\u001b[0m\u001b[0m\n",
      "\u001b[0m\u001b[0;32m----> 3 \u001b[0;31m    \u001b[0moutput\u001b[0m \u001b[0;34m=\u001b[0m \u001b[0moutput\u001b[0m\u001b[0;34m.\u001b[0m\u001b[0mview\u001b[0m\u001b[0;34m(\u001b[0m\u001b[0;34m-\u001b[0m\u001b[0;36m1\u001b[0m\u001b[0;34m,\u001b[0m\u001b[0mseq_len\u001b[0m\u001b[0;34m,\u001b[0m\u001b[0mvocab_size\u001b[0m\u001b[0;34m)\u001b[0m\u001b[0;34m\u001b[0m\u001b[0m\n",
      "\u001b[0m\u001b[0;32m      4 \u001b[0;31m    \u001b[0;31m#exclude effective history &  reshape: (samples,vocab_size) where samples = batch_size*seq_len\u001b[0m\u001b[0;34m\u001b[0m\u001b[0;34m\u001b[0m\u001b[0m\n",
      "\u001b[0m\u001b[0;32m      5 \u001b[0;31m    \u001b[0mfinal_output\u001b[0m \u001b[0;34m=\u001b[0m \u001b[0moutput\u001b[0m\u001b[0;34m[\u001b[0m\u001b[0;34m:\u001b[0m\u001b[0;34m,\u001b[0m\u001b[0meff_history\u001b[0m\u001b[0;34m:\u001b[0m\u001b[0;34m]\u001b[0m\u001b[0;34m.\u001b[0m\u001b[0mcontiguous\u001b[0m\u001b[0;34m(\u001b[0m\u001b[0;34m)\u001b[0m\u001b[0;34m.\u001b[0m\u001b[0mview\u001b[0m\u001b[0;34m(\u001b[0m\u001b[0;34m-\u001b[0m\u001b[0;36m1\u001b[0m\u001b[0;34m,\u001b[0m\u001b[0mvocab_size\u001b[0m\u001b[0;34m)\u001b[0m\u001b[0;34m\u001b[0m\u001b[0m\n",
      "\u001b[0m\n",
      "ipdb> output.shape\n",
      "torch.Size([6336, 33279])\n",
      "ipdb> eff_history\n",
      "40\n",
      "ipdb> 6400-6336\n",
      "64\n",
      "ipdb> q\n"
     ]
    }
   ],
   "source": [
    "%debug"
   ]
  },
  {
   "cell_type": "code",
   "execution_count": 28,
   "metadata": {
    "ExecuteTime": {
     "end_time": "2018-06-01T14:30:31.012586Z",
     "start_time": "2018-06-01T14:23:46.002481Z"
    },
    "hidden": true
   },
   "outputs": [
    {
     "name": "stdout",
     "output_type": "stream",
     "text": [
      "Loading model...\n",
      "Tied weights\n",
      "Done loading.\n"
     ]
    },
    {
     "data": {
      "application/vnd.jupyter.widget-view+json": {
       "model_id": "2606966756474482a9f2f1419683093a",
       "version_major": 2,
       "version_minor": 0
      },
      "text/plain": [
       "HBox(children=(IntProgress(value=0, description='Epoch', max=30), HTML(value='')))"
      ]
     },
     "metadata": {},
     "output_type": "display_data"
    },
    {
     "name": "stdout",
     "output_type": "stream",
     "text": [
      "epoch      trn_loss   val_loss   accuracy                   \n",
      "    0      7.906105   7.736877   0.058078  \n",
      "    1      7.90516    7.728051   0.058078                   \n",
      "    2      7.906375   7.742831   0.0463                     \n",
      "    3      nan        nan        0.0                        \n",
      "                                                           \r"
     ]
    },
    {
     "ename": "KeyboardInterrupt",
     "evalue": "",
     "output_type": "error",
     "traceback": [
      "\u001b[0;31m---------------------------------------------------------------------------\u001b[0m",
      "\u001b[0;31mKeyboardInterrupt\u001b[0m                         Traceback (most recent call last)",
      "\u001b[0;32m<ipython-input-28-23329620ca4a>\u001b[0m in \u001b[0;36m<module>\u001b[0;34m()\u001b[0m\n\u001b[1;32m      1\u001b[0m \u001b[0mlearner\u001b[0m \u001b[0;34m=\u001b[0m \u001b[0mrun_Learner\u001b[0m\u001b[0;34m(\u001b[0m\u001b[0mclip\u001b[0m\u001b[0;34m=\u001b[0m\u001b[0;36m0.1\u001b[0m\u001b[0;34m)\u001b[0m\u001b[0;34m\u001b[0m\u001b[0m\n\u001b[0;32m----> 2\u001b[0;31m \u001b[0mlearner\u001b[0m\u001b[0;34m.\u001b[0m\u001b[0mfit_opt_sched\u001b[0m\u001b[0;34m(\u001b[0m\u001b[0mone_cycle\u001b[0m\u001b[0;34m(\u001b[0m\u001b[0;34m[\u001b[0m\u001b[0;36m10\u001b[0m\u001b[0;34m,\u001b[0m\u001b[0;36m10\u001b[0m\u001b[0;34m,\u001b[0m\u001b[0;36m10\u001b[0m\u001b[0;34m]\u001b[0m\u001b[0;34m,\u001b[0m \u001b[0mLR\u001b[0m\u001b[0;34m,\u001b[0m \u001b[0mdiv\u001b[0m\u001b[0;34m,\u001b[0m \u001b[0;36m0.95\u001b[0m\u001b[0;34m,\u001b[0m \u001b[0;36m0.85\u001b[0m\u001b[0;34m,\u001b[0m \u001b[0mweight_decay\u001b[0m\u001b[0;34m)\u001b[0m\u001b[0;34m)\u001b[0m\u001b[0;34m\u001b[0m\u001b[0m\n\u001b[0m",
      "\u001b[0;32m~/Github/cnn_text_classification/fastai/learner.py\u001b[0m in \u001b[0;36mfit_opt_sched\u001b[0;34m(self, phases, cycle_save_name, best_save_name, stop_div, data_list, callbacks, cut, use_swa, swa_start, swa_eval_freq, **kwargs)\u001b[0m\n\u001b[1;32m    442\u001b[0m             \u001b[0mmetrics\u001b[0m\u001b[0;34m=\u001b[0m\u001b[0mmetrics\u001b[0m\u001b[0;34m,\u001b[0m \u001b[0mcallbacks\u001b[0m\u001b[0;34m=\u001b[0m\u001b[0mcallbacks\u001b[0m\u001b[0;34m,\u001b[0m \u001b[0mreg_fn\u001b[0m\u001b[0;34m=\u001b[0m\u001b[0mself\u001b[0m\u001b[0;34m.\u001b[0m\u001b[0mreg_fn\u001b[0m\u001b[0;34m,\u001b[0m \u001b[0mclip\u001b[0m\u001b[0;34m=\u001b[0m\u001b[0mself\u001b[0m\u001b[0;34m.\u001b[0m\u001b[0mclip\u001b[0m\u001b[0;34m,\u001b[0m \u001b[0mfp16\u001b[0m\u001b[0;34m=\u001b[0m\u001b[0mself\u001b[0m\u001b[0;34m.\u001b[0m\u001b[0mfp16\u001b[0m\u001b[0;34m,\u001b[0m\u001b[0;34m\u001b[0m\u001b[0m\n\u001b[1;32m    443\u001b[0m             \u001b[0mswa_model\u001b[0m\u001b[0;34m=\u001b[0m\u001b[0mself\u001b[0m\u001b[0;34m.\u001b[0m\u001b[0mswa_model\u001b[0m \u001b[0;32mif\u001b[0m \u001b[0muse_swa\u001b[0m \u001b[0;32melse\u001b[0m \u001b[0;32mNone\u001b[0m\u001b[0;34m,\u001b[0m \u001b[0mswa_start\u001b[0m\u001b[0;34m=\u001b[0m\u001b[0mswa_start\u001b[0m\u001b[0;34m,\u001b[0m\u001b[0;34m\u001b[0m\u001b[0m\n\u001b[0;32m--> 444\u001b[0;31m             swa_eval_freq=swa_eval_freq, **kwargs)\n\u001b[0m\u001b[1;32m    445\u001b[0m \u001b[0;34m\u001b[0m\u001b[0m\n\u001b[1;32m    446\u001b[0m     \u001b[0;32mdef\u001b[0m \u001b[0m_get_crit\u001b[0m\u001b[0;34m(\u001b[0m\u001b[0mself\u001b[0m\u001b[0;34m,\u001b[0m \u001b[0mdata\u001b[0m\u001b[0;34m)\u001b[0m\u001b[0;34m:\u001b[0m \u001b[0;32mreturn\u001b[0m \u001b[0mF\u001b[0m\u001b[0;34m.\u001b[0m\u001b[0mmse_loss\u001b[0m\u001b[0;34m\u001b[0m\u001b[0m\n",
      "\u001b[0;32m~/Github/cnn_text_classification/fastai/model.py\u001b[0m in \u001b[0;36mfit\u001b[0;34m(model, data, n_epochs, opt, crit, metrics, callbacks, stepper, swa_model, swa_start, swa_eval_freq, **kwargs)\u001b[0m\n\u001b[1;32m    157\u001b[0m \u001b[0;34m\u001b[0m\u001b[0m\n\u001b[1;32m    158\u001b[0m         \u001b[0;32mif\u001b[0m \u001b[0;32mnot\u001b[0m \u001b[0mall_val\u001b[0m\u001b[0;34m:\u001b[0m\u001b[0;34m\u001b[0m\u001b[0m\n\u001b[0;32m--> 159\u001b[0;31m             \u001b[0mvals\u001b[0m \u001b[0;34m=\u001b[0m \u001b[0mvalidate\u001b[0m\u001b[0;34m(\u001b[0m\u001b[0mmodel_stepper\u001b[0m\u001b[0;34m,\u001b[0m \u001b[0mcur_data\u001b[0m\u001b[0;34m.\u001b[0m\u001b[0mval_dl\u001b[0m\u001b[0;34m,\u001b[0m \u001b[0mmetrics\u001b[0m\u001b[0;34m)\u001b[0m\u001b[0;34m\u001b[0m\u001b[0m\n\u001b[0m\u001b[1;32m    160\u001b[0m             \u001b[0mstop\u001b[0m\u001b[0;34m=\u001b[0m\u001b[0;32mFalse\u001b[0m\u001b[0;34m\u001b[0m\u001b[0m\n\u001b[1;32m    161\u001b[0m             \u001b[0;32mfor\u001b[0m \u001b[0mcb\u001b[0m \u001b[0;32min\u001b[0m \u001b[0mcallbacks\u001b[0m\u001b[0;34m:\u001b[0m \u001b[0mstop\u001b[0m \u001b[0;34m=\u001b[0m \u001b[0mstop\u001b[0m \u001b[0;32mor\u001b[0m \u001b[0mcb\u001b[0m\u001b[0;34m.\u001b[0m\u001b[0mon_epoch_end\u001b[0m\u001b[0;34m(\u001b[0m\u001b[0mvals\u001b[0m\u001b[0;34m)\u001b[0m\u001b[0;34m\u001b[0m\u001b[0m\n",
      "\u001b[0;32m~/Github/cnn_text_classification/fastai/model.py\u001b[0m in \u001b[0;36mvalidate\u001b[0;34m(stepper, dl, metrics)\u001b[0m\n\u001b[1;32m    218\u001b[0m             \u001b[0;32mif\u001b[0m \u001b[0misinstance\u001b[0m\u001b[0;34m(\u001b[0m\u001b[0mx\u001b[0m\u001b[0;34m,\u001b[0m\u001b[0mlist\u001b[0m\u001b[0;34m)\u001b[0m\u001b[0;34m:\u001b[0m \u001b[0mbatch_cnts\u001b[0m\u001b[0;34m.\u001b[0m\u001b[0mappend\u001b[0m\u001b[0;34m(\u001b[0m\u001b[0mlen\u001b[0m\u001b[0;34m(\u001b[0m\u001b[0mx\u001b[0m\u001b[0;34m[\u001b[0m\u001b[0;36m0\u001b[0m\u001b[0;34m]\u001b[0m\u001b[0;34m)\u001b[0m\u001b[0;34m)\u001b[0m\u001b[0;34m\u001b[0m\u001b[0m\n\u001b[1;32m    219\u001b[0m             \u001b[0;32melse\u001b[0m\u001b[0;34m:\u001b[0m \u001b[0mbatch_cnts\u001b[0m\u001b[0;34m.\u001b[0m\u001b[0mappend\u001b[0m\u001b[0;34m(\u001b[0m\u001b[0mlen\u001b[0m\u001b[0;34m(\u001b[0m\u001b[0mx\u001b[0m\u001b[0;34m)\u001b[0m\u001b[0;34m)\u001b[0m\u001b[0;34m\u001b[0m\u001b[0m\n\u001b[0;32m--> 220\u001b[0;31m             \u001b[0mloss\u001b[0m\u001b[0;34m.\u001b[0m\u001b[0mappend\u001b[0m\u001b[0;34m(\u001b[0m\u001b[0mto_np\u001b[0m\u001b[0;34m(\u001b[0m\u001b[0ml\u001b[0m\u001b[0;34m)\u001b[0m\u001b[0;34m)\u001b[0m\u001b[0;34m\u001b[0m\u001b[0m\n\u001b[0m\u001b[1;32m    221\u001b[0m             \u001b[0mres\u001b[0m\u001b[0;34m.\u001b[0m\u001b[0mappend\u001b[0m\u001b[0;34m(\u001b[0m\u001b[0;34m[\u001b[0m\u001b[0mf\u001b[0m\u001b[0;34m(\u001b[0m\u001b[0mpreds\u001b[0m\u001b[0;34m.\u001b[0m\u001b[0mdata\u001b[0m\u001b[0;34m,\u001b[0m \u001b[0my\u001b[0m\u001b[0;34m)\u001b[0m \u001b[0;32mfor\u001b[0m \u001b[0mf\u001b[0m \u001b[0;32min\u001b[0m \u001b[0mmetrics\u001b[0m\u001b[0;34m]\u001b[0m\u001b[0;34m)\u001b[0m\u001b[0;34m\u001b[0m\u001b[0m\n\u001b[1;32m    222\u001b[0m     \u001b[0;32mreturn\u001b[0m \u001b[0;34m[\u001b[0m\u001b[0mnp\u001b[0m\u001b[0;34m.\u001b[0m\u001b[0maverage\u001b[0m\u001b[0;34m(\u001b[0m\u001b[0mloss\u001b[0m\u001b[0;34m,\u001b[0m \u001b[0;36m0\u001b[0m\u001b[0;34m,\u001b[0m \u001b[0mweights\u001b[0m\u001b[0;34m=\u001b[0m\u001b[0mbatch_cnts\u001b[0m\u001b[0;34m)\u001b[0m\u001b[0;34m]\u001b[0m \u001b[0;34m+\u001b[0m \u001b[0mlist\u001b[0m\u001b[0;34m(\u001b[0m\u001b[0mnp\u001b[0m\u001b[0;34m.\u001b[0m\u001b[0maverage\u001b[0m\u001b[0;34m(\u001b[0m\u001b[0mnp\u001b[0m\u001b[0;34m.\u001b[0m\u001b[0mstack\u001b[0m\u001b[0;34m(\u001b[0m\u001b[0mres\u001b[0m\u001b[0;34m)\u001b[0m\u001b[0;34m,\u001b[0m \u001b[0;36m0\u001b[0m\u001b[0;34m,\u001b[0m \u001b[0mweights\u001b[0m\u001b[0;34m=\u001b[0m\u001b[0mbatch_cnts\u001b[0m\u001b[0;34m)\u001b[0m\u001b[0;34m)\u001b[0m\u001b[0;34m\u001b[0m\u001b[0m\n",
      "\u001b[0;32m~/Github/cnn_text_classification/fastai/core.py\u001b[0m in \u001b[0;36mto_np\u001b[0;34m(v)\u001b[0m\n\u001b[1;32m     64\u001b[0m     \u001b[0;32mif\u001b[0m \u001b[0misinstance\u001b[0m\u001b[0;34m(\u001b[0m\u001b[0mv\u001b[0m\u001b[0;34m,\u001b[0m \u001b[0mVariable\u001b[0m\u001b[0;34m)\u001b[0m\u001b[0;34m:\u001b[0m \u001b[0mv\u001b[0m\u001b[0;34m=\u001b[0m\u001b[0mv\u001b[0m\u001b[0;34m.\u001b[0m\u001b[0mdata\u001b[0m\u001b[0;34m\u001b[0m\u001b[0m\n\u001b[1;32m     65\u001b[0m     \u001b[0;32mif\u001b[0m \u001b[0misinstance\u001b[0m\u001b[0;34m(\u001b[0m\u001b[0mv\u001b[0m\u001b[0;34m,\u001b[0m \u001b[0mtorch\u001b[0m\u001b[0;34m.\u001b[0m\u001b[0mcuda\u001b[0m\u001b[0;34m.\u001b[0m\u001b[0mHalfTensor\u001b[0m\u001b[0;34m)\u001b[0m\u001b[0;34m:\u001b[0m \u001b[0mv\u001b[0m\u001b[0;34m=\u001b[0m\u001b[0mv\u001b[0m\u001b[0;34m.\u001b[0m\u001b[0mfloat\u001b[0m\u001b[0;34m(\u001b[0m\u001b[0;34m)\u001b[0m\u001b[0;34m\u001b[0m\u001b[0m\n\u001b[0;32m---> 66\u001b[0;31m     \u001b[0;32mreturn\u001b[0m \u001b[0mv\u001b[0m\u001b[0;34m.\u001b[0m\u001b[0mcpu\u001b[0m\u001b[0;34m(\u001b[0m\u001b[0;34m)\u001b[0m\u001b[0;34m.\u001b[0m\u001b[0mnumpy\u001b[0m\u001b[0;34m(\u001b[0m\u001b[0;34m)\u001b[0m\u001b[0;34m\u001b[0m\u001b[0m\n\u001b[0m\u001b[1;32m     67\u001b[0m \u001b[0;34m\u001b[0m\u001b[0m\n\u001b[1;32m     68\u001b[0m \u001b[0mIS_TORCH_04\u001b[0m \u001b[0;34m=\u001b[0m \u001b[0mLooseVersion\u001b[0m\u001b[0;34m(\u001b[0m\u001b[0mtorch\u001b[0m\u001b[0;34m.\u001b[0m\u001b[0m__version__\u001b[0m\u001b[0;34m)\u001b[0m \u001b[0;34m>=\u001b[0m \u001b[0mLooseVersion\u001b[0m\u001b[0;34m(\u001b[0m\u001b[0;34m'0.4'\u001b[0m\u001b[0;34m)\u001b[0m\u001b[0;34m\u001b[0m\u001b[0m\n",
      "\u001b[0;32m~/anaconda2/envs/fastai/lib/python3.6/site-packages/torch/tensor.py\u001b[0m in \u001b[0;36mcpu\u001b[0;34m(self)\u001b[0m\n\u001b[1;32m     43\u001b[0m     \u001b[0;32mdef\u001b[0m \u001b[0mcpu\u001b[0m\u001b[0;34m(\u001b[0m\u001b[0mself\u001b[0m\u001b[0;34m)\u001b[0m\u001b[0;34m:\u001b[0m\u001b[0;34m\u001b[0m\u001b[0m\n\u001b[1;32m     44\u001b[0m         \u001b[0;34mr\"\"\"Returns a CPU copy of this tensor if it's not already on the CPU\"\"\"\u001b[0m\u001b[0;34m\u001b[0m\u001b[0m\n\u001b[0;32m---> 45\u001b[0;31m         \u001b[0;32mreturn\u001b[0m \u001b[0mself\u001b[0m\u001b[0;34m.\u001b[0m\u001b[0mtype\u001b[0m\u001b[0;34m(\u001b[0m\u001b[0mgetattr\u001b[0m\u001b[0;34m(\u001b[0m\u001b[0mtorch\u001b[0m\u001b[0;34m,\u001b[0m \u001b[0mself\u001b[0m\u001b[0;34m.\u001b[0m\u001b[0m__class__\u001b[0m\u001b[0;34m.\u001b[0m\u001b[0m__name__\u001b[0m\u001b[0;34m)\u001b[0m\u001b[0;34m)\u001b[0m\u001b[0;34m\u001b[0m\u001b[0m\n\u001b[0m\u001b[1;32m     46\u001b[0m \u001b[0;34m\u001b[0m\u001b[0m\n\u001b[1;32m     47\u001b[0m     \u001b[0;32mdef\u001b[0m \u001b[0mdouble\u001b[0m\u001b[0;34m(\u001b[0m\u001b[0mself\u001b[0m\u001b[0;34m)\u001b[0m\u001b[0;34m:\u001b[0m\u001b[0;34m\u001b[0m\u001b[0m\n",
      "\u001b[0;32m~/anaconda2/envs/fastai/lib/python3.6/site-packages/torch/cuda/__init__.py\u001b[0m in \u001b[0;36mtype\u001b[0;34m(self, *args, **kwargs)\u001b[0m\n\u001b[1;32m    394\u001b[0m     \u001b[0;32mdef\u001b[0m \u001b[0mtype\u001b[0m\u001b[0;34m(\u001b[0m\u001b[0mself\u001b[0m\u001b[0;34m,\u001b[0m \u001b[0;34m*\u001b[0m\u001b[0margs\u001b[0m\u001b[0;34m,\u001b[0m \u001b[0;34m**\u001b[0m\u001b[0mkwargs\u001b[0m\u001b[0;34m)\u001b[0m\u001b[0;34m:\u001b[0m\u001b[0;34m\u001b[0m\u001b[0m\n\u001b[1;32m    395\u001b[0m         \u001b[0;32mwith\u001b[0m \u001b[0mdevice\u001b[0m\u001b[0;34m(\u001b[0m\u001b[0mself\u001b[0m\u001b[0;34m.\u001b[0m\u001b[0mget_device\u001b[0m\u001b[0;34m(\u001b[0m\u001b[0;34m)\u001b[0m\u001b[0;34m)\u001b[0m\u001b[0;34m:\u001b[0m\u001b[0;34m\u001b[0m\u001b[0m\n\u001b[0;32m--> 396\u001b[0;31m             \u001b[0;32mreturn\u001b[0m \u001b[0msuper\u001b[0m\u001b[0;34m(\u001b[0m\u001b[0m_CudaBase\u001b[0m\u001b[0;34m,\u001b[0m \u001b[0mself\u001b[0m\u001b[0;34m)\u001b[0m\u001b[0;34m.\u001b[0m\u001b[0mtype\u001b[0m\u001b[0;34m(\u001b[0m\u001b[0;34m*\u001b[0m\u001b[0margs\u001b[0m\u001b[0;34m,\u001b[0m \u001b[0;34m**\u001b[0m\u001b[0mkwargs\u001b[0m\u001b[0;34m)\u001b[0m\u001b[0;34m\u001b[0m\u001b[0m\n\u001b[0m\u001b[1;32m    397\u001b[0m \u001b[0;34m\u001b[0m\u001b[0m\n\u001b[1;32m    398\u001b[0m     \u001b[0m__new__\u001b[0m \u001b[0;34m=\u001b[0m \u001b[0m_lazy_new\u001b[0m\u001b[0;34m\u001b[0m\u001b[0m\n",
      "\u001b[0;32m~/anaconda2/envs/fastai/lib/python3.6/site-packages/torch/_utils.py\u001b[0m in \u001b[0;36m_type\u001b[0;34m(self, new_type, async)\u001b[0m\n\u001b[1;32m     36\u001b[0m     \u001b[0;32mif\u001b[0m \u001b[0mnew_type\u001b[0m\u001b[0;34m.\u001b[0m\u001b[0mis_sparse\u001b[0m\u001b[0;34m:\u001b[0m\u001b[0;34m\u001b[0m\u001b[0m\n\u001b[1;32m     37\u001b[0m         \u001b[0;32mraise\u001b[0m \u001b[0mRuntimeError\u001b[0m\u001b[0;34m(\u001b[0m\u001b[0;34m\"Cannot cast dense tensor to sparse tensor\"\u001b[0m\u001b[0;34m)\u001b[0m\u001b[0;34m\u001b[0m\u001b[0m\n\u001b[0;32m---> 38\u001b[0;31m     \u001b[0;32mreturn\u001b[0m \u001b[0mnew_type\u001b[0m\u001b[0;34m(\u001b[0m\u001b[0mself\u001b[0m\u001b[0;34m.\u001b[0m\u001b[0msize\u001b[0m\u001b[0;34m(\u001b[0m\u001b[0;34m)\u001b[0m\u001b[0;34m)\u001b[0m\u001b[0;34m.\u001b[0m\u001b[0mcopy_\u001b[0m\u001b[0;34m(\u001b[0m\u001b[0mself\u001b[0m\u001b[0;34m,\u001b[0m \u001b[0masync\u001b[0m\u001b[0;34m)\u001b[0m\u001b[0;34m\u001b[0m\u001b[0m\n\u001b[0m\u001b[1;32m     39\u001b[0m \u001b[0;34m\u001b[0m\u001b[0m\n\u001b[1;32m     40\u001b[0m \u001b[0;34m\u001b[0m\u001b[0m\n",
      "\u001b[0;31mKeyboardInterrupt\u001b[0m: "
     ]
    }
   ],
   "source": [
    "learner = run_Learner(clip=0.1)\n",
    "learner.fit_opt_sched(one_cycle([10,10,10], LR, div, 0.95, 0.85, weight_decay))"
   ]
  },
  {
   "cell_type": "code",
   "execution_count": 31,
   "metadata": {
    "ExecuteTime": {
     "end_time": "2018-06-01T14:41:01.157984Z",
     "start_time": "2018-06-01T14:41:01.144263Z"
    },
    "collapsed": true,
    "hidden": true
   },
   "outputs": [],
   "source": [
    "torch.cuda.empty_cache()"
   ]
  },
  {
   "cell_type": "markdown",
   "metadata": {
    "hidden": true
   },
   "source": [
    "Decrease weight decay...1e-3 was too high. High wd leads to zeroing out of weights, thus preventing the model from learning.  "
   ]
  },
  {
   "cell_type": "code",
   "execution_count": 33,
   "metadata": {
    "ExecuteTime": {
     "end_time": "2018-06-01T15:33:49.981281Z",
     "start_time": "2018-06-01T14:52:41.825452Z"
    },
    "hidden": true
   },
   "outputs": [
    {
     "name": "stdout",
     "output_type": "stream",
     "text": [
      "Loading model...\n",
      "Tied weights\n",
      "Done loading.\n"
     ]
    },
    {
     "data": {
      "application/vnd.jupyter.widget-view+json": {
       "model_id": "2781c2892d89478bb28f6c9b59bfb8c7",
       "version_major": 2,
       "version_minor": 0
      },
      "text/plain": [
       "HBox(children=(IntProgress(value=0, description='Epoch', max=30), HTML(value='')))"
      ]
     },
     "metadata": {},
     "output_type": "display_data"
    },
    {
     "name": "stdout",
     "output_type": "stream",
     "text": [
      "epoch      trn_loss   val_loss   accuracy                   \n",
      "    0      6.545917   6.129265   0.173901  \n",
      "    1      5.804074   5.586499   0.208408                   \n",
      "    2      5.46284    5.404803   0.209474                   \n",
      "    3      5.272829   5.314346   0.206995                   \n",
      "    4      5.128228   5.280438   0.216856                   \n",
      "    5      5.054963   5.245326   0.214732                   \n",
      "    6      5.074679   5.243064   0.216024                   \n",
      "    7      5.086622   5.467137   0.19905                    \n",
      "    8      5.119008   5.414567   0.199193                   \n",
      "    9      5.108722   5.397384   0.195346                   \n",
      "    10     4.96195    5.277063   0.204332                   \n",
      "    11     4.817575   5.250081   0.21305                    \n",
      "    12     4.730791   5.191692   0.216442                   \n",
      "    13     4.669134   5.247943   0.207256                   \n",
      "    14     4.589726   5.141289   0.22564                    \n",
      "    15     4.508548   5.145208   0.223093                   \n",
      "    16     4.431192   5.152076   0.220849                   \n",
      "    17     4.330261   5.139907   0.228836                   \n",
      "    18     4.184964   5.027125   0.235036                   \n",
      "    19     4.002752   4.886285   0.249192                   \n",
      "    20     3.872095   4.873459   0.251293                   \n",
      "    21     3.835282   4.869786   0.252156                   \n",
      "    22     3.808203   4.874056   0.252592                   \n",
      "    23     3.784677   4.87353    0.253415                   \n",
      "    24     3.763291   4.871785   0.254321                   \n",
      "    25     3.747594   4.871203   0.254997                   \n",
      "    26     3.731291   4.869547   0.255415                   \n",
      "    27     3.718881   4.87018    0.255379                   \n",
      "    28     3.705764   4.865999   0.255801                   \n",
      "    29     3.694084   4.865171   0.255586                   \n"
     ]
    },
    {
     "data": {
      "text/plain": [
       "[array([4.86517]), 0.25558563453309674]"
      ]
     },
     "execution_count": 33,
     "metadata": {},
     "output_type": "execute_result"
    }
   ],
   "source": [
    "LR = 10\n",
    "div = 100\n",
    "weight_decay = 1e-5\n",
    "\n",
    "learner = run_Learner()\n",
    "learner.fit_opt_sched(one_cycle([10,10,10], LR, div, 0.95, 0.85, weight_decay))"
   ]
  },
  {
   "cell_type": "code",
   "execution_count": 40,
   "metadata": {
    "ExecuteTime": {
     "end_time": "2018-06-01T16:04:27.038799Z",
     "start_time": "2018-06-01T16:04:24.646129Z"
    },
    "hidden": true
   },
   "outputs": [
    {
     "name": "stdout",
     "output_type": "stream",
     "text": [
      "100%|██████████| 34/34 [00:02<00:00, 14.26it/s]\n"
     ]
    },
    {
     "data": {
      "text/plain": [
       "(4.820840772897253, 124.06936109604268)"
      ]
     },
     "execution_count": 40,
     "metadata": {},
     "output_type": "execute_result"
    }
   ],
   "source": [
    "validate(learner.model,learner.data.val_dl)"
   ]
  },
  {
   "cell_type": "markdown",
   "metadata": {
    "hidden": true
   },
   "source": [
    "the state of the art perplexity with this dataset is 52 with cache pointer and 68 without."
   ]
  },
  {
   "cell_type": "code",
   "execution_count": 38,
   "metadata": {
    "ExecuteTime": {
     "end_time": "2018-06-01T16:03:44.392129Z",
     "start_time": "2018-06-01T15:57:02.786929Z"
    },
    "collapsed": true,
    "hidden": true
   },
   "outputs": [
    {
     "name": "stdout",
     "output_type": "stream",
     "text": [
      "> \u001b[0;32m<ipython-input-34-227afda86893>\u001b[0m(11)\u001b[0;36mvalidate\u001b[0;34m()\u001b[0m\n",
      "\u001b[0;32m      9 \u001b[0;31m    \u001b[0;32mfor\u001b[0m \u001b[0mdata\u001b[0m\u001b[0;34m,\u001b[0m \u001b[0mtargets\u001b[0m \u001b[0;32min\u001b[0m \u001b[0mtqdm\u001b[0m\u001b[0;34m(\u001b[0m\u001b[0msource\u001b[0m\u001b[0;34m)\u001b[0m\u001b[0;34m:\u001b[0m\u001b[0;34m\u001b[0m\u001b[0m\n",
      "\u001b[0m\u001b[0;32m     10 \u001b[0;31m        \u001b[0moutput\u001b[0m \u001b[0;34m=\u001b[0m \u001b[0mmodel\u001b[0m\u001b[0;34m(\u001b[0m\u001b[0mV\u001b[0m\u001b[0;34m(\u001b[0m\u001b[0mdata\u001b[0m\u001b[0;34m)\u001b[0m\u001b[0;34m)\u001b[0m  \u001b[0;31m#run inference on data.\u001b[0m\u001b[0;34m\u001b[0m\u001b[0m\n",
      "\u001b[0m\u001b[0;32m---> 11 \u001b[0;31m        \u001b[0moutput\u001b[0m \u001b[0;34m=\u001b[0m \u001b[0moutput\u001b[0m\u001b[0;34m.\u001b[0m\u001b[0mview\u001b[0m\u001b[0;34m(\u001b[0m\u001b[0;34m-\u001b[0m\u001b[0;36m1\u001b[0m\u001b[0;34m,\u001b[0m\u001b[0mseq_len\u001b[0m\u001b[0;34m,\u001b[0m\u001b[0mvocab_size\u001b[0m\u001b[0;34m)\u001b[0m  \u001b[0;31m#delete this later, reshape into batch_size x seq_len x vocab_size\u001b[0m\u001b[0;34m\u001b[0m\u001b[0m\n",
      "\u001b[0m\u001b[0;32m     12 \u001b[0;31m        \u001b[0mfinal_output\u001b[0m \u001b[0;34m=\u001b[0m \u001b[0moutput\u001b[0m\u001b[0;34m[\u001b[0m\u001b[0;34m:\u001b[0m\u001b[0;34m,\u001b[0m\u001b[0meff_history\u001b[0m\u001b[0;34m:\u001b[0m\u001b[0;34m]\u001b[0m\u001b[0;34m.\u001b[0m\u001b[0mcontiguous\u001b[0m\u001b[0;34m(\u001b[0m\u001b[0;34m)\u001b[0m\u001b[0;34m.\u001b[0m\u001b[0mview\u001b[0m\u001b[0;34m(\u001b[0m\u001b[0;34m-\u001b[0m\u001b[0;36m1\u001b[0m\u001b[0;34m,\u001b[0m\u001b[0mvocab_size\u001b[0m\u001b[0;34m)\u001b[0m \u001b[0;31m#resize to  samples x vocab_size\u001b[0m\u001b[0;34m\u001b[0m\u001b[0m\n",
      "\u001b[0m\u001b[0;32m     13 \u001b[0;31m        \u001b[0mtarget\u001b[0m \u001b[0;34m=\u001b[0m \u001b[0mtargets\u001b[0m\u001b[0;34m.\u001b[0m\u001b[0mcontiguous\u001b[0m\u001b[0;34m(\u001b[0m\u001b[0;34m)\u001b[0m\u001b[0;34m.\u001b[0m\u001b[0mview\u001b[0m\u001b[0;34m(\u001b[0m\u001b[0;34m-\u001b[0m\u001b[0;36m1\u001b[0m\u001b[0;34m,\u001b[0m\u001b[0mseq_len\u001b[0m\u001b[0;34m)\u001b[0m \u001b[0;31m#delete this later\u001b[0m\u001b[0;34m\u001b[0m\u001b[0m\n",
      "\u001b[0m\n",
      "ipdb> data.shape\n",
      "torch.Size([64, 99])\n",
      "ipdb> targets.shape\n",
      "torch.Size([6336])\n",
      "ipdb> 64*99\n",
      "6336\n",
      "ipdb> output.size(1)\n",
      "33279\n",
      "ipdb> output.shape\n",
      "torch.Size([6336, 33279])\n",
      "ipdb> data.size(1)\n",
      "99\n",
      "ipdb> d  = output.view(-1,data.size(1),vocab_size)\n",
      "*** Newest frame\n",
      "ipdb> d.shape\n",
      "*** Newest frame\n",
      "ipdb> d\n",
      "*** Newest frame\n",
      "ipdb> help\n",
      "\n",
      "Documented commands (type help <topic>):\n",
      "========================================\n",
      "EOF    cl         disable  interact  next    psource  rv         unt   \n",
      "a      clear      display  j         p       q        s          until \n",
      "alias  commands   down     jump      pdef    quit     source     up    \n",
      "args   condition  enable   l         pdoc    r        step       w     \n",
      "b      cont       exit     list      pfile   restart  tbreak     whatis\n",
      "break  continue   h        ll        pinfo   return   u          where \n",
      "bt     d          help     longlist  pinfo2  retval   unalias  \n",
      "c      debug      ignore   n         pp      run      undisplay\n",
      "\n",
      "Miscellaneous help topics:\n",
      "==========================\n",
      "exec  pdb\n",
      "\n",
      "ipdb> vocab_size\n",
      "33279\n",
      "ipdb> data.size(1)\n",
      "99\n",
      "ipdb> output = output.view(-1,data.size(1),vocab_size)\n",
      "ipdb> output.shape\n",
      "torch.Size([64, 99, 33279])\n",
      "ipdb> q\n"
     ]
    }
   ],
   "source": [
    "%debug"
   ]
  },
  {
   "cell_type": "code",
   "execution_count": 41,
   "metadata": {
    "ExecuteTime": {
     "end_time": "2018-06-01T16:17:21.217441Z",
     "start_time": "2018-06-01T16:17:20.983828Z"
    },
    "hidden": true
   },
   "outputs": [
    {
     "data": {
      "text/plain": [
       "[<matplotlib.lines.Line2D at 0x7f37f0eeb710>]"
      ]
     },
     "execution_count": 41,
     "metadata": {},
     "output_type": "execute_result"
    },
    {
     "data": {
      "image/png": "[encoded data removed]",
      "text/plain": [
       "<Figure size 432x288 with 1 Axes>"
      ]
     },
     "metadata": {},
     "output_type": "display_data"
    }
   ],
   "source": [
    "trn_loss = learner.sched.losses\n",
    "val_loss = learner.sched.val_losses\n",
    "x_lrs = learner.sched.lrs\n",
    "\n",
    "plt.plot(trn_loss)"
   ]
  },
  {
   "cell_type": "code",
   "execution_count": 42,
   "metadata": {
    "ExecuteTime": {
     "end_time": "2018-06-01T16:17:33.849811Z",
     "start_time": "2018-06-01T16:17:33.360271Z"
    },
    "hidden": true
   },
   "outputs": [
    {
     "data": {
      "image/png": "[encoded data removed]",
      "text/plain": [
       "<Figure size 864x288 with 2 Axes>"
      ]
     },
     "metadata": {},
     "output_type": "display_data"
    }
   ],
   "source": [
    "learner.sched.plot_lr()"
   ]
  },
  {
   "cell_type": "code",
   "execution_count": 43,
   "metadata": {
    "ExecuteTime": {
     "end_time": "2018-06-01T16:17:39.691988Z",
     "start_time": "2018-06-01T16:17:39.671600Z"
    },
    "collapsed": true,
    "hidden": true
   },
   "outputs": [],
   "source": [
    "torch.cuda.empty_cache()"
   ]
  },
  {
   "cell_type": "markdown",
   "metadata": {
    "hidden": true
   },
   "source": [
    "Repeat for longer ..."
   ]
  },
  {
   "cell_type": "code",
   "execution_count": 44,
   "metadata": {
    "ExecuteTime": {
     "end_time": "2018-06-01T19:45:32.610664Z",
     "start_time": "2018-06-01T16:19:49.757677Z"
    },
    "hidden": true
   },
   "outputs": [
    {
     "name": "stdout",
     "output_type": "stream",
     "text": [
      "Loading model...\n",
      "Tied weights\n",
      "Done loading.\n"
     ]
    },
    {
     "data": {
      "application/vnd.jupyter.widget-view+json": {
       "model_id": "5044dcf6d26d41679bd06910dfd59aee",
       "version_major": 2,
       "version_minor": 0
      },
      "text/plain": [
       "HBox(children=(IntProgress(value=0, description='Epoch', max=150), HTML(value='')))"
      ]
     },
     "metadata": {},
     "output_type": "display_data"
    },
    {
     "name": "stdout",
     "output_type": "stream",
     "text": [
      "epoch      trn_loss   val_loss   accuracy                   \n",
      "    0      7.04313    6.555551   0.123975  \n",
      "    1      6.139633   5.89528    0.192313                   \n",
      "    2      5.763676   5.605031   0.204647                   \n",
      "    3      5.485101   5.399957   0.215101                   \n",
      "    4      5.25989    5.256676   0.219303                   \n",
      "    5      5.109703   5.177692   0.222561                   \n",
      "    6      4.96255    5.175408   0.217867                   \n",
      "    7      4.876383   5.129979   0.221311                   \n",
      "    8      4.77421    5.121489   0.221752                   \n",
      "    9      4.701308   5.101715   0.225778                   \n",
      "    10     4.657698   5.121968   0.221854                   \n",
      "    11     4.608108   5.172194   0.223669                   \n",
      "    12     4.538594   5.147306   0.224322                   \n",
      "    13     4.52675    5.130188   0.227231                   \n",
      "    14     4.499355   5.186031   0.213556                   \n",
      "    15     4.495444   5.210529   0.217346                   \n",
      "    16     4.481889   5.234434   0.204658                   \n",
      "    17     4.45491    5.315076   0.212129                   \n",
      "    18     4.468952   5.217064   0.22101                    \n",
      "    19     4.476501   5.315341   0.210608                   \n",
      "    20     4.460969   5.330663   0.198256                   \n",
      "    21     4.454415   5.243999   0.220736                   \n",
      "    22     4.490854   5.255338   0.205711                   \n",
      "    23     4.468879   5.233277   0.219835                   \n",
      "    24     4.475438   5.215121   0.216024                   \n",
      "    25     4.484356   5.289941   0.215436                   \n",
      "    26     4.48729    5.318195   0.210061                   \n",
      "    27     4.492075   5.255234   0.219931                   \n",
      "    28     4.506022   5.273135   0.215816                   \n",
      "    29     4.506341   5.30759    0.21167                    \n",
      "    30     4.49805    5.283817   0.210158                   \n",
      "    31     4.516086   5.303326   0.210962                   \n",
      "    32     4.536631   5.241058   0.218037                   \n",
      "    33     4.530153   5.270904   0.215177                   \n",
      "    34     4.532218   5.287412   0.210984                   \n",
      "    35     4.564052   5.275256   0.212942                   \n",
      "    36     4.598305   5.35289    0.214475                   \n",
      "    37     4.559928   5.333329   0.213473                   \n",
      "    38     4.702267   5.361693   0.194857                   \n",
      "    39     4.648911   5.409203   0.209592                   \n",
      "    40     4.630065   5.38676    0.212998                   \n",
      "    41     4.633042   5.642296   0.208962                   \n",
      "    42     4.633756   5.365327   0.206917                   \n",
      "    43     4.668236   5.368955   0.206357                   \n",
      "    44     4.667224   5.32985    0.207771                   \n",
      "    45     4.672492   5.336414   0.207274                   \n",
      "    46     4.675073   5.401949   0.201654                   \n",
      "    47     4.655758   5.458729   0.203805                   \n",
      "    48     4.729863   5.440886   0.199655                   \n",
      "    49     4.758351   5.418076   0.195332                   \n",
      "    50     4.688471   5.589571   0.1998                     \n",
      "    51     4.668066   5.35133    0.204103                   \n",
      "    52     4.641607   5.281211   0.210193                   \n",
      "    53     4.608616   5.303454   0.213199                   \n",
      "    54     4.630395   5.409264   0.194535                   \n",
      "    55     4.573167   5.464125   0.187615                   \n",
      "    56     4.602282   5.485862   0.206359                   \n",
      "    57     4.497924   5.240632   0.213508                   \n",
      "    58     4.581708   5.380804   0.209758                   \n",
      "    59     4.518871   5.359934   0.213655                   \n",
      "    60     4.455897   5.317865   0.210947                   \n",
      "    61     4.453108   5.304382   0.216262                   \n",
      "    62     4.454905   5.332608   0.214288                   \n",
      "    63     4.440924   5.397663   0.203423                   \n",
      "    64     4.411258   5.325428   0.21076                    \n",
      "    65     4.413746   5.300038   0.214584                   \n",
      "    66     4.388713   5.280956   0.214787                   \n",
      "    67     4.360263   5.348248   0.212402                   \n",
      "    68     4.325918   5.30099    0.21937                    \n",
      "    69     4.3284     5.356784   0.206189                   \n",
      "    70     4.295781   5.304561   0.210474                   \n",
      "    71     4.303227   5.348592   0.208989                   \n",
      "    72     4.27019    5.347001   0.208534                   \n",
      "    73     4.272546   5.333667   0.210085                   \n",
      "    74     4.260193   5.375612   0.213325                   \n",
      "    75     4.218834   5.322502   0.218082                   \n",
      "    76     4.163551   5.348048   0.220745                   \n",
      "    77     4.207424   5.37526    0.212281                   \n",
      "    78     4.159633   5.365717   0.214578                   \n",
      "    79     4.122875   5.388791   0.215531                   \n",
      "    80     4.129891   5.561881   0.214703                   \n",
      "    81     4.099572   5.413927   0.216387                   \n",
      "    82     4.066939   5.410342   0.217375                   \n",
      "    83     4.024057   5.306736   0.219001                   \n",
      "    84     4.006901   5.303824   0.216636                   \n",
      "    85     3.971373   5.339425   0.21976                    \n",
      "    86     3.952494   5.359221   0.21468                    \n",
      "    87     3.903798   5.394116   0.219444                   \n",
      "    88     3.867098   5.447823   0.216635                   \n",
      "    89     3.82543    5.412855   0.218333                   \n",
      "    90     3.785642   5.381903   0.220796                   \n",
      "    91     3.740416   5.41999    0.213753                   \n",
      "    92     3.679142   5.412563   0.219467                   \n",
      "    93     3.613863   5.424594   0.222432                   \n",
      "    94     3.535962   5.44387    0.218257                   \n",
      "    95     3.465967   5.456147   0.223099                   \n",
      "    96     3.369822   5.451846   0.219783                   \n",
      "    97     3.271162   5.425125   0.22255                    \n",
      "    98     3.159582   5.379471   0.228108                   \n",
      "    99     3.083648   5.309497   0.232371                   \n",
      "   100     3.028426   5.330558   0.232771                   \n",
      "   101     2.994659   5.358792   0.232729                   \n",
      "   102     2.965999   5.382306   0.232279                   \n",
      "   103     2.943429   5.403951   0.23249                    \n",
      "   104     2.921591   5.425759   0.232095                   \n",
      "   105     2.901737   5.447163   0.231185                   \n",
      "   106     2.880531   5.453341   0.230174                   \n",
      "   107     2.859491   5.465732   0.230595                   \n",
      "   108     2.843706   5.461134   0.229418                   \n",
      "   109     2.827923   5.474165   0.22958                    \n",
      "   110     2.811805   5.478643   0.228495                   \n",
      "   111     2.79693    5.494381   0.228453                   \n",
      "   112     2.780197   5.507902   0.227658                   \n",
      "   113     2.765395   5.528871   0.227414                   \n",
      "   114     2.750732   5.534132   0.226748                   \n",
      "   115     2.735245   5.546005   0.226017                   \n",
      "   116     2.723923   5.547639   0.226077                   \n",
      "   117     2.711223   5.56256    0.225204                   \n",
      "   118     2.699127   5.56545    0.225479                   \n",
      "   119     2.684221   5.579643   0.225751                   \n",
      "   120     2.674087   5.580966   0.225282                   \n",
      "   121     2.663595   5.584323   0.226123                   \n",
      "   122     2.652854   5.593866   0.226183                   \n",
      "   123     2.641899   5.584413   0.226992                   \n",
      "   124     2.630374   5.599639   0.226992                   \n",
      "   125     2.620995   5.602278   0.227236                   \n",
      "   126     2.613742   5.604444   0.226762                   \n",
      "   127     2.602691   5.618525   0.226399                   \n",
      "   128     2.594772   5.619514   0.226573                   \n",
      "   129     2.586164   5.622137   0.226707                   \n",
      "   130     2.579339   5.62873    0.226661                   \n",
      "   131     2.570742   5.640167   0.225943                   \n",
      "   132     2.562661   5.642977   0.225889                   \n",
      "   133     2.555907   5.640126   0.226215                   \n",
      "   134     2.54968    5.645926   0.226261                   \n",
      "   135     2.544289   5.654104   0.225976                   \n",
      "   136     2.539706   5.65954    0.225783                   \n",
      "   137     2.533468   5.659574   0.225678                   \n",
      "   138     2.530435   5.666962   0.225305                   \n",
      "   139     2.525834   5.665957   0.225447                   \n",
      "   140     2.521971   5.66623    0.225235                   \n",
      "   141     2.524212   5.657881   0.225921                   \n",
      "   142     2.521041   5.659531   0.22605                    \n",
      "   143     2.520965   5.658122   0.226601                   \n",
      "   144     2.522214   5.651135   0.22674                    \n",
      "   145     2.530513   5.641084   0.226951                   \n",
      "   146     2.534621   5.631677   0.227005                   \n",
      "   147     2.534916   5.631451   0.227653                   \n",
      "   148     2.531674   5.630631   0.227474                   \n",
      "   149     2.524687   5.625439   0.227994                   \n"
     ]
    },
    {
     "data": {
      "text/plain": [
       "[array([5.62544]), 0.22799428070292754]"
      ]
     },
     "execution_count": 44,
     "metadata": {},
     "output_type": "execute_result"
    }
   ],
   "source": [
    "learner = run_Learner()\n",
    "learner.fit_opt_sched(one_cycle([50,50,50], LR, div, 0.95, 0.85, weight_decay))"
   ]
  },
  {
   "cell_type": "code",
   "execution_count": 52,
   "metadata": {
    "ExecuteTime": {
     "end_time": "2018-06-01T20:07:29.273657Z",
     "start_time": "2018-06-01T20:07:28.686753Z"
    },
    "hidden": true
   },
   "outputs": [
    {
     "data": {
      "text/plain": [
       "[<matplotlib.lines.Line2D at 0x7f37e09395f8>]"
      ]
     },
     "execution_count": 52,
     "metadata": {},
     "output_type": "execute_result"
    },
    {
     "data": {
      "image/png": "[encoded data removed]",
      "text/plain": [
       "<Figure size 648x288 with 2 Axes>"
      ]
     },
     "metadata": {},
     "output_type": "display_data"
    }
   ],
   "source": [
    "trn_loss = learner.sched.losses\n",
    "val_loss = learner.sched.val_losses\n",
    "\n",
    "fig,ax = plt.subplots(1,2,figsize=(9,4))\n",
    "ax[0].plot(trn_loss)\n",
    "ax[1].plot(val_loss)"
   ]
  },
  {
   "cell_type": "code",
   "execution_count": 47,
   "metadata": {
    "ExecuteTime": {
     "end_time": "2018-06-01T19:52:56.079157Z",
     "start_time": "2018-06-01T19:52:53.669515Z"
    },
    "hidden": true
   },
   "outputs": [
    {
     "name": "stdout",
     "output_type": "stream",
     "text": [
      "100%|██████████| 34/34 [00:02<00:00, 14.16it/s]\n"
     ]
    },
    {
     "data": {
      "text/plain": [
       "(5.592211638670917, 268.32840944050133)"
      ]
     },
     "execution_count": 47,
     "metadata": {},
     "output_type": "execute_result"
    }
   ],
   "source": [
    "validate(learner.model,learner.data.val_dl)"
   ]
  },
  {
   "cell_type": "code",
   "execution_count": 48,
   "metadata": {
    "ExecuteTime": {
     "end_time": "2018-06-01T19:53:10.738474Z",
     "start_time": "2018-06-01T19:53:10.716628Z"
    },
    "collapsed": true,
    "hidden": true
   },
   "outputs": [],
   "source": [
    "torch.cuda.empty_cache()"
   ]
  },
  {
   "cell_type": "markdown",
   "metadata": {
    "heading_collapsed": true
   },
   "source": [
    "## LR_Finder via trainingphase API"
   ]
  },
  {
   "cell_type": "code",
   "execution_count": 55,
   "metadata": {
    "ExecuteTime": {
     "end_time": "2018-06-01T20:25:17.086579Z",
     "start_time": "2018-06-01T20:24:36.421025Z"
    },
    "hidden": true
   },
   "outputs": [
    {
     "name": "stdout",
     "output_type": "stream",
     "text": [
      "Loading model...\n",
      "Tied weights\n",
      "Done loading.\n"
     ]
    },
    {
     "data": {
      "application/vnd.jupyter.widget-view+json": {
       "model_id": "79ba0c1868ed46d189fb6da854ba264b",
       "version_major": 2,
       "version_minor": 0
      },
      "text/plain": [
       "HBox(children=(IntProgress(value=0, description='Epoch', max=1), HTML(value='')))"
      ]
     },
     "metadata": {},
     "output_type": "display_data"
    },
    {
     "name": "stdout",
     "output_type": "stream",
     "text": [
      " 44%|████▍     | 145/326 [00:33<00:42,  4.30it/s, loss=59]  "
     ]
    }
   ],
   "source": [
    "phases = [TrainingPhase(epochs=0.5,opt_fn=optim.SGD,lr=(1e-2,100),lr_decay=DecayType.EXPONENTIAL,\\\n",
    "                          momentum=(0.95,0.85),wds=1e-5,momentum_decay=DecayType.EXPONENTIAL)]\n",
    "\n",
    "learner = run_Learner()\n",
    "learner.fit_opt_sched(phases, stop_div=True)"
   ]
  },
  {
   "cell_type": "code",
   "execution_count": 62,
   "metadata": {
    "ExecuteTime": {
     "end_time": "2018-06-01T20:34:42.183893Z",
     "start_time": "2018-06-01T20:34:41.658248Z"
    },
    "hidden": true
   },
   "outputs": [
    {
     "data": {
      "image/png": "[encoded data removed]",
      "text/plain": [
       "<Figure size 432x288 with 1 Axes>"
      ]
     },
     "metadata": {},
     "output_type": "display_data"
    }
   ],
   "source": [
    "learner.sched.plot()"
   ]
  },
  {
   "cell_type": "code",
   "execution_count": 66,
   "metadata": {
    "ExecuteTime": {
     "end_time": "2018-06-01T21:38:50.935387Z",
     "start_time": "2018-06-01T20:44:25.826901Z"
    },
    "hidden": true
   },
   "outputs": [
    {
     "name": "stdout",
     "output_type": "stream",
     "text": [
      "Loading model...\n",
      "Tied weights\n",
      "Done loading.\n"
     ]
    },
    {
     "data": {
      "application/vnd.jupyter.widget-view+json": {
       "model_id": "3094705487c04807bfaa36a527cd67a3",
       "version_major": 2,
       "version_minor": 0
      },
      "text/plain": [
       "HBox(children=(IntProgress(value=0, description='Epoch', max=40), HTML(value='')))"
      ]
     },
     "metadata": {},
     "output_type": "display_data"
    },
    {
     "name": "stdout",
     "output_type": "stream",
     "text": [
      "epoch      trn_loss   val_loss   accuracy                   \n",
      "    0      6.313512   5.947351   0.186981  \n",
      "    1      5.671241   5.507148   0.212044                   \n",
      "    2      5.394166   5.35979    0.213271                   \n",
      "    3      5.269573   5.382724   0.205533                   \n",
      "    4      5.164143   5.281037   0.215923                   \n",
      "    5      5.137233   5.346222   0.206039                   \n",
      "    6      5.261135   5.613829   0.176205                   \n",
      "    7      5.297856   5.753668   0.189904                   \n",
      "    8      5.528709   5.928233   0.175134                   \n",
      "    9      5.809688   6.093508   0.145722                   \n",
      "    10     5.788181   5.684509   0.177869                   \n",
      "    11     5.69093    5.702935   0.179047                   \n",
      "    12     5.354663   5.545759   0.185933                   \n",
      "    13     5.502718   5.524026   0.192411                   \n",
      "    14     5.241663   5.401437   0.200454                   \n",
      "    15     5.010999   5.292183   0.208228                   \n",
      "    16     4.908241   5.235565   0.212741                   \n",
      "    17     4.811618   5.193271   0.210943                   \n",
      "    18     4.708504   5.145036   0.220947                   \n",
      "    19     4.573981   5.083074   0.227484                   \n",
      "    20     4.470809   5.072524   0.227553                   \n",
      "    21     4.388164   5.055975   0.231473                   \n",
      "    22     4.321927   5.053506   0.231294                   \n",
      "    23     4.262466   5.059768   0.232338                   \n",
      "    24     4.213454   5.083636   0.231157                   \n",
      "    25     4.171333   5.096826   0.232627                   \n",
      "    26     4.132488   5.12395    0.230199                   \n",
      "    27     4.092574   5.122513   0.233551                   \n",
      "    28     4.039709   5.129886   0.229381                   \n",
      "    29     3.986442   5.124457   0.227125                   \n",
      "    30     3.936275   5.133284   0.229906                   \n",
      "    31     3.890257   5.119612   0.232237                   \n",
      "    32     3.844719   5.123059   0.23243                    \n",
      "    33     3.79479    5.120739   0.233758                   \n",
      "    34     3.733469   5.139234   0.235763                   \n",
      "    35     3.678142   5.143056   0.238462                   \n",
      "    36     3.625647   5.113097   0.24093                    \n",
      "    37     3.582719   5.079422   0.242484                   \n",
      "    38     3.546202   5.093153   0.243035                   \n",
      "    39     3.560637   5.055089   0.247711                   \n"
     ]
    },
    {
     "data": {
      "text/plain": [
       "[array([5.05509]), 0.24771139595438452]"
      ]
     },
     "execution_count": 66,
     "metadata": {},
     "output_type": "execute_result"
    }
   ],
   "source": [
    "LR = 12\n",
    "div = 10\n",
    "weight_decay = 1e-5\n",
    "\n",
    "learner = run_Learner()\n",
    "learner.fit_opt_sched(one_cycle([10,10,20], LR, div, 0.95, 0.85, weight_decay))"
   ]
  },
  {
   "cell_type": "code",
   "execution_count": 68,
   "metadata": {
    "ExecuteTime": {
     "end_time": "2018-06-01T21:45:52.619342Z",
     "start_time": "2018-06-01T21:45:52.230594Z"
    },
    "hidden": true
   },
   "outputs": [
    {
     "data": {
      "text/plain": [
       "[<matplotlib.lines.Line2D at 0x7f37e097eb70>]"
      ]
     },
     "execution_count": 68,
     "metadata": {},
     "output_type": "execute_result"
    },
    {
     "data": {
      "image/png": "[encoded data removed]",
      "text/plain": [
       "<Figure size 648x288 with 2 Axes>"
      ]
     },
     "metadata": {},
     "output_type": "display_data"
    }
   ],
   "source": [
    "trn_loss = learner.sched.losses\n",
    "val_loss = learner.sched.val_losses\n",
    "\n",
    "fig,ax = plt.subplots(1,2,figsize=(9,4))\n",
    "ax[0].plot(trn_loss)\n",
    "ax[1].plot(val_loss)"
   ]
  },
  {
   "cell_type": "code",
   "execution_count": 71,
   "metadata": {
    "ExecuteTime": {
     "end_time": "2018-06-01T21:47:00.702891Z",
     "start_time": "2018-06-01T21:46:58.312067Z"
    },
    "hidden": true
   },
   "outputs": [
    {
     "name": "stdout",
     "output_type": "stream",
     "text": [
      "100%|██████████| 34/34 [00:02<00:00, 14.28it/s]\n"
     ]
    },
    {
     "data": {
      "text/plain": [
       "(5.009816392839627, 149.87721509272478)"
      ]
     },
     "execution_count": 71,
     "metadata": {},
     "output_type": "execute_result"
    }
   ],
   "source": [
    "validate(learner)"
   ]
  },
  {
   "cell_type": "code",
   "execution_count": 73,
   "metadata": {
    "ExecuteTime": {
     "end_time": "2018-06-01T21:47:44.645929Z",
     "start_time": "2018-06-01T21:47:44.138290Z"
    },
    "hidden": true
   },
   "outputs": [
    {
     "data": {
      "image/png": "[encoded data removed]",
      "text/plain": [
       "<Figure size 864x288 with 2 Axes>"
      ]
     },
     "metadata": {},
     "output_type": "display_data"
    }
   ],
   "source": [
    "learner.sched.plot_lr()"
   ]
  },
  {
   "cell_type": "markdown",
   "metadata": {},
   "source": [
    "## CLR"
   ]
  },
  {
   "cell_type": "code",
   "execution_count": 75,
   "metadata": {
    "ExecuteTime": {
     "end_time": "2018-06-02T00:21:54.616614Z",
     "start_time": "2018-06-02T00:08:23.089251Z"
    }
   },
   "outputs": [
    {
     "name": "stdout",
     "output_type": "stream",
     "text": [
      "Loading model...\n",
      "Tied weights\n",
      "Done loading.\n"
     ]
    },
    {
     "data": {
      "application/vnd.jupyter.widget-view+json": {
       "model_id": "4a43718a0ca84862ab563b41684bd5b8",
       "version_major": 2,
       "version_minor": 0
      },
      "text/plain": [
       "HBox(children=(IntProgress(value=0, description='Epoch', max=10), HTML(value='')))"
      ]
     },
     "metadata": {},
     "output_type": "display_data"
    },
    {
     "name": "stdout",
     "output_type": "stream",
     "text": [
      "epoch      trn_loss   val_loss   accuracy                   \n",
      "    0      6.282106   5.906568   0.190415  \n",
      "    1      5.664691   5.503293   0.210181                   \n",
      "    2      5.451507   5.37402    0.20899                    \n",
      "    3      5.540535   5.640251   0.171846                   \n",
      "    4      5.27618    5.360459   0.198665                   \n",
      "    5      5.044233   5.228377   0.216198                   \n",
      "    6      4.901237   5.193992   0.220114                   \n",
      "    7      4.752105   5.108969   0.230678                   \n",
      "    8      4.537758   4.987163   0.238176                   \n",
      "    9      4.3629     4.869938   0.250192                   \n"
     ]
    },
    {
     "data": {
      "text/plain": [
       "[array([4.86994]), 0.2501923157011761]"
      ]
     },
     "execution_count": 75,
     "metadata": {},
     "output_type": "execute_result"
    }
   ],
   "source": [
    "learner = run_Learner()\n",
    "learner.fit(10,n_cycle=1,wds=1e-5,cycle_len=10,use_clr_beta=(10,15,0.95,0.85))"
   ]
  },
  {
   "cell_type": "code",
   "execution_count": 77,
   "metadata": {
    "ExecuteTime": {
     "end_time": "2018-06-02T00:23:05.176155Z",
     "start_time": "2018-06-02T00:23:04.961961Z"
    }
   },
   "outputs": [
    {
     "data": {
      "image/png": "[encoded data removed]",
      "text/plain": [
       "<Figure size 432x288 with 1 Axes>"
      ]
     },
     "metadata": {},
     "output_type": "display_data"
    }
   ],
   "source": [
    "learner.sched.plot_loss()"
   ]
  },
  {
   "cell_type": "code",
   "execution_count": 78,
   "metadata": {
    "ExecuteTime": {
     "end_time": "2018-06-02T00:24:37.246724Z",
     "start_time": "2018-06-02T00:24:36.744637Z"
    }
   },
   "outputs": [
    {
     "data": {
      "text/plain": [
       "[<matplotlib.lines.Line2D at 0x7f37f0039160>]"
      ]
     },
     "execution_count": 78,
     "metadata": {},
     "output_type": "execute_result"
    },
    {
     "data": {
      "image/png": "[encoded data removed]",
      "text/plain": [
       "<Figure size 648x288 with 2 Axes>"
      ]
     },
     "metadata": {},
     "output_type": "display_data"
    }
   ],
   "source": [
    "trn_loss = learner.sched.losses\n",
    "val_loss = learner.sched.val_losses\n",
    "\n",
    "fig,ax = plt.subplots(1,2,figsize=(9,4))\n",
    "ax[0].plot(trn_loss)\n",
    "ax[1].plot(val_loss)"
   ]
  },
  {
   "cell_type": "code",
   "execution_count": 80,
   "metadata": {
    "ExecuteTime": {
     "end_time": "2018-06-02T00:26:05.459276Z",
     "start_time": "2018-06-02T00:26:03.054300Z"
    }
   },
   "outputs": [
    {
     "name": "stdout",
     "output_type": "stream",
     "text": [
      "100%|██████████| 34/34 [00:02<00:00, 14.18it/s]\n"
     ]
    },
    {
     "data": {
      "text/plain": [
       "(4.831676354064492, 125.42103458752815)"
      ]
     },
     "execution_count": 80,
     "metadata": {},
     "output_type": "execute_result"
    }
   ],
   "source": [
    "evaluate(learner)"
   ]
  },
  {
   "cell_type": "code",
   "execution_count": 81,
   "metadata": {
    "ExecuteTime": {
     "end_time": "2018-06-02T00:38:58.157698Z",
     "start_time": "2018-06-02T00:26:37.564930Z"
    },
    "collapsed": true
   },
   "outputs": [
    {
     "data": {
      "application/vnd.jupyter.widget-view+json": {
       "model_id": "2671e40be15249178d3285ea40584985",
       "version_major": 2,
       "version_minor": 0
      },
      "text/plain": [
       "HBox(children=(IntProgress(value=0, description='Epoch', max=15), HTML(value='')))"
      ]
     },
     "metadata": {},
     "output_type": "display_data"
    },
    {
     "name": "stdout",
     "output_type": "stream",
     "text": [
      "epoch      trn_loss   val_loss   accuracy                   \n",
      "    0      4.533465   5.060575   0.229427  \n",
      "    1      4.587036   5.128833   0.222555                   \n",
      "    2      4.655702   5.157099   0.217553                   \n",
      "    3      4.745754   5.307585   0.203106                   \n",
      "    4      4.844744   5.384119   0.208608                   \n",
      "    5      4.952305   5.387117   0.192082                   \n",
      "    6      4.932276   5.349697   0.207018                   \n",
      "    7      4.785442   5.243959   0.212756                   \n",
      "    8      4.663307   5.172066   0.217784                   \n",
      " 15%|█▍        | 48/326 [00:11<01:06,  4.17it/s, loss=4.63]"
     ]
    },
    {
     "ename": "KeyboardInterrupt",
     "evalue": "",
     "output_type": "error",
     "traceback": [
      "\u001b[0;31m---------------------------------------------------------------------------\u001b[0m",
      "\u001b[0;31mKeyboardInterrupt\u001b[0m                         Traceback (most recent call last)",
      "\u001b[0;32m<ipython-input-81-14bd8488be9d>\u001b[0m in \u001b[0;36m<module>\u001b[0;34m()\u001b[0m\n\u001b[1;32m      1\u001b[0m \u001b[0;31m#learner = run_Learner()\u001b[0m\u001b[0;34m\u001b[0m\u001b[0;34m\u001b[0m\u001b[0m\n\u001b[0;32m----> 2\u001b[0;31m \u001b[0mlearner\u001b[0m\u001b[0;34m.\u001b[0m\u001b[0mfit\u001b[0m\u001b[0;34m(\u001b[0m\u001b[0;36m10\u001b[0m\u001b[0;34m,\u001b[0m\u001b[0mn_cycle\u001b[0m\u001b[0;34m=\u001b[0m\u001b[0;36m1\u001b[0m\u001b[0;34m,\u001b[0m\u001b[0mwds\u001b[0m\u001b[0;34m=\u001b[0m\u001b[0;36m1e-5\u001b[0m\u001b[0;34m,\u001b[0m\u001b[0mcycle_len\u001b[0m\u001b[0;34m=\u001b[0m\u001b[0;36m15\u001b[0m\u001b[0;34m,\u001b[0m\u001b[0muse_clr_beta\u001b[0m\u001b[0;34m=\u001b[0m\u001b[0;34m(\u001b[0m\u001b[0;36m20\u001b[0m\u001b[0;34m,\u001b[0m\u001b[0;36m10\u001b[0m\u001b[0;34m,\u001b[0m\u001b[0;36m0.95\u001b[0m\u001b[0;34m,\u001b[0m\u001b[0;36m0.85\u001b[0m\u001b[0;34m)\u001b[0m\u001b[0;34m)\u001b[0m\u001b[0;34m\u001b[0m\u001b[0m\n\u001b[0m",
      "\u001b[0;32m~/Github/cnn_text_classification/fastai/learner.py\u001b[0m in \u001b[0;36mfit\u001b[0;34m(self, lrs, n_cycle, wds, **kwargs)\u001b[0m\n\u001b[1;32m    285\u001b[0m         \u001b[0mself\u001b[0m\u001b[0;34m.\u001b[0m\u001b[0msched\u001b[0m \u001b[0;34m=\u001b[0m \u001b[0;32mNone\u001b[0m\u001b[0;34m\u001b[0m\u001b[0m\n\u001b[1;32m    286\u001b[0m         \u001b[0mlayer_opt\u001b[0m \u001b[0;34m=\u001b[0m \u001b[0mself\u001b[0m\u001b[0;34m.\u001b[0m\u001b[0mget_layer_opt\u001b[0m\u001b[0;34m(\u001b[0m\u001b[0mlrs\u001b[0m\u001b[0;34m,\u001b[0m \u001b[0mwds\u001b[0m\u001b[0;34m)\u001b[0m\u001b[0;34m\u001b[0m\u001b[0m\n\u001b[0;32m--> 287\u001b[0;31m         \u001b[0;32mreturn\u001b[0m \u001b[0mself\u001b[0m\u001b[0;34m.\u001b[0m\u001b[0mfit_gen\u001b[0m\u001b[0;34m(\u001b[0m\u001b[0mself\u001b[0m\u001b[0;34m.\u001b[0m\u001b[0mmodel\u001b[0m\u001b[0;34m,\u001b[0m \u001b[0mself\u001b[0m\u001b[0;34m.\u001b[0m\u001b[0mdata\u001b[0m\u001b[0;34m,\u001b[0m \u001b[0mlayer_opt\u001b[0m\u001b[0;34m,\u001b[0m \u001b[0mn_cycle\u001b[0m\u001b[0;34m,\u001b[0m \u001b[0;34m**\u001b[0m\u001b[0mkwargs\u001b[0m\u001b[0;34m)\u001b[0m\u001b[0;34m\u001b[0m\u001b[0m\n\u001b[0m\u001b[1;32m    288\u001b[0m \u001b[0;34m\u001b[0m\u001b[0m\n\u001b[1;32m    289\u001b[0m     \u001b[0;32mdef\u001b[0m \u001b[0mwarm_up\u001b[0m\u001b[0;34m(\u001b[0m\u001b[0mself\u001b[0m\u001b[0;34m,\u001b[0m \u001b[0mlr\u001b[0m\u001b[0;34m,\u001b[0m \u001b[0mwds\u001b[0m\u001b[0;34m=\u001b[0m\u001b[0;32mNone\u001b[0m\u001b[0;34m)\u001b[0m\u001b[0;34m:\u001b[0m\u001b[0;34m\u001b[0m\u001b[0m\n",
      "\u001b[0;32m~/Github/cnn_text_classification/fastai/learner.py\u001b[0m in \u001b[0;36mfit_gen\u001b[0;34m(self, model, data, layer_opt, n_cycle, cycle_len, cycle_mult, cycle_save_name, best_save_name, use_clr, use_clr_beta, metrics, callbacks, use_wd_sched, norm_wds, wds_sched_mult, use_swa, swa_start, swa_eval_freq, **kwargs)\u001b[0m\n\u001b[1;32m    232\u001b[0m             \u001b[0mmetrics\u001b[0m\u001b[0;34m=\u001b[0m\u001b[0mmetrics\u001b[0m\u001b[0;34m,\u001b[0m \u001b[0mcallbacks\u001b[0m\u001b[0;34m=\u001b[0m\u001b[0mcallbacks\u001b[0m\u001b[0;34m,\u001b[0m \u001b[0mreg_fn\u001b[0m\u001b[0;34m=\u001b[0m\u001b[0mself\u001b[0m\u001b[0;34m.\u001b[0m\u001b[0mreg_fn\u001b[0m\u001b[0;34m,\u001b[0m \u001b[0mclip\u001b[0m\u001b[0;34m=\u001b[0m\u001b[0mself\u001b[0m\u001b[0;34m.\u001b[0m\u001b[0mclip\u001b[0m\u001b[0;34m,\u001b[0m \u001b[0mfp16\u001b[0m\u001b[0;34m=\u001b[0m\u001b[0mself\u001b[0m\u001b[0;34m.\u001b[0m\u001b[0mfp16\u001b[0m\u001b[0;34m,\u001b[0m\u001b[0;34m\u001b[0m\u001b[0m\n\u001b[1;32m    233\u001b[0m             \u001b[0mswa_model\u001b[0m\u001b[0;34m=\u001b[0m\u001b[0mself\u001b[0m\u001b[0;34m.\u001b[0m\u001b[0mswa_model\u001b[0m \u001b[0;32mif\u001b[0m \u001b[0muse_swa\u001b[0m \u001b[0;32melse\u001b[0m \u001b[0;32mNone\u001b[0m\u001b[0;34m,\u001b[0m \u001b[0mswa_start\u001b[0m\u001b[0;34m=\u001b[0m\u001b[0mswa_start\u001b[0m\u001b[0;34m,\u001b[0m\u001b[0;34m\u001b[0m\u001b[0m\n\u001b[0;32m--> 234\u001b[0;31m             swa_eval_freq=swa_eval_freq, **kwargs)\n\u001b[0m\u001b[1;32m    235\u001b[0m \u001b[0;34m\u001b[0m\u001b[0m\n\u001b[1;32m    236\u001b[0m     \u001b[0;32mdef\u001b[0m \u001b[0mget_layer_groups\u001b[0m\u001b[0;34m(\u001b[0m\u001b[0mself\u001b[0m\u001b[0;34m)\u001b[0m\u001b[0;34m:\u001b[0m \u001b[0;32mreturn\u001b[0m \u001b[0mself\u001b[0m\u001b[0;34m.\u001b[0m\u001b[0mmodels\u001b[0m\u001b[0;34m.\u001b[0m\u001b[0mget_layer_groups\u001b[0m\u001b[0;34m(\u001b[0m\u001b[0;34m)\u001b[0m\u001b[0;34m\u001b[0m\u001b[0m\n",
      "\u001b[0;32m~/Github/cnn_text_classification/fastai/model.py\u001b[0m in \u001b[0;36mfit\u001b[0;34m(model, data, n_epochs, opt, crit, metrics, callbacks, stepper, swa_model, swa_start, swa_eval_freq, **kwargs)\u001b[0m\n\u001b[1;32m    136\u001b[0m             \u001b[0mbatch_num\u001b[0m \u001b[0;34m+=\u001b[0m \u001b[0;36m1\u001b[0m\u001b[0;34m\u001b[0m\u001b[0m\n\u001b[1;32m    137\u001b[0m             \u001b[0;32mfor\u001b[0m \u001b[0mcb\u001b[0m \u001b[0;32min\u001b[0m \u001b[0mcallbacks\u001b[0m\u001b[0;34m:\u001b[0m \u001b[0mcb\u001b[0m\u001b[0;34m.\u001b[0m\u001b[0mon_batch_begin\u001b[0m\u001b[0;34m(\u001b[0m\u001b[0;34m)\u001b[0m\u001b[0;34m\u001b[0m\u001b[0m\n\u001b[0;32m--> 138\u001b[0;31m             \u001b[0mloss\u001b[0m \u001b[0;34m=\u001b[0m \u001b[0mmodel_stepper\u001b[0m\u001b[0;34m.\u001b[0m\u001b[0mstep\u001b[0m\u001b[0;34m(\u001b[0m\u001b[0mV\u001b[0m\u001b[0;34m(\u001b[0m\u001b[0mx\u001b[0m\u001b[0;34m)\u001b[0m\u001b[0;34m,\u001b[0m\u001b[0mV\u001b[0m\u001b[0;34m(\u001b[0m\u001b[0my\u001b[0m\u001b[0;34m)\u001b[0m\u001b[0;34m,\u001b[0m \u001b[0mepoch\u001b[0m\u001b[0;34m)\u001b[0m\u001b[0;34m\u001b[0m\u001b[0m\n\u001b[0m\u001b[1;32m    139\u001b[0m             \u001b[0mavg_loss\u001b[0m \u001b[0;34m=\u001b[0m \u001b[0mavg_loss\u001b[0m \u001b[0;34m*\u001b[0m \u001b[0mavg_mom\u001b[0m \u001b[0;34m+\u001b[0m \u001b[0mloss\u001b[0m \u001b[0;34m*\u001b[0m \u001b[0;34m(\u001b[0m\u001b[0;36m1\u001b[0m\u001b[0;34m-\u001b[0m\u001b[0mavg_mom\u001b[0m\u001b[0;34m)\u001b[0m\u001b[0;34m\u001b[0m\u001b[0m\n\u001b[1;32m    140\u001b[0m             \u001b[0mdebias_loss\u001b[0m \u001b[0;34m=\u001b[0m \u001b[0mavg_loss\u001b[0m \u001b[0;34m/\u001b[0m \u001b[0;34m(\u001b[0m\u001b[0;36m1\u001b[0m \u001b[0;34m-\u001b[0m \u001b[0mavg_mom\u001b[0m\u001b[0;34m**\u001b[0m\u001b[0mbatch_num\u001b[0m\u001b[0;34m)\u001b[0m\u001b[0;34m\u001b[0m\u001b[0m\n",
      "\u001b[0;32m~/Github/cnn_text_classification/fastai/model.py\u001b[0m in \u001b[0;36mstep\u001b[0;34m(self, xs, y, epoch)\u001b[0m\n\u001b[1;32m     55\u001b[0m         \u001b[0;32mif\u001b[0m \u001b[0mself\u001b[0m\u001b[0;34m.\u001b[0m\u001b[0mloss_scale\u001b[0m \u001b[0;34m!=\u001b[0m \u001b[0;36m1\u001b[0m\u001b[0;34m:\u001b[0m \u001b[0;32massert\u001b[0m\u001b[0;34m(\u001b[0m\u001b[0mself\u001b[0m\u001b[0;34m.\u001b[0m\u001b[0mfp16\u001b[0m\u001b[0;34m)\u001b[0m\u001b[0;34m;\u001b[0m \u001b[0mloss\u001b[0m \u001b[0;34m=\u001b[0m \u001b[0mloss\u001b[0m\u001b[0;34m*\u001b[0m\u001b[0mself\u001b[0m\u001b[0;34m.\u001b[0m\u001b[0mloss_scale\u001b[0m\u001b[0;34m\u001b[0m\u001b[0m\n\u001b[1;32m     56\u001b[0m         \u001b[0;32mif\u001b[0m \u001b[0mself\u001b[0m\u001b[0;34m.\u001b[0m\u001b[0mreg_fn\u001b[0m\u001b[0;34m:\u001b[0m \u001b[0mloss\u001b[0m \u001b[0;34m=\u001b[0m \u001b[0mself\u001b[0m\u001b[0;34m.\u001b[0m\u001b[0mreg_fn\u001b[0m\u001b[0;34m(\u001b[0m\u001b[0moutput\u001b[0m\u001b[0;34m,\u001b[0m \u001b[0mxtra\u001b[0m\u001b[0;34m,\u001b[0m \u001b[0mraw_loss\u001b[0m\u001b[0;34m)\u001b[0m\u001b[0;34m\u001b[0m\u001b[0m\n\u001b[0;32m---> 57\u001b[0;31m         \u001b[0mloss\u001b[0m\u001b[0;34m.\u001b[0m\u001b[0mbackward\u001b[0m\u001b[0;34m(\u001b[0m\u001b[0;34m)\u001b[0m\u001b[0;34m\u001b[0m\u001b[0m\n\u001b[0m\u001b[1;32m     58\u001b[0m         \u001b[0;32mif\u001b[0m \u001b[0mself\u001b[0m\u001b[0;34m.\u001b[0m\u001b[0mfp16\u001b[0m\u001b[0;34m:\u001b[0m \u001b[0mupdate_fp32_grads\u001b[0m\u001b[0;34m(\u001b[0m\u001b[0mself\u001b[0m\u001b[0;34m.\u001b[0m\u001b[0mfp32_params\u001b[0m\u001b[0;34m,\u001b[0m \u001b[0mself\u001b[0m\u001b[0;34m.\u001b[0m\u001b[0mm\u001b[0m\u001b[0;34m)\u001b[0m\u001b[0;34m\u001b[0m\u001b[0m\n\u001b[1;32m     59\u001b[0m         \u001b[0;32mif\u001b[0m \u001b[0mself\u001b[0m\u001b[0;34m.\u001b[0m\u001b[0mloss_scale\u001b[0m \u001b[0;34m!=\u001b[0m \u001b[0;36m1\u001b[0m\u001b[0;34m:\u001b[0m\u001b[0;34m\u001b[0m\u001b[0m\n",
      "\u001b[0;32m~/anaconda2/envs/fastai/lib/python3.6/site-packages/torch/autograd/variable.py\u001b[0m in \u001b[0;36mbackward\u001b[0;34m(self, gradient, retain_graph, create_graph, retain_variables)\u001b[0m\n\u001b[1;32m    165\u001b[0m                 \u001b[0mVariable\u001b[0m\u001b[0;34m.\u001b[0m\u001b[0;34m\u001b[0m\u001b[0m\n\u001b[1;32m    166\u001b[0m         \"\"\"\n\u001b[0;32m--> 167\u001b[0;31m         \u001b[0mtorch\u001b[0m\u001b[0;34m.\u001b[0m\u001b[0mautograd\u001b[0m\u001b[0;34m.\u001b[0m\u001b[0mbackward\u001b[0m\u001b[0;34m(\u001b[0m\u001b[0mself\u001b[0m\u001b[0;34m,\u001b[0m \u001b[0mgradient\u001b[0m\u001b[0;34m,\u001b[0m \u001b[0mretain_graph\u001b[0m\u001b[0;34m,\u001b[0m \u001b[0mcreate_graph\u001b[0m\u001b[0;34m,\u001b[0m \u001b[0mretain_variables\u001b[0m\u001b[0;34m)\u001b[0m\u001b[0;34m\u001b[0m\u001b[0m\n\u001b[0m\u001b[1;32m    168\u001b[0m \u001b[0;34m\u001b[0m\u001b[0m\n\u001b[1;32m    169\u001b[0m     \u001b[0;32mdef\u001b[0m \u001b[0mregister_hook\u001b[0m\u001b[0;34m(\u001b[0m\u001b[0mself\u001b[0m\u001b[0;34m,\u001b[0m \u001b[0mhook\u001b[0m\u001b[0;34m)\u001b[0m\u001b[0;34m:\u001b[0m\u001b[0;34m\u001b[0m\u001b[0m\n",
      "\u001b[0;32m~/anaconda2/envs/fastai/lib/python3.6/site-packages/torch/autograd/__init__.py\u001b[0m in \u001b[0;36mbackward\u001b[0;34m(variables, grad_variables, retain_graph, create_graph, retain_variables)\u001b[0m\n\u001b[1;32m     97\u001b[0m \u001b[0;34m\u001b[0m\u001b[0m\n\u001b[1;32m     98\u001b[0m     Variable._execution_engine.run_backward(\n\u001b[0;32m---> 99\u001b[0;31m         variables, grad_variables, retain_graph)\n\u001b[0m\u001b[1;32m    100\u001b[0m \u001b[0;34m\u001b[0m\u001b[0m\n\u001b[1;32m    101\u001b[0m \u001b[0;34m\u001b[0m\u001b[0m\n",
      "\u001b[0;31mKeyboardInterrupt\u001b[0m: "
     ]
    }
   ],
   "source": [
    "#learner = run_Learner()\n",
    "learner.fit(10,n_cycle=1,wds=1e-5,cycle_len=15,use_clr_beta=(20,10,0.95,0.85))"
   ]
  },
  {
   "cell_type": "code",
   "execution_count": 82,
   "metadata": {
    "ExecuteTime": {
     "end_time": "2018-06-02T00:39:16.668635Z",
     "start_time": "2018-06-02T00:39:16.654851Z"
    },
    "collapsed": true
   },
   "outputs": [],
   "source": [
    "torch.cuda.empty_cache()"
   ]
  },
  {
   "cell_type": "code",
   "execution_count": 6,
   "metadata": {
    "ExecuteTime": {
     "end_time": "2018-06-02T01:17:30.098891Z",
     "start_time": "2018-06-02T00:42:46.394038Z"
    }
   },
   "outputs": [
    {
     "name": "stdout",
     "output_type": "stream",
     "text": [
      "Loading model...\n",
      "Tied weights\n",
      "Done loading.\n"
     ]
    },
    {
     "data": {
      "application/vnd.jupyter.widget-view+json": {
       "model_id": "794b872784af49539b1f500969cbf628",
       "version_major": 2,
       "version_minor": 0
      },
      "text/plain": [
       "HBox(children=(IntProgress(value=0, description='Epoch', max=25), HTML(value='')))"
      ]
     },
     "metadata": {},
     "output_type": "display_data"
    },
    {
     "name": "stdout",
     "output_type": "stream",
     "text": [
      "epoch      trn_loss   val_loss   accuracy                   \n",
      "    0      6.385679   6.002914   0.179419  \n",
      "    1      5.697799   5.510032   0.210636                   \n",
      "    2      5.385606   5.380729   0.213844                   \n",
      "    3      5.228337   5.287188   0.213818                   \n",
      "    4      5.124136   5.295525   0.193911                   \n",
      "    5      5.033912   5.258563   0.215771                   \n",
      "    6      5.023862   5.285122   0.203666                   \n",
      "    7      5.024786   5.484139   0.195296                   \n",
      "    8      5.036703   5.326705   0.207988                   \n",
      "    9      5.075178   5.376814   0.191526                   \n",
      "    10     5.010448   5.320423   0.199065                   \n",
      "    11     4.92355    5.257944   0.210475                   \n",
      "    12     4.846968   5.28271    0.210562                   \n",
      "    13     4.760304   5.269388   0.215485                   \n",
      "    14     4.678734   5.220424   0.215766                   \n",
      "    15     4.618301   5.208169   0.216456                   \n",
      "    16     4.569141   5.190583   0.218713                   \n",
      "    17     4.502731   5.197662   0.220689                   \n",
      "    18     4.43367    5.17907    0.217651                   \n",
      "    19     4.35197    5.160521   0.228292                   \n",
      "    20     4.242232   5.080015   0.232712                   \n",
      "    21     4.087936   5.064187   0.233249                   \n",
      "    22     3.95673    5.006542   0.239987                   \n",
      "    23     3.823418   4.978203   0.24492                    \n",
      "    24     3.733264   4.896862   0.253618                   \n",
      "\n"
     ]
    },
    {
     "data": {
      "text/plain": [
       "[array([4.89686]), 0.25361839944825454]"
      ]
     },
     "execution_count": 6,
     "metadata": {},
     "output_type": "execute_result"
    }
   ],
   "source": [
    "learner = run_Learner()\n",
    "learner.fit(10,n_cycle=1,wds=1e-5,cycle_len=25,use_clr_beta=(10,15,0.95,0.85))"
   ]
  },
  {
   "cell_type": "code",
   "execution_count": 7,
   "metadata": {
    "ExecuteTime": {
     "end_time": "2018-06-02T02:56:53.224073Z",
     "start_time": "2018-06-02T01:55:35.142956Z"
    }
   },
   "outputs": [
    {
     "name": "stdout",
     "output_type": "stream",
     "text": [
      "Loading model...\n",
      "Tied weights\n",
      "Done loading.\n"
     ]
    },
    {
     "data": {
      "application/vnd.jupyter.widget-view+json": {
       "model_id": "057fda2753b84cdf999d648e76fea3e9",
       "version_major": 2,
       "version_minor": 0
      },
      "text/plain": [
       "HBox(children=(IntProgress(value=0, description='Epoch', max=45), HTML(value='')))"
      ]
     },
     "metadata": {},
     "output_type": "display_data"
    },
    {
     "name": "stdout",
     "output_type": "stream",
     "text": [
      "epoch      trn_loss   val_loss   accuracy                   \n",
      "    0      6.482727   6.062377   0.178895  \n",
      "    1      5.76023    5.554286   0.209221                   \n",
      "    2      5.434996   5.342528   0.217749                   \n",
      "    3      5.210472   5.242345   0.219839                   \n",
      "    4      5.061752   5.195363   0.219514                   \n",
      "    5      4.942687   5.148289   0.223126                   \n",
      "    6      4.832778   5.181764   0.208705                   \n",
      "    7      4.791807   5.131162   0.224114                   \n",
      "    8      4.734583   5.140023   0.216445                   \n",
      "    9      4.715219   5.173533   0.21525                    \n",
      "    10     4.679933   5.214721   0.215698                   \n",
      "    11     4.670099   5.277686   0.208564                   \n",
      "    12     4.643314   5.295246   0.202241                   \n",
      "    13     4.618417   5.315922   0.203474                   \n",
      "    14     4.621656   5.183349   0.221175                   \n",
      "    15     4.621367   5.200811   0.218441                   \n",
      "    16     4.587767   5.180105   0.227075                   \n",
      "    17     4.641171   5.331944   0.199783                   \n",
      "    18     4.610002   5.29816    0.212212                   \n",
      "    19     4.602943   5.261464   0.207556                   \n",
      "    20     4.596325   5.266123   0.211454                   \n",
      "    21     4.536359   5.366653   0.188965                   \n",
      "    22     4.508673   5.31942    0.212554                   \n",
      "    23     4.455991   5.198745   0.21907                    \n",
      "    24     4.445887   5.263279   0.212816                   \n",
      "    25     4.401167   5.273353   0.218879                   \n",
      "    26     4.37619    5.303217   0.217293                   \n",
      "    27     4.337071   5.293132   0.217403                   \n",
      "    28     4.312575   5.272593   0.215136                   \n",
      "    29     4.276428   5.273476   0.2112                     \n",
      "    30     4.25885    5.323189   0.21542                    \n",
      "    31     4.222592   5.255169   0.222909                   \n",
      "    32     4.193454   5.243353   0.222628                   \n",
      "    33     4.142429   5.309969   0.220407                   \n",
      "    34     4.101004   5.343729   0.212528                   \n",
      "    35     4.055119   5.26589    0.225589                   \n",
      "    36     4.005892   5.216648   0.222164                   \n",
      "    37     3.933311   5.206053   0.228325                   \n",
      "    38     3.840969   5.201352   0.227906                   \n",
      "    39     3.731172   5.213195   0.229244                   \n",
      "    40     3.628763   5.230309   0.229759                   \n",
      "    41     3.531859   5.18026    0.234452                   \n",
      "    42     3.429055   5.171539   0.2375                     \n",
      "    43     3.344888   5.134781   0.239826                   \n",
      "    44     3.30381    5.073011   0.246592                   \n",
      "\n"
     ]
    },
    {
     "data": {
      "text/plain": [
       "[array([5.07301]), 0.246591836652335]"
      ]
     },
     "execution_count": 7,
     "metadata": {},
     "output_type": "execute_result"
    }
   ],
   "source": [
    "learner = run_Learner()\n",
    "learner.fit(8,n_cycle=1,wds=1e-5,cycle_len=45,use_clr_beta=(10,12.5,0.95,0.85))"
   ]
  },
  {
   "cell_type": "code",
   "execution_count": 8,
   "metadata": {
    "ExecuteTime": {
     "end_time": "2018-06-02T04:02:01.074484Z",
     "start_time": "2018-06-02T03:00:18.270551Z"
    }
   },
   "outputs": [
    {
     "name": "stdout",
     "output_type": "stream",
     "text": [
      "Loading model...\n",
      "Tied weights\n",
      "Done loading.\n"
     ]
    },
    {
     "data": {
      "application/vnd.jupyter.widget-view+json": {
       "model_id": "4c1a0ce4c70944db9882d3decc9136d2",
       "version_major": 2,
       "version_minor": 0
      },
      "text/plain": [
       "HBox(children=(IntProgress(value=0, description='Epoch', max=45), HTML(value='')))"
      ]
     },
     "metadata": {},
     "output_type": "display_data"
    },
    {
     "name": "stdout",
     "output_type": "stream",
     "text": [
      "epoch      trn_loss   val_loss   accuracy                   \n",
      "    0      6.412755   6.006036   0.184067  \n",
      "    1      5.710298   5.522378   0.20997                    \n",
      "    2      5.398122   5.352085   0.217771                   \n",
      "    3      5.202064   5.263799   0.218174                   \n",
      "    4      5.056519   5.246243   0.210332                   \n",
      "    5      4.983046   5.228439   0.219089                   \n",
      "    6      4.929756   5.235625   0.210059                   \n",
      "    7      4.900167   5.298151   0.208636                   \n",
      "    8      4.867422   5.366519   0.19107                    \n",
      "    9      4.85949    5.409751   0.184038                   \n",
      "    10     4.883113   5.291785   0.203042                   \n",
      "    11     4.872852   5.295469   0.209354                   \n",
      "    12     4.899703   5.35462    0.204168                   \n",
      "    13     4.919213   5.383281   0.209018                   \n",
      "    14     4.91455    5.418222   0.197451                   \n",
      "    15     4.945063   5.540902   0.184741                   \n",
      "    16     4.892899   5.324927   0.20475                    \n",
      "    17     4.799604   5.26311    0.210861                   \n",
      "    18     4.733614   5.275986   0.212006                   \n",
      "    19     4.71284    5.317257   0.206185                   \n",
      "    20     4.605821   5.23799    0.216883                   \n",
      "    21     4.575778   5.24978    0.218433                   \n",
      "    22     4.534537   5.306321   0.214735                   \n",
      "    23     4.513165   5.312405   0.204756                   \n",
      "    24     4.444727   5.242722   0.214885                   \n",
      "    25     4.416054   5.31321    0.215314                   \n",
      "    26     4.383921   5.208306   0.215861                   \n",
      "    27     4.320762   5.213401   0.218453                   \n",
      "    28     4.268838   5.22647    0.216178                   \n",
      "    29     4.200066   5.193808   0.226666                   \n",
      "    30     4.108073   5.138083   0.227789                   \n",
      "    31     3.985462   5.117739   0.231636                   \n",
      "    32     3.892903   5.115239   0.231406                   \n",
      "    33     3.819081   5.112758   0.23028                    \n",
      "    34     3.765628   5.168834   0.231194                   \n",
      "    35     3.715745   5.195968   0.23096                    \n",
      "    36     3.655669   5.200305   0.231029                   \n",
      "    37     3.595859   5.218845   0.230817                   \n",
      "    38     3.525476   5.21638    0.230574                   \n",
      "    39     3.458427   5.234181   0.231911                   \n",
      "    40     3.394651   5.211579   0.233582                   \n",
      "    41     3.329547   5.210922   0.235593                   \n",
      "    42     3.279763   5.171902   0.238677                   \n",
      "    43     3.22451    5.189874   0.240369                   \n",
      "    44     3.206962   5.136918   0.245219                   \n",
      "\n"
     ]
    },
    {
     "data": {
      "text/plain": [
       "[array([5.13692]), 0.24521896330749288]"
      ]
     },
     "execution_count": 8,
     "metadata": {},
     "output_type": "execute_result"
    }
   ],
   "source": [
    "learner = run_Learner()\n",
    "learner.fit(10,n_cycle=1,wds=1e-5,cycle_len=45,use_clr_beta=(10,30,0.95,0.85))"
   ]
  },
  {
   "cell_type": "markdown",
   "metadata": {},
   "source": [
    "Notes/To-do: \n",
    "\n",
    "- ~~Use trainingphase API for learning rate finder with cyclic momentum~~\n",
    "- ~~For one-cycle, the 'div' is actually supposed to be 10 or 20 (according to Leslie Smith)~~\n",
    "- increase nlevels to 5"
   ]
  },
  {
   "cell_type": "code",
   "execution_count": 35,
   "metadata": {
    "ExecuteTime": {
     "end_time": "2018-05-31T13:44:18.200121Z",
     "start_time": "2018-05-31T13:44:18.193814Z"
    },
    "collapsed": true
   },
   "outputs": [
    {
     "data": {
      "text/plain": [
       "Sequential(\n",
       "  (0): TCN_Encoder(\n",
       "    (encoder): Embedding(33279, 400)\n",
       "    (dropoute): Dropout(p=0.1, inplace)\n",
       "    (tcn_module): TemporalConvModule(\n",
       "      (tcn_module): Sequential(\n",
       "        (0): BasicTempConvBlock(\n",
       "          (conv1): Conv1d(400, 1000, kernel_size=(3,), stride=(1,), padding=(2,), bias=False)\n",
       "          (chop1): Chop1d(\n",
       "          )\n",
       "          (relu1): ReLU(inplace)\n",
       "          (dropout1): Dropout(p=0.2, inplace)\n",
       "          (conv2): Conv1d(1000, 1000, kernel_size=(3,), stride=(1,), padding=(2,), bias=False)\n",
       "          (chop2): Chop1d(\n",
       "          )\n",
       "          (relu2): ReLU(inplace)\n",
       "          (dropout2): Dropout(p=0.2, inplace)\n",
       "          (downsample): Conv1d(400, 1000, kernel_size=(1,), stride=(1,), bias=False)\n",
       "          (relu3): ReLU(inplace)\n",
       "        )\n",
       "        (1): BasicTempConvBlock(\n",
       "          (conv1): Conv1d(1000, 1000, kernel_size=(3,), stride=(1,), padding=(4,), dilation=(2,), bias=False)\n",
       "          (chop1): Chop1d(\n",
       "          )\n",
       "          (relu1): ReLU(inplace)\n",
       "          (dropout1): Dropout(p=0.2, inplace)\n",
       "          (conv2): Conv1d(1000, 1000, kernel_size=(3,), stride=(1,), padding=(4,), dilation=(2,), bias=False)\n",
       "          (chop2): Chop1d(\n",
       "          )\n",
       "          (relu2): ReLU(inplace)\n",
       "          (dropout2): Dropout(p=0.2, inplace)\n",
       "          (relu3): ReLU(inplace)\n",
       "        )\n",
       "        (2): BasicTempConvBlock(\n",
       "          (conv1): Conv1d(1000, 1000, kernel_size=(3,), stride=(1,), padding=(8,), dilation=(4,), bias=False)\n",
       "          (chop1): Chop1d(\n",
       "          )\n",
       "          (relu1): ReLU(inplace)\n",
       "          (dropout1): Dropout(p=0.2, inplace)\n",
       "          (conv2): Conv1d(1000, 1000, kernel_size=(3,), stride=(1,), padding=(8,), dilation=(4,), bias=False)\n",
       "          (chop2): Chop1d(\n",
       "          )\n",
       "          (relu2): ReLU(inplace)\n",
       "          (dropout2): Dropout(p=0.2, inplace)\n",
       "          (relu3): ReLU(inplace)\n",
       "        )\n",
       "        (3): BasicTempConvBlock(\n",
       "          (conv1): Conv1d(1000, 400, kernel_size=(3,), stride=(1,), padding=(16,), dilation=(8,), bias=False)\n",
       "          (chop1): Chop1d(\n",
       "          )\n",
       "          (relu1): ReLU(inplace)\n",
       "          (dropout1): Dropout(p=0.2, inplace)\n",
       "          (conv2): Conv1d(400, 400, kernel_size=(3,), stride=(1,), padding=(16,), dilation=(8,), bias=False)\n",
       "          (chop2): Chop1d(\n",
       "          )\n",
       "          (relu2): ReLU(inplace)\n",
       "          (dropout2): Dropout(p=0.2, inplace)\n",
       "          (downsample): Conv1d(1000, 400, kernel_size=(1,), stride=(1,), bias=False)\n",
       "          (relu3): ReLU(inplace)\n",
       "        )\n",
       "      )\n",
       "    )\n",
       "  )\n",
       "  (1): TCN_Decoder(\n",
       "    (decoder): Linear(in_features=400, out_features=33279, bias=True)\n",
       "    (dropout): Dropout(p=0.1, inplace)\n",
       "  )\n",
       ")"
      ]
     },
     "execution_count": 35,
     "metadata": {},
     "output_type": "execute_result"
    }
   ],
   "source": [
    "learner.model"
   ]
  },
  {
   "cell_type": "markdown",
   "metadata": {},
   "source": [
    "## Go deeper"
   ]
  },
  {
   "cell_type": "code",
   "execution_count": 11,
   "metadata": {
    "ExecuteTime": {
     "end_time": "2018-06-02T04:07:51.687852Z",
     "start_time": "2018-06-02T04:06:37.144662Z"
    }
   },
   "outputs": [
    {
     "name": "stdout",
     "output_type": "stream",
     "text": [
      "Loading model...\n",
      "Tied weights\n",
      "Running LR_find...\n"
     ]
    },
    {
     "data": {
      "application/vnd.jupyter.widget-view+json": {
       "model_id": "2234aea7fce243578e01bf563e7bfa3a",
       "version_major": 2,
       "version_minor": 0
      },
      "text/plain": [
       "HBox(children=(IntProgress(value=0, description='Epoch', max=1), HTML(value='')))"
      ]
     },
     "metadata": {},
     "output_type": "display_data"
    },
    {
     "name": "stdout",
     "output_type": "stream",
     "text": [
      " 69%|██████▊   | 224/326 [01:05<00:29,  3.42it/s, loss=5.45e+03]"
     ]
    },
    {
     "data": {
      "image/png": "[encoded data removed]",
      "text/plain": [
       "<Figure size 432x288 with 1 Axes>"
      ]
     },
     "metadata": {},
     "output_type": "display_data"
    }
   ],
   "source": [
    "learner_lr = run_LR_find(bs=64,nlevels=5,weight_decay=1e-5)"
   ]
  },
  {
   "cell_type": "code",
   "execution_count": 12,
   "metadata": {
    "ExecuteTime": {
     "end_time": "2018-06-02T04:13:42.359796Z",
     "start_time": "2018-06-02T04:12:26.238737Z"
    }
   },
   "outputs": [
    {
     "name": "stdout",
     "output_type": "stream",
     "text": [
      "Loading model...\n",
      "Tied weights\n",
      "Running LR_find...\n"
     ]
    },
    {
     "data": {
      "application/vnd.jupyter.widget-view+json": {
       "model_id": "a56da667edb84cb1aad84e913e53b19d",
       "version_major": 2,
       "version_minor": 0
      },
      "text/plain": [
       "HBox(children=(IntProgress(value=0, description='Epoch', max=1), HTML(value='')))"
      ]
     },
     "metadata": {},
     "output_type": "display_data"
    },
    {
     "name": "stdout",
     "output_type": "stream",
     "text": [
      " 73%|███████▎  | 152/208 [01:07<00:24,  2.25it/s, loss=33.9]"
     ]
    },
    {
     "data": {
      "image/png": "[encoded data removed]",
      "text/plain": [
       "<Figure size 432x288 with 1 Axes>"
      ]
     },
     "metadata": {},
     "output_type": "display_data"
    }
   ],
   "source": [
    "learner_lr = run_LR_find(bs=100,nlevels=5,weight_decay=1e-5)"
   ]
  },
  {
   "cell_type": "code",
   "execution_count": 15,
   "metadata": {
    "ExecuteTime": {
     "end_time": "2018-06-02T04:24:00.536096Z",
     "start_time": "2018-06-02T04:22:42.897264Z"
    }
   },
   "outputs": [
    {
     "name": "stdout",
     "output_type": "stream",
     "text": [
      "Loading model...\n",
      "Tied weights\n",
      "Running LR_find...\n"
     ]
    },
    {
     "data": {
      "application/vnd.jupyter.widget-view+json": {
       "model_id": "45db0b7f88ee47c9bfce232bed76e7bc",
       "version_major": 2,
       "version_minor": 0
      },
      "text/plain": [
       "HBox(children=(IntProgress(value=0, description='Epoch', max=1), HTML(value='')))"
      ]
     },
     "metadata": {},
     "output_type": "display_data"
    },
    {
     "name": "stdout",
     "output_type": "stream",
     "text": [
      " 74%|███████▎  | 153/208 [01:09<00:24,  2.22it/s, loss=37.8]"
     ]
    },
    {
     "data": {
      "image/png": "[encoded data removed]",
      "text/plain": [
       "<Figure size 432x288 with 1 Axes>"
      ]
     },
     "metadata": {},
     "output_type": "display_data"
    }
   ],
   "source": [
    "learner_lr = run_LR_find(bs=100,nlevels=5,weight_decay=1e-6)"
   ]
  },
  {
   "cell_type": "code",
   "execution_count": 7,
   "metadata": {
    "ExecuteTime": {
     "end_time": "2018-06-02T04:45:03.109489Z",
     "start_time": "2018-06-02T04:43:44.472574Z"
    }
   },
   "outputs": [
    {
     "name": "stdout",
     "output_type": "stream",
     "text": [
      "Loading model...\n",
      "Tied weights\n",
      "Running LR_find...\n"
     ]
    },
    {
     "data": {
      "application/vnd.jupyter.widget-view+json": {
       "model_id": "b296f00267d248b18df9fb41952ce584",
       "version_major": 2,
       "version_minor": 0
      },
      "text/plain": [
       "HBox(children=(IntProgress(value=0, description='Epoch', max=1), HTML(value='')))"
      ]
     },
     "metadata": {},
     "output_type": "display_data"
    },
    {
     "name": "stdout",
     "output_type": "stream",
     "text": [
      " 67%|██████▋   | 219/326 [01:06<00:32,  3.30it/s, loss=50.9]"
     ]
    },
    {
     "data": {
      "image/png": "[encoded data removed]",
      "text/plain": [
       "<Figure size 432x288 with 1 Axes>"
      ]
     },
     "metadata": {},
     "output_type": "display_data"
    }
   ],
   "source": [
    "learner_lr = run_LR_find(bs=64,nlevels=5,weight_decay=0)"
   ]
  },
  {
   "cell_type": "code",
   "execution_count": 8,
   "metadata": {
    "ExecuteTime": {
     "end_time": "2018-06-02T04:46:53.446959Z",
     "start_time": "2018-06-02T04:45:37.984993Z"
    }
   },
   "outputs": [
    {
     "name": "stdout",
     "output_type": "stream",
     "text": [
      "Loading model...\n",
      "Tied weights\n",
      "Running LR_find...\n"
     ]
    },
    {
     "data": {
      "application/vnd.jupyter.widget-view+json": {
       "model_id": "2154de57ba32410ba41633a9e35c426a",
       "version_major": 2,
       "version_minor": 0
      },
      "text/plain": [
       "HBox(children=(IntProgress(value=0, description='Epoch', max=1), HTML(value='')))"
      ]
     },
     "metadata": {},
     "output_type": "display_data"
    },
    {
     "name": "stdout",
     "output_type": "stream",
     "text": [
      " 68%|██████▊   | 223/326 [01:06<00:30,  3.34it/s, loss=358] "
     ]
    },
    {
     "data": {
      "image/png": "[encoded data removed]",
      "text/plain": [
       "<Figure size 432x288 with 1 Axes>"
      ]
     },
     "metadata": {},
     "output_type": "display_data"
    }
   ],
   "source": [
    "learner_lr = run_LR_find(bs=64,nlevels=5,weight_decay=1e-7)"
   ]
  },
  {
   "cell_type": "code",
   "execution_count": 16,
   "metadata": {
    "ExecuteTime": {
     "end_time": "2018-06-02T04:41:47.734314Z",
     "start_time": "2018-06-02T04:26:24.114124Z"
    }
   },
   "outputs": [
    {
     "name": "stdout",
     "output_type": "stream",
     "text": [
      "Loading model...\n",
      "Tied weights\n",
      "Done loading.\n"
     ]
    },
    {
     "data": {
      "application/vnd.jupyter.widget-view+json": {
       "model_id": "11fbbc8412064260a59d7603381a14c5",
       "version_major": 2,
       "version_minor": 0
      },
      "text/plain": [
       "HBox(children=(IntProgress(value=0, description='Epoch', max=20), HTML(value='')))"
      ]
     },
     "metadata": {},
     "output_type": "display_data"
    },
    {
     "name": "stdout",
     "output_type": "stream",
     "text": [
      "epoch      trn_loss   val_loss   accuracy                   \n",
      "    0      6.242944   5.884287   0.193507  \n",
      "    1      5.655283   5.516046   0.207412                   \n",
      "    2      5.481086   5.463041   0.200061                   \n",
      "    3      5.542005   5.654607   0.168885                   \n",
      "    4      5.835651   5.909654   0.169227                   \n",
      "    5      6.124762   6.175617   0.139167                   \n",
      "    6      6.369925   6.157501   0.127954                   \n",
      "    7      8.999298   7.007907   0.058078                   \n",
      "    8      7.14826    6.949138   0.058078                   \n",
      " 10%|█         | 34/326 [00:09<01:25,  3.41it/s, loss=7.14]"
     ]
    },
    {
     "ename": "KeyboardInterrupt",
     "evalue": "",
     "output_type": "error",
     "traceback": [
      "\u001b[0;31m---------------------------------------------------------------------------\u001b[0m",
      "\u001b[0;31mKeyboardInterrupt\u001b[0m                         Traceback (most recent call last)",
      "\u001b[0;32m<ipython-input-16-dac35a003a1a>\u001b[0m in \u001b[0;36m<module>\u001b[0;34m()\u001b[0m\n\u001b[1;32m      1\u001b[0m \u001b[0mlearner\u001b[0m \u001b[0;34m=\u001b[0m \u001b[0mrun_Learner\u001b[0m\u001b[0;34m(\u001b[0m\u001b[0mnlevels\u001b[0m\u001b[0;34m=\u001b[0m\u001b[0;36m5\u001b[0m\u001b[0;34m)\u001b[0m\u001b[0;34m\u001b[0m\u001b[0m\n\u001b[0;32m----> 2\u001b[0;31m \u001b[0mlearner\u001b[0m\u001b[0;34m.\u001b[0m\u001b[0mfit\u001b[0m\u001b[0;34m(\u001b[0m\u001b[0;36m15\u001b[0m\u001b[0;34m,\u001b[0m\u001b[0mn_cycle\u001b[0m\u001b[0;34m=\u001b[0m\u001b[0;36m1\u001b[0m\u001b[0;34m,\u001b[0m\u001b[0mwds\u001b[0m\u001b[0;34m=\u001b[0m\u001b[0;36m1e-5\u001b[0m\u001b[0;34m,\u001b[0m\u001b[0mcycle_len\u001b[0m\u001b[0;34m=\u001b[0m\u001b[0;36m20\u001b[0m\u001b[0;34m,\u001b[0m\u001b[0muse_clr_beta\u001b[0m\u001b[0;34m=\u001b[0m\u001b[0;34m(\u001b[0m\u001b[0;36m10\u001b[0m\u001b[0;34m,\u001b[0m\u001b[0;36m15\u001b[0m\u001b[0;34m,\u001b[0m\u001b[0;36m0.95\u001b[0m\u001b[0;34m,\u001b[0m\u001b[0;36m0.85\u001b[0m\u001b[0;34m)\u001b[0m\u001b[0;34m)\u001b[0m\u001b[0;34m\u001b[0m\u001b[0m\n\u001b[0m",
      "\u001b[0;32m~/Github/cnn_text_classification/fastai/learner.py\u001b[0m in \u001b[0;36mfit\u001b[0;34m(self, lrs, n_cycle, wds, **kwargs)\u001b[0m\n\u001b[1;32m    285\u001b[0m         \u001b[0mself\u001b[0m\u001b[0;34m.\u001b[0m\u001b[0msched\u001b[0m \u001b[0;34m=\u001b[0m \u001b[0;32mNone\u001b[0m\u001b[0;34m\u001b[0m\u001b[0m\n\u001b[1;32m    286\u001b[0m         \u001b[0mlayer_opt\u001b[0m \u001b[0;34m=\u001b[0m \u001b[0mself\u001b[0m\u001b[0;34m.\u001b[0m\u001b[0mget_layer_opt\u001b[0m\u001b[0;34m(\u001b[0m\u001b[0mlrs\u001b[0m\u001b[0;34m,\u001b[0m \u001b[0mwds\u001b[0m\u001b[0;34m)\u001b[0m\u001b[0;34m\u001b[0m\u001b[0m\n\u001b[0;32m--> 287\u001b[0;31m         \u001b[0;32mreturn\u001b[0m \u001b[0mself\u001b[0m\u001b[0;34m.\u001b[0m\u001b[0mfit_gen\u001b[0m\u001b[0;34m(\u001b[0m\u001b[0mself\u001b[0m\u001b[0;34m.\u001b[0m\u001b[0mmodel\u001b[0m\u001b[0;34m,\u001b[0m \u001b[0mself\u001b[0m\u001b[0;34m.\u001b[0m\u001b[0mdata\u001b[0m\u001b[0;34m,\u001b[0m \u001b[0mlayer_opt\u001b[0m\u001b[0;34m,\u001b[0m \u001b[0mn_cycle\u001b[0m\u001b[0;34m,\u001b[0m \u001b[0;34m**\u001b[0m\u001b[0mkwargs\u001b[0m\u001b[0;34m)\u001b[0m\u001b[0;34m\u001b[0m\u001b[0m\n\u001b[0m\u001b[1;32m    288\u001b[0m \u001b[0;34m\u001b[0m\u001b[0m\n\u001b[1;32m    289\u001b[0m     \u001b[0;32mdef\u001b[0m \u001b[0mwarm_up\u001b[0m\u001b[0;34m(\u001b[0m\u001b[0mself\u001b[0m\u001b[0;34m,\u001b[0m \u001b[0mlr\u001b[0m\u001b[0;34m,\u001b[0m \u001b[0mwds\u001b[0m\u001b[0;34m=\u001b[0m\u001b[0;32mNone\u001b[0m\u001b[0;34m)\u001b[0m\u001b[0;34m:\u001b[0m\u001b[0;34m\u001b[0m\u001b[0m\n",
      "\u001b[0;32m~/Github/cnn_text_classification/fastai/learner.py\u001b[0m in \u001b[0;36mfit_gen\u001b[0;34m(self, model, data, layer_opt, n_cycle, cycle_len, cycle_mult, cycle_save_name, best_save_name, use_clr, use_clr_beta, metrics, callbacks, use_wd_sched, norm_wds, wds_sched_mult, use_swa, swa_start, swa_eval_freq, **kwargs)\u001b[0m\n\u001b[1;32m    232\u001b[0m             \u001b[0mmetrics\u001b[0m\u001b[0;34m=\u001b[0m\u001b[0mmetrics\u001b[0m\u001b[0;34m,\u001b[0m \u001b[0mcallbacks\u001b[0m\u001b[0;34m=\u001b[0m\u001b[0mcallbacks\u001b[0m\u001b[0;34m,\u001b[0m \u001b[0mreg_fn\u001b[0m\u001b[0;34m=\u001b[0m\u001b[0mself\u001b[0m\u001b[0;34m.\u001b[0m\u001b[0mreg_fn\u001b[0m\u001b[0;34m,\u001b[0m \u001b[0mclip\u001b[0m\u001b[0;34m=\u001b[0m\u001b[0mself\u001b[0m\u001b[0;34m.\u001b[0m\u001b[0mclip\u001b[0m\u001b[0;34m,\u001b[0m \u001b[0mfp16\u001b[0m\u001b[0;34m=\u001b[0m\u001b[0mself\u001b[0m\u001b[0;34m.\u001b[0m\u001b[0mfp16\u001b[0m\u001b[0;34m,\u001b[0m\u001b[0;34m\u001b[0m\u001b[0m\n\u001b[1;32m    233\u001b[0m             \u001b[0mswa_model\u001b[0m\u001b[0;34m=\u001b[0m\u001b[0mself\u001b[0m\u001b[0;34m.\u001b[0m\u001b[0mswa_model\u001b[0m \u001b[0;32mif\u001b[0m \u001b[0muse_swa\u001b[0m \u001b[0;32melse\u001b[0m \u001b[0;32mNone\u001b[0m\u001b[0;34m,\u001b[0m \u001b[0mswa_start\u001b[0m\u001b[0;34m=\u001b[0m\u001b[0mswa_start\u001b[0m\u001b[0;34m,\u001b[0m\u001b[0;34m\u001b[0m\u001b[0m\n\u001b[0;32m--> 234\u001b[0;31m             swa_eval_freq=swa_eval_freq, **kwargs)\n\u001b[0m\u001b[1;32m    235\u001b[0m \u001b[0;34m\u001b[0m\u001b[0m\n\u001b[1;32m    236\u001b[0m     \u001b[0;32mdef\u001b[0m \u001b[0mget_layer_groups\u001b[0m\u001b[0;34m(\u001b[0m\u001b[0mself\u001b[0m\u001b[0;34m)\u001b[0m\u001b[0;34m:\u001b[0m \u001b[0;32mreturn\u001b[0m \u001b[0mself\u001b[0m\u001b[0;34m.\u001b[0m\u001b[0mmodels\u001b[0m\u001b[0;34m.\u001b[0m\u001b[0mget_layer_groups\u001b[0m\u001b[0;34m(\u001b[0m\u001b[0;34m)\u001b[0m\u001b[0;34m\u001b[0m\u001b[0m\n",
      "\u001b[0;32m~/Github/cnn_text_classification/fastai/model.py\u001b[0m in \u001b[0;36mfit\u001b[0;34m(model, data, n_epochs, opt, crit, metrics, callbacks, stepper, swa_model, swa_start, swa_eval_freq, **kwargs)\u001b[0m\n\u001b[1;32m    136\u001b[0m             \u001b[0mbatch_num\u001b[0m \u001b[0;34m+=\u001b[0m \u001b[0;36m1\u001b[0m\u001b[0;34m\u001b[0m\u001b[0m\n\u001b[1;32m    137\u001b[0m             \u001b[0;32mfor\u001b[0m \u001b[0mcb\u001b[0m \u001b[0;32min\u001b[0m \u001b[0mcallbacks\u001b[0m\u001b[0;34m:\u001b[0m \u001b[0mcb\u001b[0m\u001b[0;34m.\u001b[0m\u001b[0mon_batch_begin\u001b[0m\u001b[0;34m(\u001b[0m\u001b[0;34m)\u001b[0m\u001b[0;34m\u001b[0m\u001b[0m\n\u001b[0;32m--> 138\u001b[0;31m             \u001b[0mloss\u001b[0m \u001b[0;34m=\u001b[0m \u001b[0mmodel_stepper\u001b[0m\u001b[0;34m.\u001b[0m\u001b[0mstep\u001b[0m\u001b[0;34m(\u001b[0m\u001b[0mV\u001b[0m\u001b[0;34m(\u001b[0m\u001b[0mx\u001b[0m\u001b[0;34m)\u001b[0m\u001b[0;34m,\u001b[0m\u001b[0mV\u001b[0m\u001b[0;34m(\u001b[0m\u001b[0my\u001b[0m\u001b[0;34m)\u001b[0m\u001b[0;34m,\u001b[0m \u001b[0mepoch\u001b[0m\u001b[0;34m)\u001b[0m\u001b[0;34m\u001b[0m\u001b[0m\n\u001b[0m\u001b[1;32m    139\u001b[0m             \u001b[0mavg_loss\u001b[0m \u001b[0;34m=\u001b[0m \u001b[0mavg_loss\u001b[0m \u001b[0;34m*\u001b[0m \u001b[0mavg_mom\u001b[0m \u001b[0;34m+\u001b[0m \u001b[0mloss\u001b[0m \u001b[0;34m*\u001b[0m \u001b[0;34m(\u001b[0m\u001b[0;36m1\u001b[0m\u001b[0;34m-\u001b[0m\u001b[0mavg_mom\u001b[0m\u001b[0;34m)\u001b[0m\u001b[0;34m\u001b[0m\u001b[0m\n\u001b[1;32m    140\u001b[0m             \u001b[0mdebias_loss\u001b[0m \u001b[0;34m=\u001b[0m \u001b[0mavg_loss\u001b[0m \u001b[0;34m/\u001b[0m \u001b[0;34m(\u001b[0m\u001b[0;36m1\u001b[0m \u001b[0;34m-\u001b[0m \u001b[0mavg_mom\u001b[0m\u001b[0;34m**\u001b[0m\u001b[0mbatch_num\u001b[0m\u001b[0;34m)\u001b[0m\u001b[0;34m\u001b[0m\u001b[0m\n",
      "\u001b[0;32m~/Github/cnn_text_classification/fastai/model.py\u001b[0m in \u001b[0;36mstep\u001b[0;34m(self, xs, y, epoch)\u001b[0m\n\u001b[1;32m     55\u001b[0m         \u001b[0;32mif\u001b[0m \u001b[0mself\u001b[0m\u001b[0;34m.\u001b[0m\u001b[0mloss_scale\u001b[0m \u001b[0;34m!=\u001b[0m \u001b[0;36m1\u001b[0m\u001b[0;34m:\u001b[0m \u001b[0;32massert\u001b[0m\u001b[0;34m(\u001b[0m\u001b[0mself\u001b[0m\u001b[0;34m.\u001b[0m\u001b[0mfp16\u001b[0m\u001b[0;34m)\u001b[0m\u001b[0;34m;\u001b[0m \u001b[0mloss\u001b[0m \u001b[0;34m=\u001b[0m \u001b[0mloss\u001b[0m\u001b[0;34m*\u001b[0m\u001b[0mself\u001b[0m\u001b[0;34m.\u001b[0m\u001b[0mloss_scale\u001b[0m\u001b[0;34m\u001b[0m\u001b[0m\n\u001b[1;32m     56\u001b[0m         \u001b[0;32mif\u001b[0m \u001b[0mself\u001b[0m\u001b[0;34m.\u001b[0m\u001b[0mreg_fn\u001b[0m\u001b[0;34m:\u001b[0m \u001b[0mloss\u001b[0m \u001b[0;34m=\u001b[0m \u001b[0mself\u001b[0m\u001b[0;34m.\u001b[0m\u001b[0mreg_fn\u001b[0m\u001b[0;34m(\u001b[0m\u001b[0moutput\u001b[0m\u001b[0;34m,\u001b[0m \u001b[0mxtra\u001b[0m\u001b[0;34m,\u001b[0m \u001b[0mraw_loss\u001b[0m\u001b[0;34m)\u001b[0m\u001b[0;34m\u001b[0m\u001b[0m\n\u001b[0;32m---> 57\u001b[0;31m         \u001b[0mloss\u001b[0m\u001b[0;34m.\u001b[0m\u001b[0mbackward\u001b[0m\u001b[0;34m(\u001b[0m\u001b[0;34m)\u001b[0m\u001b[0;34m\u001b[0m\u001b[0m\n\u001b[0m\u001b[1;32m     58\u001b[0m         \u001b[0;32mif\u001b[0m \u001b[0mself\u001b[0m\u001b[0;34m.\u001b[0m\u001b[0mfp16\u001b[0m\u001b[0;34m:\u001b[0m \u001b[0mupdate_fp32_grads\u001b[0m\u001b[0;34m(\u001b[0m\u001b[0mself\u001b[0m\u001b[0;34m.\u001b[0m\u001b[0mfp32_params\u001b[0m\u001b[0;34m,\u001b[0m \u001b[0mself\u001b[0m\u001b[0;34m.\u001b[0m\u001b[0mm\u001b[0m\u001b[0;34m)\u001b[0m\u001b[0;34m\u001b[0m\u001b[0m\n\u001b[1;32m     59\u001b[0m         \u001b[0;32mif\u001b[0m \u001b[0mself\u001b[0m\u001b[0;34m.\u001b[0m\u001b[0mloss_scale\u001b[0m \u001b[0;34m!=\u001b[0m \u001b[0;36m1\u001b[0m\u001b[0;34m:\u001b[0m\u001b[0;34m\u001b[0m\u001b[0m\n",
      "\u001b[0;32m~/anaconda2/envs/fastai/lib/python3.6/site-packages/torch/autograd/variable.py\u001b[0m in \u001b[0;36mbackward\u001b[0;34m(self, gradient, retain_graph, create_graph, retain_variables)\u001b[0m\n\u001b[1;32m    165\u001b[0m                 \u001b[0mVariable\u001b[0m\u001b[0;34m.\u001b[0m\u001b[0;34m\u001b[0m\u001b[0m\n\u001b[1;32m    166\u001b[0m         \"\"\"\n\u001b[0;32m--> 167\u001b[0;31m         \u001b[0mtorch\u001b[0m\u001b[0;34m.\u001b[0m\u001b[0mautograd\u001b[0m\u001b[0;34m.\u001b[0m\u001b[0mbackward\u001b[0m\u001b[0;34m(\u001b[0m\u001b[0mself\u001b[0m\u001b[0;34m,\u001b[0m \u001b[0mgradient\u001b[0m\u001b[0;34m,\u001b[0m \u001b[0mretain_graph\u001b[0m\u001b[0;34m,\u001b[0m \u001b[0mcreate_graph\u001b[0m\u001b[0;34m,\u001b[0m \u001b[0mretain_variables\u001b[0m\u001b[0;34m)\u001b[0m\u001b[0;34m\u001b[0m\u001b[0m\n\u001b[0m\u001b[1;32m    168\u001b[0m \u001b[0;34m\u001b[0m\u001b[0m\n\u001b[1;32m    169\u001b[0m     \u001b[0;32mdef\u001b[0m \u001b[0mregister_hook\u001b[0m\u001b[0;34m(\u001b[0m\u001b[0mself\u001b[0m\u001b[0;34m,\u001b[0m \u001b[0mhook\u001b[0m\u001b[0;34m)\u001b[0m\u001b[0;34m:\u001b[0m\u001b[0;34m\u001b[0m\u001b[0m\n",
      "\u001b[0;32m~/anaconda2/envs/fastai/lib/python3.6/site-packages/torch/autograd/__init__.py\u001b[0m in \u001b[0;36mbackward\u001b[0;34m(variables, grad_variables, retain_graph, create_graph, retain_variables)\u001b[0m\n\u001b[1;32m     97\u001b[0m \u001b[0;34m\u001b[0m\u001b[0m\n\u001b[1;32m     98\u001b[0m     Variable._execution_engine.run_backward(\n\u001b[0;32m---> 99\u001b[0;31m         variables, grad_variables, retain_graph)\n\u001b[0m\u001b[1;32m    100\u001b[0m \u001b[0;34m\u001b[0m\u001b[0m\n\u001b[1;32m    101\u001b[0m \u001b[0;34m\u001b[0m\u001b[0m\n",
      "\u001b[0;31mKeyboardInterrupt\u001b[0m: "
     ]
    }
   ],
   "source": [
    "learner = run_Learner(nlevels=5) \n",
    "learner.fit(15,n_cycle=1,wds=1e-5,cycle_len=20,use_clr_beta=(10,15,0.95,0.85))"
   ]
  },
  {
   "cell_type": "code",
   "execution_count": 9,
   "metadata": {
    "ExecuteTime": {
     "end_time": "2018-06-02T05:20:52.141370Z",
     "start_time": "2018-06-02T04:47:18.859205Z"
    }
   },
   "outputs": [
    {
     "name": "stdout",
     "output_type": "stream",
     "text": [
      "Loading model...\n",
      "Tied weights\n",
      "Done loading.\n"
     ]
    },
    {
     "data": {
      "application/vnd.jupyter.widget-view+json": {
       "model_id": "013f75d454de4ccd93ab1e361f421ab1",
       "version_major": 2,
       "version_minor": 0
      },
      "text/plain": [
       "HBox(children=(IntProgress(value=0, description='Epoch', max=20), HTML(value='')))"
      ]
     },
     "metadata": {},
     "output_type": "display_data"
    },
    {
     "name": "stdout",
     "output_type": "stream",
     "text": [
      "epoch      trn_loss   val_loss   accuracy                   \n",
      "    0      6.367211   5.965176   0.186842  \n",
      "    1      5.684065   5.512205   0.205572                   \n",
      "    2      5.348336   5.357238   0.212497                   \n",
      "    3      5.133076   5.239136   0.218607                   \n",
      "    4      5.005074   5.260319   0.205133                   \n",
      "    5      4.939109   5.292685   0.198265                   \n",
      "    6      4.827105   5.256786   0.21509                    \n",
      "    7      4.757842   5.260335   0.211682                   \n",
      "    8      4.680918   5.263745   0.213104                   \n",
      "    9      4.592985   5.314722   0.207678                   \n",
      "    10     4.508237   5.299308   0.220442                   \n",
      "    11     4.430381   5.263158   0.219389                   \n",
      "    12     4.3431     5.279283   0.222813                   \n",
      "    13     4.282778   5.315964   0.218874                   \n",
      "    14     4.22       5.321909   0.221603                   \n",
      "    15     4.142588   5.289595   0.225681                   \n",
      "    16     4.026307   5.28018    0.233087                   \n",
      "    17     3.888056   5.240693   0.235804                   \n",
      "    18     3.776367   5.221433   0.239625                   \n",
      "    19     3.709736   5.152368   0.247297                   \n"
     ]
    },
    {
     "data": {
      "text/plain": [
       "[array([5.15237]), 0.2472967242493349]"
      ]
     },
     "execution_count": 9,
     "metadata": {},
     "output_type": "execute_result"
    }
   ],
   "source": [
    "learner = run_Learner(nlevels=5) \n",
    "learner.fit(9,n_cycle=1,wds=1e-7,cycle_len=20,use_clr_beta=(10,15,0.95,0.85))"
   ]
  },
  {
   "cell_type": "code",
   "execution_count": 12,
   "metadata": {
    "ExecuteTime": {
     "end_time": "2018-06-02T05:21:54.095851Z",
     "start_time": "2018-06-02T05:21:53.856341Z"
    }
   },
   "outputs": [
    {
     "data": {
      "image/png": "[encoded data removed]",
      "text/plain": [
       "<Figure size 432x288 with 1 Axes>"
      ]
     },
     "metadata": {},
     "output_type": "display_data"
    }
   ],
   "source": [
    "learner.sched.plot_loss()"
   ]
  },
  {
   "cell_type": "code",
   "execution_count": 14,
   "metadata": {
    "ExecuteTime": {
     "end_time": "2018-06-02T05:22:24.748220Z",
     "start_time": "2018-06-02T05:22:24.499584Z"
    }
   },
   "outputs": [
    {
     "data": {
      "text/plain": [
       "[<matplotlib.lines.Line2D at 0x7fdd0c0eff60>]"
      ]
     },
     "execution_count": 14,
     "metadata": {},
     "output_type": "execute_result"
    },
    {
     "data": {
      "image/png": "[encoded data removed]",
      "text/plain": [
       "<Figure size 432x288 with 1 Axes>"
      ]
     },
     "metadata": {},
     "output_type": "display_data"
    }
   ],
   "source": [
    "plt.plot(learner.sched.val_losses)"
   ]
  },
  {
   "cell_type": "markdown",
   "metadata": {},
   "source": [
    "looks promising...how do I leverage the dip towards the end?"
   ]
  },
  {
   "cell_type": "code",
   "execution_count": 18,
   "metadata": {
    "ExecuteTime": {
     "end_time": "2018-06-02T05:32:45.919307Z",
     "start_time": "2018-06-02T05:31:08.817971Z"
    }
   },
   "outputs": [
    {
     "data": {
      "application/vnd.jupyter.widget-view+json": {
       "model_id": "ec0b8671d89740efaed0f1d52a042c80",
       "version_major": 2,
       "version_minor": 0
      },
      "text/plain": [
       "HBox(children=(IntProgress(value=0, description='Epoch', max=1), HTML(value='')))"
      ]
     },
     "metadata": {},
     "output_type": "display_data"
    },
    {
     "name": "stdout",
     "output_type": "stream",
     "text": [
      "epoch      trn_loss   val_loss   accuracy                   \n",
      "    0      3.889285   5.707477   0.181892  \n"
     ]
    }
   ],
   "source": [
    "learner.lr_find(wds=1e-5)"
   ]
  },
  {
   "cell_type": "code",
   "execution_count": 19,
   "metadata": {
    "ExecuteTime": {
     "end_time": "2018-06-02T05:34:42.837586Z",
     "start_time": "2018-06-02T05:34:42.066576Z"
    }
   },
   "outputs": [
    {
     "data": {
      "image/png": "[encoded data removed]",
      "text/plain": [
       "<Figure size 432x288 with 1 Axes>"
      ]
     },
     "metadata": {},
     "output_type": "display_data"
    }
   ],
   "source": [
    "learner.sched.plot()"
   ]
  },
  {
   "cell_type": "code",
   "execution_count": 20,
   "metadata": {
    "ExecuteTime": {
     "end_time": "2018-06-02T06:09:55.711447Z",
     "start_time": "2018-06-02T05:36:34.228471Z"
    }
   },
   "outputs": [
    {
     "data": {
      "application/vnd.jupyter.widget-view+json": {
       "model_id": "b4e4e7cf38344298b43d408148d229b6",
       "version_major": 2,
       "version_minor": 0
      },
      "text/plain": [
       "HBox(children=(IntProgress(value=0, description='Epoch', max=20), HTML(value='')))"
      ]
     },
     "metadata": {},
     "output_type": "display_data"
    },
    {
     "name": "stdout",
     "output_type": "stream",
     "text": [
      "epoch      trn_loss   val_loss   accuracy                   \n",
      "    0      3.651357   5.156325   0.247697  \n",
      "    1      3.64017    5.158152   0.247766                   \n",
      "    2      3.631918   5.162742   0.247904                   \n",
      "    3      3.621065   5.167571   0.247949                   \n",
      "    4      3.614086   5.171265   0.247849                   \n",
      "    5      3.604929   5.176866   0.247753                   \n",
      "    6      3.598304   5.178389   0.247532                   \n",
      "    7      3.59229    5.182629   0.247523                   \n",
      "    8      3.588336   5.184735   0.247532                   \n",
      "    9      3.58589    5.187652   0.247398                   \n",
      "    10     3.579605   5.189312   0.247398                   \n",
      "    11     3.573583   5.191964   0.247131                   \n",
      "    12     3.570018   5.192207   0.247274                   \n",
      "    13     3.567482   5.193115   0.247219                   \n",
      "    14     3.563657   5.194072   0.247145                   \n",
      "    15     3.562242   5.193734   0.247352                   \n",
      "    16     3.561313   5.193822   0.247582                   \n",
      "    17     3.557306   5.193733   0.24749                    \n",
      "    18     3.557744   5.193601   0.247545                   \n",
      "    19     3.555027   5.193279   0.24761                    \n"
     ]
    },
    {
     "data": {
      "text/plain": [
       "[array([5.19328]), 0.24760964249863343]"
      ]
     },
     "execution_count": 20,
     "metadata": {},
     "output_type": "execute_result"
    }
   ],
   "source": [
    "#learner = run_Learner(nlevels=5) \n",
    "learner.fit(0.08,n_cycle=1,wds=1e-7,cycle_len=20,use_clr_beta=(10,40,0.95,0.85))"
   ]
  },
  {
   "cell_type": "code",
   "execution_count": 22,
   "metadata": {
    "ExecuteTime": {
     "end_time": "2018-06-02T06:10:49.137006Z",
     "start_time": "2018-06-02T06:10:48.899159Z"
    }
   },
   "outputs": [
    {
     "data": {
      "image/png": "[encoded data removed]",
      "text/plain": [
       "<Figure size 432x288 with 1 Axes>"
      ]
     },
     "metadata": {},
     "output_type": "display_data"
    }
   ],
   "source": [
    "learner.sched.plot_loss()"
   ]
  },
  {
   "cell_type": "code",
   "execution_count": 23,
   "metadata": {
    "ExecuteTime": {
     "end_time": "2018-06-02T06:11:11.723561Z",
     "start_time": "2018-06-02T06:11:11.476670Z"
    }
   },
   "outputs": [
    {
     "data": {
      "text/plain": [
       "[<matplotlib.lines.Line2D at 0x7fdd04161860>]"
      ]
     },
     "execution_count": 23,
     "metadata": {},
     "output_type": "execute_result"
    },
    {
     "data": {
      "image/png": "[encoded data removed]",
      "text/plain": [
       "<Figure size 432x288 with 1 Axes>"
      ]
     },
     "metadata": {},
     "output_type": "display_data"
    }
   ],
   "source": [
    "plt.plot(learner.sched.val_losses)"
   ]
  },
  {
   "cell_type": "markdown",
   "metadata": {},
   "source": [
    "overfitting - val_loss increasing. "
   ]
  },
  {
   "cell_type": "markdown",
   "metadata": {},
   "source": [
    "## One-cycle revisted"
   ]
  },
  {
   "cell_type": "markdown",
   "metadata": {},
   "source": [
    "The below worked well previosuly, just extending the number of epochs of the last phase."
   ]
  },
  {
   "cell_type": "code",
   "execution_count": 28,
   "metadata": {
    "ExecuteTime": {
     "end_time": "2018-06-02T07:23:42.259235Z",
     "start_time": "2018-06-02T06:23:03.508789Z"
    }
   },
   "outputs": [
    {
     "name": "stdout",
     "output_type": "stream",
     "text": [
      "Loading model...\n",
      "Tied weights\n",
      "Done loading.\n"
     ]
    },
    {
     "data": {
      "application/vnd.jupyter.widget-view+json": {
       "model_id": "2aa31004660041b1a10130a34bd06faa",
       "version_major": 2,
       "version_minor": 0
      },
      "text/plain": [
       "HBox(children=(IntProgress(value=0, description='Epoch', max=45), HTML(value='')))"
      ]
     },
     "metadata": {},
     "output_type": "display_data"
    },
    {
     "name": "stdout",
     "output_type": "stream",
     "text": [
      "epoch      trn_loss   val_loss   accuracy                   \n",
      "    0      6.559397   6.130543   0.17659   \n",
      "    1      5.79387    5.593875   0.204454                   \n",
      "    2      5.457845   5.463279   0.201355                   \n",
      "    3      5.255792   5.316766   0.214548                   \n",
      "    4      5.144226   5.270164   0.215818                   \n",
      "    5      5.075741   5.277356   0.198981                   \n",
      "    6      5.070029   5.348652   0.207239                   \n",
      "    7      5.059965   5.540365   0.179714                   \n",
      "    8      5.046287   5.299532   0.211233                   \n",
      "    9      5.134554   5.518734   0.204866                   \n",
      "    10     4.953116   5.253908   0.215507                   \n",
      "    11     4.821995   5.286029   0.205956                   \n",
      "    12     4.747922   5.251505   0.212581                   \n",
      "    13     4.674144   5.193941   0.218824                   \n",
      "    14     4.58613    5.174982   0.219593                   \n",
      "    15     4.507577   5.162856   0.218464                   \n",
      "    16     4.428101   5.123891   0.219982                   \n",
      "    17     4.323594   5.090221   0.228568                   \n",
      "    18     4.186983   5.02083    0.236545                   \n",
      "    19     4.006734   4.889253   0.249632                   \n",
      "    20     3.875288   4.876078   0.251223                   \n",
      "    21     3.841265   4.881039   0.251876                   \n",
      "    22     3.812695   4.884042   0.251288                   \n",
      "    23     3.784911   4.888054   0.251218                   \n",
      "    24     3.76461    4.891722   0.251209                   \n",
      "    25     3.743129   4.894143   0.25177                    \n",
      "    26     3.724402   4.898882   0.251613                   \n",
      "    27     3.706413   4.90207    0.251783                   \n",
      "    28     3.689957   4.90598    0.251654                   \n",
      "    29     3.673004   4.909936   0.252092                   \n",
      "    30     3.657983   4.912964   0.252114                   \n",
      "    31     3.643472   4.914387   0.251801                   \n",
      "    32     3.630743   4.917654   0.25228                    \n",
      "    33     3.618507   4.91752    0.252592                   \n",
      "    34     3.607636   4.917976   0.252975                   \n",
      "    35     3.593857   4.921342   0.253324                   \n",
      "    36     3.583904   4.920636   0.253522                   \n",
      "    37     3.576078   4.922409   0.253742                   \n",
      "    38     3.565379   4.925571   0.253815                   \n",
      "    39     3.558311   4.926891   0.2541                     \n",
      "    40     3.550732   4.927597   0.254183                   \n",
      "    41     3.543639   4.926698   0.25427                    \n",
      "    42     3.535737   4.924271   0.254716                   \n",
      "    43     3.533339   4.922713   0.254257                   \n",
      "    44     3.524142   4.922156   0.254279                   \n"
     ]
    },
    {
     "data": {
      "text/plain": [
       "[array([4.92216]), 0.2542791883735096]"
      ]
     },
     "execution_count": 28,
     "metadata": {},
     "output_type": "execute_result"
    }
   ],
   "source": [
    "LR = 10\n",
    "div = 100\n",
    "weight_decay = 1e-5\n",
    "\n",
    "learner = run_Learner()\n",
    "learner.fit_opt_sched(one_cycle([10,10,25], LR, div, 0.95, 0.85, weight_decay))"
   ]
  },
  {
   "cell_type": "code",
   "execution_count": 29,
   "metadata": {
    "ExecuteTime": {
     "end_time": "2018-06-02T07:23:42.769272Z",
     "start_time": "2018-06-02T07:23:42.368721Z"
    }
   },
   "outputs": [
    {
     "data": {
      "text/plain": [
       "[<matplotlib.lines.Line2D at 0x7fdcf6374860>]"
      ]
     },
     "execution_count": 29,
     "metadata": {},
     "output_type": "execute_result"
    },
    {
     "data": {
      "image/png": "[encoded data removed]",
      "text/plain": [
       "<Figure size 648x288 with 2 Axes>"
      ]
     },
     "metadata": {},
     "output_type": "display_data"
    }
   ],
   "source": [
    "trn_loss = learner.sched.losses\n",
    "val_loss = learner.sched.val_losses\n",
    "\n",
    "fig,ax = plt.subplots(1,2,figsize=(9,4))\n",
    "ax[0].plot(trn_loss)\n",
    "ax[1].plot(val_loss)"
   ]
  },
  {
   "cell_type": "markdown",
   "metadata": {},
   "source": [
    "5 level"
   ]
  },
  {
   "cell_type": "code",
   "execution_count": 30,
   "metadata": {
    "ExecuteTime": {
     "end_time": "2018-06-02T08:39:00.537609Z",
     "start_time": "2018-06-02T07:23:42.940944Z"
    }
   },
   "outputs": [
    {
     "name": "stdout",
     "output_type": "stream",
     "text": [
      "Loading model...\n",
      "Tied weights\n",
      "Done loading.\n"
     ]
    },
    {
     "data": {
      "application/vnd.jupyter.widget-view+json": {
       "model_id": "7ff8373bc1fb4953ba72c1322b6d8bcf",
       "version_major": 2,
       "version_minor": 0
      },
      "text/plain": [
       "HBox(children=(IntProgress(value=0, description='Epoch', max=45), HTML(value='')))"
      ]
     },
     "metadata": {},
     "output_type": "display_data"
    },
    {
     "name": "stdout",
     "output_type": "stream",
     "text": [
      "epoch      trn_loss   val_loss   accuracy                   \n",
      "    0      6.56238    6.131367   0.168376  \n",
      "    1      5.794823   5.576122   0.208275                   \n",
      "    2      5.441308   5.362296   0.216898                   \n",
      "    3      5.198689   5.240965   0.219227                   \n",
      "    4      5.034719   5.248716   0.199621                   \n",
      "    5      4.935775   5.186522   0.218984                   \n",
      "    6      4.811628   5.26979    0.214681                   \n",
      "    7      4.793082   5.252996   0.215068                   \n",
      "    8      4.808502   5.376125   0.208277                   \n",
      "    9      4.7232     5.264646   0.213841                   \n",
      "    10     4.580196   5.238904   0.221098                   \n",
      "    11     4.508974   5.336912   0.216842                   \n",
      "    12     4.401687   5.305021   0.220385                   \n",
      "    13     4.322845   5.295829   0.218832                   \n",
      "    14     4.256002   5.339312   0.215196                   \n",
      "    15     4.174264   5.359115   0.222325                   \n",
      "    16     4.106171   5.391732   0.224201                   \n",
      "    17     4.012831   5.302465   0.229833                   \n",
      "    18     3.908586   5.268322   0.235506                   \n",
      "    19     3.780114   5.148841   0.244939                   \n",
      "    20     3.680034   5.138603   0.247868                   \n",
      "    21     3.651268   5.149628   0.24801                    \n",
      "    22     3.630869   5.158897   0.247822                   \n",
      "    23     3.609598   5.164725   0.248165                   \n",
      "    24     3.593438   5.170283   0.247747                   \n",
      "    25     3.579411   5.176528   0.248211                   \n",
      "    26     3.564869   5.17997    0.247904                   \n",
      "    27     3.550024   5.188548   0.248152                   \n",
      "    28     3.538939   5.19437    0.247849                   \n",
      "    29     3.52648    5.198088   0.247858                   \n",
      "    30     3.517618   5.201732   0.247996                   \n",
      "    31     3.505834   5.208833   0.247826                   \n",
      "    32     3.497554   5.213184   0.247615                   \n",
      "    33     3.488378   5.218176   0.247803                   \n",
      "    34     3.480331   5.218846   0.247766                   \n",
      "    35     3.470526   5.225212   0.247628                   \n",
      "    36     3.465174   5.226377   0.24778                    \n",
      "    37     3.458946   5.232563   0.247674                   \n",
      "    38     3.449518   5.236311   0.247338                   \n",
      "    39     3.44523    5.240814   0.246994                   \n",
      "    40     3.43987    5.244783   0.246787                   \n",
      "    41     3.433616   5.2494     0.246695                   \n",
      "    42     3.42771    5.250716   0.24669                    \n",
      "    43     3.424225   5.253515   0.246805                   \n",
      "    44     3.420363   5.254203   0.247044                   \n"
     ]
    },
    {
     "data": {
      "text/plain": [
       "[array([5.2542]), 0.24704443268916187]"
      ]
     },
     "execution_count": 30,
     "metadata": {},
     "output_type": "execute_result"
    }
   ],
   "source": [
    "LR = 9\n",
    "div = 100\n",
    "weight_decay = 1e-7\n",
    "\n",
    "learner = run_Learner(nlevels=5) \n",
    "learner.fit_opt_sched(one_cycle([10,10,25], LR, div, 0.95, 0.85, weight_decay))"
   ]
  },
  {
   "cell_type": "code",
   "execution_count": 31,
   "metadata": {
    "ExecuteTime": {
     "end_time": "2018-06-02T08:39:01.103567Z",
     "start_time": "2018-06-02T08:39:00.705045Z"
    }
   },
   "outputs": [
    {
     "data": {
      "text/plain": [
       "[<matplotlib.lines.Line2D at 0x7fdcf62464e0>]"
      ]
     },
     "execution_count": 31,
     "metadata": {},
     "output_type": "execute_result"
    },
    {
     "data": {
      "image/png": "[encoded data removed]",
      "text/plain": [
       "<Figure size 648x288 with 2 Axes>"
      ]
     },
     "metadata": {},
     "output_type": "display_data"
    }
   ],
   "source": [
    "trn_loss2 = learner.sched.losses\n",
    "val_loss2 = learner.sched.val_losses\n",
    "\n",
    "fig,ax = plt.subplots(1,2,figsize=(9,4))\n",
    "ax[0].plot(trn_loss2)\n",
    "ax[1].plot(val_loss2)"
   ]
  },
  {
   "cell_type": "code",
   "execution_count": 32,
   "metadata": {
    "ExecuteTime": {
     "end_time": "2018-06-02T14:18:22.079182Z",
     "start_time": "2018-06-02T14:18:22.074427Z"
    },
    "collapsed": true
   },
   "outputs": [],
   "source": [
    "def plot_losses():\n",
    "    trn_loss = learner.sched.losses\n",
    "    val_loss = learner.sched.val_losses\n",
    "\n",
    "    fig,ax = plt.subplots(1,2,figsize=(9,4))\n",
    "    ax[0].plot(trn_loss)\n",
    "    ax[1].plot(val_loss)  "
   ]
  },
  {
   "cell_type": "code",
   "execution_count": 33,
   "metadata": {
    "ExecuteTime": {
     "end_time": "2018-06-02T15:06:01.090255Z",
     "start_time": "2018-06-02T14:19:01.021451Z"
    }
   },
   "outputs": [
    {
     "name": "stdout",
     "output_type": "stream",
     "text": [
      "Loading model...\n",
      "Tied weights\n",
      "Done loading.\n"
     ]
    },
    {
     "data": {
      "application/vnd.jupyter.widget-view+json": {
       "model_id": "5d99dcd3da264d78a9a88271f4483620",
       "version_major": 2,
       "version_minor": 0
      },
      "text/plain": [
       "HBox(children=(IntProgress(value=0, description='Epoch', max=35), HTML(value='')))"
      ]
     },
     "metadata": {},
     "output_type": "display_data"
    },
    {
     "name": "stdout",
     "output_type": "stream",
     "text": [
      "epoch      trn_loss   val_loss   accuracy                   \n",
      "    0      6.592456   6.158781   0.172058  \n",
      "    1      5.812255   5.609336   0.205433                   \n",
      "    2      5.467974   5.356171   0.218323                   \n",
      "    3      5.269163   5.318915   0.214378                   \n",
      "    4      5.166588   5.262023   0.214562                   \n",
      "    5      5.054456   5.291473   0.211294                   \n",
      "    6      5.043594   5.418537   0.185605                   \n",
      "    7      5.074359   5.375484   0.204513                   \n",
      "    8      5.04566    5.468983   0.184403                   \n",
      "    9      5.202064   5.530628   0.175529                   \n",
      "    10     5.048025   5.401862   0.185333                   \n",
      "    11     4.95599    5.493291   0.204218                   \n",
      "    12     4.841056   5.190592   0.216994                   \n",
      "    13     4.865739   5.416711   0.204434                   \n",
      "    14     4.745622   5.202655   0.216515                   \n",
      "    15     4.694742   5.211579   0.216694                   \n",
      "    16     4.611264   5.166022   0.224339                   \n",
      "    17     4.612789   5.167445   0.225187                   \n",
      "    18     4.534214   5.219175   0.214464                   \n",
      "    19     4.525732   5.296801   0.211354                   \n",
      "    20     4.450662   5.19641    0.216111                   \n",
      "    21     4.417243   5.239485   0.211356                   \n",
      "    22     4.370242   5.1692     0.219778                   \n",
      "    23     4.310659   5.190818   0.222302                   \n",
      "    24     4.246746   5.195479   0.217125                   \n",
      "    25     4.176042   5.198341   0.225764                   \n",
      "    26     4.089349   5.169837   0.226206                   \n",
      "    27     3.978707   5.104932   0.231452                   \n",
      "    28     3.84315    5.060614   0.238517                   \n",
      "    29     3.697967   4.961764   0.248516                   \n",
      "    30     3.597433   4.928195   0.252861                   \n",
      "    31     3.573896   4.93219    0.252984                   \n",
      "    32     3.552101   4.935091   0.252929                   \n",
      "    33     3.53627    4.935784   0.253181                   \n",
      "    34     3.521375   4.939702   0.252736                   \n"
     ]
    },
    {
     "data": {
      "text/plain": [
       "[array([4.9397]), 0.25273609161376953]"
      ]
     },
     "execution_count": 33,
     "metadata": {},
     "output_type": "execute_result"
    }
   ],
   "source": [
    "LR = 10\n",
    "div = 200\n",
    "weight_decay = 1e-5\n",
    "\n",
    "learner = run_Learner()\n",
    "learner.fit_opt_sched(one_cycle([10,20,5], LR, div, 0.95, 0.85, weight_decay))"
   ]
  },
  {
   "cell_type": "code",
   "execution_count": 35,
   "metadata": {
    "ExecuteTime": {
     "end_time": "2018-06-02T15:06:12.973743Z",
     "start_time": "2018-06-02T15:06:12.578491Z"
    }
   },
   "outputs": [
    {
     "data": {
      "image/png": "[encoded data removed]",
      "text/plain": [
       "<Figure size 648x288 with 2 Axes>"
      ]
     },
     "metadata": {},
     "output_type": "display_data"
    }
   ],
   "source": [
    "plot_losses()"
   ]
  },
  {
   "cell_type": "code",
   "execution_count": 36,
   "metadata": {
    "ExecuteTime": {
     "end_time": "2018-06-02T15:08:34.534619Z",
     "start_time": "2018-06-02T15:08:32.121165Z"
    }
   },
   "outputs": [
    {
     "name": "stdout",
     "output_type": "stream",
     "text": [
      "100%|██████████| 34/34 [00:02<00:00, 14.14it/s]\n"
     ]
    },
    {
     "data": {
      "text/plain": [
       "(4.892565672511035, 133.29512735106493)"
      ]
     },
     "execution_count": 36,
     "metadata": {},
     "output_type": "execute_result"
    }
   ],
   "source": [
    "evaluate(learner)"
   ]
  },
  {
   "cell_type": "markdown",
   "metadata": {},
   "source": [
    "Lower the learning rate to the point where the loss is still decreasing (at the slope). "
   ]
  },
  {
   "cell_type": "code",
   "execution_count": 37,
   "metadata": {
    "ExecuteTime": {
     "end_time": "2018-06-02T15:57:27.052226Z",
     "start_time": "2018-06-02T15:25:00.193220Z"
    },
    "scrolled": false
   },
   "outputs": [
    {
     "name": "stdout",
     "output_type": "stream",
     "text": [
      "Loading model...\n",
      "Tied weights\n",
      "Done loading.\n"
     ]
    },
    {
     "data": {
      "application/vnd.jupyter.widget-view+json": {
       "model_id": "44ce06825a2641b3a3f5ef2ad9ff8d6d",
       "version_major": 2,
       "version_minor": 0
      },
      "text/plain": [
       "HBox(children=(IntProgress(value=0, description='Epoch', max=24), HTML(value='')))"
      ]
     },
     "metadata": {},
     "output_type": "display_data"
    },
    {
     "name": "stdout",
     "output_type": "stream",
     "text": [
      "epoch      trn_loss   val_loss   accuracy                   \n",
      "    0      6.617856   6.175746   0.170486  \n",
      "    1      5.849575   5.635247   0.203093                   \n",
      "    2      5.52024    5.392682   0.218677                   \n",
      "    3      5.282583   5.282281   0.219339                   \n",
      "    4      5.102587   5.169916   0.227428                   \n",
      "    5      4.960951   5.20389    0.218562                   \n",
      "    6      4.85092    5.281762   0.21374                    \n",
      "    7      4.784999   5.18626    0.213335                   \n",
      "    8      4.690964   5.057086   0.228017                   \n",
      "    9      4.637019   5.168564   0.202067                   \n",
      "    10     4.566416   5.168856   0.219375                   \n",
      "    11     4.480388   5.107961   0.231855                   \n",
      "    12     4.386121   5.078376   0.221188                   \n",
      "    13     4.317302   5.053467   0.231342                   \n",
      "    14     4.260501   5.045512   0.235915                   \n",
      "    15     4.192823   5.132738   0.229322                   \n",
      "    16     4.138421   5.082974   0.233993                   \n",
      "    17     4.077529   5.076104   0.231869                   \n",
      "    18     4.013617   5.063629   0.235142                   \n",
      "    19     3.91975    5.00595    0.241757                   \n",
      "    20     3.824145   5.012115   0.243467                   \n",
      "    21     3.739768   4.97811    0.24857                    \n",
      "    22     3.67696    4.951951   0.248741                   \n",
      "    23     3.647116   4.887192   0.256159                   \n"
     ]
    },
    {
     "data": {
      "text/plain": [
       "[array([4.88719]), 0.25615915568435893]"
      ]
     },
     "execution_count": 37,
     "metadata": {},
     "output_type": "execute_result"
    }
   ],
   "source": [
    "LR = 4\n",
    "div = 10\n",
    "weight_decay = 1e-5\n",
    "\n",
    "learner = run_Learner()\n",
    "learner.fit_opt_sched(one_cycle([10,10,4], LR, div, 0.95, 0.85, weight_decay))"
   ]
  },
  {
   "cell_type": "code",
   "execution_count": 38,
   "metadata": {
    "ExecuteTime": {
     "end_time": "2018-06-02T15:58:46.677352Z",
     "start_time": "2018-06-02T15:58:43.879642Z"
    }
   },
   "outputs": [
    {
     "name": "stdout",
     "output_type": "stream",
     "text": [
      "100%|██████████| 34/34 [00:02<00:00, 14.08it/s]\n"
     ]
    },
    {
     "data": {
      "text/plain": [
       "(4.838459607957332, 126.27468931377825)"
      ]
     },
     "execution_count": 38,
     "metadata": {},
     "output_type": "execute_result"
    },
    {
     "data": {
      "image/png": "[encoded data removed]",
      "text/plain": [
       "<Figure size 648x288 with 2 Axes>"
      ]
     },
     "metadata": {},
     "output_type": "display_data"
    }
   ],
   "source": [
    "plot_losses()\n",
    "evaluate(learner)"
   ]
  },
  {
   "cell_type": "code",
   "execution_count": 39,
   "metadata": {
    "ExecuteTime": {
     "end_time": "2018-06-02T17:09:17.587612Z",
     "start_time": "2018-06-02T16:36:51.816067Z"
    }
   },
   "outputs": [
    {
     "name": "stdout",
     "output_type": "stream",
     "text": [
      "Loading model...\n",
      "Tied weights\n",
      "Done loading.\n"
     ]
    },
    {
     "data": {
      "application/vnd.jupyter.widget-view+json": {
       "model_id": "16de28fb5b2b4bc0908df237e4e0f8c2",
       "version_major": 2,
       "version_minor": 0
      },
      "text/plain": [
       "HBox(children=(IntProgress(value=0, description='Epoch', max=24), HTML(value='')))"
      ]
     },
     "metadata": {},
     "output_type": "display_data"
    },
    {
     "name": "stdout",
     "output_type": "stream",
     "text": [
      "epoch      trn_loss   val_loss   accuracy                   \n",
      "    0      6.567814   6.176236   0.17187   \n",
      "    1      5.879777   5.662396   0.20272                    \n",
      "    2      5.546107   5.432283   0.212646                   \n",
      "    3      5.29508    5.280704   0.218157                   \n",
      "    4      5.124914   5.224494   0.215619                   \n",
      "    5      4.97111    5.099424   0.230104                   \n",
      "    6      4.858146   5.077163   0.227999                   \n",
      "    7      4.7838     5.114409   0.221212                   \n",
      "    8      4.690418   5.149709   0.20259                    \n",
      "    9      4.639382   5.177448   0.226045                   \n",
      "    10     4.55927    5.073342   0.225558                   \n",
      "    11     4.456858   5.027394   0.234141                   \n",
      "    12     4.379302   5.068857   0.231575                   \n",
      "    13     4.321902   5.003554   0.234342                   \n",
      "    14     4.240838   5.086789   0.224887                   \n",
      "    15     4.182813   5.067464   0.227743                   \n",
      "    16     4.12444    5.073356   0.229719                   \n",
      "    17     4.058335   5.065669   0.232826                   \n",
      "    18     3.990209   5.027103   0.237652                   \n",
      "    19     3.912272   4.982312   0.24304                    \n",
      "    20     3.834659   4.974776   0.244392                   \n",
      "    21     3.764384   4.971945   0.249036                   \n",
      "    22     3.696797   4.935355   0.251029                   \n",
      "    23     3.669807   4.87201    0.257419                   \n"
     ]
    },
    {
     "data": {
      "text/plain": [
       "[array([4.87201]), 0.2574194152565563]"
      ]
     },
     "execution_count": 39,
     "metadata": {},
     "output_type": "execute_result"
    }
   ],
   "source": [
    "LR = 3.5\n",
    "div = 10\n",
    "weight_decay = 1e-5\n",
    "\n",
    "learner = run_Learner()\n",
    "learner.fit_opt_sched(one_cycle([10,10,4], LR, div, 0.95, 0.85, weight_decay))"
   ]
  },
  {
   "cell_type": "code",
   "execution_count": 40,
   "metadata": {
    "ExecuteTime": {
     "end_time": "2018-06-02T17:10:23.297836Z",
     "start_time": "2018-06-02T17:10:20.484460Z"
    }
   },
   "outputs": [
    {
     "name": "stdout",
     "output_type": "stream",
     "text": [
      "100%|██████████| 34/34 [00:02<00:00, 14.00it/s]\n"
     ]
    },
    {
     "data": {
      "text/plain": [
       "(4.8222091098577735, 124.23924599188258)"
      ]
     },
     "execution_count": 40,
     "metadata": {},
     "output_type": "execute_result"
    },
    {
     "data": {
      "image/png": "[encoded data removed]",
      "text/plain": [
       "<Figure size 648x288 with 2 Axes>"
      ]
     },
     "metadata": {},
     "output_type": "display_data"
    }
   ],
   "source": [
    "plot_losses()\n",
    "evaluate(learner)"
   ]
  },
  {
   "cell_type": "code",
   "execution_count": 41,
   "metadata": {
    "ExecuteTime": {
     "end_time": "2018-06-02T18:45:28.800033Z",
     "start_time": "2018-06-02T17:10:38.131715Z"
    }
   },
   "outputs": [
    {
     "name": "stdout",
     "output_type": "stream",
     "text": [
      "Loading model...\n",
      "Tied weights\n",
      "Done loading.\n"
     ]
    },
    {
     "data": {
      "application/vnd.jupyter.widget-view+json": {
       "model_id": "240ebc53e5c54fdfa589ac2bd0973964",
       "version_major": 2,
       "version_minor": 0
      },
      "text/plain": [
       "HBox(children=(IntProgress(value=0, description='Epoch', max=70), HTML(value='')))"
      ]
     },
     "metadata": {},
     "output_type": "display_data"
    },
    {
     "name": "stdout",
     "output_type": "stream",
     "text": [
      "epoch      trn_loss   val_loss   accuracy                   \n",
      "    0      6.615098   6.24787    0.163025  \n",
      "    1      5.961235   5.754725   0.197719                   \n",
      "    2      5.635628   5.49228    0.21328                    \n",
      "    3      5.393796   5.320231   0.220451                   \n",
      "    4      5.203596   5.221201   0.221954                   \n",
      "    5      5.042688   5.176178   0.221333                   \n",
      "    6      4.917092   5.106845   0.22672                    \n",
      "    7      4.818713   5.092485   0.222754                   \n",
      "    8      4.732472   5.079105   0.22627                    \n",
      "    9      4.665491   5.117443   0.207047                   \n",
      "    10     4.563314   4.992613   0.234348                   \n",
      "    11     4.488648   5.013819   0.231843                   \n",
      "    12     4.437211   5.044595   0.22536                    \n",
      "    13     4.387605   5.082755   0.213707                   \n",
      "    14     4.324628   5.057594   0.219306                   \n",
      "    15     4.297456   5.031359   0.231461                   \n",
      "    16     4.279206   5.12938    0.225189                   \n",
      "    17     4.218864   5.102116   0.21172                    \n",
      "    18     4.170453   5.117703   0.216032                   \n",
      "    19     4.154713   5.126199   0.227062                   \n",
      "    20     4.110339   5.16433    0.216287                   \n",
      "    21     4.114662   5.108097   0.225264                   \n",
      "    22     4.107059   5.124639   0.225226                   \n",
      "    23     4.074777   5.161498   0.226841                   \n",
      "    24     4.060424   5.127395   0.22912                    \n",
      "    25     4.049867   5.149482   0.232807                   \n",
      "    26     3.99487    5.206786   0.224965                   \n",
      "    27     3.990082   5.186292   0.225319                   \n",
      "    28     3.971024   5.321899   0.213371                   \n",
      "    29     3.942506   5.128175   0.227346                   \n",
      "    30     3.934574   5.207747   0.226258                   \n",
      "    31     3.917018   5.164616   0.229466                   \n",
      "    32     3.86827    5.230061   0.214544                   \n",
      "    33     3.836628   5.241636   0.232002                   \n",
      "    34     3.81717    5.306455   0.223388                   \n",
      "    35     3.803969   5.308475   0.221858                   \n",
      "    36     3.758755   5.309337   0.225825                   \n",
      "    37     3.724032   5.363241   0.223626                   \n",
      "    38     3.744031   5.21907    0.230905                   \n",
      "    39     3.698965   5.218738   0.231345                   \n",
      "    40     3.672725   5.262278   0.225066                   \n",
      "    41     3.640772   5.257721   0.227036                   \n",
      "    42     3.605595   5.385173   0.224643                   \n",
      "    43     3.605799   5.428312   0.207979                   \n",
      "    44     3.578013   5.251303   0.228386                   \n",
      "    45     3.56805    5.268121   0.221932                   \n",
      "    46     3.545662   5.280238   0.223057                   \n",
      "    47     3.537835   5.266341   0.230569                   \n",
      "    48     3.501136   5.268953   0.230629                   \n",
      "    49     3.505236   5.353193   0.218677                   \n",
      "    50     3.486842   5.346412   0.222818                   \n",
      "    51     3.443888   5.404817   0.225374                   \n",
      "    52     3.434259   5.429142   0.224182                   \n",
      "    53     3.39811    5.398232   0.231088                   \n",
      "    54     3.376674   5.381562   0.220276                   \n",
      "    55     3.360984   5.370304   0.220804                   \n",
      "    56     3.318442   5.378938   0.224242                   \n",
      "    57     3.282897   5.35836    0.228416                   \n",
      "    58     3.249812   5.320218   0.232172                   \n",
      "    59     3.198199   5.329161   0.235129                   \n",
      "    60     3.140639   5.330431   0.233432                   \n",
      "    61     3.100382   5.320894   0.232302                   \n",
      "    62     3.056847   5.305795   0.23364                    \n",
      "    63     3.011066   5.318603   0.235551                   \n",
      "    64     2.962849   5.326577   0.235317                   \n",
      "    65     2.92978    5.289452   0.236311                   \n",
      "    66     2.893329   5.30576    0.238209                   \n",
      "    67     2.872424   5.318093   0.237782                   \n",
      "    68     2.863356   5.285303   0.240076                   \n",
      "    69     2.879589   5.227886   0.243914                   \n"
     ]
    },
    {
     "data": {
      "text/plain": [
       "[array([5.22789]), 0.243914094479645]"
      ]
     },
     "execution_count": 41,
     "metadata": {},
     "output_type": "execute_result"
    }
   ],
   "source": [
    "LR = 3.5\n",
    "div = 10\n",
    "weight_decay = 1e-5\n",
    "\n",
    "learner = run_Learner()\n",
    "learner.fit_opt_sched(one_cycle([30,30,10], LR, div, 0.95, 0.85, weight_decay))"
   ]
  },
  {
   "cell_type": "code",
   "execution_count": 42,
   "metadata": {
    "ExecuteTime": {
     "end_time": "2018-06-02T21:13:34.820430Z",
     "start_time": "2018-06-02T21:13:32.037257Z"
    }
   },
   "outputs": [
    {
     "name": "stdout",
     "output_type": "stream",
     "text": [
      "100%|██████████| 34/34 [00:02<00:00, 14.25it/s]\n"
     ]
    },
    {
     "data": {
      "text/plain": [
       "(5.176233850079696, 177.01488942476033)"
      ]
     },
     "execution_count": 42,
     "metadata": {},
     "output_type": "execute_result"
    },
    {
     "data": {
      "image/png": "[encoded data removed]",
      "text/plain": [
       "<Figure size 648x288 with 2 Axes>"
      ]
     },
     "metadata": {},
     "output_type": "display_data"
    }
   ],
   "source": [
    "plot_losses()\n",
    "evaluate(learner)"
   ]
  },
  {
   "cell_type": "markdown",
   "metadata": {},
   "source": [
    "Seems like the longer the cycles the worse the validation peformance. From the val_loss curve (right) the model starts overfitting after 15 epochs. "
   ]
  },
  {
   "cell_type": "code",
   "execution_count": 9,
   "metadata": {
    "ExecuteTime": {
     "end_time": "2018-06-02T23:41:30.182220Z",
     "start_time": "2018-06-02T23:41:30.176192Z"
    },
    "collapsed": true
   },
   "outputs": [],
   "source": [
    "def plot_losses():\n",
    "    epochs = len(learner.sched.val_losses)\n",
    "    its = len(learner.sched.losses) #iterations\n",
    "    ipe = its//epochs #iterations per epoch\n",
    "    #grab the loss at the end of each epoch.\n",
    "    trn_losses = [learner.sched.losses[i] for i in range(ipe-1,its,ipe)]\n",
    "\n",
    "    fig,ax = plt.subplots(1,1,figsize=(6,4))\n",
    "    ax.plot(trn_losses,label='train')\n",
    "    ax.plot(learner.sched.val_losses,label='valid')\n",
    "    ax.set_xlabel('epochs')\n",
    "    ax.set_ylabel('loss')\n",
    "    ax.legend()\n",
    "#plot_losses()"
   ]
  },
  {
   "cell_type": "code",
   "execution_count": 10,
   "metadata": {
    "ExecuteTime": {
     "end_time": "2018-06-03T00:22:58.161793Z",
     "start_time": "2018-06-02T23:41:37.895355Z"
    }
   },
   "outputs": [
    {
     "name": "stdout",
     "output_type": "stream",
     "text": [
      "Loading model...\n",
      "Tied weights\n",
      "Done loading.\n"
     ]
    },
    {
     "data": {
      "application/vnd.jupyter.widget-view+json": {
       "model_id": "c28a1881c8654d0b8500c206a09f4015",
       "version_major": 2,
       "version_minor": 0
      },
      "text/plain": [
       "HBox(children=(IntProgress(value=0, description='Epoch', max=30), HTML(value='')))"
      ]
     },
     "metadata": {},
     "output_type": "display_data"
    },
    {
     "name": "stdout",
     "output_type": "stream",
     "text": [
      "epoch      trn_loss   val_loss   accuracy                   \n",
      "    0      6.554618   6.166669   0.171433  \n",
      "    1      5.874474   5.664498   0.203635                   \n",
      "    2      5.548388   5.440457   0.211979                   \n",
      "    3      5.29914    5.276736   0.217927                   \n",
      "    4      5.123199   5.198437   0.22022                    \n",
      "    5      4.972896   5.121089   0.222161                   \n",
      "    6      4.852219   5.072856   0.230177                   \n",
      "    7      4.791155   5.157335   0.21596                    \n",
      "    8      4.709067   5.04757    0.230601                   \n",
      "    9      4.655062   5.118062   0.213858                   \n",
      "    10     4.540128   5.017624   0.233855                   \n",
      "    11     4.453584   5.097703   0.230292                   \n",
      "    12     4.381521   5.025766   0.231152                   \n",
      "    13     4.317487   5.064702   0.225833                   \n",
      "    14     4.252024   5.067599   0.230454                   \n",
      "    15     4.197961   5.055709   0.232429                   \n",
      "    16     4.123828   5.078568   0.233702                   \n",
      "    17     4.069207   5.075077   0.227675                   \n",
      "    18     3.998876   5.017725   0.237602                   \n",
      "    19     3.917867   5.009016   0.242487                   \n",
      "    20     3.839741   5.002272   0.2444                     \n",
      "    21     3.785452   5.02192    0.24348                    \n",
      "    22     3.736247   4.996993   0.244961                   \n",
      "    23     3.686581   5.00754    0.246865                   \n",
      "    24     3.636225   5.014057   0.247749                   \n",
      "    25     3.593418   5.02207    0.246246                   \n",
      "    26     3.548361   4.99464    0.248759                   \n",
      "    27     3.521055   4.976465   0.248419                   \n",
      "    28     3.509354   4.981257   0.25086                    \n",
      "    29     3.513195   4.931974   0.255093                   \n",
      "\n"
     ]
    },
    {
     "data": {
      "text/plain": [
       "[array([4.93197]), 0.25509270105291815]"
      ]
     },
     "execution_count": 10,
     "metadata": {},
     "output_type": "execute_result"
    }
   ],
   "source": [
    "LR = 3.5\n",
    "div = 10\n",
    "weight_decay = 1e-5\n",
    "\n",
    "learner = run_Learner()\n",
    "learner.fit_opt_sched(one_cycle([10,10,10], LR, div, 0.95, 0.85, weight_decay))"
   ]
  },
  {
   "cell_type": "code",
   "execution_count": 12,
   "metadata": {
    "ExecuteTime": {
     "end_time": "2018-06-03T00:29:04.893141Z",
     "start_time": "2018-06-03T00:29:02.223289Z"
    }
   },
   "outputs": [
    {
     "name": "stdout",
     "output_type": "stream",
     "text": [
      "100%|██████████| 34/34 [00:02<00:00, 14.21it/s]\n"
     ]
    },
    {
     "data": {
      "text/plain": [
       "(4.8792870087972045, 131.53684583016008)"
      ]
     },
     "execution_count": 12,
     "metadata": {},
     "output_type": "execute_result"
    },
    {
     "data": {
      "image/png": "[encoded data removed]",
      "text/plain": [
       "<Figure size 432x288 with 1 Axes>"
      ]
     },
     "metadata": {},
     "output_type": "display_data"
    }
   ],
   "source": [
    "plot_losses()\n",
    "evaluate(learner)"
   ]
  },
  {
   "cell_type": "code",
   "execution_count": null,
   "metadata": {
    "collapsed": true
   },
   "outputs": [],
   "source": []
  },
  {
   "cell_type": "code",
   "execution_count": 13,
   "metadata": {
    "ExecuteTime": {
     "end_time": "2018-06-03T00:37:11.267575Z",
     "start_time": "2018-06-03T00:30:25.117100Z"
    }
   },
   "outputs": [
    {
     "name": "stdout",
     "output_type": "stream",
     "text": [
      "Loading model...\n",
      "Tied weights\n",
      "Done loading.\n"
     ]
    },
    {
     "data": {
      "application/vnd.jupyter.widget-view+json": {
       "model_id": "67f60a7dbfad4f019a08f66cc9aa8334",
       "version_major": 2,
       "version_minor": 0
      },
      "text/plain": [
       "HBox(children=(IntProgress(value=0, description='Epoch', max=5), HTML(value='')))"
      ]
     },
     "metadata": {},
     "output_type": "display_data"
    },
    {
     "name": "stdout",
     "output_type": "stream",
     "text": [
      "epoch      trn_loss   val_loss   accuracy                   \n",
      "    0      6.223297   5.851743   0.189758  \n",
      "    1      5.632784   5.495313   0.206852                   \n",
      "    2      5.337102   5.325967   0.221662                   \n",
      "    3      5.113177   5.223612   0.222951                   \n",
      "    4      4.907774   5.071178   0.235151                   \n",
      "\n"
     ]
    },
    {
     "data": {
      "text/plain": [
       "[array([5.07118]), 0.23515146883095012]"
      ]
     },
     "execution_count": 13,
     "metadata": {},
     "output_type": "execute_result"
    }
   ],
   "source": [
    "learner = run_Learner()\n",
    "learner.fit(3.5,1,wds=weight_decay,use_clr=(10,10),cycle_len=5)"
   ]
  },
  {
   "cell_type": "code",
   "execution_count": 14,
   "metadata": {
    "ExecuteTime": {
     "end_time": "2018-06-03T00:42:06.190092Z",
     "start_time": "2018-06-03T00:42:03.528426Z"
    },
    "scrolled": true
   },
   "outputs": [
    {
     "name": "stdout",
     "output_type": "stream",
     "text": [
      "100%|██████████| 34/34 [00:02<00:00, 14.28it/s]\n"
     ]
    },
    {
     "data": {
      "text/plain": [
       "(5.040070672664296, 154.48093221917557)"
      ]
     },
     "execution_count": 14,
     "metadata": {},
     "output_type": "execute_result"
    },
    {
     "data": {
      "image/png": "[encoded data removed]",
      "text/plain": [
       "<Figure size 432x288 with 1 Axes>"
      ]
     },
     "metadata": {},
     "output_type": "display_data"
    }
   ],
   "source": [
    "plot_losses()\n",
    "evaluate(learner)"
   ]
  },
  {
   "cell_type": "code",
   "execution_count": 15,
   "metadata": {
    "ExecuteTime": {
     "end_time": "2018-06-03T00:43:37.826262Z",
     "start_time": "2018-06-03T00:43:37.582240Z"
    }
   },
   "outputs": [
    {
     "data": {
      "image/png": "[encoded data removed]",
      "text/plain": [
       "<Figure size 432x288 with 1 Axes>"
      ]
     },
     "metadata": {},
     "output_type": "display_data"
    }
   ],
   "source": [
    "learner.sched.plot_lr()"
   ]
  },
  {
   "cell_type": "code",
   "execution_count": 17,
   "metadata": {
    "ExecuteTime": {
     "end_time": "2018-06-03T00:51:48.961608Z",
     "start_time": "2018-06-03T00:45:02.288028Z"
    }
   },
   "outputs": [
    {
     "name": "stdout",
     "output_type": "stream",
     "text": [
      "Loading model...\n",
      "Tied weights\n",
      "Done loading.\n"
     ]
    },
    {
     "data": {
      "application/vnd.jupyter.widget-view+json": {
       "model_id": "827236557e534c98abb53840699cc539",
       "version_major": 2,
       "version_minor": 0
      },
      "text/plain": [
       "HBox(children=(IntProgress(value=0, description='Epoch', max=5), HTML(value='')))"
      ]
     },
     "metadata": {},
     "output_type": "display_data"
    },
    {
     "name": "stdout",
     "output_type": "stream",
     "text": [
      "epoch      trn_loss   val_loss   accuracy                   \n",
      "    0      6.287024   5.898814   0.193551  \n",
      "    1      5.62639    5.470975   0.210812                   \n",
      "    2      5.302413   5.304541   0.222422                   \n",
      "    3      5.064537   5.18931    0.226712                   \n",
      "    4      4.853359   5.050177   0.237068                   \n",
      "\n"
     ]
    },
    {
     "data": {
      "text/plain": [
       "[array([5.05018]), 0.23706820125088973]"
      ]
     },
     "execution_count": 17,
     "metadata": {},
     "output_type": "execute_result"
    }
   ],
   "source": [
    "learner = run_Learner()\n",
    "learner.fit(3.5,1,wds=weight_decay,use_clr=(10,5),cycle_len=5)"
   ]
  },
  {
   "cell_type": "code",
   "execution_count": 18,
   "metadata": {
    "ExecuteTime": {
     "end_time": "2018-06-03T00:55:00.425440Z",
     "start_time": "2018-06-03T00:54:57.738775Z"
    }
   },
   "outputs": [
    {
     "name": "stdout",
     "output_type": "stream",
     "text": [
      "100%|██████████| 34/34 [00:02<00:00, 14.16it/s]\n"
     ]
    },
    {
     "data": {
      "text/plain": [
       "(5.018847799932565, 151.23694814519502)"
      ]
     },
     "execution_count": 18,
     "metadata": {},
     "output_type": "execute_result"
    },
    {
     "data": {
      "image/png": "[encoded data removed]",
      "text/plain": [
       "<Figure size 432x288 with 1 Axes>"
      ]
     },
     "metadata": {},
     "output_type": "display_data"
    }
   ],
   "source": [
    "plot_losses()\n",
    "evaluate(learner)"
   ]
  },
  {
   "cell_type": "code",
   "execution_count": 19,
   "metadata": {
    "ExecuteTime": {
     "end_time": "2018-06-03T01:16:20.321344Z",
     "start_time": "2018-06-03T00:56:08.532667Z"
    }
   },
   "outputs": [
    {
     "name": "stdout",
     "output_type": "stream",
     "text": [
      "Loading model...\n",
      "Tied weights\n",
      "Done loading.\n"
     ]
    },
    {
     "data": {
      "application/vnd.jupyter.widget-view+json": {
       "model_id": "1f71d7af97da41f3be7c347b423f8157",
       "version_major": 2,
       "version_minor": 0
      },
      "text/plain": [
       "HBox(children=(IntProgress(value=0, description='Epoch', max=15), HTML(value='')))"
      ]
     },
     "metadata": {},
     "output_type": "display_data"
    },
    {
     "name": "stdout",
     "output_type": "stream",
     "text": [
      "epoch      trn_loss   val_loss   accuracy                   \n",
      "    0      6.455583   6.029723   0.182779  \n",
      "    1      5.735948   5.550471   0.209262                   \n",
      "    2      5.464234   5.424072   0.211271                   \n",
      "    3      5.275108   5.377077   0.199478                   \n",
      "    4      5.115594   5.308942   0.214356                   \n",
      "    5      5.000917   5.258269   0.218273                   \n",
      "    6      4.895883   5.241242   0.218805                   \n",
      "    7      4.783455   5.218402   0.220952                   \n",
      "    8      4.688557   5.187884   0.220552                   \n",
      "    9      4.600732   5.167033   0.22485                    \n",
      "    10     4.500275   5.158182   0.227389                   \n",
      "    11     4.399424   5.105381   0.232038                   \n",
      "    12     4.290502   5.064877   0.233785                   \n",
      "    13     4.173842   5.044239   0.232307                   \n",
      "    14     4.068336   4.993045   0.241724                   \n",
      "\n"
     ]
    },
    {
     "data": {
      "text/plain": [
       "[array([4.99304]), 0.24172436665086186]"
      ]
     },
     "execution_count": 19,
     "metadata": {},
     "output_type": "execute_result"
    }
   ],
   "source": [
    "learner = run_Learner()\n",
    "learner.fit(3.5,1,wds=weight_decay,use_clr=(10,5),cycle_len=15)"
   ]
  },
  {
   "cell_type": "code",
   "execution_count": 21,
   "metadata": {
    "ExecuteTime": {
     "end_time": "2018-06-03T01:18:14.404262Z",
     "start_time": "2018-06-03T01:18:11.733057Z"
    }
   },
   "outputs": [
    {
     "name": "stdout",
     "output_type": "stream",
     "text": [
      "100%|██████████| 34/34 [00:02<00:00, 14.14it/s]\n"
     ]
    },
    {
     "data": {
      "text/plain": [
       "(4.951564607344286, 141.39602019489678)"
      ]
     },
     "execution_count": 21,
     "metadata": {},
     "output_type": "execute_result"
    },
    {
     "data": {
      "image/png": "[encoded data removed]",
      "text/plain": [
       "<Figure size 432x288 with 1 Axes>"
      ]
     },
     "metadata": {},
     "output_type": "display_data"
    }
   ],
   "source": [
    "plot_losses()\n",
    "evaluate(learner)"
   ]
  },
  {
   "cell_type": "code",
   "execution_count": 22,
   "metadata": {
    "ExecuteTime": {
     "end_time": "2018-06-03T01:45:18.449265Z",
     "start_time": "2018-06-03T01:18:21.149548Z"
    }
   },
   "outputs": [
    {
     "name": "stdout",
     "output_type": "stream",
     "text": [
      "Loading model...\n",
      "Tied weights\n",
      "Done loading.\n"
     ]
    },
    {
     "data": {
      "application/vnd.jupyter.widget-view+json": {
       "model_id": "c7f81434636f42cf957d8e52f0dbf83d",
       "version_major": 2,
       "version_minor": 0
      },
      "text/plain": [
       "HBox(children=(IntProgress(value=0, description='Epoch', max=20), HTML(value='')))"
      ]
     },
     "metadata": {},
     "output_type": "display_data"
    },
    {
     "name": "stdout",
     "output_type": "stream",
     "text": [
      "epoch      trn_loss   val_loss   accuracy                   \n",
      "    0      6.300611   5.91472    0.191123  \n",
      "    1      5.638632   5.498852   0.208297                   \n",
      "    2      5.318295   5.306948   0.222523                   \n",
      "    3      5.075619   5.207845   0.225145                   \n",
      "    4      4.864939   5.060093   0.235128                   \n",
      "    5      5.141199   5.354508   0.205984                   \n",
      "    6      5.03547    5.257012   0.216818                   \n",
      "    7      4.842828   5.17352    0.225575                   \n",
      "    8      4.669913   5.092374   0.228568                   \n",
      "    9      4.472234   4.964502   0.241049                   \n",
      "    10     4.811032   5.287552   0.204397                   \n",
      "    11     4.820826   5.231777   0.216723                   \n",
      "    12     4.64393    5.166572   0.225014                   \n",
      "    13     4.458038   5.082921   0.228821                   \n",
      "    14     4.257172   4.976326   0.242724                   \n",
      "    15     4.646719   5.259181   0.210016                   \n",
      "    16     4.699795   5.218686   0.212209                   \n",
      "    17     4.516779   5.171705   0.223033                   \n",
      "    18     4.334554   5.107234   0.227975                   \n",
      "    19     4.130037   4.98016    0.241536                   \n",
      "\n"
     ]
    },
    {
     "data": {
      "text/plain": [
       "[array([4.98016]), 0.24153617900960586]"
      ]
     },
     "execution_count": 22,
     "metadata": {},
     "output_type": "execute_result"
    }
   ],
   "source": [
    "learner = run_Learner()\n",
    "learner.fit(3.5,4,wds=weight_decay,use_clr=(10,5),cycle_len=5)"
   ]
  },
  {
   "cell_type": "code",
   "execution_count": 23,
   "metadata": {
    "ExecuteTime": {
     "end_time": "2018-06-03T01:46:09.627678Z",
     "start_time": "2018-06-03T01:46:06.950165Z"
    }
   },
   "outputs": [
    {
     "name": "stdout",
     "output_type": "stream",
     "text": [
      "100%|██████████| 34/34 [00:02<00:00, 14.07it/s]\n"
     ]
    },
    {
     "data": {
      "text/plain": [
       "(4.941851187009563, 140.02923006702878)"
      ]
     },
     "execution_count": 23,
     "metadata": {},
     "output_type": "execute_result"
    },
    {
     "data": {
      "image/png": "[encoded data removed]",
      "text/plain": [
       "<Figure size 432x288 with 1 Axes>"
      ]
     },
     "metadata": {},
     "output_type": "display_data"
    }
   ],
   "source": [
    "plot_losses()\n",
    "evaluate(learner)"
   ]
  },
  {
   "cell_type": "code",
   "execution_count": 25,
   "metadata": {
    "ExecuteTime": {
     "end_time": "2018-06-03T02:30:30.761588Z",
     "start_time": "2018-06-03T02:10:17.227854Z"
    }
   },
   "outputs": [
    {
     "name": "stdout",
     "output_type": "stream",
     "text": [
      "Loading model...\n",
      "Tied weights\n",
      "Done loading.\n"
     ]
    },
    {
     "data": {
      "application/vnd.jupyter.widget-view+json": {
       "model_id": "800d038e77b8467cba3eabab0208ac45",
       "version_major": 2,
       "version_minor": 0
      },
      "text/plain": [
       "HBox(children=(IntProgress(value=0, description='Epoch', max=15), HTML(value='')))"
      ]
     },
     "metadata": {},
     "output_type": "display_data"
    },
    {
     "name": "stdout",
     "output_type": "stream",
     "text": [
      "epoch      trn_loss   val_loss   accuracy                   \n",
      "    0      6.286522   5.895908   0.191136  \n",
      "    1      5.65747    5.520351   0.209555                   \n",
      "    2      5.386011   5.390718   0.212277                   \n",
      "    3      5.205768   5.311309   0.218272                   \n",
      "    4      5.086496   5.292931   0.213923                   \n",
      "    5      4.963822   5.245972   0.21771                    \n",
      "    6      4.885348   5.2044     0.222142                   \n",
      "    7      4.776678   5.208141   0.21527                    \n",
      "    8      4.688687   5.188165   0.220821                   \n",
      "    9      4.587795   5.135857   0.226981                   \n",
      "    10     4.501764   5.16555    0.224058                   \n",
      "    11     4.404705   5.10913    0.225832                   \n",
      "    12     4.303292   5.077356   0.233216                   \n",
      "    13     4.199273   5.050137   0.233925                   \n",
      "    14     4.101035   5.019952   0.239776                   \n",
      "\n"
     ]
    },
    {
     "data": {
      "text/plain": [
       "[array([5.01995]), 0.23977555904318304]"
      ]
     },
     "execution_count": 25,
     "metadata": {},
     "output_type": "execute_result"
    }
   ],
   "source": [
    "learner = run_Learner()\n",
    "learner.fit(3.5,1,wds=weight_decay,use_clr=(10,20),cycle_len=15)"
   ]
  },
  {
   "cell_type": "code",
   "execution_count": 26,
   "metadata": {
    "ExecuteTime": {
     "end_time": "2018-06-03T02:55:34.385340Z",
     "start_time": "2018-06-03T02:35:20.739855Z"
    }
   },
   "outputs": [
    {
     "name": "stdout",
     "output_type": "stream",
     "text": [
      "Loading model...\n",
      "Tied weights\n",
      "Done loading.\n"
     ]
    },
    {
     "data": {
      "application/vnd.jupyter.widget-view+json": {
       "model_id": "5ccc0f808b724a348b0cdbe6f7ba7bed",
       "version_major": 2,
       "version_minor": 0
      },
      "text/plain": [
       "HBox(children=(IntProgress(value=0, description='Epoch', max=15), HTML(value='')))"
      ]
     },
     "metadata": {},
     "output_type": "display_data"
    },
    {
     "name": "stdout",
     "output_type": "stream",
     "text": [
      "epoch      trn_loss   val_loss   accuracy                   \n",
      "    0      6.439633   5.988232   0.183087  \n",
      "    1      5.706822   5.528727   0.209923                   \n",
      "    2      5.395409   5.38632    0.210906                   \n",
      "    3      5.201924   5.323881   0.208235                   \n",
      "    4      5.062125   5.260899   0.217564                   \n",
      "    5      4.9506     5.238327   0.217242                   \n",
      "    6      4.842319   5.193313   0.216119                   \n",
      "    7      4.744311   5.173842   0.2226                     \n",
      "    8      4.646935   5.166494   0.225052                   \n",
      "    9      4.558174   5.120712   0.229216                   \n",
      "    10     4.444084   5.117147   0.227635                   \n",
      "    11     4.344086   5.07894    0.22957                    \n",
      "    12     4.237791   5.051548   0.232697                   \n",
      "    13     4.131257   5.034017   0.236659                   \n",
      "    14     4.025812   4.971332   0.245881                   \n",
      "\n"
     ]
    },
    {
     "data": {
      "text/plain": [
       "[array([4.97133]), 0.24588123796617284]"
      ]
     },
     "execution_count": 26,
     "metadata": {},
     "output_type": "execute_result"
    }
   ],
   "source": [
    "learner = run_Learner()\n",
    "learner.fit(3.5,1,wds=weight_decay,use_clr=(20,10),cycle_len=15)"
   ]
  },
  {
   "cell_type": "code",
   "execution_count": 27,
   "metadata": {
    "ExecuteTime": {
     "end_time": "2018-06-03T03:20:49.753630Z",
     "start_time": "2018-06-03T03:00:41.732335Z"
    },
    "scrolled": false
   },
   "outputs": [
    {
     "name": "stdout",
     "output_type": "stream",
     "text": [
      "Loading model...\n",
      "Tied weights\n",
      "Done loading.\n"
     ]
    },
    {
     "data": {
      "application/vnd.jupyter.widget-view+json": {
       "model_id": "4ef343e432644d3d9457781ba1155b4a",
       "version_major": 2,
       "version_minor": 0
      },
      "text/plain": [
       "HBox(children=(IntProgress(value=0, description='Epoch', max=15), HTML(value='')))"
      ]
     },
     "metadata": {},
     "output_type": "display_data"
    },
    {
     "name": "stdout",
     "output_type": "stream",
     "text": [
      "epoch      trn_loss   val_loss   accuracy                   \n",
      "    0      6.146538   5.81933    0.18949   \n",
      "    1      5.645888   5.523825   0.208393                   \n",
      "    2      5.420688   5.407487   0.212104                   \n",
      "    3      5.280993   5.355233   0.215361                   \n",
      "    4      5.180332   5.337239   0.213009                   \n",
      "    5      5.110849   5.325728   0.207225                   \n",
      "    6      5.065454   5.297239   0.213476                   \n",
      "    7      5.006377   5.312373   0.209                      \n",
      "    8      4.968328   5.305026   0.212603                   \n",
      "    9      4.944794   5.281194   0.215738                   \n",
      "    10     4.915825   5.289914   0.211988                   \n",
      "    11     4.914215   5.350717   0.210168                   \n",
      "    12     4.876112   5.299491   0.216694                   \n",
      "    13     4.849488   5.362306   0.210549                   \n",
      "    14     4.836237   5.310021   0.21248                    \n",
      "\n"
     ]
    },
    {
     "data": {
      "text/plain": [
       "[array([5.31002]), 0.212479528697098]"
      ]
     },
     "execution_count": 27,
     "metadata": {},
     "output_type": "execute_result"
    }
   ],
   "source": [
    "learner = run_Learner()\n",
    "learner.fit(3.5,15,wds=weight_decay)"
   ]
  },
  {
   "cell_type": "code",
   "execution_count": 28,
   "metadata": {
    "ExecuteTime": {
     "end_time": "2018-06-03T03:26:38.345180Z",
     "start_time": "2018-06-03T03:26:35.683128Z"
    }
   },
   "outputs": [
    {
     "name": "stdout",
     "output_type": "stream",
     "text": [
      "100%|██████████| 34/34 [00:02<00:00, 14.25it/s]\n"
     ]
    },
    {
     "data": {
      "text/plain": [
       "(5.274937545978421, 195.37827397256726)"
      ]
     },
     "execution_count": 28,
     "metadata": {},
     "output_type": "execute_result"
    },
    {
     "data": {
      "image/png": "[encoded data removed]",
      "text/plain": [
       "<Figure size 432x288 with 1 Axes>"
      ]
     },
     "metadata": {},
     "output_type": "display_data"
    }
   ],
   "source": [
    "plot_losses()\n",
    "evaluate(learner)"
   ]
  },
  {
   "cell_type": "code",
   "execution_count": 30,
   "metadata": {
    "ExecuteTime": {
     "end_time": "2018-06-03T03:34:55.487165Z",
     "start_time": "2018-06-03T03:34:16.726206Z"
    }
   },
   "outputs": [
    {
     "name": "stdout",
     "output_type": "stream",
     "text": [
      "Loading model...\n",
      "Tied weights\n",
      "Running LR_find...\n"
     ]
    },
    {
     "data": {
      "application/vnd.jupyter.widget-view+json": {
       "model_id": "7d24a977525a4631b4a521743587a814",
       "version_major": 2,
       "version_minor": 0
      },
      "text/plain": [
       "HBox(children=(IntProgress(value=0, description='Epoch', max=1), HTML(value='')))"
      ]
     },
     "metadata": {},
     "output_type": "display_data"
    },
    {
     "name": "stdout",
     "output_type": "stream",
     "text": [
      " 71%|███████   | 231/326 [00:32<00:13,  7.08it/s, loss=44.5]"
     ]
    },
    {
     "data": {
      "image/png": "[encoded data removed]",
      "text/plain": [
       "<Figure size 432x288 with 1 Axes>"
      ]
     },
     "metadata": {},
     "output_type": "display_data"
    }
   ],
   "source": [
    "learner = run_LR_find(nlevels=2)"
   ]
  },
  {
   "cell_type": "markdown",
   "metadata": {},
   "source": [
    "### To do: \n",
    "- set up script to run experiments (use python fire)\n",
    "- message Sylvain "
   ]
  },
  {
   "cell_type": "code",
   "execution_count": null,
   "metadata": {
    "collapsed": true
   },
   "outputs": [],
   "source": []
  }
 ],
 "metadata": {
  "hide_input": false,
  "kernelspec": {
   "display_name": "Python [conda env:fastai]",
   "language": "python",
   "name": "conda-env-fastai-py"
  },
  "language_info": {
   "codemirror_mode": {
    "name": "ipython",
    "version": 3
   },
   "file_extension": ".py",
   "mimetype": "text/x-python",
   "name": "python",
   "nbconvert_exporter": "python",
   "pygments_lexer": "ipython3",
   "version": "3.6.5"
  },
  "varInspector": {
   "cols": {
    "lenName": 16,
    "lenType": 16,
    "lenVar": 40
   },
   "kernels_config": {
    "python": {
     "delete_cmd_postfix": "",
     "delete_cmd_prefix": "del ",
     "library": "var_list.py",
     "varRefreshCmd": "print(var_dic_list())"
    },
    "r": {
     "delete_cmd_postfix": ") ",
     "delete_cmd_prefix": "rm(",
     "library": "var_list.r",
     "varRefreshCmd": "cat(var_dic_list()) "
    }
   },
   "types_to_exclude": [
    "module",
    "function",
    "builtin_function_or_method",
    "instance",
    "_Feature"
   ],
   "window_display": false
  }
 },
 "nbformat": 4,
 "nbformat_minor": 2
}
