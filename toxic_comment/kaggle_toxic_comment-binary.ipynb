{
 "cells": [
  {
   "cell_type": "markdown",
   "metadata": {},
   "source": [
    "## Kaggle Toxic comment \n",
    "\n",
    "### Project description\n",
    "Apply Fastai lesson 10 to Kaggle toxic comment challenge. \n",
    "The competition has 6 classes, but first will make it binary, i.e. toxic & not toxic.\n",
    "\n",
    "The overall strategy is to first train a language model. Fortunately, Jeremy H has done the hard work of training a language model on wikipedia (WikiText103). Using the pretrained language model as the backbone, we'll train a classifier to categorize the comments. "
   ]
  },
  {
   "cell_type": "markdown",
   "metadata": {},
   "source": [
    "### Load Libraries"
   ]
  },
  {
   "cell_type": "code",
   "execution_count": 1,
   "metadata": {
    "ExecuteTime": {
     "end_time": "2018-05-16T02:11:24.075078Z",
     "start_time": "2018-05-16T02:11:03.850916Z"
    },
    "collapsed": true
   },
   "outputs": [],
   "source": [
    "from fastai.text import *\n",
    "import html\n",
    "import pdb\n",
    "from sklearn.model_selection import train_test_split\n",
    "from sklearn.metrics import confusion_matrix"
   ]
  },
  {
   "cell_type": "markdown",
   "metadata": {},
   "source": [
    "### Path  Directories"
   ]
  },
  {
   "cell_type": "code",
   "execution_count": 2,
   "metadata": {
    "ExecuteTime": {
     "end_time": "2018-05-16T02:11:24.085832Z",
     "start_time": "2018-05-16T02:11:24.082995Z"
    },
    "collapsed": true
   },
   "outputs": [],
   "source": [
    "PATH = Path('/home/odenigborig/Data/kaggle/toxic_comment')"
   ]
  },
  {
   "cell_type": "code",
   "execution_count": 3,
   "metadata": {
    "ExecuteTime": {
     "end_time": "2018-05-16T02:11:24.230931Z",
     "start_time": "2018-05-16T02:11:24.088203Z"
    },
    "collapsed": true
   },
   "outputs": [],
   "source": [
    "#path to store fine-tuned language model weights. \n",
    "LM_PATH = PATH/'LM'\n",
    "LM_PATH.mkdir(exist_ok=True)"
   ]
  },
  {
   "cell_type": "code",
   "execution_count": 4,
   "metadata": {
    "ExecuteTime": {
     "end_time": "2018-05-16T02:11:24.284768Z",
     "start_time": "2018-05-16T02:11:24.233378Z"
    },
    "collapsed": true
   },
   "outputs": [],
   "source": [
    "#path to store weights of classifier.\n",
    "CLASSIFIER_PATH = PATH/'classifier'\n",
    "CLASSIFIER_PATH.mkdir(exist_ok=True)"
   ]
  },
  {
   "cell_type": "markdown",
   "metadata": {},
   "source": [
    "### Data Inspection"
   ]
  },
  {
   "cell_type": "code",
   "execution_count": 5,
   "metadata": {},
   "outputs": [
    {
     "data": {
      "text/html": [
       "<div>\n",
       "<style scoped>\n",
       "    .dataframe tbody tr th:only-of-type {\n",
       "        vertical-align: middle;\n",
       "    }\n",
       "\n",
       "    .dataframe tbody tr th {\n",
       "        vertical-align: top;\n",
       "    }\n",
       "\n",
       "    .dataframe thead th {\n",
       "        text-align: right;\n",
       "    }\n",
       "</style>\n",
       "<table border=\"1\" class=\"dataframe\">\n",
       "  <thead>\n",
       "    <tr style=\"text-align: right;\">\n",
       "      <th></th>\n",
       "      <th>id</th>\n",
       "      <th>comment_text</th>\n",
       "      <th>toxic</th>\n",
       "      <th>severe_toxic</th>\n",
       "      <th>obscene</th>\n",
       "      <th>threat</th>\n",
       "      <th>insult</th>\n",
       "      <th>identity_hate</th>\n",
       "    </tr>\n",
       "  </thead>\n",
       "  <tbody>\n",
       "    <tr>\n",
       "      <th>159566</th>\n",
       "      <td>ffe987279560d7ff</td>\n",
       "      <td>\":::::And for the second time of asking, when ...</td>\n",
       "      <td>0</td>\n",
       "      <td>0</td>\n",
       "      <td>0</td>\n",
       "      <td>0</td>\n",
       "      <td>0</td>\n",
       "      <td>0</td>\n",
       "    </tr>\n",
       "    <tr>\n",
       "      <th>159567</th>\n",
       "      <td>ffea4adeee384e90</td>\n",
       "      <td>You should be ashamed of yourself \\n\\nThat is ...</td>\n",
       "      <td>0</td>\n",
       "      <td>0</td>\n",
       "      <td>0</td>\n",
       "      <td>0</td>\n",
       "      <td>0</td>\n",
       "      <td>0</td>\n",
       "    </tr>\n",
       "    <tr>\n",
       "      <th>159568</th>\n",
       "      <td>ffee36eab5c267c9</td>\n",
       "      <td>Spitzer \\n\\nUmm, theres no actual article for ...</td>\n",
       "      <td>0</td>\n",
       "      <td>0</td>\n",
       "      <td>0</td>\n",
       "      <td>0</td>\n",
       "      <td>0</td>\n",
       "      <td>0</td>\n",
       "    </tr>\n",
       "    <tr>\n",
       "      <th>159569</th>\n",
       "      <td>fff125370e4aaaf3</td>\n",
       "      <td>And it looks like it was actually you who put ...</td>\n",
       "      <td>0</td>\n",
       "      <td>0</td>\n",
       "      <td>0</td>\n",
       "      <td>0</td>\n",
       "      <td>0</td>\n",
       "      <td>0</td>\n",
       "    </tr>\n",
       "    <tr>\n",
       "      <th>159570</th>\n",
       "      <td>fff46fc426af1f9a</td>\n",
       "      <td>\"\\nAnd ... I really don't think you understand...</td>\n",
       "      <td>0</td>\n",
       "      <td>0</td>\n",
       "      <td>0</td>\n",
       "      <td>0</td>\n",
       "      <td>0</td>\n",
       "      <td>0</td>\n",
       "    </tr>\n",
       "  </tbody>\n",
       "</table>\n",
       "</div>"
      ],
      "text/plain": [
       "                      id                                       comment_text  \\\n",
       "159566  ffe987279560d7ff  \":::::And for the second time of asking, when ...   \n",
       "159567  ffea4adeee384e90  You should be ashamed of yourself \\n\\nThat is ...   \n",
       "159568  ffee36eab5c267c9  Spitzer \\n\\nUmm, theres no actual article for ...   \n",
       "159569  fff125370e4aaaf3  And it looks like it was actually you who put ...   \n",
       "159570  fff46fc426af1f9a  \"\\nAnd ... I really don't think you understand...   \n",
       "\n",
       "        toxic  severe_toxic  obscene  threat  insult  identity_hate  \n",
       "159566      0             0        0       0       0              0  \n",
       "159567      0             0        0       0       0              0  \n",
       "159568      0             0        0       0       0              0  \n",
       "159569      0             0        0       0       0              0  \n",
       "159570      0             0        0       0       0              0  "
      ]
     },
     "execution_count": 5,
     "metadata": {},
     "output_type": "execute_result"
    }
   ],
   "source": [
    "df = pd.read_csv(PATH/'train.csv')\n",
    "df.tail()"
   ]
  },
  {
   "cell_type": "code",
   "execution_count": 6,
   "metadata": {},
   "outputs": [
    {
     "name": "stdout",
     "output_type": "stream",
     "text": [
      "Training set size: 159571 comments\n"
     ]
    }
   ],
   "source": [
    "print('Training set size: {} comments'.format(len(df)))"
   ]
  },
  {
   "cell_type": "code",
   "execution_count": 7,
   "metadata": {},
   "outputs": [
    {
     "data": {
      "text/html": [
       "<div>\n",
       "<style scoped>\n",
       "    .dataframe tbody tr th:only-of-type {\n",
       "        vertical-align: middle;\n",
       "    }\n",
       "\n",
       "    .dataframe tbody tr th {\n",
       "        vertical-align: top;\n",
       "    }\n",
       "\n",
       "    .dataframe thead th {\n",
       "        text-align: right;\n",
       "    }\n",
       "</style>\n",
       "<table border=\"1\" class=\"dataframe\">\n",
       "  <thead>\n",
       "    <tr style=\"text-align: right;\">\n",
       "      <th></th>\n",
       "      <th>id</th>\n",
       "      <th>comment_text</th>\n",
       "      <th>toxic</th>\n",
       "      <th>severe_toxic</th>\n",
       "      <th>obscene</th>\n",
       "      <th>threat</th>\n",
       "      <th>insult</th>\n",
       "      <th>identity_hate</th>\n",
       "    </tr>\n",
       "  </thead>\n",
       "  <tbody>\n",
       "    <tr>\n",
       "      <th>159494</th>\n",
       "      <td>fef4cf7ba0012866</td>\n",
       "      <td>\"\\n\\n our previous conversation \\n\\nyou fuckin...</td>\n",
       "      <td>1</td>\n",
       "      <td>0</td>\n",
       "      <td>1</td>\n",
       "      <td>0</td>\n",
       "      <td>1</td>\n",
       "      <td>1</td>\n",
       "    </tr>\n",
       "    <tr>\n",
       "      <th>159514</th>\n",
       "      <td>ff39a2895fc3b40e</td>\n",
       "      <td>YOU ARE A MISCHIEVIOUS PUBIC HAIR</td>\n",
       "      <td>1</td>\n",
       "      <td>0</td>\n",
       "      <td>0</td>\n",
       "      <td>0</td>\n",
       "      <td>1</td>\n",
       "      <td>0</td>\n",
       "    </tr>\n",
       "    <tr>\n",
       "      <th>159541</th>\n",
       "      <td>ffa33d3122b599d6</td>\n",
       "      <td>Your absurd edits \\n\\nYour absurd edits on gre...</td>\n",
       "      <td>1</td>\n",
       "      <td>0</td>\n",
       "      <td>1</td>\n",
       "      <td>0</td>\n",
       "      <td>1</td>\n",
       "      <td>0</td>\n",
       "    </tr>\n",
       "    <tr>\n",
       "      <th>159546</th>\n",
       "      <td>ffb47123b2d82762</td>\n",
       "      <td>\"\\n\\nHey listen don't you ever!!!! Delete my e...</td>\n",
       "      <td>1</td>\n",
       "      <td>0</td>\n",
       "      <td>0</td>\n",
       "      <td>0</td>\n",
       "      <td>1</td>\n",
       "      <td>0</td>\n",
       "    </tr>\n",
       "    <tr>\n",
       "      <th>159554</th>\n",
       "      <td>ffbdbb0483ed0841</td>\n",
       "      <td>and i'm going to keep posting the stuff u dele...</td>\n",
       "      <td>1</td>\n",
       "      <td>0</td>\n",
       "      <td>1</td>\n",
       "      <td>0</td>\n",
       "      <td>1</td>\n",
       "      <td>0</td>\n",
       "    </tr>\n",
       "  </tbody>\n",
       "</table>\n",
       "</div>"
      ],
      "text/plain": [
       "                      id                                       comment_text  \\\n",
       "159494  fef4cf7ba0012866  \"\\n\\n our previous conversation \\n\\nyou fuckin...   \n",
       "159514  ff39a2895fc3b40e                  YOU ARE A MISCHIEVIOUS PUBIC HAIR   \n",
       "159541  ffa33d3122b599d6  Your absurd edits \\n\\nYour absurd edits on gre...   \n",
       "159546  ffb47123b2d82762  \"\\n\\nHey listen don't you ever!!!! Delete my e...   \n",
       "159554  ffbdbb0483ed0841  and i'm going to keep posting the stuff u dele...   \n",
       "\n",
       "        toxic  severe_toxic  obscene  threat  insult  identity_hate  \n",
       "159494      1             0        1       0       1              1  \n",
       "159514      1             0        0       0       1              0  \n",
       "159541      1             0        1       0       1              0  \n",
       "159546      1             0        0       0       1              0  \n",
       "159554      1             0        1       0       1              0  "
      ]
     },
     "execution_count": 7,
     "metadata": {},
     "output_type": "execute_result"
    }
   ],
   "source": [
    "df[df['toxic'] == 1].tail()"
   ]
  },
  {
   "cell_type": "code",
   "execution_count": 8,
   "metadata": {},
   "outputs": [
    {
     "data": {
      "text/plain": [
       "['toxic', 'severe_toxic', 'obscene', 'threat', 'insult', 'identity_hate']"
      ]
     },
     "execution_count": 8,
     "metadata": {},
     "output_type": "execute_result"
    }
   ],
   "source": [
    "CLASSES = list(df.columns.values)[2:]\n",
    "CLASSES"
   ]
  },
  {
   "cell_type": "markdown",
   "metadata": {},
   "source": [
    "Create additional column for binary class."
   ]
  },
  {
   "cell_type": "code",
   "execution_count": 9,
   "metadata": {},
   "outputs": [
    {
     "data": {
      "text/html": [
       "<div>\n",
       "<style scoped>\n",
       "    .dataframe tbody tr th:only-of-type {\n",
       "        vertical-align: middle;\n",
       "    }\n",
       "\n",
       "    .dataframe tbody tr th {\n",
       "        vertical-align: top;\n",
       "    }\n",
       "\n",
       "    .dataframe thead th {\n",
       "        text-align: right;\n",
       "    }\n",
       "</style>\n",
       "<table border=\"1\" class=\"dataframe\">\n",
       "  <thead>\n",
       "    <tr style=\"text-align: right;\">\n",
       "      <th></th>\n",
       "      <th>id</th>\n",
       "      <th>comment_text</th>\n",
       "      <th>toxic</th>\n",
       "      <th>severe_toxic</th>\n",
       "      <th>obscene</th>\n",
       "      <th>threat</th>\n",
       "      <th>insult</th>\n",
       "      <th>identity_hate</th>\n",
       "      <th>not_toxic</th>\n",
       "    </tr>\n",
       "  </thead>\n",
       "  <tbody>\n",
       "    <tr>\n",
       "      <th>0</th>\n",
       "      <td>0000997932d777bf</td>\n",
       "      <td>Explanation\\nWhy the edits made under my usern...</td>\n",
       "      <td>0</td>\n",
       "      <td>0</td>\n",
       "      <td>0</td>\n",
       "      <td>0</td>\n",
       "      <td>0</td>\n",
       "      <td>0</td>\n",
       "      <td>1</td>\n",
       "    </tr>\n",
       "    <tr>\n",
       "      <th>1</th>\n",
       "      <td>000103f0d9cfb60f</td>\n",
       "      <td>D'aww! He matches this background colour I'm s...</td>\n",
       "      <td>0</td>\n",
       "      <td>0</td>\n",
       "      <td>0</td>\n",
       "      <td>0</td>\n",
       "      <td>0</td>\n",
       "      <td>0</td>\n",
       "      <td>1</td>\n",
       "    </tr>\n",
       "    <tr>\n",
       "      <th>2</th>\n",
       "      <td>000113f07ec002fd</td>\n",
       "      <td>Hey man, I'm really not trying to edit war. It...</td>\n",
       "      <td>0</td>\n",
       "      <td>0</td>\n",
       "      <td>0</td>\n",
       "      <td>0</td>\n",
       "      <td>0</td>\n",
       "      <td>0</td>\n",
       "      <td>1</td>\n",
       "    </tr>\n",
       "    <tr>\n",
       "      <th>3</th>\n",
       "      <td>0001b41b1c6bb37e</td>\n",
       "      <td>\"\\nMore\\nI can't make any real suggestions on ...</td>\n",
       "      <td>0</td>\n",
       "      <td>0</td>\n",
       "      <td>0</td>\n",
       "      <td>0</td>\n",
       "      <td>0</td>\n",
       "      <td>0</td>\n",
       "      <td>1</td>\n",
       "    </tr>\n",
       "    <tr>\n",
       "      <th>4</th>\n",
       "      <td>0001d958c54c6e35</td>\n",
       "      <td>You, sir, are my hero. Any chance you remember...</td>\n",
       "      <td>0</td>\n",
       "      <td>0</td>\n",
       "      <td>0</td>\n",
       "      <td>0</td>\n",
       "      <td>0</td>\n",
       "      <td>0</td>\n",
       "      <td>1</td>\n",
       "    </tr>\n",
       "  </tbody>\n",
       "</table>\n",
       "</div>"
      ],
      "text/plain": [
       "                 id                                       comment_text  toxic  \\\n",
       "0  0000997932d777bf  Explanation\\nWhy the edits made under my usern...      0   \n",
       "1  000103f0d9cfb60f  D'aww! He matches this background colour I'm s...      0   \n",
       "2  000113f07ec002fd  Hey man, I'm really not trying to edit war. It...      0   \n",
       "3  0001b41b1c6bb37e  \"\\nMore\\nI can't make any real suggestions on ...      0   \n",
       "4  0001d958c54c6e35  You, sir, are my hero. Any chance you remember...      0   \n",
       "\n",
       "   severe_toxic  obscene  threat  insult  identity_hate  not_toxic  \n",
       "0             0        0       0       0              0          1  \n",
       "1             0        0       0       0              0          1  \n",
       "2             0        0       0       0              0          1  \n",
       "3             0        0       0       0              0          1  \n",
       "4             0        0       0       0              0          1  "
      ]
     },
     "execution_count": 9,
     "metadata": {},
     "output_type": "execute_result"
    }
   ],
   "source": [
    "df['not_toxic'] = df[CLASSES].eq(0).all(1).astype('int')\n",
    "df.head()"
   ]
  },
  {
   "cell_type": "code",
   "execution_count": 10,
   "metadata": {},
   "outputs": [
    {
     "name": "stdout",
     "output_type": "stream",
     "text": [
      "# non-toxic comments: 143346\n",
      "# toxic comments: 16225\n",
      "% not toxic: 89.83%\n"
     ]
    }
   ],
   "source": [
    "print('# non-toxic comments: {}'.format(sum(df['not_toxic'])))\n",
    "print('# toxic comments: {}'.format(abs(len(df) - sum(df['not_toxic']))))\n",
    "print('% not toxic: {:0.2f}%'.format(100*sum(df['not_toxic'])/len(df)))"
   ]
  },
  {
   "cell_type": "markdown",
   "metadata": {},
   "source": [
    "Notice, there are a lot more non-toxic comments"
   ]
  },
  {
   "cell_type": "code",
   "execution_count": 11,
   "metadata": {},
   "outputs": [
    {
     "data": {
      "text/plain": [
       "array([1, 0])"
      ]
     },
     "execution_count": 11,
     "metadata": {},
     "output_type": "execute_result"
    }
   ],
   "source": [
    "df['not_toxic'].unique()"
   ]
  },
  {
   "cell_type": "code",
   "execution_count": 12,
   "metadata": {},
   "outputs": [
    {
     "data": {
      "text/plain": [
       "id               object\n",
       "comment_text     object\n",
       "toxic             int64\n",
       "severe_toxic      int64\n",
       "obscene           int64\n",
       "threat            int64\n",
       "insult            int64\n",
       "identity_hate     int64\n",
       "not_toxic         int64\n",
       "dtype: object"
      ]
     },
     "execution_count": 12,
     "metadata": {},
     "output_type": "execute_result"
    }
   ],
   "source": [
    "df.dtypes"
   ]
  },
  {
   "cell_type": "code",
   "execution_count": 13,
   "metadata": {},
   "outputs": [
    {
     "data": {
      "text/html": [
       "<div>\n",
       "<style scoped>\n",
       "    .dataframe tbody tr th:only-of-type {\n",
       "        vertical-align: middle;\n",
       "    }\n",
       "\n",
       "    .dataframe tbody tr th {\n",
       "        vertical-align: top;\n",
       "    }\n",
       "\n",
       "    .dataframe thead th {\n",
       "        text-align: right;\n",
       "    }\n",
       "</style>\n",
       "<table border=\"1\" class=\"dataframe\">\n",
       "  <thead>\n",
       "    <tr style=\"text-align: right;\">\n",
       "      <th></th>\n",
       "      <th>id</th>\n",
       "      <th>toxic</th>\n",
       "      <th>severe_toxic</th>\n",
       "      <th>obscene</th>\n",
       "      <th>threat</th>\n",
       "      <th>insult</th>\n",
       "      <th>identity_hate</th>\n",
       "      <th>not_toxic</th>\n",
       "    </tr>\n",
       "  </thead>\n",
       "  <tbody>\n",
       "    <tr>\n",
       "      <th>0</th>\n",
       "      <td>0000997932d777bf</td>\n",
       "      <td>0</td>\n",
       "      <td>0</td>\n",
       "      <td>0</td>\n",
       "      <td>0</td>\n",
       "      <td>0</td>\n",
       "      <td>0</td>\n",
       "      <td>1</td>\n",
       "    </tr>\n",
       "    <tr>\n",
       "      <th>1</th>\n",
       "      <td>000103f0d9cfb60f</td>\n",
       "      <td>0</td>\n",
       "      <td>0</td>\n",
       "      <td>0</td>\n",
       "      <td>0</td>\n",
       "      <td>0</td>\n",
       "      <td>0</td>\n",
       "      <td>1</td>\n",
       "    </tr>\n",
       "    <tr>\n",
       "      <th>2</th>\n",
       "      <td>000113f07ec002fd</td>\n",
       "      <td>0</td>\n",
       "      <td>0</td>\n",
       "      <td>0</td>\n",
       "      <td>0</td>\n",
       "      <td>0</td>\n",
       "      <td>0</td>\n",
       "      <td>1</td>\n",
       "    </tr>\n",
       "    <tr>\n",
       "      <th>3</th>\n",
       "      <td>0001b41b1c6bb37e</td>\n",
       "      <td>0</td>\n",
       "      <td>0</td>\n",
       "      <td>0</td>\n",
       "      <td>0</td>\n",
       "      <td>0</td>\n",
       "      <td>0</td>\n",
       "      <td>1</td>\n",
       "    </tr>\n",
       "    <tr>\n",
       "      <th>4</th>\n",
       "      <td>0001d958c54c6e35</td>\n",
       "      <td>0</td>\n",
       "      <td>0</td>\n",
       "      <td>0</td>\n",
       "      <td>0</td>\n",
       "      <td>0</td>\n",
       "      <td>0</td>\n",
       "      <td>1</td>\n",
       "    </tr>\n",
       "  </tbody>\n",
       "</table>\n",
       "</div>"
      ],
      "text/plain": [
       "                 id  toxic  severe_toxic  obscene  threat  insult  \\\n",
       "0  0000997932d777bf      0             0        0       0       0   \n",
       "1  000103f0d9cfb60f      0             0        0       0       0   \n",
       "2  000113f07ec002fd      0             0        0       0       0   \n",
       "3  0001b41b1c6bb37e      0             0        0       0       0   \n",
       "4  0001d958c54c6e35      0             0        0       0       0   \n",
       "\n",
       "   identity_hate  not_toxic  \n",
       "0              0          1  \n",
       "1              0          1  \n",
       "2              0          1  \n",
       "3              0          1  \n",
       "4              0          1  "
      ]
     },
     "execution_count": 13,
     "metadata": {},
     "output_type": "execute_result"
    }
   ],
   "source": [
    "all_labels = df.drop(['comment_text'],axis=1)\n",
    "all_labels.head()"
   ]
  },
  {
   "cell_type": "code",
   "execution_count": 14,
   "metadata": {},
   "outputs": [
    {
     "data": {
      "text/html": [
       "<div>\n",
       "<style scoped>\n",
       "    .dataframe tbody tr th:only-of-type {\n",
       "        vertical-align: middle;\n",
       "    }\n",
       "\n",
       "    .dataframe tbody tr th {\n",
       "        vertical-align: top;\n",
       "    }\n",
       "\n",
       "    .dataframe thead th {\n",
       "        text-align: right;\n",
       "    }\n",
       "</style>\n",
       "<table border=\"1\" class=\"dataframe\">\n",
       "  <thead>\n",
       "    <tr style=\"text-align: right;\">\n",
       "      <th></th>\n",
       "      <th>id</th>\n",
       "      <th>not_toxic</th>\n",
       "    </tr>\n",
       "  </thead>\n",
       "  <tbody>\n",
       "    <tr>\n",
       "      <th>0</th>\n",
       "      <td>0000997932d777bf</td>\n",
       "      <td>1</td>\n",
       "    </tr>\n",
       "    <tr>\n",
       "      <th>1</th>\n",
       "      <td>000103f0d9cfb60f</td>\n",
       "      <td>1</td>\n",
       "    </tr>\n",
       "    <tr>\n",
       "      <th>2</th>\n",
       "      <td>000113f07ec002fd</td>\n",
       "      <td>1</td>\n",
       "    </tr>\n",
       "    <tr>\n",
       "      <th>3</th>\n",
       "      <td>0001b41b1c6bb37e</td>\n",
       "      <td>1</td>\n",
       "    </tr>\n",
       "    <tr>\n",
       "      <th>4</th>\n",
       "      <td>0001d958c54c6e35</td>\n",
       "      <td>1</td>\n",
       "    </tr>\n",
       "  </tbody>\n",
       "</table>\n",
       "</div>"
      ],
      "text/plain": [
       "                 id  not_toxic\n",
       "0  0000997932d777bf          1\n",
       "1  000103f0d9cfb60f          1\n",
       "2  000113f07ec002fd          1\n",
       "3  0001b41b1c6bb37e          1\n",
       "4  0001d958c54c6e35          1"
      ]
     },
     "execution_count": 14,
     "metadata": {},
     "output_type": "execute_result"
    }
   ],
   "source": [
    "binary_label = df.drop(CLASSES+['comment_text'],axis=1)\n",
    "binary_label.head()"
   ]
  },
  {
   "cell_type": "code",
   "execution_count": 16,
   "metadata": {},
   "outputs": [
    {
     "data": {
      "text/html": [
       "<div>\n",
       "<style scoped>\n",
       "    .dataframe tbody tr th:only-of-type {\n",
       "        vertical-align: middle;\n",
       "    }\n",
       "\n",
       "    .dataframe tbody tr th {\n",
       "        vertical-align: top;\n",
       "    }\n",
       "\n",
       "    .dataframe thead th {\n",
       "        text-align: right;\n",
       "    }\n",
       "</style>\n",
       "<table border=\"1\" class=\"dataframe\">\n",
       "  <thead>\n",
       "    <tr style=\"text-align: right;\">\n",
       "      <th></th>\n",
       "      <th>id</th>\n",
       "      <th>comment_text</th>\n",
       "    </tr>\n",
       "  </thead>\n",
       "  <tbody>\n",
       "    <tr>\n",
       "      <th>0</th>\n",
       "      <td>0000997932d777bf</td>\n",
       "      <td>Explanation\\nWhy the edits made under my usern...</td>\n",
       "    </tr>\n",
       "    <tr>\n",
       "      <th>1</th>\n",
       "      <td>000103f0d9cfb60f</td>\n",
       "      <td>D'aww! He matches this background colour I'm s...</td>\n",
       "    </tr>\n",
       "    <tr>\n",
       "      <th>2</th>\n",
       "      <td>000113f07ec002fd</td>\n",
       "      <td>Hey man, I'm really not trying to edit war. It...</td>\n",
       "    </tr>\n",
       "    <tr>\n",
       "      <th>3</th>\n",
       "      <td>0001b41b1c6bb37e</td>\n",
       "      <td>\"\\nMore\\nI can't make any real suggestions on ...</td>\n",
       "    </tr>\n",
       "    <tr>\n",
       "      <th>4</th>\n",
       "      <td>0001d958c54c6e35</td>\n",
       "      <td>You, sir, are my hero. Any chance you remember...</td>\n",
       "    </tr>\n",
       "  </tbody>\n",
       "</table>\n",
       "</div>"
      ],
      "text/plain": [
       "                 id                                       comment_text\n",
       "0  0000997932d777bf  Explanation\\nWhy the edits made under my usern...\n",
       "1  000103f0d9cfb60f  D'aww! He matches this background colour I'm s...\n",
       "2  000113f07ec002fd  Hey man, I'm really not trying to edit war. It...\n",
       "3  0001b41b1c6bb37e  \"\\nMore\\nI can't make any real suggestions on ...\n",
       "4  0001d958c54c6e35  You, sir, are my hero. Any chance you remember..."
      ]
     },
     "execution_count": 16,
     "metadata": {},
     "output_type": "execute_result"
    }
   ],
   "source": [
    "df_texts = df.drop(CLASSES+['not_toxic'],axis=1)\n",
    "df_texts.head()"
   ]
  },
  {
   "cell_type": "code",
   "execution_count": 17,
   "metadata": {},
   "outputs": [
    {
     "data": {
      "text/html": [
       "<div>\n",
       "<style scoped>\n",
       "    .dataframe tbody tr th:only-of-type {\n",
       "        vertical-align: middle;\n",
       "    }\n",
       "\n",
       "    .dataframe tbody tr th {\n",
       "        vertical-align: top;\n",
       "    }\n",
       "\n",
       "    .dataframe thead th {\n",
       "        text-align: right;\n",
       "    }\n",
       "</style>\n",
       "<table border=\"1\" class=\"dataframe\">\n",
       "  <thead>\n",
       "    <tr style=\"text-align: right;\">\n",
       "      <th></th>\n",
       "      <th>not_toxic</th>\n",
       "      <th>comment_text</th>\n",
       "    </tr>\n",
       "  </thead>\n",
       "  <tbody>\n",
       "    <tr>\n",
       "      <th>0</th>\n",
       "      <td>1</td>\n",
       "      <td>Explanation\\nWhy the edits made under my usern...</td>\n",
       "    </tr>\n",
       "    <tr>\n",
       "      <th>1</th>\n",
       "      <td>1</td>\n",
       "      <td>D'aww! He matches this background colour I'm s...</td>\n",
       "    </tr>\n",
       "    <tr>\n",
       "      <th>2</th>\n",
       "      <td>1</td>\n",
       "      <td>Hey man, I'm really not trying to edit war. It...</td>\n",
       "    </tr>\n",
       "    <tr>\n",
       "      <th>3</th>\n",
       "      <td>1</td>\n",
       "      <td>\"\\nMore\\nI can't make any real suggestions on ...</td>\n",
       "    </tr>\n",
       "    <tr>\n",
       "      <th>4</th>\n",
       "      <td>1</td>\n",
       "      <td>You, sir, are my hero. Any chance you remember...</td>\n",
       "    </tr>\n",
       "  </tbody>\n",
       "</table>\n",
       "</div>"
      ],
      "text/plain": [
       "   not_toxic                                       comment_text\n",
       "0          1  Explanation\\nWhy the edits made under my usern...\n",
       "1          1  D'aww! He matches this background colour I'm s...\n",
       "2          1  Hey man, I'm really not trying to edit war. It...\n",
       "3          1  \"\\nMore\\nI can't make any real suggestions on ...\n",
       "4          1  You, sir, are my hero. Any chance you remember..."
      ]
     },
     "execution_count": 17,
     "metadata": {},
     "output_type": "execute_result"
    }
   ],
   "source": [
    "df_data = df[['not_toxic','comment_text']]\n",
    "df_data.head()"
   ]
  },
  {
   "cell_type": "code",
   "execution_count": 30,
   "metadata": {
    "collapsed": true
   },
   "outputs": [],
   "source": [
    "(PATH/'tmp').mkdir(exist_ok=True)\n",
    "df_data.to_csv(PATH/'tmp'/'df_data_binary.csv', header = ['not_toxic','comment_text'],index_label=False )"
   ]
  },
  {
   "cell_type": "code",
   "execution_count": 18,
   "metadata": {},
   "outputs": [
    {
     "data": {
      "text/plain": [
       "(394.0732213246768, 590.7202819048919, 5000)"
      ]
     },
     "execution_count": 18,
     "metadata": {},
     "output_type": "execute_result"
    }
   ],
   "source": [
    "text_length = df_texts.comment_text.str.len()\n",
    "text_length.mean(),text_length.std(),text_length.max()"
   ]
  },
  {
   "cell_type": "code",
   "execution_count": 19,
   "metadata": {},
   "outputs": [
    {
     "data": {
      "text/plain": [
       "<matplotlib.axes._subplots.AxesSubplot at 0x7fbaaccd1f28>"
      ]
     },
     "execution_count": 19,
     "metadata": {},
     "output_type": "execute_result"
    },
    {
     "data": {
      "image/png": "[encoded data removed]",
      "text/plain": [
       "<Figure size 432x288 with 1 Axes>"
      ]
     },
     "metadata": {},
     "output_type": "display_data"
    }
   ],
   "source": [
    "text_length.hist()"
   ]
  },
  {
   "cell_type": "markdown",
   "metadata": {},
   "source": [
    "## Prepare data for language model"
   ]
  },
  {
   "cell_type": "code",
   "execution_count": 11,
   "metadata": {},
   "outputs": [
    {
     "data": {
      "text/html": [
       "<div>\n",
       "<style scoped>\n",
       "    .dataframe tbody tr th:only-of-type {\n",
       "        vertical-align: middle;\n",
       "    }\n",
       "\n",
       "    .dataframe tbody tr th {\n",
       "        vertical-align: top;\n",
       "    }\n",
       "\n",
       "    .dataframe thead th {\n",
       "        text-align: right;\n",
       "    }\n",
       "</style>\n",
       "<table border=\"1\" class=\"dataframe\">\n",
       "  <thead>\n",
       "    <tr style=\"text-align: right;\">\n",
       "      <th></th>\n",
       "      <th>id</th>\n",
       "      <th>comment_text</th>\n",
       "    </tr>\n",
       "  </thead>\n",
       "  <tbody>\n",
       "    <tr>\n",
       "      <th>153159</th>\n",
       "      <td>fffcd0960ee309b5</td>\n",
       "      <td>. \\n i totally agree, this stuff is nothing bu...</td>\n",
       "    </tr>\n",
       "    <tr>\n",
       "      <th>153160</th>\n",
       "      <td>fffd7a9a6eb32c16</td>\n",
       "      <td>== Throw from out field to home plate. == \\n\\n...</td>\n",
       "    </tr>\n",
       "    <tr>\n",
       "      <th>153161</th>\n",
       "      <td>fffda9e8d6fafa9e</td>\n",
       "      <td>\" \\n\\n == Okinotorishima categories == \\n\\n I ...</td>\n",
       "    </tr>\n",
       "    <tr>\n",
       "      <th>153162</th>\n",
       "      <td>fffe8f1340a79fc2</td>\n",
       "      <td>\" \\n\\n == \"\"One of the founding nations of the...</td>\n",
       "    </tr>\n",
       "    <tr>\n",
       "      <th>153163</th>\n",
       "      <td>ffffce3fb183ee80</td>\n",
       "      <td>\" \\n :::Stop already. Your bullshit is not wel...</td>\n",
       "    </tr>\n",
       "  </tbody>\n",
       "</table>\n",
       "</div>"
      ],
      "text/plain": [
       "                      id                                       comment_text\n",
       "153159  fffcd0960ee309b5  . \\n i totally agree, this stuff is nothing bu...\n",
       "153160  fffd7a9a6eb32c16  == Throw from out field to home plate. == \\n\\n...\n",
       "153161  fffda9e8d6fafa9e  \" \\n\\n == Okinotorishima categories == \\n\\n I ...\n",
       "153162  fffe8f1340a79fc2  \" \\n\\n == \"\"One of the founding nations of the...\n",
       "153163  ffffce3fb183ee80  \" \\n :::Stop already. Your bullshit is not wel..."
      ]
     },
     "execution_count": 11,
     "metadata": {},
     "output_type": "execute_result"
    }
   ],
   "source": [
    "df_testset = pd.read_csv(PATH/'test.csv')\n",
    "df_testset.tail()"
   ]
  },
  {
   "cell_type": "code",
   "execution_count": 13,
   "metadata": {},
   "outputs": [
    {
     "data": {
      "text/plain": [
       "153164"
      ]
     },
     "execution_count": 13,
     "metadata": {},
     "output_type": "execute_result"
    }
   ],
   "source": [
    "texts_test = df_testset['comment_text'].values.tolist()\n",
    "len(texts_test)"
   ]
  },
  {
   "cell_type": "code",
   "execution_count": 15,
   "metadata": {},
   "outputs": [
    {
     "data": {
      "text/plain": [
       "159571"
      ]
     },
     "execution_count": 15,
     "metadata": {},
     "output_type": "execute_result"
    }
   ],
   "source": [
    "texts = df_texts['comment_text'].values.tolist()\n",
    "type(texts)\n",
    "len(texts)"
   ]
  },
  {
   "cell_type": "code",
   "execution_count": 16,
   "metadata": {},
   "outputs": [
    {
     "data": {
      "text/plain": [
       "'\"\\n\\n Emil Gilels \\n\\nI appreciate your input as to your musical taste regarding Gilel\\'s stature as one of the greatest pianists of the 20 th century.  While you may regard this as \"\"over enthusiastic,\"\" my addition was supported by one of the pages used as a reference in the article.  If you really have an objection, you are better advised to express your reservations in the discussion page.  I would revert your edits until you act in a civil manner.\"'"
      ]
     },
     "execution_count": 16,
     "metadata": {},
     "output_type": "execute_result"
    }
   ],
   "source": [
    "texts[2334]"
   ]
  },
  {
   "cell_type": "code",
   "execution_count": 17,
   "metadata": {},
   "outputs": [
    {
     "data": {
      "text/plain": [
       "312735"
      ]
     },
     "execution_count": 17,
     "metadata": {},
     "output_type": "execute_result"
    }
   ],
   "source": [
    "texts_all = texts + texts_test\n",
    "len(texts_all)"
   ]
  },
  {
   "cell_type": "markdown",
   "metadata": {},
   "source": [
    "train, valid split for language model training\n"
   ]
  },
  {
   "cell_type": "code",
   "execution_count": 18,
   "metadata": {},
   "outputs": [
    {
     "data": {
      "text/plain": [
       "(281403, 31332)"
      ]
     },
     "execution_count": 18,
     "metadata": {},
     "output_type": "execute_result"
    }
   ],
   "source": [
    "inds = np.random.rand(len(texts_all)) > 0.1\n",
    "train_texts = np.asarray(texts_all)[inds]\n",
    "valid_texts = np.asarray(texts_all)[~inds]\n",
    "len(train_texts),len(valid_texts)"
   ]
  },
  {
   "cell_type": "markdown",
   "metadata": {},
   "source": [
    "create csv file containing text for fine-tuning pre-trained language model, save in language model (LM) directory"
   ]
  },
  {
   "cell_type": "code",
   "execution_count": 19,
   "metadata": {
    "collapsed": true
   },
   "outputs": [],
   "source": [
    "col_names = ['labels','text']\n",
    "df_train = pd.DataFrame({'text':train_texts, 'labels':[0]*len(train_texts)},columns=col_names)\n",
    "df_valid = pd.DataFrame({'text':valid_texts, 'labels':[0]*len(valid_texts)},columns=col_names)\n",
    "\n",
    "df_train.to_csv(LM_PATH/'train.csv',header=False,index=False)\n",
    "df_valid.to_csv(LM_PATH/'valid.csv',header=False,index=False)"
   ]
  },
  {
   "cell_type": "code",
   "execution_count": 71,
   "metadata": {},
   "outputs": [
    {
     "name": "stdout",
     "output_type": "stream",
     "text": [
      ".  ..  tmp.csv\ttrain.csv  valid.csv\n"
     ]
    }
   ],
   "source": [
    "#!ls /home/odenigborig/Data/kaggle/toxic_comment/LM"
   ]
  },
  {
   "cell_type": "markdown",
   "metadata": {},
   "source": [
    "### Generate Language model tokens"
   ]
  },
  {
   "cell_type": "code",
   "execution_count": 26,
   "metadata": {
    "collapsed": true
   },
   "outputs": [],
   "source": [
    "df_train = pd.read_csv(LM_PATH/'train.csv',header=None)\n",
    "df_valid = pd.read_csv(LM_PATH/'valid.csv',header=None)"
   ]
  },
  {
   "cell_type": "code",
   "execution_count": 27,
   "metadata": {},
   "outputs": [
    {
     "data": {
      "text/html": [
       "<div>\n",
       "<style scoped>\n",
       "    .dataframe tbody tr th:only-of-type {\n",
       "        vertical-align: middle;\n",
       "    }\n",
       "\n",
       "    .dataframe tbody tr th {\n",
       "        vertical-align: top;\n",
       "    }\n",
       "\n",
       "    .dataframe thead th {\n",
       "        text-align: right;\n",
       "    }\n",
       "</style>\n",
       "<table border=\"1\" class=\"dataframe\">\n",
       "  <thead>\n",
       "    <tr style=\"text-align: right;\">\n",
       "      <th></th>\n",
       "      <th>0</th>\n",
       "      <th>1</th>\n",
       "    </tr>\n",
       "  </thead>\n",
       "  <tbody>\n",
       "    <tr>\n",
       "      <th>0</th>\n",
       "      <td>0</td>\n",
       "      <td>Explanation\\nWhy the edits made under my usern...</td>\n",
       "    </tr>\n",
       "    <tr>\n",
       "      <th>1</th>\n",
       "      <td>0</td>\n",
       "      <td>Hey man, I'm really not trying to edit war. It...</td>\n",
       "    </tr>\n",
       "    <tr>\n",
       "      <th>2</th>\n",
       "      <td>0</td>\n",
       "      <td>You, sir, are my hero. Any chance you remember...</td>\n",
       "    </tr>\n",
       "    <tr>\n",
       "      <th>3</th>\n",
       "      <td>0</td>\n",
       "      <td>COCKSUCKER BEFORE YOU PISS AROUND ON MY WORK</td>\n",
       "    </tr>\n",
       "    <tr>\n",
       "      <th>4</th>\n",
       "      <td>0</td>\n",
       "      <td>Your vandalism to the Matt Shirvington article...</td>\n",
       "    </tr>\n",
       "  </tbody>\n",
       "</table>\n",
       "</div>"
      ],
      "text/plain": [
       "   0                                                  1\n",
       "0  0  Explanation\\nWhy the edits made under my usern...\n",
       "1  0  Hey man, I'm really not trying to edit war. It...\n",
       "2  0  You, sir, are my hero. Any chance you remember...\n",
       "3  0       COCKSUCKER BEFORE YOU PISS AROUND ON MY WORK\n",
       "4  0  Your vandalism to the Matt Shirvington article..."
      ]
     },
     "execution_count": 27,
     "metadata": {},
     "output_type": "execute_result"
    }
   ],
   "source": [
    "df_train.head()"
   ]
  },
  {
   "cell_type": "code",
   "execution_count": 28,
   "metadata": {},
   "outputs": [
    {
     "data": {
      "text/html": [
       "<div>\n",
       "<style scoped>\n",
       "    .dataframe tbody tr th:only-of-type {\n",
       "        vertical-align: middle;\n",
       "    }\n",
       "\n",
       "    .dataframe tbody tr th {\n",
       "        vertical-align: top;\n",
       "    }\n",
       "\n",
       "    .dataframe thead th {\n",
       "        text-align: right;\n",
       "    }\n",
       "</style>\n",
       "<table border=\"1\" class=\"dataframe\">\n",
       "  <thead>\n",
       "    <tr style=\"text-align: right;\">\n",
       "      <th></th>\n",
       "      <th>0</th>\n",
       "      <th>1</th>\n",
       "    </tr>\n",
       "  </thead>\n",
       "  <tbody>\n",
       "    <tr>\n",
       "      <th>0</th>\n",
       "      <td>0</td>\n",
       "      <td>D'aww! He matches this background colour I'm s...</td>\n",
       "    </tr>\n",
       "    <tr>\n",
       "      <th>1</th>\n",
       "      <td>0</td>\n",
       "      <td>\"\\nMore\\nI can't make any real suggestions on ...</td>\n",
       "    </tr>\n",
       "    <tr>\n",
       "      <th>2</th>\n",
       "      <td>0</td>\n",
       "      <td>\"\\n\\nCongratulations from me as well, use the ...</td>\n",
       "    </tr>\n",
       "    <tr>\n",
       "      <th>3</th>\n",
       "      <td>0</td>\n",
       "      <td>Hey... what is it..\\n@ | talk .\\nWhat is it......</td>\n",
       "    </tr>\n",
       "    <tr>\n",
       "      <th>4</th>\n",
       "      <td>0</td>\n",
       "      <td>\"\\n\\nJuelz Santanas Age\\n\\nIn 2002, Juelz Sant...</td>\n",
       "    </tr>\n",
       "  </tbody>\n",
       "</table>\n",
       "</div>"
      ],
      "text/plain": [
       "   0                                                  1\n",
       "0  0  D'aww! He matches this background colour I'm s...\n",
       "1  0  \"\\nMore\\nI can't make any real suggestions on ...\n",
       "2  0  \"\\n\\nCongratulations from me as well, use the ...\n",
       "3  0  Hey... what is it..\\n@ | talk .\\nWhat is it......\n",
       "4  0  \"\\n\\nJuelz Santanas Age\\n\\nIn 2002, Juelz Sant..."
      ]
     },
     "execution_count": 28,
     "metadata": {},
     "output_type": "execute_result"
    }
   ],
   "source": [
    "df_valid.head()"
   ]
  },
  {
   "cell_type": "markdown",
   "metadata": {},
   "source": [
    "fixup is a utility function from fastai for cleaning up text data. "
   ]
  },
  {
   "cell_type": "code",
   "execution_count": 47,
   "metadata": {
    "collapsed": true
   },
   "outputs": [],
   "source": [
    "re1 = re.compile(r'  +')\n",
    "\n",
    "def fixup(x):\n",
    "    x = x.replace('#39;', \"'\").replace('amp;', '&').replace('#146;', \"'\").replace(\n",
    "        'nbsp;', ' ').replace('#36;', '$').replace('\\\\n', \"\\n\").replace('quot;', \"'\").replace(\n",
    "        '<br />', \"\\n\").replace('\\\\\"', '\"').replace('<unk>','u_n').replace(' @.@ ','.').replace(\n",
    "        ' @-@ ','-').replace('\\\\', ' \\\\ ')\n",
    "    return re1.sub(' ', html.unescape(x))\n"
   ]
  },
  {
   "cell_type": "code",
   "execution_count": 48,
   "metadata": {
    "collapsed": true
   },
   "outputs": [],
   "source": [
    "BOS = 'xbos'  #add beginning of sentence tag\n",
    "FLD = 'xfld'  #add data field tag\n",
    "\n",
    "def get_texts_tokens(df,n_labels=1):\n",
    "    labels = df.iloc[:,range(n_labels)].values.astype(np.int64)\n",
    "    texts = f'\\n{BOS} {FLD} 1 ' + df[n_labels].astype(str)\n",
    "    for i in range(n_labels+1,len(df.columns)):\n",
    "        texts += f' {FLD} {i-n_labels}' + df[i].astype(str)\n",
    "    texts = texts.apply(fixup).values.astype(str)\n",
    "    \n",
    "    #create tokens, using multi-processing\n",
    "    tokens = Tokenizer().proc_all_mp(partition_by_cores(texts))\n",
    "    return tokens,list(labels)"
   ]
  },
  {
   "cell_type": "code",
   "execution_count": 49,
   "metadata": {
    "collapsed": true
   },
   "outputs": [],
   "source": [
    "def get_all(df,n_labels):\n",
    "    tokens,labels = [],[]\n",
    "    tokens_,labels_ = get_texts_tokens(df,n_labels)\n",
    "    tokens += tokens_\n",
    "    labels += labels_\n",
    "    return tokens,labels"
   ]
  },
  {
   "cell_type": "markdown",
   "metadata": {},
   "source": [
    "### Create tokens"
   ]
  },
  {
   "cell_type": "code",
   "execution_count": 29,
   "metadata": {
    "collapsed": true
   },
   "outputs": [],
   "source": [
    "valid_tokens,valid_labels = get_all(df_valid,1)"
   ]
  },
  {
   "cell_type": "code",
   "execution_count": 30,
   "metadata": {
    "collapsed": true
   },
   "outputs": [],
   "source": [
    "train_tokens,train_labels = get_all(df_train,1)"
   ]
  },
  {
   "cell_type": "code",
   "execution_count": 31,
   "metadata": {
    "collapsed": true
   },
   "outputs": [
    {
     "data": {
      "text/plain": [
       "['\\n',\n",
       " 'xbos',\n",
       " 'xfld',\n",
       " '1',\n",
       " '\"',\n",
       " '\\n\\n',\n",
       " 'juelz',\n",
       " 'santanas',\n",
       " 'age',\n",
       " '\\n\\n',\n",
       " 'in',\n",
       " '2002',\n",
       " ',',\n",
       " 'juelz',\n",
       " 'santana',\n",
       " 'was',\n",
       " '18',\n",
       " 'years',\n",
       " 'old',\n",
       " ',',\n",
       " 'then',\n",
       " 'came',\n",
       " 'february',\n",
       " '18th',\n",
       " ',',\n",
       " 'which',\n",
       " 'makes',\n",
       " 'juelz',\n",
       " 'turn',\n",
       " '19',\n",
       " 'making',\n",
       " 'songs',\n",
       " 'with',\n",
       " 'the',\n",
       " 'diplomats',\n",
       " '.',\n",
       " 'the',\n",
       " 'third',\n",
       " 'neff',\n",
       " 'to',\n",
       " 'be',\n",
       " 'signed',\n",
       " 'to',\n",
       " 'cam',\n",
       " \"'s\",\n",
       " 'label',\n",
       " 'under',\n",
       " 'roc',\n",
       " 'a',\n",
       " 'fella',\n",
       " '.',\n",
       " 'in',\n",
       " '2003',\n",
       " ',',\n",
       " 'he',\n",
       " 'was',\n",
       " '20',\n",
       " 'years',\n",
       " 'old',\n",
       " 'coming',\n",
       " 'out',\n",
       " 'with',\n",
       " 'his',\n",
       " 'own',\n",
       " 'singles',\n",
       " '\"',\n",
       " '\"',\n",
       " 'santana',\n",
       " \"'s\",\n",
       " 'town',\n",
       " '\"',\n",
       " '\"',\n",
       " 'and',\n",
       " '\"',\n",
       " '\"',\n",
       " 'down',\n",
       " '\"',\n",
       " '\"',\n",
       " '.',\n",
       " 'so',\n",
       " 'yes',\n",
       " ',',\n",
       " 'he',\n",
       " 'is',\n",
       " 'born',\n",
       " 'in',\n",
       " '1983',\n",
       " '.',\n",
       " 'he',\n",
       " 'really',\n",
       " 'is',\n",
       " ',',\n",
       " 'how',\n",
       " 'could',\n",
       " 'he',\n",
       " 'be',\n",
       " 'older',\n",
       " 'then',\n",
       " 'lloyd',\n",
       " 'banks',\n",
       " '?',\n",
       " 'and',\n",
       " 'how',\n",
       " 'could',\n",
       " 'he',\n",
       " 'be',\n",
       " '22',\n",
       " 'when',\n",
       " 'his',\n",
       " 'birthday',\n",
       " 'passed',\n",
       " '?',\n",
       " 'the',\n",
       " 'homie',\n",
       " 'neff',\n",
       " 'is',\n",
       " '23',\n",
       " 'years',\n",
       " 'old',\n",
       " '.',\n",
       " '1983',\n",
       " '-',\n",
       " '2006',\n",
       " '(',\n",
       " 'juelz',\n",
       " 'death',\n",
       " ',',\n",
       " 'god',\n",
       " 'forbid',\n",
       " 'if',\n",
       " 'your',\n",
       " 'thinking',\n",
       " 'about',\n",
       " 'that',\n",
       " ')',\n",
       " 'equals',\n",
       " '23',\n",
       " '.',\n",
       " 'go',\n",
       " 'to',\n",
       " 'your',\n",
       " 'caculator',\n",
       " 'and',\n",
       " 'stop',\n",
       " 'changing',\n",
       " 'his',\n",
       " 'year',\n",
       " 'of',\n",
       " 'birth',\n",
       " '.',\n",
       " 'my',\n",
       " 'god',\n",
       " '.',\n",
       " '\"']"
      ]
     },
     "execution_count": 31,
     "metadata": {},
     "output_type": "execute_result"
    }
   ],
   "source": [
    "valid_tokens[4]"
   ]
  },
  {
   "cell_type": "code",
   "execution_count": 32,
   "metadata": {
    "collapsed": true
   },
   "outputs": [
    {
     "data": {
      "text/plain": [
       "['\\n',\n",
       " 'xbos',\n",
       " 'xfld',\n",
       " '1',\n",
       " 'hey',\n",
       " 'man',\n",
       " ',',\n",
       " 'i',\n",
       " \"'m\",\n",
       " 'really',\n",
       " 'not',\n",
       " 'trying',\n",
       " 'to',\n",
       " 'edit',\n",
       " 'war',\n",
       " '.',\n",
       " 'it',\n",
       " \"'s\",\n",
       " 'just',\n",
       " 'that',\n",
       " 'this',\n",
       " 'guy',\n",
       " 'is',\n",
       " 'constantly',\n",
       " 'removing',\n",
       " 'relevant',\n",
       " 'information',\n",
       " 'and',\n",
       " 'talking',\n",
       " 'to',\n",
       " 'me',\n",
       " 'through',\n",
       " 'edits',\n",
       " 'instead',\n",
       " 'of',\n",
       " 'my',\n",
       " 'talk',\n",
       " 'page',\n",
       " '.',\n",
       " 'he',\n",
       " 'seems',\n",
       " 'to',\n",
       " 'care',\n",
       " 'more',\n",
       " 'about',\n",
       " 'the',\n",
       " 'formatting',\n",
       " 'than',\n",
       " 'the',\n",
       " 'actual',\n",
       " 'info',\n",
       " '.']"
      ]
     },
     "execution_count": 32,
     "metadata": {},
     "output_type": "execute_result"
    }
   ],
   "source": [
    "train_tokens[1]"
   ]
  },
  {
   "cell_type": "code",
   "execution_count": 33,
   "metadata": {},
   "outputs": [
    {
     "data": {
      "text/plain": [
       "\"Hey man, I'm really not trying to edit war. It's just that this guy is constantly removing relevant information and talking to me through edits instead of my talk page. He seems to care more about the formatting than the actual info.\""
      ]
     },
     "execution_count": 33,
     "metadata": {},
     "output_type": "execute_result"
    }
   ],
   "source": [
    "df_train[1][1]"
   ]
  },
  {
   "cell_type": "code",
   "execution_count": 75,
   "metadata": {
    "collapsed": true
   },
   "outputs": [],
   "source": [
    "(LM_PATH/'tmp').mkdir(exist_ok=True)"
   ]
  },
  {
   "cell_type": "code",
   "execution_count": 34,
   "metadata": {
    "collapsed": true
   },
   "outputs": [],
   "source": [
    "np.save(LM_PATH/'tmp'/'train_tokens.npy',train_tokens)\n",
    "np.save(LM_PATH/'tmp'/'valid_tokens.npy',valid_tokens)"
   ]
  },
  {
   "cell_type": "code",
   "execution_count": 78,
   "metadata": {
    "collapsed": true
   },
   "outputs": [],
   "source": [
    "#del train_tokens,valid_tokens"
   ]
  },
  {
   "cell_type": "code",
   "execution_count": 20,
   "metadata": {
    "collapsed": true
   },
   "outputs": [],
   "source": [
    "train_tokens = np.load(LM_PATH/'tmp'/'train_tokens.npy')\n",
    "valid_tokens = np.load(LM_PATH/'tmp'/'valid_tokens.npy')"
   ]
  },
  {
   "cell_type": "code",
   "execution_count": 35,
   "metadata": {
    "collapsed": true
   },
   "outputs": [],
   "source": [
    "max_vocab = 60000  #max words in vocabulary\n",
    "min_freq = 2  #minimum frequency of occurence "
   ]
  },
  {
   "cell_type": "code",
   "execution_count": 36,
   "metadata": {},
   "outputs": [
    {
     "data": {
      "text/plain": [
       "[('.', 864542),\n",
       " ('the', 826190),\n",
       " (',', 783314),\n",
       " ('\"', 667918),\n",
       " ('to', 485005),\n",
       " ('t_up', 403375),\n",
       " ('i', 388099),\n",
       " ('of', 369384),\n",
       " ('and', 367277),\n",
       " ('a', 366562),\n",
       " ('\\n', 358841),\n",
       " ('you', 351511),\n",
       " ('is', 308247),\n",
       " ('1', 289995),\n",
       " ('xbos', 281403),\n",
       " ('xfld', 281403),\n",
       " ('that', 267241),\n",
       " ('it', 249422),\n",
       " ('in', 241644),\n",
       " (':', 217794),\n",
       " ('=', 178517),\n",
       " ('for', 166892),\n",
       " ('this', 162590),\n",
       " ('not', 156593),\n",
       " ('-', 156559)]"
      ]
     },
     "execution_count": 36,
     "metadata": {},
     "output_type": "execute_result"
    }
   ],
   "source": [
    "freq = Counter(p for o in train_tokens for p in o)\n",
    "freq.most_common(25) #25 most common words"
   ]
  },
  {
   "cell_type": "code",
   "execution_count": 47,
   "metadata": {
    "collapsed": true
   },
   "outputs": [],
   "source": [
    "#create list of words with frequency that exceed min_freq\n",
    "int_to_str = [o for o,c in freq.most_common(max_vocab) if c > min_freq]"
   ]
  },
  {
   "cell_type": "code",
   "execution_count": 50,
   "metadata": {
    "collapsed": true
   },
   "outputs": [],
   "source": [
    "int_to_str.insert(0,'_pad_')\n",
    "int_to_str.insert(0,'_unk')"
   ]
  },
  {
   "cell_type": "code",
   "execution_count": 52,
   "metadata": {},
   "outputs": [
    {
     "data": {
      "text/plain": [
       "['_pad_',\n",
       " '.',\n",
       " 'the',\n",
       " ',',\n",
       " '\"',\n",
       " 'to',\n",
       " 't_up',\n",
       " 'i',\n",
       " 'of',\n",
       " 'and',\n",
       " 'a',\n",
       " '\\n',\n",
       " 'you',\n",
       " 'is',\n",
       " '1',\n",
       " 'xbos',\n",
       " 'xfld',\n",
       " 'that',\n",
       " 'it']"
      ]
     },
     "execution_count": 52,
     "metadata": {},
     "output_type": "execute_result"
    }
   ],
   "source": [
    "int_to_str[1:20]"
   ]
  },
  {
   "cell_type": "code",
   "execution_count": 51,
   "metadata": {},
   "outputs": [
    {
     "data": {
      "text/plain": [
       "60002"
      ]
     },
     "execution_count": 51,
     "metadata": {},
     "output_type": "execute_result"
    }
   ],
   "source": [
    "len(int_to_str)"
   ]
  },
  {
   "cell_type": "markdown",
   "metadata": {},
   "source": [
    "Initialize dictionary, str_to_int, such that each frequent word is assigned an index"
   ]
  },
  {
   "cell_type": "code",
   "execution_count": 53,
   "metadata": {},
   "outputs": [
    {
     "data": {
      "text/plain": [
       "60002"
      ]
     },
     "execution_count": 53,
     "metadata": {},
     "output_type": "execute_result"
    }
   ],
   "source": [
    "str_to_int = collections.defaultdict(lambda:0, {v:k for k,v in enumerate(int_to_str)})\n",
    "len(int_to_str)"
   ]
  },
  {
   "cell_type": "markdown",
   "metadata": {},
   "source": [
    "convert tokens to numerical value. use look up table (str_to_int)"
   ]
  },
  {
   "cell_type": "code",
   "execution_count": 54,
   "metadata": {
    "collapsed": true
   },
   "outputs": [],
   "source": [
    "train_lm = np.array([[str_to_int[o] for o in p] for p in train_tokens])\n",
    "valid_lm = np.array([[str_to_int[o] for o in p] for p in valid_tokens])"
   ]
  },
  {
   "cell_type": "code",
   "execution_count": 55,
   "metadata": {},
   "outputs": [
    {
     "data": {
      "text/plain": [
       "[12,\n",
       " 16,\n",
       " 17,\n",
       " 15,\n",
       " 736,\n",
       " 12,\n",
       " 104,\n",
       " 3,\n",
       " 170,\n",
       " 162,\n",
       " 208,\n",
       " 53,\n",
       " 720,\n",
       " 4440,\n",
       " 9431,\n",
       " 1320,\n",
       " 111,\n",
       " 387,\n",
       " 37,\n",
       " 66,\n",
       " 111,\n",
       " 43,\n",
       " 13765,\n",
       " 4,\n",
       " 74,\n",
       " 6697,\n",
       " 27,\n",
       " 83,\n",
       " 2536,\n",
       " 180,\n",
       " 8,\n",
       " 2782,\n",
       " 56,\n",
       " 143,\n",
       " 1217,\n",
       " 15569,\n",
       " 7,\n",
       " 2504,\n",
       " 2,\n",
       " 10,\n",
       " 76,\n",
       " 39,\n",
       " 43,\n",
       " 285,\n",
       " 3,\n",
       " 391,\n",
       " 54,\n",
       " 3,\n",
       " 75,\n",
       " 52,\n",
       " 173,\n",
       " 8,\n",
       " 100,\n",
       " 3733,\n",
       " 0]"
      ]
     },
     "execution_count": 55,
     "metadata": {},
     "output_type": "execute_result"
    }
   ],
   "source": [
    "train_lm[0]"
   ]
  },
  {
   "cell_type": "code",
   "execution_count": 56,
   "metadata": {
    "collapsed": true
   },
   "outputs": [],
   "source": [
    "np.save(LM_PATH/'tmp'/'train_ids.npy',train_lm)\n",
    "np.save(LM_PATH/'tmp'/'valid_ids.npy',valid_lm)\n",
    "pickle.dump(int_to_str,open(LM_PATH/'tmp'/'int_to_str.pkl','wb'))"
   ]
  },
  {
   "cell_type": "code",
   "execution_count": 36,
   "metadata": {
    "collapsed": true
   },
   "outputs": [],
   "source": [
    "train_lm = np.load(LM_PATH/'tmp'/'train_ids.npy')\n",
    "valid_lm = np.load(LM_PATH/'tmp'/'valid_ids.npy')\n",
    "int_to_str = pickle.load(open(LM_PATH/'tmp'/'int_to_str.pkl','rb'))"
   ]
  },
  {
   "cell_type": "code",
   "execution_count": 57,
   "metadata": {},
   "outputs": [
    {
     "data": {
      "text/plain": [
       "(60002, 281403)"
      ]
     },
     "execution_count": 57,
     "metadata": {},
     "output_type": "execute_result"
    }
   ],
   "source": [
    "len(int_to_str),len(train_lm)"
   ]
  },
  {
   "cell_type": "code",
   "execution_count": 58,
   "metadata": {
    "collapsed": true
   },
   "outputs": [],
   "source": [
    "vs = len(int_to_str)"
   ]
  },
  {
   "cell_type": "markdown",
   "metadata": {},
   "source": [
    "### wikitext103 conversion\n",
    "Above we converted the comment texts into integers. Now we are going to use a pretrained model (trained on wikipedia) which may not have the same overlapping integers of words as the imdb dataset, therefore we need to convert/map the comment text/integers to those used in the pretrained model. "
   ]
  },
  {
   "cell_type": "code",
   "execution_count": 59,
   "metadata": {
    "collapsed": true
   },
   "outputs": [],
   "source": [
    "PRE_TRAINED_LM = Path('/home/odenigborig/Github/fastai/courses/dl2/models/wt103')\n",
    "FWD_PRE_TRAINED_LM = PRE_TRAINED_LM/'fwd_wt103.h5' #forward language model "
   ]
  },
  {
   "cell_type": "code",
   "execution_count": 60,
   "metadata": {
    "collapsed": true
   },
   "outputs": [],
   "source": [
    "weights = torch.load(FWD_PRE_TRAINED_LM, map_location = lambda storage, loc: storage)"
   ]
  },
  {
   "cell_type": "code",
   "execution_count": 90,
   "metadata": {},
   "outputs": [
    {
     "name": "stdout",
     "output_type": "stream",
     "text": [
      "odict_keys(['0.encoder.weight', '0.encoder_with_dropout.embed.weight', '0.rnns.0.module.weight_ih_l0', '0.rnns.0.module.bias_ih_l0', '0.rnns.0.module.bias_hh_l0', '0.rnns.0.module.weight_hh_l0_raw', '0.rnns.1.module.weight_ih_l0', '0.rnns.1.module.bias_ih_l0', '0.rnns.1.module.bias_hh_l0', '0.rnns.1.module.weight_hh_l0_raw', '0.rnns.2.module.weight_ih_l0', '0.rnns.2.module.bias_ih_l0', '0.rnns.2.module.bias_hh_l0', '0.rnns.2.module.weight_hh_l0_raw', '1.decoder.weight'])\n"
     ]
    }
   ],
   "source": [
    "weights.keys()"
   ]
  },
  {
   "cell_type": "code",
   "execution_count": 61,
   "metadata": {},
   "outputs": [
    {
     "data": {
      "text/plain": [
       "torch.Size([238462, 400])"
      ]
     },
     "execution_count": 61,
     "metadata": {},
     "output_type": "execute_result"
    }
   ],
   "source": [
    "weights['0.encoder.weight'].shape"
   ]
  },
  {
   "cell_type": "code",
   "execution_count": 62,
   "metadata": {
    "collapsed": true
   },
   "outputs": [],
   "source": [
    "embed_dim = 400 #embedding dimensions to encode each token\n",
    "n_units = 1150  #number of hidden units per LSTM layer\n",
    "n_layers = 3    #number of LSTM layers"
   ]
  },
  {
   "cell_type": "code",
   "execution_count": 63,
   "metadata": {
    "collapsed": true
   },
   "outputs": [],
   "source": [
    "encoder_weights = to_np(weights['0.encoder.weight'])\n",
    "row_mean = encoder_weights.mean(0)"
   ]
  },
  {
   "cell_type": "code",
   "execution_count": 64,
   "metadata": {},
   "outputs": [
    {
     "data": {
      "text/plain": [
       "((400,), (238462, 400))"
      ]
     },
     "execution_count": 64,
     "metadata": {},
     "output_type": "execute_result"
    }
   ],
   "source": [
    "row_mean.shape,encoder_weights.shape"
   ]
  },
  {
   "cell_type": "code",
   "execution_count": 65,
   "metadata": {
    "collapsed": true
   },
   "outputs": [],
   "source": [
    "#load int_to_str data used in training wikitext103\n",
    "int_to_str2 = pickle.load((PRE_TRAINED_LM/'itos_wt103.pkl').open('rb'))\n",
    "str_to_int2 = collections.defaultdict(lambda:-1, {v:k for k,v in enumerate(int_to_str2)})"
   ]
  },
  {
   "cell_type": "markdown",
   "metadata": {},
   "source": [
    "match the strings from the kaggle dataset to corresponding string/index of the pretrained wikitext103 language model. this ensures the weights from the pretrained model are correctly assigned/copied over. if the text from the kaggle dataset is not present in the wikitext pretrained model, then assign the average weights across all world from the wikitext model."
   ]
  },
  {
   "cell_type": "code",
   "execution_count": 66,
   "metadata": {
    "collapsed": true
   },
   "outputs": [],
   "source": [
    "new_weights = np.zeros((vs,embed_dim),dtype=np.float32)\n",
    "for i,val in enumerate(int_to_str):\n",
    "    r = str_to_int2[val]   #find index of corresponding text in str_to_int2 (i.e. wikitext pretrained model)\n",
    "    new_weights[i] = encoder_weights[r] if r >= 0 else row_mean #if the text does not exist, assign the mean"
   ]
  },
  {
   "cell_type": "code",
   "execution_count": 67,
   "metadata": {
    "scrolled": true
   },
   "outputs": [
    {
     "data": {
      "text/plain": [
       "(60002, 400)"
      ]
     },
     "execution_count": 67,
     "metadata": {},
     "output_type": "execute_result"
    }
   ],
   "source": [
    "new_weights.shape"
   ]
  },
  {
   "cell_type": "code",
   "execution_count": 68,
   "metadata": {},
   "outputs": [
    {
     "data": {
      "text/plain": [
       "(torch.Size([238462, 400]), torch.Size([238462, 400]))"
      ]
     },
     "execution_count": 68,
     "metadata": {},
     "output_type": "execute_result"
    }
   ],
   "source": [
    "weights['0.encoder_with_dropout.embed.weight'].shape,weights['1.decoder.weight'].shape"
   ]
  },
  {
   "cell_type": "markdown",
   "metadata": {},
   "source": [
    "Overwrite the weights stores in the dictionary. The decoder module will also share the same weights. This idea is called weight tying."
   ]
  },
  {
   "cell_type": "code",
   "execution_count": 69,
   "metadata": {
    "collapsed": true
   },
   "outputs": [],
   "source": [
    "weights['0.encoder.weight'] = T(new_weights)  #convert to tensor\n",
    "weights['0.encoder_with_dropout.embed.weight'] = T(np.copy(new_weights))\n",
    "weights['1.decoder.weight'] = T(np.copy(new_weights))"
   ]
  },
  {
   "cell_type": "code",
   "execution_count": 70,
   "metadata": {},
   "outputs": [
    {
     "data": {
      "text/plain": [
       "(torch.Size([60002, 400]), torch.Size([60002, 400]), torch.Size([60002, 400]))"
      ]
     },
     "execution_count": 70,
     "metadata": {},
     "output_type": "execute_result"
    }
   ],
   "source": [
    "weights['0.encoder.weight'].shape,weights['0.encoder_with_dropout.embed.weight'].shape, weights['1.decoder.weight'].shape"
   ]
  },
  {
   "cell_type": "markdown",
   "metadata": {},
   "source": [
    "## Fine-tune language model\n",
    "with texts comments "
   ]
  },
  {
   "cell_type": "code",
   "execution_count": 71,
   "metadata": {
    "collapsed": true
   },
   "outputs": [],
   "source": [
    "weight_decay = 1e-7  #weight decay\n",
    "bptt = 70 #backpropagation thru time\n",
    "bs = 32   #batch size\n",
    "optim_fn = partial(optim.Adam, betas=(0.8,0.99))"
   ]
  },
  {
   "cell_type": "code",
   "execution_count": 72,
   "metadata": {
    "collapsed": true
   },
   "outputs": [],
   "source": [
    "train_dataloadr = LanguageModelLoader(np.concatenate(train_lm),bs,bptt)\n",
    "valid_dataloadr = LanguageModelLoader(np.concatenate(valid_lm),bs,bptt)\n",
    "model = LanguageModelData(PATH,pad_idx=1,n_tok=vs,trn_dl=train_dataloadr,val_dl=valid_dataloadr,bs=bs,bptt=bptt)"
   ]
  },
  {
   "cell_type": "code",
   "execution_count": 73,
   "metadata": {},
   "outputs": [
    {
     "data": {
      "text/plain": [
       "array([0.175, 0.07 , 0.14 , 0.014, 0.105])"
      ]
     },
     "execution_count": 73,
     "metadata": {},
     "output_type": "execute_result"
    }
   ],
   "source": [
    "dropouts = np.array([0.25,0.1,0.2,0.02,0.15])*0.7\n",
    "dropouts"
   ]
  },
  {
   "cell_type": "code",
   "execution_count": 74,
   "metadata": {
    "collapsed": true
   },
   "outputs": [],
   "source": [
    "learner = model.get_model(optim_fn,embed_dim,n_units,n_layers,\n",
    "                          dropouti=dropouts[0],dropout=dropouts[1],\n",
    "                          wdrop=dropouts[2],dropoute=dropouts[3],\n",
    "                          dropouth=dropouts[4])\n",
    "learner.metrics = [accuracy]\n",
    "learner.unfreeze()"
   ]
  },
  {
   "cell_type": "code",
   "execution_count": 75,
   "metadata": {
    "collapsed": true
   },
   "outputs": [],
   "source": [
    "learner.model.load_state_dict(weights)"
   ]
  },
  {
   "cell_type": "code",
   "execution_count": 76,
   "metadata": {
    "collapsed": true
   },
   "outputs": [],
   "source": [
    "lr = 1e-3\n",
    "lrs = lr"
   ]
  },
  {
   "cell_type": "code",
   "execution_count": 77,
   "metadata": {},
   "outputs": [
    {
     "data": {
      "application/vnd.jupyter.widget-view+json": {
       "model_id": "2ca4c092ef0e4a849842cac2b9a435ef",
       "version_major": 2,
       "version_minor": 0
      },
      "text/plain": [
       "HBox(children=(IntProgress(value=0, description='Epoch', max=1), HTML(value='')))"
      ]
     },
     "metadata": {},
     "output_type": "display_data"
    },
    {
     "name": "stdout",
     "output_type": "stream",
     "text": [
      "epoch      trn_loss   val_loss   accuracy                       \n",
      "    0      4.018563   3.76266    0.359482  \n",
      "\n"
     ]
    },
    {
     "data": {
      "text/plain": [
       "[array([3.76266]), 0.3594822928909128]"
      ]
     },
     "execution_count": 77,
     "metadata": {},
     "output_type": "execute_result"
    }
   ],
   "source": [
    "learner.fit(lrs/2,1,wds=weight_decay,use_clr=(32,2),cycle_len=1)"
   ]
  },
  {
   "cell_type": "markdown",
   "metadata": {},
   "source": [
    "The accuracy reports how well the language model predicts the target word correctly. It's useful to check for the language model, but it's not factored into the loss function as it is quire bumpy. Instead, minimize the cross-entropy loss. \n",
    "\n",
    "the exponent of the cross-entropy loss is called the perplexity of the LM (lower perplexity is better)"
   ]
  },
  {
   "cell_type": "code",
   "execution_count": 78,
   "metadata": {
    "collapsed": true
   },
   "outputs": [],
   "source": [
    "learner.save('LM_last_finetune')\n",
    "#learner.load('LM_last_finetune')"
   ]
  },
  {
   "cell_type": "code",
   "execution_count": 79,
   "metadata": {
    "collapsed": true
   },
   "outputs": [],
   "source": [
    "learner.unfreeze()"
   ]
  },
  {
   "cell_type": "code",
   "execution_count": 80,
   "metadata": {},
   "outputs": [
    {
     "data": {
      "application/vnd.jupyter.widget-view+json": {
       "model_id": "8529e18bb7a040d791fae90b0c7190bc",
       "version_major": 2,
       "version_minor": 0
      },
      "text/plain": [
       "HBox(children=(IntProgress(value=0, description='Epoch', max=1), HTML(value='')))"
      ]
     },
     "metadata": {},
     "output_type": "display_data"
    },
    {
     "name": "stdout",
     "output_type": "stream",
     "text": [
      "epoch      trn_loss   val_loss   accuracy                       \n",
      "    0      4.514437   4.309142   0.309737  \n",
      "\n"
     ]
    }
   ],
   "source": [
    "learner.lr_find(start_lr=lrs/10,end_lr=lrs*10,linear=True)"
   ]
  },
  {
   "cell_type": "code",
   "execution_count": 81,
   "metadata": {},
   "outputs": [
    {
     "data": {
      "image/png": "[encoded data removed]",
      "text/plain": [
       "<Figure size 432x288 with 1 Axes>"
      ]
     },
     "metadata": {},
     "output_type": "display_data"
    }
   ],
   "source": [
    "learner.sched.plot()"
   ]
  },
  {
   "cell_type": "code",
   "execution_count": 82,
   "metadata": {},
   "outputs": [
    {
     "data": {
      "application/vnd.jupyter.widget-view+json": {
       "model_id": "bade43d340604317ad283cbf3ece2ba7",
       "version_major": 2,
       "version_minor": 0
      },
      "text/plain": [
       "HBox(children=(IntProgress(value=0, description='Epoch', max=15), HTML(value='')))"
      ]
     },
     "metadata": {},
     "output_type": "display_data"
    },
    {
     "name": "stdout",
     "output_type": "stream",
     "text": [
      "epoch      trn_loss   val_loss   accuracy                       \n",
      "    0      3.963872   3.743951   0.362484  \n",
      "    1      3.886291   3.714686   0.366242                       \n",
      "    2      3.844792   3.681869   0.371386                       \n",
      "    3      3.816806   3.656637   0.374708                       \n",
      "    4      3.787066   3.637713   0.37698                        \n",
      "    5      3.7537     3.622993   0.379264                       \n",
      "    6      3.739078   3.614812   0.380887                       \n",
      "    7      3.762692   3.602606   0.381816                       \n",
      "    8      3.733348   3.591303   0.383129                       \n",
      "    9      3.702831   3.586871   0.384253                       \n",
      "    10     3.669114   3.582836   0.385003                       \n",
      "    11     3.647921   3.573874   0.386374                       \n",
      "    12     3.633496   3.568526   0.387269                       \n",
      "    13     3.640911   3.562581   0.388075                       \n",
      "    14     3.601844   3.558244   0.388717                       \n",
      "\n"
     ]
    },
    {
     "data": {
      "text/plain": [
       "[array([3.55824]), 0.3887172775010701]"
      ]
     },
     "execution_count": 82,
     "metadata": {},
     "output_type": "execute_result"
    }
   ],
   "source": [
    "learner.fit(lrs,1,wds=weight_decay,use_clr=(20,10),cycle_len=15)"
   ]
  },
  {
   "cell_type": "code",
   "execution_count": 83,
   "metadata": {
    "collapsed": true
   },
   "outputs": [],
   "source": [
    "learner.save('LM1')\n",
    "learner.save_encoder('LM1_encoder')\n",
    "learner.save('LM1_last')"
   ]
  },
  {
   "cell_type": "code",
   "execution_count": 84,
   "metadata": {},
   "outputs": [
    {
     "data": {
      "image/png": "[encoded data removed]",
      "text/plain": [
       "<Figure size 432x288 with 1 Axes>"
      ]
     },
     "metadata": {},
     "output_type": "display_data"
    }
   ],
   "source": [
    "learner.sched.plot_loss()"
   ]
  },
  {
   "cell_type": "code",
   "execution_count": 107,
   "metadata": {
    "collapsed": true
   },
   "outputs": [],
   "source": [
    "#learner.load('LM1')"
   ]
  },
  {
   "cell_type": "markdown",
   "metadata": {},
   "source": [
    "## Text Classification on toxic comments\n",
    "\n",
    "### Prepare data"
   ]
  },
  {
   "cell_type": "code",
   "execution_count": 42,
   "metadata": {
    "collapsed": true,
    "scrolled": true
   },
   "outputs": [],
   "source": [
    "df_data = pd.read_csv(PATH/'tmp'/'df_data_binary.csv')\n",
    "\n",
    "df_train_class,df_rest_class = train_test_split(df_data,test_size=0.2)\n",
    "df_valid_class,df_test_class = train_test_split(df_data,test_size=0.075)"
   ]
  },
  {
   "cell_type": "code",
   "execution_count": 43,
   "metadata": {},
   "outputs": [
    {
     "data": {
      "text/html": [
       "<div>\n",
       "<style scoped>\n",
       "    .dataframe tbody tr th:only-of-type {\n",
       "        vertical-align: middle;\n",
       "    }\n",
       "\n",
       "    .dataframe tbody tr th {\n",
       "        vertical-align: top;\n",
       "    }\n",
       "\n",
       "    .dataframe thead th {\n",
       "        text-align: right;\n",
       "    }\n",
       "</style>\n",
       "<table border=\"1\" class=\"dataframe\">\n",
       "  <thead>\n",
       "    <tr style=\"text-align: right;\">\n",
       "      <th></th>\n",
       "      <th>not_toxic</th>\n",
       "      <th>comment_text</th>\n",
       "    </tr>\n",
       "  </thead>\n",
       "  <tbody>\n",
       "    <tr>\n",
       "      <th>145445</th>\n",
       "      <td>1</td>\n",
       "      <td>Ch ch ch ch changes\\nI'm converting this list ...</td>\n",
       "    </tr>\n",
       "    <tr>\n",
       "      <th>25211</th>\n",
       "      <td>1</td>\n",
       "      <td>\"__TOC__\\n\\n  Hello ! Welcome to Wikipedia! Th...</td>\n",
       "    </tr>\n",
       "    <tr>\n",
       "      <th>10468</th>\n",
       "      <td>1</td>\n",
       "      <td>\", 19 March 2007 (UTC)\\n\\nIf I really had my w...</td>\n",
       "    </tr>\n",
       "    <tr>\n",
       "      <th>96957</th>\n",
       "      <td>1</td>\n",
       "      <td>\"\\n\\nProbably not in the infobox.  If it's rel...</td>\n",
       "    </tr>\n",
       "    <tr>\n",
       "      <th>68067</th>\n",
       "      <td>1</td>\n",
       "      <td>P.S. - I was the one who created the music art...</td>\n",
       "    </tr>\n",
       "  </tbody>\n",
       "</table>\n",
       "</div>"
      ],
      "text/plain": [
       "        not_toxic                                       comment_text\n",
       "145445          1  Ch ch ch ch changes\\nI'm converting this list ...\n",
       "25211           1  \"__TOC__\\n\\n  Hello ! Welcome to Wikipedia! Th...\n",
       "10468           1  \", 19 March 2007 (UTC)\\n\\nIf I really had my w...\n",
       "96957           1  \"\\n\\nProbably not in the infobox.  If it's rel...\n",
       "68067           1  P.S. - I was the one who created the music art..."
      ]
     },
     "metadata": {},
     "output_type": "display_data"
    },
    {
     "data": {
      "text/html": [
       "<div>\n",
       "<style scoped>\n",
       "    .dataframe tbody tr th:only-of-type {\n",
       "        vertical-align: middle;\n",
       "    }\n",
       "\n",
       "    .dataframe tbody tr th {\n",
       "        vertical-align: top;\n",
       "    }\n",
       "\n",
       "    .dataframe thead th {\n",
       "        text-align: right;\n",
       "    }\n",
       "</style>\n",
       "<table border=\"1\" class=\"dataframe\">\n",
       "  <thead>\n",
       "    <tr style=\"text-align: right;\">\n",
       "      <th></th>\n",
       "      <th>not_toxic</th>\n",
       "      <th>comment_text</th>\n",
       "    </tr>\n",
       "  </thead>\n",
       "  <tbody>\n",
       "    <tr>\n",
       "      <th>22442</th>\n",
       "      <td>1</td>\n",
       "      <td>What about the arcade game? \\n\\nI saw a crimso...</td>\n",
       "    </tr>\n",
       "    <tr>\n",
       "      <th>74580</th>\n",
       "      <td>1</td>\n",
       "      <td>Wikisource\\nIf you regret it so much, why did ...</td>\n",
       "    </tr>\n",
       "    <tr>\n",
       "      <th>11270</th>\n",
       "      <td>1</td>\n",
       "      <td>\"\\n The information was quite correct, and man...</td>\n",
       "    </tr>\n",
       "    <tr>\n",
       "      <th>84020</th>\n",
       "      <td>1</td>\n",
       "      <td>This article is still locked i wanted to chang...</td>\n",
       "    </tr>\n",
       "    <tr>\n",
       "      <th>27709</th>\n",
       "      <td>1</td>\n",
       "      <td>Fair enough, but referring to it as offensive ...</td>\n",
       "    </tr>\n",
       "  </tbody>\n",
       "</table>\n",
       "</div>"
      ],
      "text/plain": [
       "       not_toxic                                       comment_text\n",
       "22442          1  What about the arcade game? \\n\\nI saw a crimso...\n",
       "74580          1  Wikisource\\nIf you regret it so much, why did ...\n",
       "11270          1  \"\\n The information was quite correct, and man...\n",
       "84020          1  This article is still locked i wanted to chang...\n",
       "27709          1  Fair enough, but referring to it as offensive ..."
      ]
     },
     "metadata": {},
     "output_type": "display_data"
    },
    {
     "data": {
      "text/plain": [
       "(None, None)"
      ]
     },
     "execution_count": 43,
     "metadata": {},
     "output_type": "execute_result"
    }
   ],
   "source": [
    "display(df_train_class.head()),display(df_valid_class.head())"
   ]
  },
  {
   "cell_type": "code",
   "execution_count": 44,
   "metadata": {},
   "outputs": [
    {
     "data": {
      "text/plain": [
       "(127656, 147603, 11968)"
      ]
     },
     "execution_count": 44,
     "metadata": {},
     "output_type": "execute_result"
    }
   ],
   "source": [
    "len(df_train_class),len(df_valid_class),len(df_test_class)"
   ]
  },
  {
   "cell_type": "code",
   "execution_count": 45,
   "metadata": {},
   "outputs": [
    {
     "data": {
      "text/plain": [
       "(0.8975606316976875, 0.8980373027648489, 0.9018215240641712)"
      ]
     },
     "execution_count": 45,
     "metadata": {},
     "output_type": "execute_result"
    }
   ],
   "source": [
    "sum(df_train_class['not_toxic'])/len(df_train_class),sum(df_valid_class['not_toxic'])/len(df_valid_class),sum(df_test_class['not_toxic'])/len(df_test_class)"
   ]
  },
  {
   "cell_type": "code",
   "execution_count": 46,
   "metadata": {},
   "outputs": [
    {
     "data": {
      "text/html": [
       "<div>\n",
       "<style scoped>\n",
       "    .dataframe tbody tr th:only-of-type {\n",
       "        vertical-align: middle;\n",
       "    }\n",
       "\n",
       "    .dataframe tbody tr th {\n",
       "        vertical-align: top;\n",
       "    }\n",
       "\n",
       "    .dataframe thead th {\n",
       "        text-align: right;\n",
       "    }\n",
       "</style>\n",
       "<table border=\"1\" class=\"dataframe\">\n",
       "  <thead>\n",
       "    <tr style=\"text-align: right;\">\n",
       "      <th></th>\n",
       "      <th>0</th>\n",
       "      <th>1</th>\n",
       "    </tr>\n",
       "  </thead>\n",
       "  <tbody>\n",
       "    <tr>\n",
       "      <th>0</th>\n",
       "      <td>1</td>\n",
       "      <td>Ch ch ch ch changes\\nI'm converting this list ...</td>\n",
       "    </tr>\n",
       "    <tr>\n",
       "      <th>1</th>\n",
       "      <td>1</td>\n",
       "      <td>\"__TOC__\\n\\n  Hello ! Welcome to Wikipedia! Th...</td>\n",
       "    </tr>\n",
       "    <tr>\n",
       "      <th>2</th>\n",
       "      <td>1</td>\n",
       "      <td>\", 19 March 2007 (UTC)\\n\\nIf I really had my w...</td>\n",
       "    </tr>\n",
       "    <tr>\n",
       "      <th>3</th>\n",
       "      <td>1</td>\n",
       "      <td>\"\\n\\nProbably not in the infobox.  If it's rel...</td>\n",
       "    </tr>\n",
       "    <tr>\n",
       "      <th>4</th>\n",
       "      <td>1</td>\n",
       "      <td>P.S. - I was the one who created the music art...</td>\n",
       "    </tr>\n",
       "  </tbody>\n",
       "</table>\n",
       "</div>"
      ],
      "text/plain": [
       "   0                                                  1\n",
       "0  1  Ch ch ch ch changes\\nI'm converting this list ...\n",
       "1  1  \"__TOC__\\n\\n  Hello ! Welcome to Wikipedia! Th...\n",
       "2  1  \", 19 March 2007 (UTC)\\n\\nIf I really had my w...\n",
       "3  1  \"\\n\\nProbably not in the infobox.  If it's rel...\n",
       "4  1  P.S. - I was the one who created the music art..."
      ]
     },
     "execution_count": 46,
     "metadata": {},
     "output_type": "execute_result"
    }
   ],
   "source": [
    "#re-label columns as 0 & 1 for use in get_all function\n",
    "col_names = [0,1] \n",
    "\n",
    "df_train_class.index = np.arange(len(df_train_class))\n",
    "df_train_class.columns = col_names\n",
    "df_valid_class.index = np.arange(len(df_valid_class))\n",
    "df_valid_class.columns = col_names\n",
    "df_test_class.index = np.arange(len(df_test_class))\n",
    "df_test_class.columns = col_names\n",
    "\n",
    "df_train_class.head()"
   ]
  },
  {
   "cell_type": "code",
   "execution_count": 50,
   "metadata": {
    "collapsed": true,
    "scrolled": true
   },
   "outputs": [],
   "source": [
    "train_tokens,train_labels = get_all(df_train_class,1)\n",
    "valid_tokens,valid_labels = get_all(df_valid_class,1)\n",
    "test_tokens,test_labels = get_all(df_test_class,1)"
   ]
  },
  {
   "cell_type": "code",
   "execution_count": 51,
   "metadata": {
    "collapsed": true
   },
   "outputs": [
    {
     "data": {
      "text/plain": [
       "['\\n',\n",
       " 'xbos',\n",
       " 'xfld',\n",
       " '1',\n",
       " 'no',\n",
       " ',',\n",
       " 'it',\n",
       " \"'s\",\n",
       " 'not',\n",
       " 'a',\n",
       " 'delayed',\n",
       " 'reaction',\n",
       " '\\n\\n',\n",
       " 'i',\n",
       " 'just',\n",
       " 'happened',\n",
       " 'to',\n",
       " 'read',\n",
       " 'your',\n",
       " 'wonderful',\n",
       " 'warning',\n",
       " 'yesterday',\n",
       " '.',\n",
       " 'unlike',\n",
       " 'you',\n",
       " ',',\n",
       " 'i',\n",
       " 'do',\n",
       " \"n't\",\n",
       " 'visit',\n",
       " 'wikipedia',\n",
       " 'everyday',\n",
       " '.',\n",
       " 'but',\n",
       " 'i',\n",
       " \"'m\",\n",
       " 'surprised',\n",
       " 'to',\n",
       " 'see',\n",
       " 'that',\n",
       " 'you',\n",
       " 'are',\n",
       " 'too',\n",
       " 'dense',\n",
       " 'to',\n",
       " 'figure',\n",
       " 'that',\n",
       " 'out',\n",
       " '.',\n",
       " '\\n\\n',\n",
       " 'idiot',\n",
       " '.',\n",
       " 'tk_wrep',\n",
       " '5',\n",
       " 'ha',\n",
       " 'xd']"
      ]
     },
     "execution_count": 51,
     "metadata": {},
     "output_type": "execute_result"
    }
   ],
   "source": [
    "valid_tokens[10]"
   ]
  },
  {
   "cell_type": "code",
   "execution_count": 52,
   "metadata": {
    "collapsed": true
   },
   "outputs": [],
   "source": [
    "#save tokens and labels\n",
    "(CLASSIFIER_PATH/'tmp').mkdir(exist_ok=True)\n",
    "np.save(CLASSIFIER_PATH/'tmp'/'train_tokens.npy',train_tokens)\n",
    "np.save(CLASSIFIER_PATH/'tmp'/'valid_tokens.npy',valid_tokens)\n",
    "np.save(CLASSIFIER_PATH/'tmp'/'test_tokens.npy',test_tokens)\n",
    "\n",
    "np.save(CLASSIFIER_PATH/'tmp'/'train_labels.npy',train_labels)\n",
    "np.save(CLASSIFIER_PATH/'tmp'/'valid_labels.npy',valid_labels)\n",
    "np.save(CLASSIFIER_PATH/'tmp'/'test_labels.npy',test_labels)\n"
   ]
  },
  {
   "cell_type": "code",
   "execution_count": 5,
   "metadata": {
    "collapsed": true
   },
   "outputs": [],
   "source": [
    "train_tokens = np.load(CLASSIFIER_PATH/'tmp'/'train_tokens.npy')\n",
    "valid_tokens = np.load(CLASSIFIER_PATH/'tmp'/'valid_tokens.npy')\n",
    "test_tokens = np.load(CLASSIFIER_PATH/'tmp'/'test_tokens.npy')"
   ]
  },
  {
   "cell_type": "code",
   "execution_count": 53,
   "metadata": {},
   "outputs": [
    {
     "data": {
      "text/plain": [
       "60002"
      ]
     },
     "execution_count": 53,
     "metadata": {},
     "output_type": "execute_result"
    }
   ],
   "source": [
    "int_to_str = pickle.load((LM_PATH/'tmp'/'int_to_str.pkl').open('rb'))\n",
    "str_to_int = collections.defaultdict(lambda:0, {v:k for k,v in enumerate(int_to_str)})\n",
    "len(int_to_str)"
   ]
  },
  {
   "cell_type": "markdown",
   "metadata": {},
   "source": [
    "Map the token ids used in the language model to the tokens created from the toxic comments data"
   ]
  },
  {
   "cell_type": "code",
   "execution_count": 54,
   "metadata": {
    "collapsed": true
   },
   "outputs": [],
   "source": [
    "train_class_inds = np.array([[str_to_int[o] for o in p] for p in train_tokens])\n",
    "valid_class_inds = np.array([[str_to_int[o] for o in p] for p in valid_tokens])\n",
    "test_class_inds = np.array([[str_to_int[o] for o in p] for p in test_tokens])"
   ]
  },
  {
   "cell_type": "code",
   "execution_count": 55,
   "metadata": {
    "collapsed": true
   },
   "outputs": [],
   "source": [
    "#save data\n",
    "np.save(CLASSIFIER_PATH/'tmp'/'train_ids.npy',train_class_inds)\n",
    "np.save(CLASSIFIER_PATH/'tmp'/'valid_ids.npy',valid_class_inds)\n",
    "np.save(CLASSIFIER_PATH/'tmp'/'test_ids.npy',test_class_inds)"
   ]
  },
  {
   "cell_type": "markdown",
   "metadata": {},
   "source": [
    "\n"
   ]
  },
  {
   "cell_type": "code",
   "execution_count": 6,
   "metadata": {
    "ExecuteTime": {
     "end_time": "2018-05-16T02:12:52.023652Z",
     "start_time": "2018-05-16T02:12:48.838715Z"
    },
    "collapsed": true
   },
   "outputs": [],
   "source": [
    "train_class_inds = np.load(CLASSIFIER_PATH/'tmp'/'train_ids.npy')\n",
    "valid_class_inds = np.load(CLASSIFIER_PATH/'tmp'/'valid_ids.npy')\n",
    "test_class_inds = np.load(CLASSIFIER_PATH/'tmp'/'test_ids.npy')\n",
    "\n",
    "#reverse the sign of the labels, such that toxic = 1 and not_toxic = 0\n",
    "train_labels = 1 - np.squeeze(np.load(CLASSIFIER_PATH/'tmp'/'train_labels.npy'))\n",
    "valid_labels = 1 - np.squeeze(np.load(CLASSIFIER_PATH/'tmp'/'valid_labels.npy'))\n",
    "test_labels = 1 - np.squeeze(np.load(CLASSIFIER_PATH/'tmp'/'test_labels.npy'))\n",
    "\n",
    "int_to_str = pickle.load((LM_PATH/'tmp'/'int_to_str.pkl').open('rb'))\n",
    "str_to_int = collections.defaultdict(lambda:0, {v:k for k,v in enumerate(int_to_str)})\n"
   ]
  },
  {
   "cell_type": "markdown",
   "metadata": {},
   "source": [
    "### Create model dataloader. \n",
    "\n",
    "First we will need to pad the sequences to the same length in each batch. To create batches of the same size, we use the SortishSampler. The SortishSampler cuts down the overall number of padding tokens fed into the classifier."
   ]
  },
  {
   "cell_type": "code",
   "execution_count": 9,
   "metadata": {
    "ExecuteTime": {
     "end_time": "2018-05-16T02:14:30.548613Z",
     "start_time": "2018-05-16T02:14:30.540861Z"
    },
    "collapsed": true
   },
   "outputs": [],
   "source": [
    "bs = 16           #batch size\n",
    "\n",
    "train_dataset = TextDataset(train_class_inds,train_labels) \n",
    "valid_dataset = TextDataset(valid_class_inds,valid_labels)\n",
    "test_dataset = TextDataset(test_class_inds,test_labels)\n",
    "\n",
    "train_sampler = SortishSampler(train_class_inds,key=lambda x: len(train_class_inds),bs=bs//2)\n",
    "valid_sampler = SortSampler(valid_class_inds,key=lambda x: len(valid_class_inds[x]))\n",
    "test_sampler = SortSampler(test_class_inds,key=lambda x: len(test_class_inds[x]))\n",
    "\n",
    "train_dataloader = DataLoader(train_dataset,bs//2,transpose=True,num_workers=1,pad_idx=1,sampler=train_sampler)\n",
    "valid_dataloader = DataLoader(valid_dataset,bs,transpose=True,num_workers=1,pad_idx=1,sampler=valid_sampler)\n",
    "test_dataloader = DataLoader(test_dataset,bs,transpose=True,num_workers=1,pad_idx=1,sampler=test_sampler)\n",
    "\n",
    "model = ModelData(PATH,train_dataloader,valid_dataloader,test_dataloader)"
   ]
  },
  {
   "cell_type": "markdown",
   "metadata": {},
   "source": [
    "### Create RNN Classifier\n",
    "As mentioned above, our classifier consists of 3 LSTM (AWD-LSTM) layers followed by 2 linear layers (including the classification layer)."
   ]
  },
  {
   "cell_type": "code",
   "execution_count": 10,
   "metadata": {
    "ExecuteTime": {
     "end_time": "2018-05-16T02:14:38.528694Z",
     "start_time": "2018-05-16T02:14:38.524270Z"
    },
    "collapsed": true
   },
   "outputs": [],
   "source": [
    "embed_dim = 400   #embedding dimensions to encode each token\n",
    "n_units = 1150    #number of hidden activation units per LSTM layer\n",
    "n_layers = 3      #number of LSTM layers\n",
    "vocab_size = len(int_to_str) #number of tokens/vocabulary size\n",
    "bptt = 70         #batch size for back prop thru time  \n",
    "dropouts = np.array([0.4,0.5,0.05,0.3,0.4])*0.5 #dropout for each layer of the model"
   ]
  },
  {
   "cell_type": "code",
   "execution_count": 11,
   "metadata": {
    "ExecuteTime": {
     "end_time": "2018-05-16T02:14:39.564442Z",
     "start_time": "2018-05-16T02:14:39.559272Z"
    }
   },
   "outputs": [
    {
     "data": {
      "text/plain": [
       "2"
      ]
     },
     "execution_count": 11,
     "metadata": {},
     "output_type": "execute_result"
    }
   ],
   "source": [
    "n_cats = int(train_labels.max()) + 1 #number of categories or classes\n",
    "n_cats"
   ]
  },
  {
   "cell_type": "markdown",
   "metadata": {},
   "source": [
    "Create RNN classifier object. "
   ]
  },
  {
   "cell_type": "code",
   "execution_count": 11,
   "metadata": {
    "collapsed": true
   },
   "outputs": [],
   "source": [
    "m = get_rnn_classifer(bptt,max_seq=20*70,n_class=n_cats,n_tok=vocab_size,emb_sz=embed_dim,n_hid=n_units,\n",
    "                      n_layers=n_layers,pad_token=1,layers=[embed_dim*3,5,n_cats],\n",
    "                      drops=[dropouts[4],0.1],dropouti=dropouts[0],wdrop=dropouts[1],\n",
    "                      dropoute=dropouts[2],dropouth=dropouts[3])"
   ]
  },
  {
   "cell_type": "code",
   "execution_count": 17,
   "metadata": {
    "ExecuteTime": {
     "end_time": "2018-05-16T02:16:09.416687Z",
     "start_time": "2018-05-16T02:16:09.413409Z"
    },
    "collapsed": true
   },
   "outputs": [],
   "source": [
    "optim_fn = partial(optim.Adam, betas=(0.7,0.99))"
   ]
  },
  {
   "cell_type": "code",
   "execution_count": 33,
   "metadata": {
    "collapsed": true
   },
   "outputs": [],
   "source": [
    "torch.cuda.empty_cache()"
   ]
  },
  {
   "cell_type": "markdown",
   "metadata": {},
   "source": [
    "Create RNN learner object"
   ]
  },
  {
   "cell_type": "code",
   "execution_count": 13,
   "metadata": {
    "collapsed": true
   },
   "outputs": [],
   "source": [
    "learn = RNN_Learner(model, TextModel(to_gpu(m)),opt_fn=optim_fn)\n",
    "learn.reg_fn = partial(seq2seq_reg,alpha=2,beta=1) #regularization function\n",
    "learn.clip = 25.   #gradient clipping\n",
    "learn.metrics = [accuracy]"
   ]
  },
  {
   "cell_type": "markdown",
   "metadata": {},
   "source": [
    "**Discriminative learning rates:** enables different learning rates for each layer of the model"
   ]
  },
  {
   "cell_type": "code",
   "execution_count": 13,
   "metadata": {
    "ExecuteTime": {
     "end_time": "2018-05-16T02:14:50.719033Z",
     "start_time": "2018-05-16T02:14:50.715793Z"
    },
    "collapsed": true
   },
   "outputs": [],
   "source": [
    "lrs = np.array([1e-4,1e-4,1e-4,1e-3,1e-2])"
   ]
  },
  {
   "cell_type": "code",
   "execution_count": 12,
   "metadata": {
    "ExecuteTime": {
     "end_time": "2018-05-16T02:14:47.980431Z",
     "start_time": "2018-05-16T02:14:47.977341Z"
    },
    "collapsed": true
   },
   "outputs": [],
   "source": [
    "weight_decay=1e-7"
   ]
  },
  {
   "cell_type": "markdown",
   "metadata": {},
   "source": [
    "Use the lr_find function to find appropriate learning rate."
   ]
  },
  {
   "cell_type": "code",
   "execution_count": 73,
   "metadata": {},
   "outputs": [
    {
     "data": {
      "application/vnd.jupyter.widget-view+json": {
       "model_id": "830b90e12b294e2d97271ca6f1885723",
       "version_major": 2,
       "version_minor": 0
      },
      "text/plain": [
       "HBox(children=(IntProgress(value=0, description='Epoch', max=1), HTML(value='')))"
      ]
     },
     "metadata": {},
     "output_type": "display_data"
    },
    {
     "name": "stdout",
     "output_type": "stream",
     "text": [
      " 77%|███████▋  | 12360/15957 [1:02:07<18:04,  3.32it/s, loss=0.699]"
     ]
    }
   ],
   "source": [
    "learn.lr_find(lrs/1000)"
   ]
  },
  {
   "cell_type": "markdown",
   "metadata": {},
   "source": [
    "if out of memory run: \n",
    "\n",
    "**torch.cuda.empty_cache()**\n"
   ]
  },
  {
   "cell_type": "code",
   "execution_count": 74,
   "metadata": {},
   "outputs": [
    {
     "data": {
      "image/png": "[encoded data removed]",
      "text/plain": [
       "<Figure size 432x288 with 1 Axes>"
      ]
     },
     "metadata": {},
     "output_type": "display_data"
    }
   ],
   "source": [
    "learn.sched.plot()"
   ]
  },
  {
   "cell_type": "markdown",
   "metadata": {},
   "source": [
    "\n",
    "\n",
    "Freeze all the but the last layer and train the model to predict the labels. currently using cross_entropy loss."
   ]
  },
  {
   "cell_type": "code",
   "execution_count": 75,
   "metadata": {
    "collapsed": true
   },
   "outputs": [],
   "source": [
    "learn.freeze_to(-1)"
   ]
  },
  {
   "cell_type": "code",
   "execution_count": 76,
   "metadata": {},
   "outputs": [
    {
     "data": {
      "application/vnd.jupyter.widget-view+json": {
       "model_id": "52fa00e46a3147adb518991086693a56",
       "version_major": 2,
       "version_minor": 0
      },
      "text/plain": [
       "HBox(children=(IntProgress(value=0, description='Epoch', max=1), HTML(value='')))"
      ]
     },
     "metadata": {},
     "output_type": "display_data"
    },
    {
     "name": "stdout",
     "output_type": "stream",
     "text": [
      "epoch      trn_loss   val_loss   accuracy   \n",
      "    0      0.31396    0.299147   0.912899  \n"
     ]
    },
    {
     "data": {
      "text/plain": [
       "[array([0.29915]), 0.9128992750143331]"
      ]
     },
     "execution_count": 76,
     "metadata": {},
     "output_type": "execute_result"
    }
   ],
   "source": [
    "learn.fit(lrs,1,wds=weight_decay,cycle_len=1,use_clr=(8,3))"
   ]
  },
  {
   "cell_type": "markdown",
   "metadata": {},
   "source": [
    "Already getting 91.3% without the pretrained language model! Better than 91.2% obtained by https://arxiv.org/pdf/1802.09957v1.pdf\n",
    "\n",
    "there's reason to be skeptical because of the huge class imbalance. "
   ]
  },
  {
   "cell_type": "code",
   "execution_count": 78,
   "metadata": {
    "collapsed": true
   },
   "outputs": [],
   "source": [
    "learn.save('classifier_0') #without pretrained backbone."
   ]
  },
  {
   "cell_type": "markdown",
   "metadata": {},
   "source": [
    "Load the pretrained langauge model weights (i.e. backbone) 'LM1_encoder'. Freeze all but the last layer and train. "
   ]
  },
  {
   "cell_type": "code",
   "execution_count": 79,
   "metadata": {
    "collapsed": true
   },
   "outputs": [],
   "source": [
    "learn.load_encoder('LM1_encoder')\n",
    "learn.freeze_to(-1)"
   ]
  },
  {
   "cell_type": "code",
   "execution_count": 80,
   "metadata": {},
   "outputs": [
    {
     "data": {
      "application/vnd.jupyter.widget-view+json": {
       "model_id": "1765ad4b76154e95a53d6e11599dd455",
       "version_major": 2,
       "version_minor": 0
      },
      "text/plain": [
       "HBox(children=(IntProgress(value=0, description='Epoch', max=1), HTML(value='')))"
      ]
     },
     "metadata": {},
     "output_type": "display_data"
    },
    {
     "name": "stdout",
     "output_type": "stream",
     "text": [
      "epoch      trn_loss   val_loss   accuracy   \n",
      "    0      0.193794   0.123699   0.954086  \n"
     ]
    },
    {
     "data": {
      "text/plain": [
       "[array([0.1237]), 0.9540862062840259]"
      ]
     },
     "execution_count": 80,
     "metadata": {},
     "output_type": "execute_result"
    }
   ],
   "source": [
    "learn.fit(lrs,1,wds=weight_decay,cycle_len=1,use_clr=(8,3))"
   ]
  },
  {
   "cell_type": "markdown",
   "metadata": {},
   "source": [
    "Loss decreased, but accuracy unchanged. "
   ]
  },
  {
   "cell_type": "code",
   "execution_count": 81,
   "metadata": {
    "collapsed": true
   },
   "outputs": [],
   "source": [
    "learn.save('classifier_1')"
   ]
  },
  {
   "cell_type": "markdown",
   "metadata": {},
   "source": [
    "Freeze all but the last two layers & train"
   ]
  },
  {
   "cell_type": "code",
   "execution_count": 82,
   "metadata": {},
   "outputs": [
    {
     "data": {
      "application/vnd.jupyter.widget-view+json": {
       "model_id": "ed952e000ca24220bf659f52b4112f1b",
       "version_major": 2,
       "version_minor": 0
      },
      "text/plain": [
       "HBox(children=(IntProgress(value=0, description='Epoch', max=1), HTML(value='')))"
      ]
     },
     "metadata": {},
     "output_type": "display_data"
    },
    {
     "name": "stdout",
     "output_type": "stream",
     "text": [
      "epoch      trn_loss   val_loss   accuracy   \n",
      "    0      0.149369   0.093434   0.964057  \n"
     ]
    },
    {
     "data": {
      "text/plain": [
       "[array([0.09343]), 0.9640565967815439]"
      ]
     },
     "execution_count": 82,
     "metadata": {},
     "output_type": "execute_result"
    }
   ],
   "source": [
    "learn.freeze_to(-2)\n",
    "learn.fit(lrs,1,wds=weight_decay,cycle_len=1, use_clr=(8,3))"
   ]
  },
  {
   "cell_type": "code",
   "execution_count": 83,
   "metadata": {
    "collapsed": true
   },
   "outputs": [],
   "source": [
    "learn.save('classifier_2')"
   ]
  },
  {
   "cell_type": "markdown",
   "metadata": {},
   "source": [
    "Wow! 96.4%"
   ]
  },
  {
   "cell_type": "code",
   "execution_count": 32,
   "metadata": {
    "collapsed": true
   },
   "outputs": [],
   "source": [
    "learn.load('classifier_2')"
   ]
  },
  {
   "cell_type": "markdown",
   "metadata": {},
   "source": [
    "Unfreeze all layers"
   ]
  },
  {
   "cell_type": "code",
   "execution_count": 84,
   "metadata": {},
   "outputs": [
    {
     "data": {
      "application/vnd.jupyter.widget-view+json": {
       "model_id": "0230a23eac7b4b36bb4afff3119433f9",
       "version_major": 2,
       "version_minor": 0
      },
      "text/plain": [
       "HBox(children=(IntProgress(value=0, description='Epoch', max=4), HTML(value='')))"
      ]
     },
     "metadata": {},
     "output_type": "display_data"
    },
    {
     "name": "stdout",
     "output_type": "stream",
     "text": [
      "epoch      trn_loss   val_loss   accuracy   \n",
      "    0      0.081417   0.076252   0.972891  \n",
      "    1      0.125883   0.069384   0.973956  \n",
      "    2      0.089851   0.067905   0.975714  \n",
      "    3      0.098539   0.062587   0.976398  \n"
     ]
    },
    {
     "data": {
      "text/plain": [
       "[array([0.06259]), 0.9763983813390307]"
      ]
     },
     "execution_count": 84,
     "metadata": {},
     "output_type": "execute_result"
    }
   ],
   "source": [
    "learn.unfreeze()\n",
    "learn.fit(lrs,1,wds=weight_decay,cycle_len=4,use_clr=(32,10))"
   ]
  },
  {
   "cell_type": "code",
   "execution_count": null,
   "metadata": {
    "collapsed": true
   },
   "outputs": [],
   "source": [
    "learn.save('classifier_3')"
   ]
  },
  {
   "cell_type": "code",
   "execution_count": null,
   "metadata": {},
   "outputs": [
    {
     "data": {
      "image/png": "[encoded data removed]",
      "text/plain": [
       "<Figure size 432x288 with 1 Axes>"
      ]
     },
     "metadata": {},
     "output_type": "display_data"
    }
   ],
   "source": [
    "learn.sched.plot_loss()"
   ]
  },
  {
   "cell_type": "code",
   "execution_count": 16,
   "metadata": {},
   "outputs": [
    {
     "data": {
      "text/plain": [
       "<bound method Learner.summary of SequentialRNN(\n",
       "  (0): MultiBatchRNN(\n",
       "    (encoder): Embedding(60002, 400, padding_idx=1)\n",
       "    (encoder_with_dropout): EmbeddingDropout(\n",
       "      (embed): Embedding(60002, 400, padding_idx=1)\n",
       "    )\n",
       "    (rnns): ModuleList(\n",
       "      (0): WeightDrop(\n",
       "        (module): LSTM(400, 1150, dropout=0.15)\n",
       "      )\n",
       "      (1): WeightDrop(\n",
       "        (module): LSTM(1150, 1150, dropout=0.15)\n",
       "      )\n",
       "      (2): WeightDrop(\n",
       "        (module): LSTM(1150, 400, dropout=0.15)\n",
       "      )\n",
       "    )\n",
       "    (dropouti): LockedDropout(\n",
       "    )\n",
       "    (dropouths): ModuleList(\n",
       "      (0): LockedDropout(\n",
       "      )\n",
       "      (1): LockedDropout(\n",
       "      )\n",
       "      (2): LockedDropout(\n",
       "      )\n",
       "    )\n",
       "  )\n",
       "  (1): PoolingLinearClassifier(\n",
       "    (layers): ModuleList(\n",
       "      (0): LinearBlock(\n",
       "        (lin): Linear(in_features=1200, out_features=5, bias=True)\n",
       "        (drop): Dropout(p=0.2)\n",
       "        (bn): BatchNorm1d(1200, eps=1e-05, momentum=0.1, affine=True)\n",
       "      )\n",
       "      (1): LinearBlock(\n",
       "        (lin): Linear(in_features=5, out_features=2, bias=True)\n",
       "        (drop): Dropout(p=0.1)\n",
       "        (bn): BatchNorm1d(5, eps=1e-05, momentum=0.1, affine=True)\n",
       "      )\n",
       "    )\n",
       "  )\n",
       ")>"
      ]
     },
     "execution_count": 16,
     "metadata": {},
     "output_type": "execute_result"
    }
   ],
   "source": [
    "learn.summary"
   ]
  },
  {
   "cell_type": "code",
   "execution_count": 17,
   "metadata": {
    "collapsed": true
   },
   "outputs": [],
   "source": [
    "learn.load('classifier_2')"
   ]
  },
  {
   "cell_type": "code",
   "execution_count": 40,
   "metadata": {
    "collapsed": true
   },
   "outputs": [],
   "source": [
    "test_log_pred = learn.predict(is_test=True) #log probabilities\n",
    "test_preds = np.argmax(test_log_pred,axis=1) #convert to 0 and 1\n",
    "test_prob = np.exp(test_log_prob)"
   ]
  },
  {
   "cell_type": "code",
   "execution_count": 43,
   "metadata": {},
   "outputs": [
    {
     "data": {
      "text/plain": [
       "(0, array([3.6173 , 0.56393], dtype=float32))"
      ]
     },
     "execution_count": 43,
     "metadata": {},
     "output_type": "execute_result"
    }
   ],
   "source": [
    "test_preds[1],test_prob[1]"
   ]
  },
  {
   "cell_type": "code",
   "execution_count": 48,
   "metadata": {},
   "outputs": [
    {
     "data": {
      "text/plain": [
       "array([0, 0, 0, ..., 0, 1, 0])"
      ]
     },
     "execution_count": 48,
     "metadata": {},
     "output_type": "execute_result"
    }
   ],
   "source": [
    "y_test = test_labels"
   ]
  },
  {
   "cell_type": "code",
   "execution_count": 26,
   "metadata": {
    "ExecuteTime": {
     "end_time": "2018-05-16T11:50:27.332450Z",
     "start_time": "2018-05-16T11:50:27.326956Z"
    },
    "collapsed": true
   },
   "outputs": [],
   "source": [
    "def plot_confusion_matrix(y_true,y_pred, labels=[1,0],title='Confusion Matrix'):\n",
    "    conf_matrix = confusion_matrix(y_true,y_pred,labels=labels)\n",
    "    conf_matrix = conf_matrix.astype('float')/conf_matrix.sum(axis=1)[:,np.newaxis]\n",
    "    plt.figure()\n",
    "    LABELS = ['Toxic','Not Toxic']\n",
    "    sns.heatmap(conf_matrix,xticklabels=LABELS,yticklabels=LABELS,annot=True)\n",
    "    plt.title(title)\n",
    "    plt.ylabel('True Class')\n",
    "    plt.xlabel('Predicted Class')\n",
    " "
   ]
  },
  {
   "cell_type": "code",
   "execution_count": 59,
   "metadata": {},
   "outputs": [
    {
     "data": {
      "image/png": "[encoded data removed]",
      "text/plain": [
       "<Figure size 432x288 with 2 Axes>"
      ]
     },
     "metadata": {},
     "output_type": "display_data"
    }
   ],
   "source": [
    "plot_confusion_matrix(y_test, test_preds)"
   ]
  },
  {
   "cell_type": "markdown",
   "metadata": {},
   "source": [
    "Seems like our classifier performance is actually labeling everything as 'Not toxic' which is the most dominant class in our dataset. "
   ]
  },
  {
   "cell_type": "code",
   "execution_count": 61,
   "metadata": {
    "collapsed": true
   },
   "outputs": [],
   "source": [
    "learn.load('classifier_3')\n",
    "test_log_pred = learn.predict(is_test=True) #log probabilities\n",
    "test_preds = np.argmax(test_log_pred,axis=1) #convert to 0 and 1\n",
    "test_prob = np.exp(test_log_prob)\n",
    "y_test = test_labels"
   ]
  },
  {
   "cell_type": "code",
   "execution_count": 70,
   "metadata": {
    "ExecuteTime": {
     "end_time": "2018-05-12T20:18:03.641499Z",
     "start_time": "2018-05-12T20:18:03.636055Z"
    }
   },
   "outputs": [
    {
     "data": {
      "text/plain": [
       "(1, array([3.6173 , 0.56393], dtype=float32))"
      ]
     },
     "execution_count": 70,
     "metadata": {},
     "output_type": "execute_result"
    }
   ],
   "source": [
    "test_preds[1],test_prob[1]"
   ]
  },
  {
   "cell_type": "code",
   "execution_count": 63,
   "metadata": {},
   "outputs": [
    {
     "data": {
      "image/png": "[encoded data removed]",
      "text/plain": [
       "<Figure size 432x288 with 2 Axes>"
      ]
     },
     "metadata": {},
     "output_type": "display_data"
    }
   ],
   "source": [
    "plot_confusion_matrix(y_test, test_preds)"
   ]
  },
  {
   "cell_type": "markdown",
   "metadata": {},
   "source": [
    "'Classifier_3' performs a little bit better than 'classifier_2' in predicting toxic labels. "
   ]
  },
  {
   "cell_type": "markdown",
   "metadata": {},
   "source": [
    "## Handling class imbalance\n",
    "- Sample weight - will have to write custom function\n",
    "- cross validation"
   ]
  },
  {
   "cell_type": "code",
   "execution_count": 75,
   "metadata": {
    "ExecuteTime": {
     "end_time": "2018-05-12T20:22:11.003237Z",
     "start_time": "2018-05-12T20:22:10.981648Z"
    }
   },
   "outputs": [
    {
     "data": {
      "text/plain": [
       "0.8975606316976875"
      ]
     },
     "execution_count": 75,
     "metadata": {},
     "output_type": "execute_result"
    }
   ],
   "source": [
    "imbalance = 1 - sum(train_labels)/len(train_labels)\n",
    "imbalance"
   ]
  },
  {
   "cell_type": "code",
   "execution_count": 155,
   "metadata": {
    "ExecuteTime": {
     "end_time": "2018-05-12T22:47:31.498691Z",
     "start_time": "2018-05-12T22:47:31.494367Z"
    },
    "collapsed": true
   },
   "outputs": [],
   "source": [
    "def cross_entropy_weighted(inp,target,weight=[0.1,1]):\n",
    "    weight=to_gpu(Variable(torch.from_numpy(np.array(weight)).float()))\n",
    "    return F.cross_entropy(inp,target,weight=weight)\n"
   ]
  },
  {
   "cell_type": "code",
   "execution_count": 156,
   "metadata": {
    "ExecuteTime": {
     "end_time": "2018-05-12T22:47:38.353643Z",
     "start_time": "2018-05-12T22:47:38.348327Z"
    }
   },
   "outputs": [
    {
     "data": {
      "text/plain": [
       "<function __main__.cross_entropy_weighted(inp, target, weight=[0.1, 1])>"
      ]
     },
     "execution_count": 156,
     "metadata": {},
     "output_type": "execute_result"
    }
   ],
   "source": [
    "cross_entropy_weighted"
   ]
  },
  {
   "cell_type": "markdown",
   "metadata": {},
   "source": [
    "### Weighted loss function"
   ]
  },
  {
   "cell_type": "code",
   "execution_count": 157,
   "metadata": {
    "ExecuteTime": {
     "end_time": "2018-05-12T22:47:41.100467Z",
     "start_time": "2018-05-12T22:47:41.094792Z"
    },
    "collapsed": true
   },
   "outputs": [],
   "source": [
    "learn = RNN_Learner(model, TextModel(to_gpu(m)),opt_fn=optim_fn)\n",
    "learn.reg_fn = partial(seq2seq_reg,alpha=2,beta=1) \n",
    "learn.clip = 25.\n",
    "learn.metrics = [accuracy]\n",
    "learn.crit = cross_entropy_weighted"
   ]
  },
  {
   "cell_type": "code",
   "execution_count": 158,
   "metadata": {
    "ExecuteTime": {
     "end_time": "2018-05-12T22:47:42.315303Z",
     "start_time": "2018-05-12T22:47:42.309680Z"
    },
    "collapsed": true
   },
   "outputs": [],
   "source": [
    "lrs = np.array([1e-4,1e-4,1e-4,1e-3,1e-2])\n",
    "weight_decay=1e-7\n",
    "\n",
    "learn.freeze_to(-1)\n"
   ]
  },
  {
   "cell_type": "code",
   "execution_count": 159,
   "metadata": {
    "ExecuteTime": {
     "end_time": "2018-05-12T23:34:48.823065Z",
     "start_time": "2018-05-12T22:47:46.358952Z"
    }
   },
   "outputs": [
    {
     "data": {
      "application/vnd.jupyter.widget-view+json": {
       "model_id": "504e0969bafc40c395c5bbcf28dfaf8c",
       "version_major": 2,
       "version_minor": 0
      },
      "text/plain": [
       "HBox(children=(IntProgress(value=0, description='Epoch', max=1), HTML(value='')))"
      ]
     },
     "metadata": {},
     "output_type": "display_data"
    },
    {
     "name": "stdout",
     "output_type": "stream",
     "text": [
      "epoch      trn_loss   val_loss   accuracy                         \n",
      "    0      0.163472   0.121403   0.959675  \n",
      "\n"
     ]
    }
   ],
   "source": [
    "learn.fit(lrs,1,wds=weight_decay,cycle_len=1,use_clr=(8,3))\n",
    "learn.save('classifier_w_0') #without pretrained backbone.\n"
   ]
  },
  {
   "cell_type": "code",
   "execution_count": 160,
   "metadata": {
    "ExecuteTime": {
     "end_time": "2018-05-12T23:35:32.203045Z",
     "start_time": "2018-05-12T23:34:48.825948Z"
    }
   },
   "outputs": [
    {
     "data": {
      "image/png": "[encoded data removed]",
      "text/plain": [
       "<Figure size 432x288 with 2 Axes>"
      ]
     },
     "metadata": {},
     "output_type": "display_data"
    }
   ],
   "source": [
    "test_log_pred = learn.predict(is_test=True) #log probabilities\n",
    "test_preds = np.argmax(test_log_pred,axis=1) #convert to 0 and 1\n",
    "\n",
    "plot_confusion_matrix(y_test,test_preds)"
   ]
  },
  {
   "cell_type": "markdown",
   "metadata": {},
   "source": [
    "the weighted loss function does not seem to be working... might have better luck with changing the sample size to match. "
   ]
  },
  {
   "cell_type": "code",
   "execution_count": 162,
   "metadata": {
    "ExecuteTime": {
     "end_time": "2018-05-15T20:59:34.635884Z",
     "start_time": "2018-05-15T20:59:34.354050Z"
    }
   },
   "outputs": [
    {
     "data": {
      "image/png": "[encoded data removed]",
      "text/plain": [
       "<Figure size 432x288 with 1 Axes>"
      ]
     },
     "metadata": {},
     "output_type": "display_data"
    }
   ],
   "source": [
    "learn.sched.plot_loss()"
   ]
  },
  {
   "cell_type": "code",
   "execution_count": 163,
   "metadata": {
    "ExecuteTime": {
     "end_time": "2018-05-15T21:00:38.425414Z",
     "start_time": "2018-05-15T21:00:38.417217Z"
    }
   },
   "outputs": [
    {
     "name": "stdout",
     "output_type": "stream",
     "text": [
      "             precision    recall  f1-score   support\n",
      "\n",
      "          0       0.90      0.87      0.88     10793\n",
      "          1       0.10      0.13      0.11      1175\n",
      "\n",
      "avg / total       0.82      0.80      0.81     11968\n",
      "\n"
     ]
    }
   ],
   "source": [
    "from sklearn.metrics import classification_report\n",
    "\n",
    "print(classification_report(y_test,test_preds))"
   ]
  },
  {
   "cell_type": "markdown",
   "metadata": {},
   "source": [
    "### Re-sampling."
   ]
  },
  {
   "cell_type": "code",
   "execution_count": 164,
   "metadata": {
    "ExecuteTime": {
     "end_time": "2018-05-15T23:03:59.185795Z",
     "start_time": "2018-05-15T23:03:59.178863Z"
    },
    "collapsed": true
   },
   "outputs": [],
   "source": [
    "def oversample_data(X,y,minor_label=1):\n",
    "    n_samples = len(y)\n",
    "    \n",
    "    X_minor, y_minor = X[y==minor_label], y[y==minor_label]\n",
    "    n_minor = len(y_minor)\n",
    "    imbal_ratio = np.floor((n_samples - n_minor)/n_minor)\n",
    "\n",
    "    X_minor_ovs = np.repeat(X_minor,imbal_ratio)\n",
    "    y_minor_ovs = np.repeat(y_minor,imbal_ratio)\n",
    "\n",
    "    X_major,y_major = X[y==1-minor_label],y[y==1-minor_label]\n",
    "    X_ovs = np.concatenate((X_major,X_minor_ovs),axis=0)\n",
    "    y_ovs = np.concatenate((y_major,y_minor_ovs),axis=0)\n",
    "    \n",
    "    inds = np.random.permutation(len(y_ovs))\n",
    "    X_ovs,y_ovs = X_ovs[inds],y_ovs[inds]\n",
    "\n",
    "    return X_ovs,y_ovs"
   ]
  },
  {
   "cell_type": "code",
   "execution_count": 165,
   "metadata": {
    "ExecuteTime": {
     "end_time": "2018-05-15T23:08:34.647810Z",
     "start_time": "2018-05-15T23:08:33.970178Z"
    },
    "collapsed": true
   },
   "outputs": [],
   "source": [
    "train_class_inds_ovs,train_labels_ovs = oversample_data(train_class_inds,train_labels,minor_label=1)\n",
    "np.save(CLASSIFIER_PATH/'tmp'/'train_ids_ovs.npy',train_class_inds_ovs)\n",
    "np.save(CLASSIFIER_PATH/'tmp'/'train_labels_ovs.npy',train_labels_ovs)"
   ]
  },
  {
   "cell_type": "code",
   "execution_count": 5,
   "metadata": {
    "ExecuteTime": {
     "end_time": "2018-05-16T02:12:13.595320Z",
     "start_time": "2018-05-16T02:12:12.408179Z"
    },
    "collapsed": true
   },
   "outputs": [],
   "source": [
    "train_class_inds_ovs = np.load(CLASSIFIER_PATH/'tmp'/'train_ids_ovs.npy')\n",
    "train_labels_ovs = np.load(CLASSIFIER_PATH/'tmp'/'train_labels_ovs.npy')"
   ]
  },
  {
   "cell_type": "code",
   "execution_count": 14,
   "metadata": {
    "ExecuteTime": {
     "end_time": "2018-05-16T02:15:14.445434Z",
     "start_time": "2018-05-16T02:15:14.440559Z"
    },
    "collapsed": true
   },
   "outputs": [],
   "source": [
    "train_dataset_ovs = TextDataset(train_class_inds_ovs,train_labels_ovs) \n",
    "train_sampler_ovs = SortishSampler(train_class_inds_ovs,key=lambda x: len(train_class_inds_ovs),bs=bs//2)\n",
    "train_dataloader_ovs = DataLoader(train_dataset_ovs,bs//2,transpose=True,num_workers=1,pad_idx=1,sampler=train_sampler_ovs)\n",
    "\n",
    "model = ModelData(PATH,train_dataloader_ovs,valid_dataloader,test_dataloader)"
   ]
  },
  {
   "cell_type": "code",
   "execution_count": 15,
   "metadata": {
    "ExecuteTime": {
     "end_time": "2018-05-16T02:15:35.807685Z",
     "start_time": "2018-05-16T02:15:32.839415Z"
    },
    "collapsed": true
   },
   "outputs": [],
   "source": [
    "dropouts = np.array([0.4,0.5,0.05,0.3,0.4])*0.3 #dropout for each layer of the model\n",
    "m = get_rnn_classifer(bptt,max_seq=20*70,n_class=n_cats,n_tok=vocab_size,emb_sz=embed_dim,n_hid=n_units,\n",
    "                      n_layers=n_layers,pad_token=1,layers=[embed_dim*3,5,n_cats],\n",
    "                      drops=[dropouts[4],0.1],dropouti=dropouts[0],wdrop=dropouts[1],\n",
    "                      dropoute=dropouts[2],dropouth=dropouts[3])"
   ]
  },
  {
   "cell_type": "code",
   "execution_count": 18,
   "metadata": {
    "ExecuteTime": {
     "end_time": "2018-05-16T02:16:24.107762Z",
     "start_time": "2018-05-16T02:16:24.102903Z"
    },
    "collapsed": true
   },
   "outputs": [],
   "source": [
    "learn = RNN_Learner(model, TextModel(to_gpu(m)),opt_fn=optim_fn)\n",
    "learn.reg_fn = partial(seq2seq_reg,alpha=2,beta=1) #regularization function\n",
    "learn.clip = 25.   #gradient clipping\n",
    "learn.metrics = [accuracy]"
   ]
  },
  {
   "cell_type": "code",
   "execution_count": 171,
   "metadata": {
    "ExecuteTime": {
     "end_time": "2018-05-16T00:32:42.603486Z",
     "start_time": "2018-05-15T23:17:59.854758Z"
    }
   },
   "outputs": [
    {
     "data": {
      "application/vnd.jupyter.widget-view+json": {
       "model_id": "a952246df55849a3967fc2b1f049749e",
       "version_major": 2,
       "version_minor": 0
      },
      "text/plain": [
       "HBox(children=(IntProgress(value=0, description='Epoch', max=1), HTML(value='')))"
      ]
     },
     "metadata": {},
     "output_type": "display_data"
    },
    {
     "name": "stdout",
     "output_type": "stream",
     "text": [
      "epoch      trn_loss   val_loss   accuracy                          \n",
      "    0      0.671813   0.904842   0.087053  \n",
      "\n"
     ]
    },
    {
     "data": {
      "text/plain": [
       "[array([0.90484]), 0.08705294796469891]"
      ]
     },
     "execution_count": 171,
     "metadata": {},
     "output_type": "execute_result"
    }
   ],
   "source": [
    "learn.freeze_to(-1)\n",
    "learn.fit(lrs,1,wds=weight_decay,cycle_len=1,use_clr=(8,3))\n",
    "learn.save('classifier_ovs_0') #without pretrained lm backbone."
   ]
  },
  {
   "cell_type": "code",
   "execution_count": 19,
   "metadata": {
    "ExecuteTime": {
     "end_time": "2018-05-16T03:32:28.003060Z",
     "start_time": "2018-05-16T02:16:48.511967Z"
    }
   },
   "outputs": [
    {
     "data": {
      "application/vnd.jupyter.widget-view+json": {
       "model_id": "9089bc8d31714376a598eded4d2b3fc3",
       "version_major": 2,
       "version_minor": 0
      },
      "text/plain": [
       "HBox(children=(IntProgress(value=0, description='Epoch', max=1), HTML(value='')))"
      ]
     },
     "metadata": {},
     "output_type": "display_data"
    },
    {
     "name": "stdout",
     "output_type": "stream",
     "text": [
      "epoch      trn_loss   val_loss   accuracy                          \n",
      "    0      0.377612   0.196252   0.934725  \n",
      "\n"
     ]
    },
    {
     "data": {
      "text/plain": [
       "[array([0.19625]), 0.9347250279311815]"
      ]
     },
     "execution_count": 19,
     "metadata": {},
     "output_type": "execute_result"
    }
   ],
   "source": [
    "learn.load_encoder('LM1_encoder')\n",
    "learn.freeze_to(-1)\n",
    "learn.fit(lrs,1,wds=weight_decay,cycle_len=1,use_clr=(8,3))"
   ]
  },
  {
   "cell_type": "code",
   "execution_count": 20,
   "metadata": {
    "ExecuteTime": {
     "end_time": "2018-05-16T03:32:28.258849Z",
     "start_time": "2018-05-16T03:32:28.006518Z"
    },
    "collapsed": true
   },
   "outputs": [],
   "source": [
    "learn.save('classifier_ovs_1') #with pretrained lm backbone."
   ]
  },
  {
   "cell_type": "code",
   "execution_count": 21,
   "metadata": {
    "ExecuteTime": {
     "end_time": "2018-05-16T04:58:56.088046Z",
     "start_time": "2018-05-16T03:32:28.261569Z"
    }
   },
   "outputs": [
    {
     "data": {
      "application/vnd.jupyter.widget-view+json": {
       "model_id": "ed01485eba894f49b461eb7515d5fbca",
       "version_major": 2,
       "version_minor": 0
      },
      "text/plain": [
       "HBox(children=(IntProgress(value=0, description='Epoch', max=1), HTML(value='')))"
      ]
     },
     "metadata": {},
     "output_type": "display_data"
    },
    {
     "name": "stdout",
     "output_type": "stream",
     "text": [
      "epoch      trn_loss   val_loss   accuracy                          \n",
      "    0      0.239793   0.202568   0.930844  \n",
      "\n"
     ]
    }
   ],
   "source": [
    "learn.freeze_to(-2)\n",
    "learn.fit(lrs,1,wds=weight_decay,cycle_len=1, use_clr=(8,3))\n",
    "learn.save('classifier_ovs_2')"
   ]
  },
  {
   "cell_type": "code",
   "execution_count": 23,
   "metadata": {
    "ExecuteTime": {
     "end_time": "2018-05-16T11:50:26.564699Z",
     "start_time": "2018-05-16T09:26:36.111224Z"
    }
   },
   "outputs": [
    {
     "data": {
      "application/vnd.jupyter.widget-view+json": {
       "model_id": "1493f6b6664f4c22a6d75bf2db41dcd2",
       "version_major": 2,
       "version_minor": 0
      },
      "text/plain": [
       "HBox(children=(IntProgress(value=0, description='Epoch', max=1), HTML(value='')))"
      ]
     },
     "metadata": {},
     "output_type": "display_data"
    },
    {
     "name": "stdout",
     "output_type": "stream",
     "text": [
      "epoch      trn_loss   val_loss   accuracy                             \n",
      "    0      0.144033   0.071772   0.974924  \n",
      "\n"
     ]
    },
    {
     "data": {
      "text/plain": [
       "[array([0.07177]), 0.9749239549082926]"
      ]
     },
     "execution_count": 23,
     "metadata": {},
     "output_type": "execute_result"
    }
   ],
   "source": [
    "learn.unfreeze()\n",
    "learn.fit(lrs,1,wds=weight_decay,cycle_len=1,use_clr=(32,10))\n",
    "learn.save('classifier_ovs_3')"
   ]
  },
  {
   "cell_type": "code",
   "execution_count": 24,
   "metadata": {
    "ExecuteTime": {
     "end_time": "2018-05-16T11:50:26.800278Z",
     "start_time": "2018-05-16T11:50:26.567277Z"
    },
    "collapsed": true
   },
   "outputs": [],
   "source": [
    "learn.save('classifier_ovs_3')"
   ]
  },
  {
   "cell_type": "code",
   "execution_count": 25,
   "metadata": {
    "ExecuteTime": {
     "end_time": "2018-05-16T11:50:27.324306Z",
     "start_time": "2018-05-16T11:50:26.803082Z"
    }
   },
   "outputs": [
    {
     "data": {
      "image/png": "[encoded data removed]",
      "text/plain": [
       "<Figure size 432x288 with 1 Axes>"
      ]
     },
     "metadata": {},
     "output_type": "display_data"
    }
   ],
   "source": [
    "learn.sched.plot_loss()"
   ]
  },
  {
   "cell_type": "code",
   "execution_count": 30,
   "metadata": {
    "ExecuteTime": {
     "end_time": "2018-05-17T01:52:16.527029Z",
     "start_time": "2018-05-17T01:43:32.307459Z"
    }
   },
   "outputs": [
    {
     "data": {
      "image/png": "[encoded data removed]",
      "text/plain": [
       "<Figure size 432x288 with 2 Axes>"
      ]
     },
     "metadata": {},
     "output_type": "display_data"
    }
   ],
   "source": [
    "y_test =valid_labels\n",
    "test_log_pred = learn.predict(is_test=False) #log probabilities\n",
    "test_preds = np.argmax(test_log_pred,axis=1) #convert to 0 and 1\n",
    "\n",
    "plot_confusion_matrix(y_test,test_preds)"
   ]
  },
  {
   "cell_type": "code",
   "execution_count": 31,
   "metadata": {
    "ExecuteTime": {
     "end_time": "2018-05-18T00:06:47.879806Z",
     "start_time": "2018-05-18T00:06:47.833267Z"
    }
   },
   "outputs": [
    {
     "name": "stdout",
     "output_type": "stream",
     "text": [
      "             precision    recall  f1-score   support\n",
      "\n",
      "          0       0.90      0.88      0.89    132553\n",
      "          1       0.10      0.12      0.11     15050\n",
      "\n",
      "avg / total       0.82      0.80      0.81    147603\n",
      "\n"
     ]
    }
   ],
   "source": [
    "#from sklearn.metrics import classification_report\n",
    "\n",
    "print(classification_report(y_test,test_preds))"
   ]
  },
  {
   "cell_type": "code",
   "execution_count": null,
   "metadata": {
    "collapsed": true
   },
   "outputs": [],
   "source": []
  },
  {
   "cell_type": "code",
   "execution_count": null,
   "metadata": {
    "collapsed": true
   },
   "outputs": [],
   "source": []
  },
  {
   "cell_type": "markdown",
   "metadata": {},
   "source": [
    "### TO-DO : \n",
    "- confusion matrix\n",
    "- handle class imbalance:\n",
    "    - ~~set 'weight' parameter to handle class imbalance.~~\n",
    "    - undersampling\n",
    "    - oversampling\n",
    "- ~~include bwd model~~\n"
   ]
  },
  {
   "cell_type": "code",
   "execution_count": null,
   "metadata": {
    "collapsed": true
   },
   "outputs": [],
   "source": []
  }
 ],
 "metadata": {
  "gist": {
   "data": {
    "description": "Github/Kaggle/toxic_comment/kaggle_toxic_comment.ipynb",
    "public": false
   },
   "id": ""
  },
  "hide_input": false,
  "kernelspec": {
   "display_name": "Python [conda env:fastai]",
   "language": "python",
   "name": "conda-env-fastai-py"
  },
  "language_info": {
   "codemirror_mode": {
    "name": "ipython",
    "version": 3
   },
   "file_extension": ".py",
   "mimetype": "text/x-python",
   "name": "python",
   "nbconvert_exporter": "python",
   "pygments_lexer": "ipython3",
   "version": "3.6.5"
  },
  "varInspector": {
   "cols": {
    "lenName": 16,
    "lenType": 16,
    "lenVar": 40
   },
   "kernels_config": {
    "python": {
     "delete_cmd_postfix": "",
     "delete_cmd_prefix": "del ",
     "library": "var_list.py",
     "varRefreshCmd": "print(var_dic_list())"
    },
    "r": {
     "delete_cmd_postfix": ") ",
     "delete_cmd_prefix": "rm(",
     "library": "var_list.r",
     "varRefreshCmd": "cat(var_dic_list()) "
    }
   },
   "types_to_exclude": [
    "module",
    "function",
    "builtin_function_or_method",
    "instance",
    "_Feature"
   ],
   "window_display": false
  }
 },
 "nbformat": 4,
 "nbformat_minor": 2
}
