{
 "cells": [
  {
   "cell_type": "markdown",
   "metadata": {},
   "source": [
    "## Kaggle Toxic comment \n",
    "\n",
    "### Project description\n",
    "Apply Fastai lesson 10 to Kaggle toxic comment challenge. \n",
    "The competition has 6 classes, but first will make it binary, i.e. toxic & not toxic.\n",
    "\n",
    "The overall strategy is to first train a language model. Fortunately, Jeremy H has done the hard work of training a language model on wikipedia (WikiText103). Using the pretrained language model as the backbone, we'll train a classifier to categorize the comments. "
   ]
  },
  {
   "cell_type": "markdown",
   "metadata": {},
   "source": [
    "### Load Libraries"
   ]
  },
  {
   "cell_type": "code",
   "execution_count": 1,
   "metadata": {
    "ExecuteTime": {
     "end_time": "2018-05-19T11:40:49.079545Z",
     "start_time": "2018-05-19T11:40:46.596334Z"
    },
    "collapsed": true
   },
   "outputs": [],
   "source": [
    "from fastai.text import *\n",
    "import html\n",
    "import pdb\n",
    "from sklearn.model_selection import train_test_split\n",
    "from sklearn.metrics import confusion_matrix"
   ]
  },
  {
   "cell_type": "markdown",
   "metadata": {},
   "source": [
    "### Path  Directories"
   ]
  },
  {
   "cell_type": "code",
   "execution_count": 2,
   "metadata": {
    "ExecuteTime": {
     "end_time": "2018-05-19T11:40:49.085497Z",
     "start_time": "2018-05-19T11:40:49.082075Z"
    },
    "collapsed": true
   },
   "outputs": [],
   "source": [
    "PATH = Path('/home/odenigborig/Data/kaggle/toxic_comment')"
   ]
  },
  {
   "cell_type": "code",
   "execution_count": 3,
   "metadata": {
    "ExecuteTime": {
     "end_time": "2018-05-19T11:40:49.212374Z",
     "start_time": "2018-05-19T11:40:49.088725Z"
    },
    "collapsed": true
   },
   "outputs": [],
   "source": [
    "#path to store fine-tuned language model weights. \n",
    "LM_PATH = PATH/'LM'\n",
    "LM_PATH.mkdir(exist_ok=True)"
   ]
  },
  {
   "cell_type": "code",
   "execution_count": 4,
   "metadata": {
    "ExecuteTime": {
     "end_time": "2018-05-19T11:40:49.296487Z",
     "start_time": "2018-05-19T11:40:49.214795Z"
    },
    "collapsed": true
   },
   "outputs": [],
   "source": [
    "#path to store weights of classifier.\n",
    "CLASSIFIER_PATH = PATH/'classifier'\n",
    "CLASSIFIER_PATH.mkdir(exist_ok=True)"
   ]
  },
  {
   "cell_type": "markdown",
   "metadata": {},
   "source": [
    "### Data Inspection"
   ]
  },
  {
   "cell_type": "code",
   "execution_count": 5,
   "metadata": {
    "ExecuteTime": {
     "end_time": "2018-05-18T00:17:07.576285Z",
     "start_time": "2018-05-18T00:17:05.912958Z"
    }
   },
   "outputs": [
    {
     "data": {
      "text/html": [
       "<div>\n",
       "<style scoped>\n",
       "    .dataframe tbody tr th:only-of-type {\n",
       "        vertical-align: middle;\n",
       "    }\n",
       "\n",
       "    .dataframe tbody tr th {\n",
       "        vertical-align: top;\n",
       "    }\n",
       "\n",
       "    .dataframe thead th {\n",
       "        text-align: right;\n",
       "    }\n",
       "</style>\n",
       "<table border=\"1\" class=\"dataframe\">\n",
       "  <thead>\n",
       "    <tr style=\"text-align: right;\">\n",
       "      <th></th>\n",
       "      <th>id</th>\n",
       "      <th>comment_text</th>\n",
       "      <th>toxic</th>\n",
       "      <th>severe_toxic</th>\n",
       "      <th>obscene</th>\n",
       "      <th>threat</th>\n",
       "      <th>insult</th>\n",
       "      <th>identity_hate</th>\n",
       "    </tr>\n",
       "  </thead>\n",
       "  <tbody>\n",
       "    <tr>\n",
       "      <th>159566</th>\n",
       "      <td>ffe987279560d7ff</td>\n",
       "      <td>\":::::And for the second time of asking, when ...</td>\n",
       "      <td>0</td>\n",
       "      <td>0</td>\n",
       "      <td>0</td>\n",
       "      <td>0</td>\n",
       "      <td>0</td>\n",
       "      <td>0</td>\n",
       "    </tr>\n",
       "    <tr>\n",
       "      <th>159567</th>\n",
       "      <td>ffea4adeee384e90</td>\n",
       "      <td>You should be ashamed of yourself \\n\\nThat is ...</td>\n",
       "      <td>0</td>\n",
       "      <td>0</td>\n",
       "      <td>0</td>\n",
       "      <td>0</td>\n",
       "      <td>0</td>\n",
       "      <td>0</td>\n",
       "    </tr>\n",
       "    <tr>\n",
       "      <th>159568</th>\n",
       "      <td>ffee36eab5c267c9</td>\n",
       "      <td>Spitzer \\n\\nUmm, theres no actual article for ...</td>\n",
       "      <td>0</td>\n",
       "      <td>0</td>\n",
       "      <td>0</td>\n",
       "      <td>0</td>\n",
       "      <td>0</td>\n",
       "      <td>0</td>\n",
       "    </tr>\n",
       "    <tr>\n",
       "      <th>159569</th>\n",
       "      <td>fff125370e4aaaf3</td>\n",
       "      <td>And it looks like it was actually you who put ...</td>\n",
       "      <td>0</td>\n",
       "      <td>0</td>\n",
       "      <td>0</td>\n",
       "      <td>0</td>\n",
       "      <td>0</td>\n",
       "      <td>0</td>\n",
       "    </tr>\n",
       "    <tr>\n",
       "      <th>159570</th>\n",
       "      <td>fff46fc426af1f9a</td>\n",
       "      <td>\"\\nAnd ... I really don't think you understand...</td>\n",
       "      <td>0</td>\n",
       "      <td>0</td>\n",
       "      <td>0</td>\n",
       "      <td>0</td>\n",
       "      <td>0</td>\n",
       "      <td>0</td>\n",
       "    </tr>\n",
       "  </tbody>\n",
       "</table>\n",
       "</div>"
      ],
      "text/plain": [
       "                      id                                       comment_text  \\\n",
       "159566  ffe987279560d7ff  \":::::And for the second time of asking, when ...   \n",
       "159567  ffea4adeee384e90  You should be ashamed of yourself \\n\\nThat is ...   \n",
       "159568  ffee36eab5c267c9  Spitzer \\n\\nUmm, theres no actual article for ...   \n",
       "159569  fff125370e4aaaf3  And it looks like it was actually you who put ...   \n",
       "159570  fff46fc426af1f9a  \"\\nAnd ... I really don't think you understand...   \n",
       "\n",
       "        toxic  severe_toxic  obscene  threat  insult  identity_hate  \n",
       "159566      0             0        0       0       0              0  \n",
       "159567      0             0        0       0       0              0  \n",
       "159568      0             0        0       0       0              0  \n",
       "159569      0             0        0       0       0              0  \n",
       "159570      0             0        0       0       0              0  "
      ]
     },
     "execution_count": 5,
     "metadata": {},
     "output_type": "execute_result"
    }
   ],
   "source": [
    "df = pd.read_csv(PATH/'train.csv')\n",
    "df.tail()"
   ]
  },
  {
   "cell_type": "code",
   "execution_count": 6,
   "metadata": {},
   "outputs": [
    {
     "name": "stdout",
     "output_type": "stream",
     "text": [
      "Training set size: 159571 comments\n"
     ]
    }
   ],
   "source": [
    "print('Training set size: {} comments'.format(len(df)))"
   ]
  },
  {
   "cell_type": "code",
   "execution_count": 7,
   "metadata": {},
   "outputs": [
    {
     "data": {
      "text/html": [
       "<div>\n",
       "<style scoped>\n",
       "    .dataframe tbody tr th:only-of-type {\n",
       "        vertical-align: middle;\n",
       "    }\n",
       "\n",
       "    .dataframe tbody tr th {\n",
       "        vertical-align: top;\n",
       "    }\n",
       "\n",
       "    .dataframe thead th {\n",
       "        text-align: right;\n",
       "    }\n",
       "</style>\n",
       "<table border=\"1\" class=\"dataframe\">\n",
       "  <thead>\n",
       "    <tr style=\"text-align: right;\">\n",
       "      <th></th>\n",
       "      <th>id</th>\n",
       "      <th>comment_text</th>\n",
       "      <th>toxic</th>\n",
       "      <th>severe_toxic</th>\n",
       "      <th>obscene</th>\n",
       "      <th>threat</th>\n",
       "      <th>insult</th>\n",
       "      <th>identity_hate</th>\n",
       "    </tr>\n",
       "  </thead>\n",
       "  <tbody>\n",
       "    <tr>\n",
       "      <th>159494</th>\n",
       "      <td>fef4cf7ba0012866</td>\n",
       "      <td>\"\\n\\n our previous conversation \\n\\nyou fuckin...</td>\n",
       "      <td>1</td>\n",
       "      <td>0</td>\n",
       "      <td>1</td>\n",
       "      <td>0</td>\n",
       "      <td>1</td>\n",
       "      <td>1</td>\n",
       "    </tr>\n",
       "    <tr>\n",
       "      <th>159514</th>\n",
       "      <td>ff39a2895fc3b40e</td>\n",
       "      <td>YOU ARE A MISCHIEVIOUS PUBIC HAIR</td>\n",
       "      <td>1</td>\n",
       "      <td>0</td>\n",
       "      <td>0</td>\n",
       "      <td>0</td>\n",
       "      <td>1</td>\n",
       "      <td>0</td>\n",
       "    </tr>\n",
       "    <tr>\n",
       "      <th>159541</th>\n",
       "      <td>ffa33d3122b599d6</td>\n",
       "      <td>Your absurd edits \\n\\nYour absurd edits on gre...</td>\n",
       "      <td>1</td>\n",
       "      <td>0</td>\n",
       "      <td>1</td>\n",
       "      <td>0</td>\n",
       "      <td>1</td>\n",
       "      <td>0</td>\n",
       "    </tr>\n",
       "    <tr>\n",
       "      <th>159546</th>\n",
       "      <td>ffb47123b2d82762</td>\n",
       "      <td>\"\\n\\nHey listen don't you ever!!!! Delete my e...</td>\n",
       "      <td>1</td>\n",
       "      <td>0</td>\n",
       "      <td>0</td>\n",
       "      <td>0</td>\n",
       "      <td>1</td>\n",
       "      <td>0</td>\n",
       "    </tr>\n",
       "    <tr>\n",
       "      <th>159554</th>\n",
       "      <td>ffbdbb0483ed0841</td>\n",
       "      <td>and i'm going to keep posting the stuff u dele...</td>\n",
       "      <td>1</td>\n",
       "      <td>0</td>\n",
       "      <td>1</td>\n",
       "      <td>0</td>\n",
       "      <td>1</td>\n",
       "      <td>0</td>\n",
       "    </tr>\n",
       "  </tbody>\n",
       "</table>\n",
       "</div>"
      ],
      "text/plain": [
       "                      id                                       comment_text  \\\n",
       "159494  fef4cf7ba0012866  \"\\n\\n our previous conversation \\n\\nyou fuckin...   \n",
       "159514  ff39a2895fc3b40e                  YOU ARE A MISCHIEVIOUS PUBIC HAIR   \n",
       "159541  ffa33d3122b599d6  Your absurd edits \\n\\nYour absurd edits on gre...   \n",
       "159546  ffb47123b2d82762  \"\\n\\nHey listen don't you ever!!!! Delete my e...   \n",
       "159554  ffbdbb0483ed0841  and i'm going to keep posting the stuff u dele...   \n",
       "\n",
       "        toxic  severe_toxic  obscene  threat  insult  identity_hate  \n",
       "159494      1             0        1       0       1              1  \n",
       "159514      1             0        0       0       1              0  \n",
       "159541      1             0        1       0       1              0  \n",
       "159546      1             0        0       0       1              0  \n",
       "159554      1             0        1       0       1              0  "
      ]
     },
     "execution_count": 7,
     "metadata": {},
     "output_type": "execute_result"
    }
   ],
   "source": [
    "df[df['toxic'] == 1].tail()"
   ]
  },
  {
   "cell_type": "code",
   "execution_count": 6,
   "metadata": {
    "ExecuteTime": {
     "end_time": "2018-05-18T00:17:34.106177Z",
     "start_time": "2018-05-18T00:17:34.100698Z"
    }
   },
   "outputs": [
    {
     "data": {
      "text/plain": [
       "['toxic', 'severe_toxic', 'obscene', 'threat', 'insult', 'identity_hate']"
      ]
     },
     "execution_count": 6,
     "metadata": {},
     "output_type": "execute_result"
    }
   ],
   "source": [
    "CLASSES = list(df.columns.values)[2:]\n",
    "CLASSES"
   ]
  },
  {
   "cell_type": "markdown",
   "metadata": {},
   "source": [
    "Create additional column for binary class."
   ]
  },
  {
   "cell_type": "code",
   "execution_count": 7,
   "metadata": {
    "ExecuteTime": {
     "end_time": "2018-05-18T00:17:52.402017Z",
     "start_time": "2018-05-18T00:17:52.350299Z"
    }
   },
   "outputs": [
    {
     "data": {
      "text/html": [
       "<div>\n",
       "<style scoped>\n",
       "    .dataframe tbody tr th:only-of-type {\n",
       "        vertical-align: middle;\n",
       "    }\n",
       "\n",
       "    .dataframe tbody tr th {\n",
       "        vertical-align: top;\n",
       "    }\n",
       "\n",
       "    .dataframe thead th {\n",
       "        text-align: right;\n",
       "    }\n",
       "</style>\n",
       "<table border=\"1\" class=\"dataframe\">\n",
       "  <thead>\n",
       "    <tr style=\"text-align: right;\">\n",
       "      <th></th>\n",
       "      <th>id</th>\n",
       "      <th>comment_text</th>\n",
       "      <th>toxic</th>\n",
       "      <th>severe_toxic</th>\n",
       "      <th>obscene</th>\n",
       "      <th>threat</th>\n",
       "      <th>insult</th>\n",
       "      <th>identity_hate</th>\n",
       "      <th>not_toxic</th>\n",
       "    </tr>\n",
       "  </thead>\n",
       "  <tbody>\n",
       "    <tr>\n",
       "      <th>0</th>\n",
       "      <td>0000997932d777bf</td>\n",
       "      <td>Explanation\\nWhy the edits made under my usern...</td>\n",
       "      <td>0</td>\n",
       "      <td>0</td>\n",
       "      <td>0</td>\n",
       "      <td>0</td>\n",
       "      <td>0</td>\n",
       "      <td>0</td>\n",
       "      <td>1</td>\n",
       "    </tr>\n",
       "    <tr>\n",
       "      <th>1</th>\n",
       "      <td>000103f0d9cfb60f</td>\n",
       "      <td>D'aww! He matches this background colour I'm s...</td>\n",
       "      <td>0</td>\n",
       "      <td>0</td>\n",
       "      <td>0</td>\n",
       "      <td>0</td>\n",
       "      <td>0</td>\n",
       "      <td>0</td>\n",
       "      <td>1</td>\n",
       "    </tr>\n",
       "    <tr>\n",
       "      <th>2</th>\n",
       "      <td>000113f07ec002fd</td>\n",
       "      <td>Hey man, I'm really not trying to edit war. It...</td>\n",
       "      <td>0</td>\n",
       "      <td>0</td>\n",
       "      <td>0</td>\n",
       "      <td>0</td>\n",
       "      <td>0</td>\n",
       "      <td>0</td>\n",
       "      <td>1</td>\n",
       "    </tr>\n",
       "    <tr>\n",
       "      <th>3</th>\n",
       "      <td>0001b41b1c6bb37e</td>\n",
       "      <td>\"\\nMore\\nI can't make any real suggestions on ...</td>\n",
       "      <td>0</td>\n",
       "      <td>0</td>\n",
       "      <td>0</td>\n",
       "      <td>0</td>\n",
       "      <td>0</td>\n",
       "      <td>0</td>\n",
       "      <td>1</td>\n",
       "    </tr>\n",
       "    <tr>\n",
       "      <th>4</th>\n",
       "      <td>0001d958c54c6e35</td>\n",
       "      <td>You, sir, are my hero. Any chance you remember...</td>\n",
       "      <td>0</td>\n",
       "      <td>0</td>\n",
       "      <td>0</td>\n",
       "      <td>0</td>\n",
       "      <td>0</td>\n",
       "      <td>0</td>\n",
       "      <td>1</td>\n",
       "    </tr>\n",
       "  </tbody>\n",
       "</table>\n",
       "</div>"
      ],
      "text/plain": [
       "                 id                                       comment_text  toxic  \\\n",
       "0  0000997932d777bf  Explanation\\nWhy the edits made under my usern...      0   \n",
       "1  000103f0d9cfb60f  D'aww! He matches this background colour I'm s...      0   \n",
       "2  000113f07ec002fd  Hey man, I'm really not trying to edit war. It...      0   \n",
       "3  0001b41b1c6bb37e  \"\\nMore\\nI can't make any real suggestions on ...      0   \n",
       "4  0001d958c54c6e35  You, sir, are my hero. Any chance you remember...      0   \n",
       "\n",
       "   severe_toxic  obscene  threat  insult  identity_hate  not_toxic  \n",
       "0             0        0       0       0              0          1  \n",
       "1             0        0       0       0              0          1  \n",
       "2             0        0       0       0              0          1  \n",
       "3             0        0       0       0              0          1  \n",
       "4             0        0       0       0              0          1  "
      ]
     },
     "execution_count": 7,
     "metadata": {},
     "output_type": "execute_result"
    }
   ],
   "source": [
    "df['not_toxic'] = df[CLASSES].eq(0).all(1).astype('int')\n",
    "df.head()"
   ]
  },
  {
   "cell_type": "code",
   "execution_count": 10,
   "metadata": {},
   "outputs": [
    {
     "name": "stdout",
     "output_type": "stream",
     "text": [
      "# non-toxic comments: 143346\n",
      "# toxic comments: 16225\n",
      "% not toxic: 89.83%\n"
     ]
    }
   ],
   "source": [
    "print('# non-toxic comments: {}'.format(sum(df['not_toxic'])))\n",
    "print('# toxic comments: {}'.format(abs(len(df) - sum(df['not_toxic']))))\n",
    "print('% not toxic: {:0.2f}%'.format(100*sum(df['not_toxic'])/len(df)))"
   ]
  },
  {
   "cell_type": "markdown",
   "metadata": {},
   "source": [
    "Notice, there are a lot more non-toxic comments"
   ]
  },
  {
   "cell_type": "code",
   "execution_count": 11,
   "metadata": {},
   "outputs": [
    {
     "data": {
      "text/plain": [
       "array([1, 0])"
      ]
     },
     "execution_count": 11,
     "metadata": {},
     "output_type": "execute_result"
    }
   ],
   "source": [
    "df['not_toxic'].unique()"
   ]
  },
  {
   "cell_type": "code",
   "execution_count": 12,
   "metadata": {},
   "outputs": [
    {
     "data": {
      "text/plain": [
       "id               object\n",
       "comment_text     object\n",
       "toxic             int64\n",
       "severe_toxic      int64\n",
       "obscene           int64\n",
       "threat            int64\n",
       "insult            int64\n",
       "identity_hate     int64\n",
       "not_toxic         int64\n",
       "dtype: object"
      ]
     },
     "execution_count": 12,
     "metadata": {},
     "output_type": "execute_result"
    }
   ],
   "source": [
    "df.dtypes"
   ]
  },
  {
   "cell_type": "code",
   "execution_count": 9,
   "metadata": {
    "ExecuteTime": {
     "end_time": "2018-05-18T00:21:15.477342Z",
     "start_time": "2018-05-18T00:21:15.451810Z"
    }
   },
   "outputs": [
    {
     "data": {
      "text/plain": [
       "(                 id  toxic  severe_toxic  obscene  threat  insult  \\\n",
       " 0  0000997932d777bf      0             0        0       0       0   \n",
       " 1  000103f0d9cfb60f      0             0        0       0       0   \n",
       " 2  000113f07ec002fd      0             0        0       0       0   \n",
       " 3  0001b41b1c6bb37e      0             0        0       0       0   \n",
       " 4  0001d958c54c6e35      0             0        0       0       0   \n",
       " \n",
       "    identity_hate  \n",
       " 0              0  \n",
       " 1              0  \n",
       " 2              0  \n",
       " 3              0  \n",
       " 4              0  , (159571, 6))"
      ]
     },
     "execution_count": 9,
     "metadata": {},
     "output_type": "execute_result"
    }
   ],
   "source": [
    "all_labels = df.drop(['comment_text','not_toxic'],axis=1)\n",
    "y = all_labels[CLASSES].values\n",
    "all_labels.head()"
   ]
  },
  {
   "cell_type": "code",
   "execution_count": 15,
   "metadata": {
    "ExecuteTime": {
     "end_time": "2018-05-18T00:45:08.396739Z",
     "start_time": "2018-05-18T00:45:08.374735Z"
    },
    "collapsed": true
   },
   "outputs": [],
   "source": [
    "np.save(PATH/'tmp'/'multi_labels.npy',y)"
   ]
  },
  {
   "cell_type": "code",
   "execution_count": 31,
   "metadata": {
    "ExecuteTime": {
     "end_time": "2018-05-18T00:53:09.963184Z",
     "start_time": "2018-05-18T00:53:09.937153Z"
    }
   },
   "outputs": [
    {
     "data": {
      "text/html": [
       "<div>\n",
       "<style scoped>\n",
       "    .dataframe tbody tr th:only-of-type {\n",
       "        vertical-align: middle;\n",
       "    }\n",
       "\n",
       "    .dataframe tbody tr th {\n",
       "        vertical-align: top;\n",
       "    }\n",
       "\n",
       "    .dataframe thead th {\n",
       "        text-align: right;\n",
       "    }\n",
       "</style>\n",
       "<table border=\"1\" class=\"dataframe\">\n",
       "  <thead>\n",
       "    <tr style=\"text-align: right;\">\n",
       "      <th></th>\n",
       "      <th>toxic</th>\n",
       "      <th>severe_toxic</th>\n",
       "      <th>obscene</th>\n",
       "      <th>threat</th>\n",
       "      <th>insult</th>\n",
       "      <th>identity_hate</th>\n",
       "      <th>comment_text</th>\n",
       "    </tr>\n",
       "  </thead>\n",
       "  <tbody>\n",
       "    <tr>\n",
       "      <th>0</th>\n",
       "      <td>0</td>\n",
       "      <td>0</td>\n",
       "      <td>0</td>\n",
       "      <td>0</td>\n",
       "      <td>0</td>\n",
       "      <td>0</td>\n",
       "      <td>Explanation\\nWhy the edits made under my usern...</td>\n",
       "    </tr>\n",
       "    <tr>\n",
       "      <th>1</th>\n",
       "      <td>0</td>\n",
       "      <td>0</td>\n",
       "      <td>0</td>\n",
       "      <td>0</td>\n",
       "      <td>0</td>\n",
       "      <td>0</td>\n",
       "      <td>D'aww! He matches this background colour I'm s...</td>\n",
       "    </tr>\n",
       "    <tr>\n",
       "      <th>2</th>\n",
       "      <td>0</td>\n",
       "      <td>0</td>\n",
       "      <td>0</td>\n",
       "      <td>0</td>\n",
       "      <td>0</td>\n",
       "      <td>0</td>\n",
       "      <td>Hey man, I'm really not trying to edit war. It...</td>\n",
       "    </tr>\n",
       "    <tr>\n",
       "      <th>3</th>\n",
       "      <td>0</td>\n",
       "      <td>0</td>\n",
       "      <td>0</td>\n",
       "      <td>0</td>\n",
       "      <td>0</td>\n",
       "      <td>0</td>\n",
       "      <td>\"\\nMore\\nI can't make any real suggestions on ...</td>\n",
       "    </tr>\n",
       "    <tr>\n",
       "      <th>4</th>\n",
       "      <td>0</td>\n",
       "      <td>0</td>\n",
       "      <td>0</td>\n",
       "      <td>0</td>\n",
       "      <td>0</td>\n",
       "      <td>0</td>\n",
       "      <td>You, sir, are my hero. Any chance you remember...</td>\n",
       "    </tr>\n",
       "  </tbody>\n",
       "</table>\n",
       "</div>"
      ],
      "text/plain": [
       "   toxic  severe_toxic  obscene  threat  insult  identity_hate  \\\n",
       "0      0             0        0       0       0              0   \n",
       "1      0             0        0       0       0              0   \n",
       "2      0             0        0       0       0              0   \n",
       "3      0             0        0       0       0              0   \n",
       "4      0             0        0       0       0              0   \n",
       "\n",
       "                                        comment_text  \n",
       "0  Explanation\\nWhy the edits made under my usern...  \n",
       "1  D'aww! He matches this background colour I'm s...  \n",
       "2  Hey man, I'm really not trying to edit war. It...  \n",
       "3  \"\\nMore\\nI can't make any real suggestions on ...  \n",
       "4  You, sir, are my hero. Any chance you remember...  "
      ]
     },
     "execution_count": 31,
     "metadata": {},
     "output_type": "execute_result"
    }
   ],
   "source": [
    "df_data = df[CLASSES+['comment_text']]\n",
    "df_data.head()"
   ]
  },
  {
   "cell_type": "code",
   "execution_count": 32,
   "metadata": {
    "ExecuteTime": {
     "end_time": "2018-05-18T00:53:17.761870Z",
     "start_time": "2018-05-18T00:53:13.760400Z"
    },
    "collapsed": true
   },
   "outputs": [],
   "source": [
    "df_data.to_csv(PATH/'tmp'/'df_data_multilabel.csv',index=False)"
   ]
  },
  {
   "cell_type": "markdown",
   "metadata": {},
   "source": [
    "fixup is a utility function from fastai for cleaning up text data. "
   ]
  },
  {
   "cell_type": "code",
   "execution_count": 73,
   "metadata": {
    "ExecuteTime": {
     "end_time": "2018-05-20T16:50:53.916061Z",
     "start_time": "2018-05-20T16:50:53.909214Z"
    },
    "collapsed": true
   },
   "outputs": [],
   "source": [
    "re1 = re.compile(r'  +')\n",
    "\n",
    "def fixup(x):\n",
    "    x = x.replace('#39;', \"'\").replace('amp;', '&').replace('#146;', \"'\").replace(\n",
    "        'nbsp;', ' ').replace('#36;', '$').replace('\\\\n', \"\\n\").replace('quot;', \"'\").replace(\n",
    "        '<br />', \"\\n\").replace('\\\\\"', '\"').replace('<unk>','u_n').replace(' @.@ ','.').replace(\n",
    "        ' @-@ ','-').replace('\\\\', ' \\\\ ')\n",
    "    return re1.sub(' ', html.unescape(x))\n"
   ]
  },
  {
   "cell_type": "code",
   "execution_count": 74,
   "metadata": {
    "ExecuteTime": {
     "end_time": "2018-05-20T16:50:54.518381Z",
     "start_time": "2018-05-20T16:50:54.513241Z"
    },
    "collapsed": true
   },
   "outputs": [],
   "source": [
    "BOS = 'xbos'  #add beginning of sentence tag\n",
    "FLD = 'xfld'  #add data field tag\n",
    "\n",
    "def get_texts_tokens(df,n_labels=1):\n",
    "    labels = df.iloc[:,range(n_labels)].values.astype(np.int64)\n",
    "    texts = f'\\n{BOS} {FLD} 1 ' + df['comment_text'].astype(str)\n",
    "    texts = texts.apply(fixup).values.astype(str)\n",
    "    \n",
    "    #create tokens, using multi-processing\n",
    "    tokens = Tokenizer().proc_all_mp(partition_by_cores(texts))\n",
    "    return tokens,list(labels)"
   ]
  },
  {
   "cell_type": "code",
   "execution_count": 75,
   "metadata": {
    "ExecuteTime": {
     "end_time": "2018-05-20T16:50:55.158096Z",
     "start_time": "2018-05-20T16:50:55.154250Z"
    },
    "collapsed": true
   },
   "outputs": [],
   "source": [
    "def get_all(df,n_labels):\n",
    "    tokens,labels = [],[]\n",
    "    tokens_,labels_ = get_texts_tokens(df,n_labels)\n",
    "    tokens += tokens_\n",
    "    labels += labels_\n",
    "    return tokens,labels"
   ]
  },
  {
   "cell_type": "markdown",
   "metadata": {},
   "source": [
    "## Text Classification on toxic comments"
   ]
  },
  {
   "cell_type": "markdown",
   "metadata": {
    "heading_collapsed": true
   },
   "source": [
    "### Prepare data"
   ]
  },
  {
   "cell_type": "code",
   "execution_count": 33,
   "metadata": {
    "ExecuteTime": {
     "end_time": "2018-05-18T00:53:22.583085Z",
     "start_time": "2018-05-18T00:53:21.513981Z"
    },
    "collapsed": true,
    "hidden": true,
    "scrolled": true
   },
   "outputs": [],
   "source": [
    "df_data = pd.read_csv(PATH/'tmp'/'df_data_multilabel.csv')\n",
    "\n",
    "df_train_class,df_rest_class = train_test_split(df_data,test_size=0.2)\n",
    "df_valid_class,df_test_class = train_test_split(df_data,test_size=0.075)"
   ]
  },
  {
   "cell_type": "code",
   "execution_count": 34,
   "metadata": {
    "ExecuteTime": {
     "end_time": "2018-05-18T00:53:22.616600Z",
     "start_time": "2018-05-18T00:53:22.586237Z"
    },
    "hidden": true
   },
   "outputs": [
    {
     "data": {
      "text/html": [
       "<div>\n",
       "<style scoped>\n",
       "    .dataframe tbody tr th:only-of-type {\n",
       "        vertical-align: middle;\n",
       "    }\n",
       "\n",
       "    .dataframe tbody tr th {\n",
       "        vertical-align: top;\n",
       "    }\n",
       "\n",
       "    .dataframe thead th {\n",
       "        text-align: right;\n",
       "    }\n",
       "</style>\n",
       "<table border=\"1\" class=\"dataframe\">\n",
       "  <thead>\n",
       "    <tr style=\"text-align: right;\">\n",
       "      <th></th>\n",
       "      <th>toxic</th>\n",
       "      <th>severe_toxic</th>\n",
       "      <th>obscene</th>\n",
       "      <th>threat</th>\n",
       "      <th>insult</th>\n",
       "      <th>identity_hate</th>\n",
       "      <th>comment_text</th>\n",
       "    </tr>\n",
       "  </thead>\n",
       "  <tbody>\n",
       "    <tr>\n",
       "      <th>12562</th>\n",
       "      <td>0</td>\n",
       "      <td>0</td>\n",
       "      <td>0</td>\n",
       "      <td>0</td>\n",
       "      <td>0</td>\n",
       "      <td>0</td>\n",
       "      <td>Thanks, Anne and Roger. I would do all that yo...</td>\n",
       "    </tr>\n",
       "    <tr>\n",
       "      <th>122292</th>\n",
       "      <td>0</td>\n",
       "      <td>0</td>\n",
       "      <td>0</td>\n",
       "      <td>0</td>\n",
       "      <td>0</td>\n",
       "      <td>0</td>\n",
       "      <td>(talk) Is not Little Brown his publisher if th...</td>\n",
       "    </tr>\n",
       "    <tr>\n",
       "      <th>17379</th>\n",
       "      <td>0</td>\n",
       "      <td>0</td>\n",
       "      <td>0</td>\n",
       "      <td>0</td>\n",
       "      <td>0</td>\n",
       "      <td>0</td>\n",
       "      <td>I've created a disambiguation page at Winter S...</td>\n",
       "    </tr>\n",
       "    <tr>\n",
       "      <th>20550</th>\n",
       "      <td>0</td>\n",
       "      <td>0</td>\n",
       "      <td>0</td>\n",
       "      <td>0</td>\n",
       "      <td>0</td>\n",
       "      <td>0</td>\n",
       "      <td>No problem at all - at least that site had the...</td>\n",
       "    </tr>\n",
       "    <tr>\n",
       "      <th>35000</th>\n",
       "      <td>0</td>\n",
       "      <td>0</td>\n",
       "      <td>0</td>\n",
       "      <td>0</td>\n",
       "      <td>0</td>\n",
       "      <td>0</td>\n",
       "      <td>Thanks, Jusdafax\\n For your advice I will crea...</td>\n",
       "    </tr>\n",
       "  </tbody>\n",
       "</table>\n",
       "</div>"
      ],
      "text/plain": [
       "        toxic  severe_toxic  obscene  threat  insult  identity_hate  \\\n",
       "12562       0             0        0       0       0              0   \n",
       "122292      0             0        0       0       0              0   \n",
       "17379       0             0        0       0       0              0   \n",
       "20550       0             0        0       0       0              0   \n",
       "35000       0             0        0       0       0              0   \n",
       "\n",
       "                                             comment_text  \n",
       "12562   Thanks, Anne and Roger. I would do all that yo...  \n",
       "122292  (talk) Is not Little Brown his publisher if th...  \n",
       "17379   I've created a disambiguation page at Winter S...  \n",
       "20550   No problem at all - at least that site had the...  \n",
       "35000   Thanks, Jusdafax\\n For your advice I will crea...  "
      ]
     },
     "metadata": {},
     "output_type": "display_data"
    },
    {
     "data": {
      "text/html": [
       "<div>\n",
       "<style scoped>\n",
       "    .dataframe tbody tr th:only-of-type {\n",
       "        vertical-align: middle;\n",
       "    }\n",
       "\n",
       "    .dataframe tbody tr th {\n",
       "        vertical-align: top;\n",
       "    }\n",
       "\n",
       "    .dataframe thead th {\n",
       "        text-align: right;\n",
       "    }\n",
       "</style>\n",
       "<table border=\"1\" class=\"dataframe\">\n",
       "  <thead>\n",
       "    <tr style=\"text-align: right;\">\n",
       "      <th></th>\n",
       "      <th>toxic</th>\n",
       "      <th>severe_toxic</th>\n",
       "      <th>obscene</th>\n",
       "      <th>threat</th>\n",
       "      <th>insult</th>\n",
       "      <th>identity_hate</th>\n",
       "      <th>comment_text</th>\n",
       "    </tr>\n",
       "  </thead>\n",
       "  <tbody>\n",
       "    <tr>\n",
       "      <th>74631</th>\n",
       "      <td>0</td>\n",
       "      <td>0</td>\n",
       "      <td>0</td>\n",
       "      <td>0</td>\n",
       "      <td>0</td>\n",
       "      <td>0</td>\n",
       "      <td>Edit request on 3 March 2014</td>\n",
       "    </tr>\n",
       "    <tr>\n",
       "      <th>112918</th>\n",
       "      <td>0</td>\n",
       "      <td>0</td>\n",
       "      <td>0</td>\n",
       "      <td>0</td>\n",
       "      <td>0</td>\n",
       "      <td>0</td>\n",
       "      <td>. The distinctive example is</td>\n",
       "    </tr>\n",
       "    <tr>\n",
       "      <th>94680</th>\n",
       "      <td>0</td>\n",
       "      <td>0</td>\n",
       "      <td>0</td>\n",
       "      <td>0</td>\n",
       "      <td>0</td>\n",
       "      <td>0</td>\n",
       "      <td>Another typical Ryulong thread. It's getting s...</td>\n",
       "    </tr>\n",
       "    <tr>\n",
       "      <th>126076</th>\n",
       "      <td>0</td>\n",
       "      <td>0</td>\n",
       "      <td>0</td>\n",
       "      <td>0</td>\n",
       "      <td>0</td>\n",
       "      <td>0</td>\n",
       "      <td>Because you clearly read that.</td>\n",
       "    </tr>\n",
       "    <tr>\n",
       "      <th>24694</th>\n",
       "      <td>0</td>\n",
       "      <td>0</td>\n",
       "      <td>1</td>\n",
       "      <td>0</td>\n",
       "      <td>0</td>\n",
       "      <td>0</td>\n",
       "      <td>thanks a lot man, you dont know how long thats...</td>\n",
       "    </tr>\n",
       "  </tbody>\n",
       "</table>\n",
       "</div>"
      ],
      "text/plain": [
       "        toxic  severe_toxic  obscene  threat  insult  identity_hate  \\\n",
       "74631       0             0        0       0       0              0   \n",
       "112918      0             0        0       0       0              0   \n",
       "94680       0             0        0       0       0              0   \n",
       "126076      0             0        0       0       0              0   \n",
       "24694       0             0        1       0       0              0   \n",
       "\n",
       "                                             comment_text  \n",
       "74631                        Edit request on 3 March 2014  \n",
       "112918                       . The distinctive example is  \n",
       "94680   Another typical Ryulong thread. It's getting s...  \n",
       "126076                     Because you clearly read that.  \n",
       "24694   thanks a lot man, you dont know how long thats...  "
      ]
     },
     "metadata": {},
     "output_type": "display_data"
    },
    {
     "data": {
      "text/plain": [
       "(None, None)"
      ]
     },
     "execution_count": 34,
     "metadata": {},
     "output_type": "execute_result"
    }
   ],
   "source": [
    "display(df_train_class.head()),display(df_valid_class.head())"
   ]
  },
  {
   "cell_type": "code",
   "execution_count": 35,
   "metadata": {
    "ExecuteTime": {
     "end_time": "2018-05-18T00:53:30.917748Z",
     "start_time": "2018-05-18T00:53:30.912940Z"
    },
    "hidden": true
   },
   "outputs": [
    {
     "data": {
      "text/plain": [
       "(127656, 147603, 11968)"
      ]
     },
     "execution_count": 35,
     "metadata": {},
     "output_type": "execute_result"
    }
   ],
   "source": [
    "len(df_train_class),len(df_valid_class),len(df_test_class)"
   ]
  },
  {
   "cell_type": "code",
   "execution_count": 67,
   "metadata": {
    "ExecuteTime": {
     "end_time": "2018-05-18T01:19:28.844135Z",
     "start_time": "2018-05-18T01:15:20.985098Z"
    },
    "collapsed": true,
    "hidden": true,
    "scrolled": true
   },
   "outputs": [],
   "source": [
    "train_tokens,train_labels = get_all(df_train_class,len(CLASSES))\n",
    "valid_tokens,valid_labels = get_all(df_valid_class,len(CLASSES))\n",
    "test_tokens,test_labels = get_all(df_test_class,len(CLASSES))"
   ]
  },
  {
   "cell_type": "code",
   "execution_count": 71,
   "metadata": {
    "ExecuteTime": {
     "end_time": "2018-05-18T01:21:10.352541Z",
     "start_time": "2018-05-18T01:21:10.345152Z"
    },
    "collapsed": true,
    "hidden": true
   },
   "outputs": [
    {
     "data": {
      "text/plain": [
       "(array([0, 0, 0, 0, 0, 0]),\n",
       " ['\\n',\n",
       "  'xbos',\n",
       "  'xfld',\n",
       "  '1',\n",
       "  'geocities',\n",
       "  '\\n',\n",
       "  'exactly',\n",
       "  'what',\n",
       "  'policy',\n",
       "  'does',\n",
       "  'a',\n",
       "  'site',\n",
       "  'published',\n",
       "  'by',\n",
       "  'geocities',\n",
       "  'violate',\n",
       "  '?',\n",
       "  'the',\n",
       "  'article',\n",
       "  'is',\n",
       "  'well',\n",
       "  'and',\n",
       "  'professionally',\n",
       "  'written',\n",
       "  'as',\n",
       "  'well',\n",
       "  'as',\n",
       "  'nicely',\n",
       "  '-',\n",
       "  'presented',\n",
       "  '.',\n",
       "  'what',\n",
       "  \"'s\",\n",
       "  'unreliable',\n",
       "  'about',\n",
       "  'it',\n",
       "  '?',\n",
       "  'the',\n",
       "  'fact',\n",
       "  'that',\n",
       "  'it',\n",
       "  'was',\n",
       "  'published',\n",
       "  'on',\n",
       "  'geocities',\n",
       "  '?',\n",
       "  'plenty',\n",
       "  'of',\n",
       "  'good',\n",
       "  'articles',\n",
       "  'are',\n",
       "  'published',\n",
       "  'on',\n",
       "  'tripod.com',\n",
       "  'or',\n",
       "  'hispavista.es',\n",
       "  'and',\n",
       "  'they',\n",
       "  \"'re\",\n",
       "  'acceptable',\n",
       "  '?',\n",
       "  'why',\n",
       "  ',',\n",
       "  'because',\n",
       "  'the',\n",
       "  'user',\n",
       "  'can',\n",
       "  'invest',\n",
       "  'on',\n",
       "  'a',\n",
       "  'domain',\n",
       "  'name',\n",
       "  '?',\n",
       "  'because',\n",
       "  'that',\n",
       "  \"'s\",\n",
       "  'the',\n",
       "  'only',\n",
       "  'difference',\n",
       "  '.'])"
      ]
     },
     "execution_count": 71,
     "metadata": {},
     "output_type": "execute_result"
    }
   ],
   "source": [
    "valid_labels[10],valid_tokens[10]"
   ]
  },
  {
   "cell_type": "code",
   "execution_count": 72,
   "metadata": {
    "ExecuteTime": {
     "end_time": "2018-05-18T01:21:34.954505Z",
     "start_time": "2018-05-18T01:21:24.040716Z"
    },
    "collapsed": true,
    "hidden": true
   },
   "outputs": [],
   "source": [
    "#save tokens and labels\n",
    "(CLASSIFIER_PATH/'tmp').mkdir(exist_ok=True)\n",
    "np.save(CLASSIFIER_PATH/'tmp'/'train_tokens2.npy',train_tokens)\n",
    "np.save(CLASSIFIER_PATH/'tmp'/'valid_tokens2.npy',valid_tokens)\n",
    "np.save(CLASSIFIER_PATH/'tmp'/'test_tokens2.npy',test_tokens)\n",
    "\n",
    "np.save(CLASSIFIER_PATH/'tmp'/'train_multilabels.npy',train_labels)\n",
    "np.save(CLASSIFIER_PATH/'tmp'/'valid_multilabels.npy',valid_labels)\n",
    "np.save(CLASSIFIER_PATH/'tmp'/'test_multilabels.npy',test_labels)"
   ]
  },
  {
   "cell_type": "code",
   "execution_count": 6,
   "metadata": {
    "ExecuteTime": {
     "end_time": "2018-05-19T00:26:38.524365Z",
     "start_time": "2018-05-19T00:26:31.742249Z"
    },
    "collapsed": true,
    "hidden": true
   },
   "outputs": [],
   "source": [
    "train_tokens = np.load(CLASSIFIER_PATH/'tmp'/'train_tokens2.npy')\n",
    "valid_tokens = np.load(CLASSIFIER_PATH/'tmp'/'valid_tokens2.npy')\n",
    "test_tokens = np.load(CLASSIFIER_PATH/'tmp'/'test_tokens2.npy')"
   ]
  },
  {
   "cell_type": "markdown",
   "metadata": {
    "hidden": true
   },
   "source": [
    "Map the token ids used in the language model to the tokens created from the toxic comments data"
   ]
  },
  {
   "cell_type": "code",
   "execution_count": 7,
   "metadata": {
    "ExecuteTime": {
     "end_time": "2018-05-19T00:27:04.210311Z",
     "start_time": "2018-05-19T00:26:56.047632Z"
    },
    "collapsed": true,
    "hidden": true
   },
   "outputs": [],
   "source": [
    "int_to_str = pickle.load((LM_PATH/'tmp'/'int_to_str.pkl').open('rb'))\n",
    "str_to_int = collections.defaultdict(lambda:0, {v:k for k,v in enumerate(int_to_str)})\n",
    "\n",
    "train_class_inds = np.array([[str_to_int[o] for o in p] for p in train_tokens])\n",
    "valid_class_inds = np.array([[str_to_int[o] for o in p] for p in valid_tokens])\n",
    "test_class_inds = np.array([[str_to_int[o] for o in p] for p in test_tokens])"
   ]
  },
  {
   "cell_type": "code",
   "execution_count": 8,
   "metadata": {
    "ExecuteTime": {
     "end_time": "2018-05-19T00:27:05.525562Z",
     "start_time": "2018-05-19T00:27:04.213068Z"
    },
    "collapsed": true,
    "hidden": true
   },
   "outputs": [],
   "source": [
    "#save data\n",
    "np.save(CLASSIFIER_PATH/'tmp'/'train_ids2.npy',train_class_inds)\n",
    "np.save(CLASSIFIER_PATH/'tmp'/'valid_ids2.npy',valid_class_inds)\n",
    "np.save(CLASSIFIER_PATH/'tmp'/'test_ids2.npy',test_class_inds)"
   ]
  },
  {
   "cell_type": "markdown",
   "metadata": {
    "hidden": true
   },
   "source": [
    "\n"
   ]
  },
  {
   "cell_type": "code",
   "execution_count": null,
   "metadata": {
    "collapsed": true,
    "hidden": true
   },
   "outputs": [],
   "source": []
  },
  {
   "cell_type": "markdown",
   "metadata": {},
   "source": [
    "### Create model dataloader. \n",
    "\n",
    "First we will need to pad the sequences to the same length in each batch. To create batches of the same size, we use the SortishSampler. The SortishSampler cuts down the overall number of padding tokens fed into the classifier."
   ]
  },
  {
   "cell_type": "code",
   "execution_count": 5,
   "metadata": {
    "ExecuteTime": {
     "end_time": "2018-05-19T11:40:54.687674Z",
     "start_time": "2018-05-19T11:40:52.172882Z"
    },
    "collapsed": true
   },
   "outputs": [],
   "source": [
    "train_class_inds = np.load(CLASSIFIER_PATH/'tmp'/'train_ids2.npy')\n",
    "valid_class_inds = np.load(CLASSIFIER_PATH/'tmp'/'valid_ids2.npy')\n",
    "test_class_inds = np.load(CLASSIFIER_PATH/'tmp'/'test_ids2.npy')\n",
    "\n",
    "train_labels = np.load(CLASSIFIER_PATH/'tmp'/'train_multilabels.npy')\n",
    "valid_labels = np.load(CLASSIFIER_PATH/'tmp'/'valid_multilabels.npy')\n",
    "test_labels = np.load(CLASSIFIER_PATH/'tmp'/'test_multilabels.npy')\n",
    "\n",
    "int_to_str = pickle.load((LM_PATH/'tmp'/'int_to_str.pkl').open('rb'))\n",
    "str_to_int = collections.defaultdict(lambda:0, {v:k for k,v in enumerate(int_to_str)})"
   ]
  },
  {
   "cell_type": "code",
   "execution_count": 7,
   "metadata": {
    "ExecuteTime": {
     "end_time": "2018-05-19T11:41:03.587784Z",
     "start_time": "2018-05-19T11:41:03.574769Z"
    },
    "collapsed": true
   },
   "outputs": [],
   "source": [
    "bs = 8           #batch size\n",
    "\n",
    "train_dataset = TextDataset(train_class_inds,train_labels.astype('float32')) \n",
    "valid_dataset = TextDataset(valid_class_inds,valid_labels.astype('float32'))\n",
    "test_dataset = TextDataset(test_class_inds,test_labels.astype('float32'))\n",
    "\n",
    "train_sampler = SortishSampler(train_class_inds,key=lambda x: len(train_class_inds),bs=bs//2)\n",
    "valid_sampler = SortSampler(valid_class_inds,key=lambda x: len(valid_class_inds[x]))\n",
    "test_sampler = SortSampler(test_class_inds,key=lambda x: len(test_class_inds[x]))\n",
    "\n",
    "train_dataloader = DataLoader(train_dataset,bs//2,transpose=True,num_workers=1,pad_idx=1,sampler=train_sampler)\n",
    "valid_dataloader = DataLoader(valid_dataset,bs,transpose=True,num_workers=1,pad_idx=1,sampler=valid_sampler)\n",
    "test_dataloader = DataLoader(test_dataset,bs,transpose=True,num_workers=1,pad_idx=1,sampler=test_sampler)\n",
    "\n",
    "TextData = ModelData(PATH,train_dataloader,valid_dataloader,test_dataloader)"
   ]
  },
  {
   "cell_type": "code",
   "execution_count": 10,
   "metadata": {
    "ExecuteTime": {
     "end_time": "2018-05-19T11:42:21.955754Z",
     "start_time": "2018-05-19T11:42:21.952774Z"
    },
    "collapsed": true
   },
   "outputs": [],
   "source": [
    "x,y =TextData.trn_ds[0]"
   ]
  },
  {
   "cell_type": "code",
   "execution_count": 15,
   "metadata": {
    "ExecuteTime": {
     "end_time": "2018-05-19T11:43:22.975755Z",
     "start_time": "2018-05-19T11:43:22.970057Z"
    }
   },
   "outputs": [
    {
     "data": {
      "text/plain": [
       "Variable containing:\n",
       "   12\n",
       "   16\n",
       "   17\n",
       "   15\n",
       "  122\n",
       "    4\n",
       " 6071\n",
       "   10\n",
       " 4828\n",
       "    2\n",
       "    8\n",
       "   64\n",
       "   39\n",
       "   63\n",
       "   18\n",
       "   13\n",
       "  145\n",
       "   38\n",
       "[torch.cuda.LongTensor of size 18 (GPU 0)]"
      ]
     },
     "execution_count": 15,
     "metadata": {},
     "output_type": "execute_result"
    }
   ],
   "source": [
    "V(x)"
   ]
  },
  {
   "cell_type": "code",
   "execution_count": null,
   "metadata": {
    "collapsed": true
   },
   "outputs": [],
   "source": [
    "l = valid_labels.float()\n",
    "type(l)"
   ]
  },
  {
   "cell_type": "code",
   "execution_count": 10,
   "metadata": {
    "ExecuteTime": {
     "end_time": "2018-05-19T01:58:33.720616Z",
     "start_time": "2018-05-19T01:58:33.714547Z"
    }
   },
   "outputs": [
    {
     "data": {
      "text/plain": [
       "([12,\n",
       "  16,\n",
       "  17,\n",
       "  15,\n",
       "  31,\n",
       "  75,\n",
       "  28,\n",
       "  14,\n",
       "  25,\n",
       "  265,\n",
       "  1717,\n",
       "  93,\n",
       "  2760,\n",
       "  44,\n",
       "  66,\n",
       "  1016,\n",
       "  19,\n",
       "  62,\n",
       "  8,\n",
       "  57,\n",
       "  108,\n",
       "  19,\n",
       "  2,\n",
       "  8,\n",
       "  35,\n",
       "  4861,\n",
       "  18,\n",
       "  13,\n",
       "  57,\n",
       "  3522,\n",
       "  9],\n",
       " array([0., 0., 0., 0., 0., 0.], dtype=float32))"
      ]
     },
     "execution_count": 10,
     "metadata": {},
     "output_type": "execute_result"
    }
   ],
   "source": [
    "train_dataset.x[1],train_dataset.y[1]"
   ]
  },
  {
   "cell_type": "markdown",
   "metadata": {},
   "source": [
    "### Create RNN Classifier\n",
    "As mentioned above, our classifier consists of 3 LSTM (AWD-LSTM) layers followed by 2 linear layers (including the classification layer)."
   ]
  },
  {
   "cell_type": "code",
   "execution_count": 43,
   "metadata": {
    "ExecuteTime": {
     "end_time": "2018-05-19T17:29:18.223737Z",
     "start_time": "2018-05-19T17:29:18.209443Z"
    },
    "collapsed": true
   },
   "outputs": [],
   "source": [
    "def train_rnn_classifier():\n",
    "    embed_dim = 400   #embedding dimensions to encode each token\n",
    "    n_units = 1150    #number of hidden activation units per LSTM layer\n",
    "    n_layers = 3      #number of LSTM layers\n",
    "    vocab_size = len(int_to_str) #number of tokens/vocabulary size\n",
    "    bptt = 70         #batch size for back prop thru time  \n",
    "    dropouts = np.array([0.4,0.5,0.05,0.3,0.4])*0.5 #dropout for each layer of the model\n",
    "    #lrs = np.array([1e-4,1e-4,1e-4,1e-3,1e-2])\n",
    "    lr=3e-3\n",
    "    lrm = 2.6\n",
    "    lrs = np.array([lr/(lrm**4), lr/(lrm**3), lr/(lrm**2), lr/lrm, lr])\n",
    "    weight_decay=1e-7\n",
    "    n_cats = 6 #number of categories or classes\n",
    "    \n",
    "    m = get_rnn_classifer(bptt,max_seq=20*70,n_class=n_cats,n_tok=vocab_size,emb_sz=embed_dim,n_hid=n_units,\n",
    "                          n_layers=n_layers,pad_token=1,layers=[embed_dim*3,40,n_cats],drops=[dropouts[4],0.1],\n",
    "                          dropouti=dropouts[0],wdrop=dropouts[1],dropoute=dropouts[2],dropouth=dropouts[3])\n",
    "        \n",
    "    learn = RNN_Learner(TextData, TextModel(to_gpu(m)),opt_fn=partial(optim.Adam, betas=(0.8,0.99)))\n",
    "    learn.reg_fn = partial(seq2seq_reg,alpha=2.,beta=1.) #regularization function\n",
    "    learn.clip = 25.   #gradient clipping\n",
    "    learn.metrics = [accuracy_thresh(0.5)] #multilabel accuracy\n",
    "    learn.crit = F.binary_cross_entropy_with_logits\n",
    "    print(learn.summary)\n",
    "    \n",
    "    #fine tune last layer\n",
    "    print('Finetuning last layer...')\n",
    "    learn.freeze_to(-1)\n",
    "    learn.fit(lrs,1,wds=weight_decay,cycle_len=1,use_clr=(8,3))\n",
    "    learn.save('classifier_multi_0') \n",
    "    \n",
    "    # load pretrained language model & fine tune last layer\n",
    "    print('Load pretrained LM & finetuning last layer...')\n",
    "    learn.load_encoder('LM1_encoder')\n",
    "    learn.freeze_to(-1)\n",
    "    learn.fit(lrs,1,wds=weight_decay,cycle_len=1,use_clr=(8,3))\n",
    "    learn.save('classifier_multi_1') \n",
    "    \n",
    "    #train last two layers\n",
    "    print('Finetuning last two layers...')\n",
    "    learn.freeze_to(-2)\n",
    "    learn.fit(lrs,1,wds=weight_decay,cycle_len=1, use_clr=(8,3))\n",
    "    learn.save('classifier_multi_2')\n",
    "\n",
    "    #unfreeze all layers\n",
    "    print('Finetuning all layers...')\n",
    "    learn.unfreeze()\n",
    "    learn.fit(lrs,1,wds=weight_decay,cycle_len=2,use_clr=(32,10))\n",
    "    learn.save('classifier_multi_3') \n",
    "\n",
    "    learn.sched.plot_lr()\n",
    "    learn.sched.plot_loss()\n",
    "    \n",
    "    return learn"
   ]
  },
  {
   "cell_type": "code",
   "execution_count": 44,
   "metadata": {
    "ExecuteTime": {
     "end_time": "2018-05-20T03:25:43.922922Z",
     "start_time": "2018-05-19T17:29:18.883370Z"
    },
    "scrolled": true
   },
   "outputs": [
    {
     "name": "stdout",
     "output_type": "stream",
     "text": [
      "<bound method Learner.summary of SequentialRNN(\n",
      "  (0): MultiBatchRNN(\n",
      "    (encoder): Embedding(60002, 400, padding_idx=1)\n",
      "    (encoder_with_dropout): EmbeddingDropout(\n",
      "      (embed): Embedding(60002, 400, padding_idx=1)\n",
      "    )\n",
      "    (rnns): ModuleList(\n",
      "      (0): WeightDrop(\n",
      "        (module): LSTM(400, 1150)\n",
      "      )\n",
      "      (1): WeightDrop(\n",
      "        (module): LSTM(1150, 1150)\n",
      "      )\n",
      "      (2): WeightDrop(\n",
      "        (module): LSTM(1150, 400)\n",
      "      )\n",
      "    )\n",
      "    (dropouti): LockedDropout(\n",
      "    )\n",
      "    (dropouths): ModuleList(\n",
      "      (0): LockedDropout(\n",
      "      )\n",
      "      (1): LockedDropout(\n",
      "      )\n",
      "      (2): LockedDropout(\n",
      "      )\n",
      "    )\n",
      "  )\n",
      "  (1): PoolingLinearClassifier(\n",
      "    (layers): ModuleList(\n",
      "      (0): LinearBlock(\n",
      "        (lin): Linear(in_features=1200, out_features=40, bias=True)\n",
      "        (drop): Dropout(p=0.2)\n",
      "        (bn): BatchNorm1d(1200, eps=1e-05, momentum=0.1, affine=True)\n",
      "      )\n",
      "      (1): LinearBlock(\n",
      "        (lin): Linear(in_features=40, out_features=6, bias=True)\n",
      "        (drop): Dropout(p=0.1)\n",
      "        (bn): BatchNorm1d(40, eps=1e-05, momentum=0.1, affine=True)\n",
      "      )\n",
      "    )\n",
      "  )\n",
      ")>\n",
      "Finetuning last layer...\n"
     ]
    },
    {
     "data": {
      "application/vnd.jupyter.widget-view+json": {
       "model_id": "fe1f70004e104f09b06407001e856f68",
       "version_major": 2,
       "version_minor": 0
      },
      "text/plain": [
       "HBox(children=(IntProgress(value=0, description='Epoch', max=1), HTML(value='')))"
      ]
     },
     "metadata": {},
     "output_type": "display_data"
    },
    {
     "name": "stdout",
     "output_type": "stream",
     "text": [
      "epoch      trn_loss   val_loss   <lambda>                         \n",
      "    0      0.135037   0.128958   0.968302  \n",
      "Load pretrained LM & finetuning last layer...\n"
     ]
    },
    {
     "data": {
      "application/vnd.jupyter.widget-view+json": {
       "model_id": "0f75c9ca74194c05915430aea2b8204d",
       "version_major": 2,
       "version_minor": 0
      },
      "text/plain": [
       "HBox(children=(IntProgress(value=0, description='Epoch', max=1), HTML(value='')))"
      ]
     },
     "metadata": {},
     "output_type": "display_data"
    },
    {
     "name": "stdout",
     "output_type": "stream",
     "text": [
      "epoch      trn_loss   val_loss   <lambda>                         \n",
      "    0      0.100556   0.08238    0.976632  \n",
      "Finetuning last two layers...\n"
     ]
    },
    {
     "data": {
      "application/vnd.jupyter.widget-view+json": {
       "model_id": "e9493d4175ce48b2bf8c2b3d55e2115e",
       "version_major": 2,
       "version_minor": 0
      },
      "text/plain": [
       "HBox(children=(IntProgress(value=0, description='Epoch', max=1), HTML(value='')))"
      ]
     },
     "metadata": {},
     "output_type": "display_data"
    },
    {
     "name": "stdout",
     "output_type": "stream",
     "text": [
      " 86%|████████▌ | 27515/31914 [43:14<06:54, 10.61it/s, loss=0.0493]epoch      trn_loss   val_loss   <lambda>   \n",
      "    0      0.050588   0.075263   0.977845  \n",
      "Finetuning all layers...\n"
     ]
    },
    {
     "data": {
      "application/vnd.jupyter.widget-view+json": {
       "model_id": "7edebc119bfe442f8863903f00df6bd4",
       "version_major": 2,
       "version_minor": 0
      },
      "text/plain": [
       "HBox(children=(IntProgress(value=0, description='Epoch', max=4), HTML(value='')))"
      ]
     },
     "metadata": {},
     "output_type": "display_data"
    },
    {
     "name": "stdout",
     "output_type": "stream",
     "text": [
      "    2      0.053839   4.404462   0.981287                           \n",
      "    3      0.046239   0.085257   0.981689                           \n"
     ]
    },
    {
     "data": {
      "image/png": "[encoded data removed]",
      "text/plain": [
       "<Figure size 432x288 with 1 Axes>"
      ]
     },
     "metadata": {},
     "output_type": "display_data"
    }
   ],
   "source": [
    "learner = train_rnn_classifier()"
   ]
  },
  {
   "cell_type": "code",
   "execution_count": null,
   "metadata": {
    "collapsed": true
   },
   "outputs": [],
   "source": []
  },
  {
   "cell_type": "code",
   "execution_count": 96,
   "metadata": {
    "ExecuteTime": {
     "end_time": "2018-05-20T17:09:29.671893Z",
     "start_time": "2018-05-20T17:09:26.718056Z"
    },
    "collapsed": true
   },
   "outputs": [],
   "source": [
    "embed_dim = 400   #embedding dimensions to encode each token\n",
    "n_units = 1150    #number of hidden activation units per LSTM layer\n",
    "n_layers = 3      #number of LSTM layers\n",
    "vocab_size = len(int_to_str) #number of tokens/vocabulary size\n",
    "bptt = 70         #batch size for back prop thru time  \n",
    "dropouts = np.array([0.4,0.5,0.05,0.3,0.4])*0.5 #dropout for each layer of the model\n",
    "#lrs = np.array([1e-4,1e-4,1e-4,1e-3,1e-2])\n",
    "lr=3e-3\n",
    "lrm = 2.6\n",
    "lrs = np.array([lr/(lrm**4), lr/(lrm**3), lr/(lrm**2), lr/lrm, lr])\n",
    "weight_decay=1e-7\n",
    "n_cats = 6 #number of categories or classes\n",
    "\n",
    "m = get_rnn_classifer(bptt,max_seq=20*70,n_class=n_cats,n_tok=vocab_size,emb_sz=embed_dim,n_hid=n_units,\n",
    "                      n_layers=n_layers,pad_token=1,layers=[embed_dim*3,40,n_cats],drops=[dropouts[4],0.1],\n",
    "                      dropouti=dropouts[0],wdrop=dropouts[1],dropoute=dropouts[2],dropouth=dropouts[3])\n",
    "\n",
    "learn = RNN_Learner(TextData, TextModel(to_gpu(m)),opt_fn=partial(optim.Adam, betas=(0.8,0.99)))\n",
    "learn.reg_fn = partial(seq2seq_reg,alpha=2.,beta=1.) #regularization function\n",
    "learn.clip = 25.   #gradient clipping\n",
    "learn.metrics = [accuracy_thresh(0.5)] #multilabel accuracy\n",
    "learn.crit = F.binary_cross_entropy_with_logits"
   ]
  },
  {
   "cell_type": "code",
   "execution_count": null,
   "metadata": {
    "ExecuteTime": {
     "start_time": "2018-05-19T12:07:34.970Z"
    }
   },
   "outputs": [
    {
     "data": {
      "application/vnd.jupyter.widget-view+json": {
       "model_id": "7e3045ee596f4a73b731ccef53199f4e",
       "version_major": 2,
       "version_minor": 0
      },
      "text/plain": [
       "HBox(children=(IntProgress(value=0, description='Epoch', max=1), HTML(value='')))"
      ]
     },
     "metadata": {},
     "output_type": "display_data"
    },
    {
     "name": "stdout",
     "output_type": "stream",
     "text": [
      " 84%|████████▎ | 26699/31914 [1:18:02<15:14,  5.70it/s, loss=0.693]"
     ]
    }
   ],
   "source": [
    "learn.lr_find(start_lr=lrs/100,end_lr=lrs*10,linear=True)"
   ]
  },
  {
   "cell_type": "code",
   "execution_count": 28,
   "metadata": {
    "ExecuteTime": {
     "end_time": "2018-05-19T15:38:17.422614Z",
     "start_time": "2018-05-19T13:52:30.038845Z"
    }
   },
   "outputs": [
    {
     "name": "stdout",
     "output_type": "stream",
     "text": [
      "epoch      trn_loss   val_loss   <lambda>                          \n",
      "    0      0.693147   0.693147   0.968302  \n",
      "\n"
     ]
    }
   ],
   "source": [
    "lr=3e-3\n",
    "lrm = 2.6\n",
    "lrs = np.array([lr/(lrm**4), lr/(lrm**3), lr/(lrm**2), lr/lrm, lr])\n",
    "learn.lr_find(lrs/1000)"
   ]
  },
  {
   "cell_type": "code",
   "execution_count": 29,
   "metadata": {
    "ExecuteTime": {
     "end_time": "2018-05-19T15:38:18.270025Z",
     "start_time": "2018-05-19T15:38:17.427447Z"
    }
   },
   "outputs": [
    {
     "data": {
      "image/png": "[encoded data removed]",
      "text/plain": [
       "<Figure size 432x288 with 1 Axes>"
      ]
     },
     "metadata": {},
     "output_type": "display_data"
    }
   ],
   "source": [
    "learn.sched.plot()"
   ]
  },
  {
   "cell_type": "code",
   "execution_count": 36,
   "metadata": {
    "ExecuteTime": {
     "end_time": "2018-05-19T16:56:34.447616Z",
     "start_time": "2018-05-19T16:16:44.760199Z"
    }
   },
   "outputs": [
    {
     "data": {
      "application/vnd.jupyter.widget-view+json": {
       "model_id": "575950892a1b43a78f3546e511a10f93",
       "version_major": 2,
       "version_minor": 0
      },
      "text/plain": [
       "HBox(children=(IntProgress(value=0, description='Epoch', max=1), HTML(value='')))"
      ]
     },
     "metadata": {},
     "output_type": "display_data"
    },
    {
     "name": "stdout",
     "output_type": "stream",
     "text": [
      " 31%|███▏      | 10000/31914 [39:48<1:27:13,  4.19it/s, loss=0.15] "
     ]
    },
    {
     "data": {
      "image/png": "[encoded data removed]",
      "text/plain": [
       "<Figure size 432x864 with 3 Axes>"
      ]
     },
     "metadata": {},
     "output_type": "display_data"
    }
   ],
   "source": [
    "learn.lr_find2(start_lr=lrs/1000,end_lr=lrs*10,num_it=10000,linear=True)\n",
    "learn.sched.plot()"
   ]
  },
  {
   "cell_type": "code",
   "execution_count": 38,
   "metadata": {
    "ExecuteTime": {
     "end_time": "2018-05-19T17:21:02.034489Z",
     "start_time": "2018-05-19T17:07:26.236763Z"
    }
   },
   "outputs": [
    {
     "data": {
      "application/vnd.jupyter.widget-view+json": {
       "model_id": "68e19e0fb744458d899b1411e5adf426",
       "version_major": 2,
       "version_minor": 0
      },
      "text/plain": [
       "HBox(children=(IntProgress(value=0, description='Epoch', max=1), HTML(value='')))"
      ]
     },
     "metadata": {},
     "output_type": "display_data"
    },
    {
     "name": "stdout",
     "output_type": "stream",
     "text": [
      "  8%|▊         | 2500/31914 [13:34<2:39:37,  3.07it/s, loss=0.174] "
     ]
    },
    {
     "data": {
      "image/png": "[encoded data removed]",
      "text/plain": [
       "<Figure size 432x864 with 3 Axes>"
      ]
     },
     "metadata": {},
     "output_type": "display_data"
    }
   ],
   "source": [
    "lr=3e-3\n",
    "lrm = 2.6\n",
    "lrs = np.array([lr/(lrm**4), lr/(lrm**3), lr/(lrm**2), lr/lrm, lr])\n",
    "learn.lr_find2(start_lr=lrs/1000,end_lr=lrs*10,num_it=2500,linear=True)\n",
    "learn.sched.plot()"
   ]
  },
  {
   "cell_type": "code",
   "execution_count": null,
   "metadata": {
    "collapsed": true
   },
   "outputs": [],
   "source": [
    "%debug"
   ]
  },
  {
   "cell_type": "markdown",
   "metadata": {},
   "source": [
    "### Notes\n",
    "for multilabel problem have to:\n",
    "- use `binary_crossentropy`, not crossentropy(which can only deal with single-label multiclass).\n",
    "- add `Sigmoid()` at the end to make sure that the output is squashed between 0 and 1\n",
    "    - use `F.binary_cross_entropy_with_logits` which adds sigmoid and according to the docs is more numerically stable than `Sigmoid()` followed by `F.binary_crossentropy`"
   ]
  },
  {
   "cell_type": "markdown",
   "metadata": {},
   "source": [
    "### Predict on kaggle dataset"
   ]
  },
  {
   "cell_type": "code",
   "execution_count": 88,
   "metadata": {
    "ExecuteTime": {
     "end_time": "2018-05-20T16:59:44.322758Z",
     "start_time": "2018-05-20T16:59:43.363685Z"
    }
   },
   "outputs": [
    {
     "data": {
      "text/html": [
       "<div>\n",
       "<style scoped>\n",
       "    .dataframe tbody tr th:only-of-type {\n",
       "        vertical-align: middle;\n",
       "    }\n",
       "\n",
       "    .dataframe tbody tr th {\n",
       "        vertical-align: top;\n",
       "    }\n",
       "\n",
       "    .dataframe thead th {\n",
       "        text-align: right;\n",
       "    }\n",
       "</style>\n",
       "<table border=\"1\" class=\"dataframe\">\n",
       "  <thead>\n",
       "    <tr style=\"text-align: right;\">\n",
       "      <th></th>\n",
       "      <th>label</th>\n",
       "      <th>comment_text</th>\n",
       "    </tr>\n",
       "    <tr>\n",
       "      <th>id</th>\n",
       "      <th></th>\n",
       "      <th></th>\n",
       "    </tr>\n",
       "  </thead>\n",
       "  <tbody>\n",
       "    <tr>\n",
       "      <th>ed47043e3831edf5</th>\n",
       "      <td>0</td>\n",
       "      <td>You all are pathetic! Don't you have any lives...</td>\n",
       "    </tr>\n",
       "    <tr>\n",
       "      <th>407670984af4bc1d</th>\n",
       "      <td>0</td>\n",
       "      <td>The article Teddy Margules has been speedily d...</td>\n",
       "    </tr>\n",
       "    <tr>\n",
       "      <th>556f03c9ce26e430</th>\n",
       "      <td>0</td>\n",
       "      <td>Please stop. If you continue to blank out or d...</td>\n",
       "    </tr>\n",
       "    <tr>\n",
       "      <th>544318b0b1651d68</th>\n",
       "      <td>0</td>\n",
       "      <td>\":::::::He's entitled to use whatever language...</td>\n",
       "    </tr>\n",
       "  </tbody>\n",
       "</table>\n",
       "</div>"
      ],
      "text/plain": [
       "                  label                                       comment_text\n",
       "id                                                                        \n",
       "ed47043e3831edf5      0  You all are pathetic! Don't you have any lives...\n",
       "407670984af4bc1d      0  The article Teddy Margules has been speedily d...\n",
       "556f03c9ce26e430      0  Please stop. If you continue to blank out or d...\n",
       "544318b0b1651d68      0  \":::::::He's entitled to use whatever language..."
      ]
     },
     "metadata": {},
     "output_type": "display_data"
    }
   ],
   "source": [
    "df_kag_test = pd.read_csv(PATH/'test.csv',index_col='id')\n",
    "df_kag_test['label']=0\n",
    "df_kag_test = df_kag_test.reindex(columns=['label','comment_text'])\n",
    "display(df_kag_test.sample(4))\n"
   ]
  },
  {
   "cell_type": "code",
   "execution_count": 93,
   "metadata": {
    "ExecuteTime": {
     "end_time": "2018-05-20T17:06:20.554045Z",
     "start_time": "2018-05-20T17:04:40.377596Z"
    },
    "collapsed": true
   },
   "outputs": [],
   "source": [
    "kag_tokens, kag_test_y = get_all(df_kag_test,1)\n",
    "np.save(CLASSIFIER_PATH/'tmp'/'kag_test_tokens.npy',kag_tokens)\n",
    "\n",
    "kag_class_ids = np.array([[str_to_int[o] for o in p] for p in kag_tokens])\n",
    "kag_dataset = TextDataset(kag_test_class_ids,kag_test_y)\n",
    "kag_sampler = SortSampler(kag_test_class_ids,key=lambda x: len(kag_class_ids[x]))\n",
    "kag_dataloader = DataLoader(kag_dataset,bs,transpose=True,num_workers=1,pad_idx=1,sampler=kag_sampler)"
   ]
  },
  {
   "cell_type": "code",
   "execution_count": 95,
   "metadata": {
    "ExecuteTime": {
     "end_time": "2018-05-20T17:08:23.719081Z",
     "start_time": "2018-05-20T17:08:23.715313Z"
    },
    "collapsed": true
   },
   "outputs": [],
   "source": [
    "TextData = ModelData(PATH,train_dataloader,valid_dataloader,kag_dataloader)"
   ]
  },
  {
   "cell_type": "code",
   "execution_count": 127,
   "metadata": {
    "ExecuteTime": {
     "end_time": "2018-05-20T19:20:14.467297Z",
     "start_time": "2018-05-20T19:20:12.866936Z"
    },
    "collapsed": true
   },
   "outputs": [],
   "source": [
    "learner.load('classifier_multi_1')"
   ]
  },
  {
   "cell_type": "code",
   "execution_count": 64,
   "metadata": {
    "ExecuteTime": {
     "end_time": "2018-05-20T14:58:51.807275Z",
     "start_time": "2018-05-20T14:58:51.804173Z"
    },
    "collapsed": true
   },
   "outputs": [],
   "source": [
    "def get_model_output(learner,is_test=True):\n",
    "    model_pred = learner.predict(is_test) \n",
    "    sigmoid = nn.Sigmoid()\n",
    "    output = sigmoid(torch.from_numpy(model_pred))\n",
    "    \n",
    "    return output"
   ]
  },
  {
   "cell_type": "code",
   "execution_count": null,
   "metadata": {
    "ExecuteTime": {
     "start_time": "2018-05-20T17:15:58.467Z"
    }
   },
   "outputs": [
    {
     "data": {
      "text/plain": [
       "((array([   12,    16,    17,    15,  1960,   476,  5190,   728,    14,    82, 21314,   109,    13,   189,\n",
       "           373,    30,    61,   461,    98,    42,    13,    10,  6247,    13,  1564,     0,    96,     8,\n",
       "            78,   476,  5034,  1459,     0,   576,  5582,    10,   121,    13,     6,  3609,    53,   397,\n",
       "            13,   774, 37396,    62,     2,  5190,   728,    14,    59,  4175,    20,  1226,   667,   402,\n",
       "             2,    39,   264, 18053,    18,   286,    27,   186,     2,    10, 20936,    14,   277, 20909,\n",
       "            72,  3949,    69,    46,    11,  1954,   185,    96,  1935,   576,  2343,   121,   251,   174,\n",
       "           510,   112,     2,     4]), array([0])),\n",
       " (array([   12,    16,    17,    15,  1960,   476,  5190,   728,    14,    82, 21314,   109,    13,   189,\n",
       "           373,    30,    61,   461,    98,    42,    13,    10,  6247,    13,  1564,     0,    96,     8,\n",
       "            78,   476,  5034,  1459,     0,   576,  5582,    10,   121,    13,     6,  3609,    53,   397,\n",
       "            13,   774, 37396,    62,     2,  5190,   728,    14,    59,  4175,    20,  1226,   667,   402,\n",
       "             2,    39,   264, 18053,    18,   286,    27,   186,     2,    10, 20936,    14,   277, 20909,\n",
       "            72,  3949,    69,    46,    11,  1954,   185,    96,  1935,   576,  2343,   121,   251,   174,\n",
       "           510,   112,     2,     4]),\n",
       "  array([0])))"
      ]
     },
     "execution_count": 102,
     "metadata": {},
     "output_type": "execute_result"
    }
   ],
   "source": [
    "learner.data.test_ds[0],kag_dataset[0]"
   ]
  },
  {
   "cell_type": "code",
   "execution_count": 106,
   "metadata": {
    "ExecuteTime": {
     "end_time": "2018-05-20T17:29:00.759261Z",
     "start_time": "2018-05-20T17:29:00.753193Z"
    }
   },
   "outputs": [
    {
     "data": {
      "text/plain": [
       "array([0.95828, 0.96585, 0.96613, 0.35649, 0.94199, 0.62327], dtype=float32)"
      ]
     },
     "execution_count": 106,
     "metadata": {},
     "output_type": "execute_result"
    }
   ],
   "source": [
    "kag_preds = get_model_output(learner)\n",
    "kag_preds = np.array(kag_preds)\n",
    "kag_preds[1]"
   ]
  },
  {
   "cell_type": "code",
   "execution_count": 110,
   "metadata": {
    "ExecuteTime": {
     "end_time": "2018-05-20T17:36:50.468135Z",
     "start_time": "2018-05-20T17:36:50.465042Z"
    },
    "collapsed": true
   },
   "outputs": [],
   "source": [
    "classes = ['toxic', 'severe_toxic', 'obscene', 'threat', 'insult', 'identity_hate']"
   ]
  },
  {
   "cell_type": "code",
   "execution_count": 115,
   "metadata": {
    "ExecuteTime": {
     "end_time": "2018-05-20T17:39:30.704996Z",
     "start_time": "2018-05-20T17:39:27.579074Z"
    }
   },
   "outputs": [
    {
     "data": {
      "text/html": [
       "<div>\n",
       "<style scoped>\n",
       "    .dataframe tbody tr th:only-of-type {\n",
       "        vertical-align: middle;\n",
       "    }\n",
       "\n",
       "    .dataframe tbody tr th {\n",
       "        vertical-align: top;\n",
       "    }\n",
       "\n",
       "    .dataframe thead th {\n",
       "        text-align: right;\n",
       "    }\n",
       "</style>\n",
       "<table border=\"1\" class=\"dataframe\">\n",
       "  <thead>\n",
       "    <tr style=\"text-align: right;\">\n",
       "      <th></th>\n",
       "      <th>id</th>\n",
       "      <th>toxic</th>\n",
       "      <th>severe_toxic</th>\n",
       "      <th>obscene</th>\n",
       "      <th>threat</th>\n",
       "      <th>insult</th>\n",
       "      <th>identity_hate</th>\n",
       "    </tr>\n",
       "  </thead>\n",
       "  <tbody>\n",
       "    <tr>\n",
       "      <th>0</th>\n",
       "      <td>00001cee341fdb12</td>\n",
       "      <td>0.000000</td>\n",
       "      <td>0.000000</td>\n",
       "      <td>0.000000</td>\n",
       "      <td>0.000000</td>\n",
       "      <td>0.000000</td>\n",
       "      <td>0.000000</td>\n",
       "    </tr>\n",
       "    <tr>\n",
       "      <th>1</th>\n",
       "      <td>0000247867823ef7</td>\n",
       "      <td>0.958278</td>\n",
       "      <td>0.965848</td>\n",
       "      <td>0.966133</td>\n",
       "      <td>0.356485</td>\n",
       "      <td>0.941992</td>\n",
       "      <td>0.623268</td>\n",
       "    </tr>\n",
       "    <tr>\n",
       "      <th>2</th>\n",
       "      <td>00013b17ad220c46</td>\n",
       "      <td>0.000000</td>\n",
       "      <td>0.000000</td>\n",
       "      <td>0.000000</td>\n",
       "      <td>0.000000</td>\n",
       "      <td>0.000000</td>\n",
       "      <td>0.000000</td>\n",
       "    </tr>\n",
       "    <tr>\n",
       "      <th>3</th>\n",
       "      <td>00017563c3f7919a</td>\n",
       "      <td>0.000000</td>\n",
       "      <td>0.000000</td>\n",
       "      <td>0.000000</td>\n",
       "      <td>0.000000</td>\n",
       "      <td>0.000000</td>\n",
       "      <td>0.000000</td>\n",
       "    </tr>\n",
       "    <tr>\n",
       "      <th>4</th>\n",
       "      <td>00017695ad8997eb</td>\n",
       "      <td>0.183055</td>\n",
       "      <td>0.049177</td>\n",
       "      <td>0.112638</td>\n",
       "      <td>0.010058</td>\n",
       "      <td>0.072082</td>\n",
       "      <td>0.052659</td>\n",
       "    </tr>\n",
       "  </tbody>\n",
       "</table>\n",
       "</div>"
      ],
      "text/plain": [
       "                 id     toxic  severe_toxic   obscene    threat    insult  \\\n",
       "0  00001cee341fdb12  0.000000      0.000000  0.000000  0.000000  0.000000   \n",
       "1  0000247867823ef7  0.958278      0.965848  0.966133  0.356485  0.941992   \n",
       "2  00013b17ad220c46  0.000000      0.000000  0.000000  0.000000  0.000000   \n",
       "3  00017563c3f7919a  0.000000      0.000000  0.000000  0.000000  0.000000   \n",
       "4  00017695ad8997eb  0.183055      0.049177  0.112638  0.010058  0.072082   \n",
       "\n",
       "   identity_hate  \n",
       "0       0.000000  \n",
       "1       0.623268  \n",
       "2       0.000000  \n",
       "3       0.000000  \n",
       "4       0.052659  "
      ]
     },
     "execution_count": 115,
     "metadata": {},
     "output_type": "execute_result"
    }
   ],
   "source": [
    "sample_submission = pd.read_csv(PATH/'sample_submission.csv')\n",
    "sample_submission[sample_submission.columns[1:]] = kag_preds\n",
    "sample_submission.head()"
   ]
  },
  {
   "cell_type": "code",
   "execution_count": 131,
   "metadata": {
    "ExecuteTime": {
     "end_time": "2018-05-21T02:58:32.323335Z",
     "start_time": "2018-05-21T02:58:29.660089Z"
    },
    "scrolled": true
   },
   "outputs": [
    {
     "data": {
      "text/html": [
       "<a href='submission_ft_1.csv' target='_blank'>submission_ft_1.csv</a><br>"
      ],
      "text/plain": [
       "/home/odenigborig/Github/Kaggle/toxic_comment/submission_ft_1.csv"
      ]
     },
     "execution_count": 131,
     "metadata": {},
     "output_type": "execute_result"
    }
   ],
   "source": [
    "from IPython.display import FileLink\n",
    "\n",
    "fname = 'submission_ft_1.csv'\n",
    "sample_submission.to_csv(fname, index=False)\n",
    "FileLink(fname)"
   ]
  },
  {
   "cell_type": "markdown",
   "metadata": {},
   "source": [
    "the above submission led to a score of 0.4963 on the leaderboard, which is pretty pathetic."
   ]
  },
  {
   "cell_type": "code",
   "execution_count": 108,
   "metadata": {
    "ExecuteTime": {
     "end_time": "2018-05-20T17:34:43.734847Z",
     "start_time": "2018-05-20T17:34:43.723933Z"
    }
   },
   "outputs": [
    {
     "data": {
      "text/html": [
       "<div>\n",
       "<style scoped>\n",
       "    .dataframe tbody tr th:only-of-type {\n",
       "        vertical-align: middle;\n",
       "    }\n",
       "\n",
       "    .dataframe tbody tr th {\n",
       "        vertical-align: top;\n",
       "    }\n",
       "\n",
       "    .dataframe thead th {\n",
       "        text-align: right;\n",
       "    }\n",
       "</style>\n",
       "<table border=\"1\" class=\"dataframe\">\n",
       "  <thead>\n",
       "    <tr style=\"text-align: right;\">\n",
       "      <th></th>\n",
       "      <th>label</th>\n",
       "      <th>comment_text</th>\n",
       "    </tr>\n",
       "    <tr>\n",
       "      <th>id</th>\n",
       "      <th></th>\n",
       "      <th></th>\n",
       "    </tr>\n",
       "  </thead>\n",
       "  <tbody>\n",
       "    <tr>\n",
       "      <th>00001cee341fdb12</th>\n",
       "      <td>0</td>\n",
       "      <td>Yo bitch Ja Rule is more succesful then you'll...</td>\n",
       "    </tr>\n",
       "    <tr>\n",
       "      <th>0000247867823ef7</th>\n",
       "      <td>0</td>\n",
       "      <td>== From RfC == \\n\\n The title is fine as it is...</td>\n",
       "    </tr>\n",
       "    <tr>\n",
       "      <th>00013b17ad220c46</th>\n",
       "      <td>0</td>\n",
       "      <td>\" \\n\\n == Sources == \\n\\n * Zawe Ashton on Lap...</td>\n",
       "    </tr>\n",
       "    <tr>\n",
       "      <th>00017563c3f7919a</th>\n",
       "      <td>0</td>\n",
       "      <td>:If you have a look back at the source, the in...</td>\n",
       "    </tr>\n",
       "    <tr>\n",
       "      <th>00017695ad8997eb</th>\n",
       "      <td>0</td>\n",
       "      <td>I don't anonymously edit articles at all.</td>\n",
       "    </tr>\n",
       "  </tbody>\n",
       "</table>\n",
       "</div>"
      ],
      "text/plain": [
       "                  label                                       comment_text\n",
       "id                                                                        \n",
       "00001cee341fdb12      0  Yo bitch Ja Rule is more succesful then you'll...\n",
       "0000247867823ef7      0  == From RfC == \\n\\n The title is fine as it is...\n",
       "00013b17ad220c46      0  \" \\n\\n == Sources == \\n\\n * Zawe Ashton on Lap...\n",
       "00017563c3f7919a      0  :If you have a look back at the source, the in...\n",
       "00017695ad8997eb      0          I don't anonymously edit articles at all."
      ]
     },
     "execution_count": 108,
     "metadata": {},
     "output_type": "execute_result"
    }
   ],
   "source": [
    "df_kag_test.head()"
   ]
  },
  {
   "cell_type": "code",
   "execution_count": 120,
   "metadata": {
    "ExecuteTime": {
     "end_time": "2018-05-20T17:43:51.970187Z",
     "start_time": "2018-05-20T17:43:51.965501Z"
    }
   },
   "outputs": [
    {
     "data": {
      "text/plain": [
       "'\" \\n\\n == Sources == \\n\\n * Zawe Ashton on Lapland —  /  \"'"
      ]
     },
     "execution_count": 120,
     "metadata": {},
     "output_type": "execute_result"
    }
   ],
   "source": [
    "df_kag_test.comment_text[2]"
   ]
  },
  {
   "cell_type": "code",
   "execution_count": 129,
   "metadata": {
    "ExecuteTime": {
     "end_time": "2018-05-20T19:33:25.322765Z",
     "start_time": "2018-05-20T19:33:25.029367Z"
    }
   },
   "outputs": [
    {
     "data": {
      "text/plain": [
       "0.6043962100104063"
      ]
     },
     "execution_count": 129,
     "metadata": {},
     "output_type": "execute_result"
    }
   ],
   "source": [
    "from sklearn.metrics import roc_auc_score\n",
    "learner.load('classifier_multi_2')\n",
    "valid_preds = get_model_output(learner,is_test=False)\n",
    "print(valid_labels.shape,valid_preds.shape)\n",
    "\n",
    "roc_auc_score(valid_labels, valid_preds, average='micro')"
   ]
  },
  {
   "cell_type": "code",
   "execution_count": 130,
   "metadata": {
    "ExecuteTime": {
     "end_time": "2018-05-20T19:45:18.065804Z",
     "start_time": "2018-05-20T19:33:44.247075Z"
    }
   },
   "outputs": [
    {
     "data": {
      "text/plain": [
       "0.5033316901382017"
      ]
     },
     "execution_count": 130,
     "metadata": {},
     "output_type": "execute_result"
    }
   ],
   "source": [
    "learner.load('classifier_multi_3')\n",
    "valid_preds = get_model_output(learner,is_test=False)\n",
    "roc_auc_score(valid_labels, valid_preds, average='macro')"
   ]
  },
  {
   "cell_type": "code",
   "execution_count": null,
   "metadata": {
    "collapsed": true
   },
   "outputs": [],
   "source": []
  },
  {
   "cell_type": "code",
   "execution_count": 133,
   "metadata": {
    "ExecuteTime": {
     "end_time": "2018-05-21T03:15:54.767140Z",
     "start_time": "2018-05-21T03:04:26.574065Z"
    }
   },
   "outputs": [
    {
     "data": {
      "text/html": [
       "<div>\n",
       "<style scoped>\n",
       "    .dataframe tbody tr th:only-of-type {\n",
       "        vertical-align: middle;\n",
       "    }\n",
       "\n",
       "    .dataframe tbody tr th {\n",
       "        vertical-align: top;\n",
       "    }\n",
       "\n",
       "    .dataframe thead th {\n",
       "        text-align: right;\n",
       "    }\n",
       "</style>\n",
       "<table border=\"1\" class=\"dataframe\">\n",
       "  <thead>\n",
       "    <tr style=\"text-align: right;\">\n",
       "      <th></th>\n",
       "      <th>id</th>\n",
       "      <th>toxic</th>\n",
       "      <th>severe_toxic</th>\n",
       "      <th>obscene</th>\n",
       "      <th>threat</th>\n",
       "      <th>insult</th>\n",
       "      <th>identity_hate</th>\n",
       "    </tr>\n",
       "  </thead>\n",
       "  <tbody>\n",
       "    <tr>\n",
       "      <th>0</th>\n",
       "      <td>00001cee341fdb12</td>\n",
       "      <td>0.035039</td>\n",
       "      <td>0.001655</td>\n",
       "      <td>0.012902</td>\n",
       "      <td>0.000298</td>\n",
       "      <td>0.007412</td>\n",
       "      <td>0.001622</td>\n",
       "    </tr>\n",
       "    <tr>\n",
       "      <th>1</th>\n",
       "      <td>0000247867823ef7</td>\n",
       "      <td>0.844906</td>\n",
       "      <td>0.826290</td>\n",
       "      <td>0.990221</td>\n",
       "      <td>0.034233</td>\n",
       "      <td>0.714253</td>\n",
       "      <td>0.011708</td>\n",
       "    </tr>\n",
       "    <tr>\n",
       "      <th>2</th>\n",
       "      <td>00013b17ad220c46</td>\n",
       "      <td>0.007828</td>\n",
       "      <td>0.000705</td>\n",
       "      <td>0.003755</td>\n",
       "      <td>0.000227</td>\n",
       "      <td>0.001690</td>\n",
       "      <td>0.000668</td>\n",
       "    </tr>\n",
       "    <tr>\n",
       "      <th>3</th>\n",
       "      <td>00017563c3f7919a</td>\n",
       "      <td>0.820688</td>\n",
       "      <td>0.440795</td>\n",
       "      <td>0.613387</td>\n",
       "      <td>0.620212</td>\n",
       "      <td>0.665691</td>\n",
       "      <td>0.320917</td>\n",
       "    </tr>\n",
       "    <tr>\n",
       "      <th>4</th>\n",
       "      <td>00017695ad8997eb</td>\n",
       "      <td>0.965075</td>\n",
       "      <td>0.908097</td>\n",
       "      <td>0.984693</td>\n",
       "      <td>0.695256</td>\n",
       "      <td>0.928719</td>\n",
       "      <td>0.082633</td>\n",
       "    </tr>\n",
       "  </tbody>\n",
       "</table>\n",
       "</div>"
      ],
      "text/plain": [
       "                 id     toxic  severe_toxic   obscene    threat    insult  \\\n",
       "0  00001cee341fdb12  0.035039      0.001655  0.012902  0.000298  0.007412   \n",
       "1  0000247867823ef7  0.844906      0.826290  0.990221  0.034233  0.714253   \n",
       "2  00013b17ad220c46  0.007828      0.000705  0.003755  0.000227  0.001690   \n",
       "3  00017563c3f7919a  0.820688      0.440795  0.613387  0.620212  0.665691   \n",
       "4  00017695ad8997eb  0.965075      0.908097  0.984693  0.695256  0.928719   \n",
       "\n",
       "   identity_hate  \n",
       "0       0.001622  \n",
       "1       0.011708  \n",
       "2       0.000668  \n",
       "3       0.320917  \n",
       "4       0.082633  "
      ]
     },
     "execution_count": 133,
     "metadata": {},
     "output_type": "execute_result"
    }
   ],
   "source": [
    "learner.load('classifier_multi_3')\n",
    "kag_preds = get_model_output(learner,is_test=True)\n",
    "\n",
    "sample_submission = pd.read_csv(PATH/'sample_submission.csv')\n",
    "sample_submission[sample_submission.columns[1:]] = kag_preds\n",
    "sample_submission.head()"
   ]
  },
  {
   "cell_type": "code",
   "execution_count": 134,
   "metadata": {
    "ExecuteTime": {
     "end_time": "2018-05-21T03:16:53.744278Z",
     "start_time": "2018-05-21T03:16:51.123262Z"
    }
   },
   "outputs": [
    {
     "data": {
      "text/html": [
       "<a href='submission_ft_all.csv' target='_blank'>submission_ft_all.csv</a><br>"
      ],
      "text/plain": [
       "/home/odenigborig/Github/Kaggle/toxic_comment/submission_ft_all.csv"
      ]
     },
     "execution_count": 134,
     "metadata": {},
     "output_type": "execute_result"
    }
   ],
   "source": [
    "fname = 'submission_ft_all.csv'\n",
    "sample_submission.to_csv(fname, index=False)\n",
    "FileLink(fname)"
   ]
  },
  {
   "cell_type": "markdown",
   "metadata": {
    "collapsed": true
   },
   "source": [
    "the sbove submission scored 0.522 on the leaderboard. much better than previous submission but certainly FAR from amazing. "
   ]
  },
  {
   "cell_type": "code",
   "execution_count": null,
   "metadata": {
    "collapsed": true
   },
   "outputs": [],
   "source": []
  },
  {
   "cell_type": "code",
   "execution_count": 16,
   "metadata": {},
   "outputs": [
    {
     "data": {
      "text/plain": [
       "<bound method Learner.summary of SequentialRNN(\n",
       "  (0): MultiBatchRNN(\n",
       "    (encoder): Embedding(60002, 400, padding_idx=1)\n",
       "    (encoder_with_dropout): EmbeddingDropout(\n",
       "      (embed): Embedding(60002, 400, padding_idx=1)\n",
       "    )\n",
       "    (rnns): ModuleList(\n",
       "      (0): WeightDrop(\n",
       "        (module): LSTM(400, 1150, dropout=0.15)\n",
       "      )\n",
       "      (1): WeightDrop(\n",
       "        (module): LSTM(1150, 1150, dropout=0.15)\n",
       "      )\n",
       "      (2): WeightDrop(\n",
       "        (module): LSTM(1150, 400, dropout=0.15)\n",
       "      )\n",
       "    )\n",
       "    (dropouti): LockedDropout(\n",
       "    )\n",
       "    (dropouths): ModuleList(\n",
       "      (0): LockedDropout(\n",
       "      )\n",
       "      (1): LockedDropout(\n",
       "      )\n",
       "      (2): LockedDropout(\n",
       "      )\n",
       "    )\n",
       "  )\n",
       "  (1): PoolingLinearClassifier(\n",
       "    (layers): ModuleList(\n",
       "      (0): LinearBlock(\n",
       "        (lin): Linear(in_features=1200, out_features=5, bias=True)\n",
       "        (drop): Dropout(p=0.2)\n",
       "        (bn): BatchNorm1d(1200, eps=1e-05, momentum=0.1, affine=True)\n",
       "      )\n",
       "      (1): LinearBlock(\n",
       "        (lin): Linear(in_features=5, out_features=2, bias=True)\n",
       "        (drop): Dropout(p=0.1)\n",
       "        (bn): BatchNorm1d(5, eps=1e-05, momentum=0.1, affine=True)\n",
       "      )\n",
       "    )\n",
       "  )\n",
       ")>"
      ]
     },
     "execution_count": 16,
     "metadata": {},
     "output_type": "execute_result"
    }
   ],
   "source": [
    "learn.summary"
   ]
  }
 ],
 "metadata": {
  "gist": {
   "data": {
    "description": "Github/Kaggle/toxic_comment/kaggle_toxic_comment.ipynb",
    "public": false
   },
   "id": ""
  },
  "hide_input": false,
  "kernelspec": {
   "display_name": "Python [conda env:fastai]",
   "language": "python",
   "name": "conda-env-fastai-py"
  },
  "language_info": {
   "codemirror_mode": {
    "name": "ipython",
    "version": 3
   },
   "file_extension": ".py",
   "mimetype": "text/x-python",
   "name": "python",
   "nbconvert_exporter": "python",
   "pygments_lexer": "ipython3",
   "version": "3.6.5"
  },
  "varInspector": {
   "cols": {
    "lenName": 16,
    "lenType": 16,
    "lenVar": 40
   },
   "kernels_config": {
    "python": {
     "delete_cmd_postfix": "",
     "delete_cmd_prefix": "del ",
     "library": "var_list.py",
     "varRefreshCmd": "print(var_dic_list())"
    },
    "r": {
     "delete_cmd_postfix": ") ",
     "delete_cmd_prefix": "rm(",
     "library": "var_list.r",
     "varRefreshCmd": "cat(var_dic_list()) "
    }
   },
   "types_to_exclude": [
    "module",
    "function",
    "builtin_function_or_method",
    "instance",
    "_Feature"
   ],
   "window_display": false
  }
 },
 "nbformat": 4,
 "nbformat_minor": 2
}
